{
 "cells": [
  {
   "cell_type": "code",
   "execution_count": null,
   "id": "d7d126ec",
   "metadata": {},
   "outputs": [
    {
     "data": {
      "application/vnd.plotly.v1+json": {
       "config": {
        "plotlyServerURL": "https://plot.ly"
       },
       "data": [
        {
         "line": {
          "color": "royalblue",
          "width": 2
         },
         "mode": "lines",
         "name": "GP曲线",
         "type": "scatter",
         "x": {
          "bdata": "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",
          "dtype": "f8"
         },
         "y": {
          "bdata": "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",
          "dtype": "f8"
         }
        },
        {
         "marker": {
          "color": "#1f77b4",
          "line": {
           "color": "DarkSlateGrey",
           "width": 1
          },
          "size": 8
         },
         "mode": "markers",
         "name": "第1组",
         "type": "scatter",
         "x": {
          "bdata": "AgcICxUcISQpLg==",
          "dtype": "i1"
         },
         "y": {
          "bdata": "WMIXR8h0U0Ac03uNwH1RQEjWkgrC+VBA4TCvfEs9UEBVPYANe+NRQB6eDUpoZ1FAzJDOOqDtUUC5zssD4YZSQL9McBwZVlJAj0g9K7P3UEA=",
          "dtype": "f8"
         }
        },
        {
         "marker": {
          "color": "#ff7f0e",
          "line": {
           "color": "DarkSlateGrey",
           "width": 1
          },
          "size": 8
         },
         "mode": "markers",
         "name": "第2组",
         "type": "scatter",
         "x": {
          "bdata": "AQUKEBkdIyosLw==",
          "dtype": "i1"
         },
         "y": {
          "bdata": "IlXzmRVxU0BEHsev841SQMcs2J0vRlBAlsZkSm3iUUAz8Fl7PQtRQJ8h86g9jVFA+9FjvW9NUkDZPtCn8/pRQBPSPjTdW1FApLfWu0TUUEA=",
          "dtype": "f8"
         }
        },
        {
         "marker": {
          "color": "#2ca02c",
          "line": {
           "color": "DarkSlateGrey",
           "width": 1
          },
          "size": 8
         },
         "mode": "markers",
         "name": "第3组",
         "type": "scatter",
         "x": {
          "bdata": "AwYMDQ8TFxggKA==",
          "dtype": "i1"
         },
         "y": {
          "bdata": "Ybif4qtRU0D2QAMaOBBSQLSABm0yblBAqdDx0izPUEAiPmL2ZJdRQE2OQIBDNFJAxLMpqYxMUUCQ1d0YnBNRQJi8Jma11VFADuk20cSoUkA=",
          "dtype": "f8"
         }
        },
        {
         "marker": {
          "color": "#d62728",
          "line": {
           "color": "DarkSlateGrey",
           "width": 1
          },
          "size": 8
         },
         "mode": "markers",
         "name": "第4组",
         "type": "scatter",
         "x": {
          "bdata": "BAkREhYaGx8lMA==",
          "dtype": "i1"
         },
         "y": {
          "bdata": "XScVtAQCU0BaUE2fQItQQCKTVpZGEFJA3VV3YPsuUkAT7jmmAJxRQHKSnc2wGFFAUp66a78+UUBMw03SVcRRQMibEWgKvlJAgYkDCU3BUEA=",
          "dtype": "f8"
         }
        },
        {
         "marker": {
          "color": "#9467bd",
          "line": {
           "color": "DarkSlateGrey",
           "width": 1
          },
          "size": 8
         },
         "mode": "markers",
         "name": "第5组",
         "type": "scatter",
         "x": {
          "bdata": "DhQeIiYnKy0xMg==",
          "dtype": "i1"
         },
         "y": {
          "bdata": "8eNIJLg0UUCCtDfvExtSQIB9liGpq1FAoytupKoXUkAQLtuLIdpSQK/959Mz11JA64DFKuqdUUCSIQL0ByBRQPdZlh4WsVBAmHUCMMa2UEA=",
          "dtype": "f8"
         }
        }
       ],
       "layout": {
        "height": 600,
        "legend": {
         "bgcolor": "rgba(255,255,255,0.8)",
         "title": {
          "text": "组别"
         },
         "x": 1.05,
         "xanchor": "left",
         "y": 1,
         "yanchor": "top"
        },
        "margin": {
         "r": 150
        },
        "template": {
         "data": {
          "bar": [
           {
            "error_x": {
             "color": "#2a3f5f"
            },
            "error_y": {
             "color": "#2a3f5f"
            },
            "marker": {
             "line": {
              "color": "white",
              "width": 0.5
             },
             "pattern": {
              "fillmode": "overlay",
              "size": 10,
              "solidity": 0.2
             }
            },
            "type": "bar"
           }
          ],
          "barpolar": [
           {
            "marker": {
             "line": {
              "color": "white",
              "width": 0.5
             },
             "pattern": {
              "fillmode": "overlay",
              "size": 10,
              "solidity": 0.2
             }
            },
            "type": "barpolar"
           }
          ],
          "carpet": [
           {
            "aaxis": {
             "endlinecolor": "#2a3f5f",
             "gridcolor": "#C8D4E3",
             "linecolor": "#C8D4E3",
             "minorgridcolor": "#C8D4E3",
             "startlinecolor": "#2a3f5f"
            },
            "baxis": {
             "endlinecolor": "#2a3f5f",
             "gridcolor": "#C8D4E3",
             "linecolor": "#C8D4E3",
             "minorgridcolor": "#C8D4E3",
             "startlinecolor": "#2a3f5f"
            },
            "type": "carpet"
           }
          ],
          "choropleth": [
           {
            "colorbar": {
             "outlinewidth": 0,
             "ticks": ""
            },
            "type": "choropleth"
           }
          ],
          "contour": [
           {
            "colorbar": {
             "outlinewidth": 0,
             "ticks": ""
            },
            "colorscale": [
             [
              0,
              "#0d0887"
             ],
             [
              0.1111111111111111,
              "#46039f"
             ],
             [
              0.2222222222222222,
              "#7201a8"
             ],
             [
              0.3333333333333333,
              "#9c179e"
             ],
             [
              0.4444444444444444,
              "#bd3786"
             ],
             [
              0.5555555555555556,
              "#d8576b"
             ],
             [
              0.6666666666666666,
              "#ed7953"
             ],
             [
              0.7777777777777778,
              "#fb9f3a"
             ],
             [
              0.8888888888888888,
              "#fdca26"
             ],
             [
              1,
              "#f0f921"
             ]
            ],
            "type": "contour"
           }
          ],
          "contourcarpet": [
           {
            "colorbar": {
             "outlinewidth": 0,
             "ticks": ""
            },
            "type": "contourcarpet"
           }
          ],
          "heatmap": [
           {
            "colorbar": {
             "outlinewidth": 0,
             "ticks": ""
            },
            "colorscale": [
             [
              0,
              "#0d0887"
             ],
             [
              0.1111111111111111,
              "#46039f"
             ],
             [
              0.2222222222222222,
              "#7201a8"
             ],
             [
              0.3333333333333333,
              "#9c179e"
             ],
             [
              0.4444444444444444,
              "#bd3786"
             ],
             [
              0.5555555555555556,
              "#d8576b"
             ],
             [
              0.6666666666666666,
              "#ed7953"
             ],
             [
              0.7777777777777778,
              "#fb9f3a"
             ],
             [
              0.8888888888888888,
              "#fdca26"
             ],
             [
              1,
              "#f0f921"
             ]
            ],
            "type": "heatmap"
           }
          ],
          "histogram": [
           {
            "marker": {
             "pattern": {
              "fillmode": "overlay",
              "size": 10,
              "solidity": 0.2
             }
            },
            "type": "histogram"
           }
          ],
          "histogram2d": [
           {
            "colorbar": {
             "outlinewidth": 0,
             "ticks": ""
            },
            "colorscale": [
             [
              0,
              "#0d0887"
             ],
             [
              0.1111111111111111,
              "#46039f"
             ],
             [
              0.2222222222222222,
              "#7201a8"
             ],
             [
              0.3333333333333333,
              "#9c179e"
             ],
             [
              0.4444444444444444,
              "#bd3786"
             ],
             [
              0.5555555555555556,
              "#d8576b"
             ],
             [
              0.6666666666666666,
              "#ed7953"
             ],
             [
              0.7777777777777778,
              "#fb9f3a"
             ],
             [
              0.8888888888888888,
              "#fdca26"
             ],
             [
              1,
              "#f0f921"
             ]
            ],
            "type": "histogram2d"
           }
          ],
          "histogram2dcontour": [
           {
            "colorbar": {
             "outlinewidth": 0,
             "ticks": ""
            },
            "colorscale": [
             [
              0,
              "#0d0887"
             ],
             [
              0.1111111111111111,
              "#46039f"
             ],
             [
              0.2222222222222222,
              "#7201a8"
             ],
             [
              0.3333333333333333,
              "#9c179e"
             ],
             [
              0.4444444444444444,
              "#bd3786"
             ],
             [
              0.5555555555555556,
              "#d8576b"
             ],
             [
              0.6666666666666666,
              "#ed7953"
             ],
             [
              0.7777777777777778,
              "#fb9f3a"
             ],
             [
              0.8888888888888888,
              "#fdca26"
             ],
             [
              1,
              "#f0f921"
             ]
            ],
            "type": "histogram2dcontour"
           }
          ],
          "mesh3d": [
           {
            "colorbar": {
             "outlinewidth": 0,
             "ticks": ""
            },
            "type": "mesh3d"
           }
          ],
          "parcoords": [
           {
            "line": {
             "colorbar": {
              "outlinewidth": 0,
              "ticks": ""
             }
            },
            "type": "parcoords"
           }
          ],
          "pie": [
           {
            "automargin": true,
            "type": "pie"
           }
          ],
          "scatter": [
           {
            "fillpattern": {
             "fillmode": "overlay",
             "size": 10,
             "solidity": 0.2
            },
            "type": "scatter"
           }
          ],
          "scatter3d": [
           {
            "line": {
             "colorbar": {
              "outlinewidth": 0,
              "ticks": ""
             }
            },
            "marker": {
             "colorbar": {
              "outlinewidth": 0,
              "ticks": ""
             }
            },
            "type": "scatter3d"
           }
          ],
          "scattercarpet": [
           {
            "marker": {
             "colorbar": {
              "outlinewidth": 0,
              "ticks": ""
             }
            },
            "type": "scattercarpet"
           }
          ],
          "scattergeo": [
           {
            "marker": {
             "colorbar": {
              "outlinewidth": 0,
              "ticks": ""
             }
            },
            "type": "scattergeo"
           }
          ],
          "scattergl": [
           {
            "marker": {
             "colorbar": {
              "outlinewidth": 0,
              "ticks": ""
             }
            },
            "type": "scattergl"
           }
          ],
          "scattermap": [
           {
            "marker": {
             "colorbar": {
              "outlinewidth": 0,
              "ticks": ""
             }
            },
            "type": "scattermap"
           }
          ],
          "scattermapbox": [
           {
            "marker": {
             "colorbar": {
              "outlinewidth": 0,
              "ticks": ""
             }
            },
            "type": "scattermapbox"
           }
          ],
          "scatterpolar": [
           {
            "marker": {
             "colorbar": {
              "outlinewidth": 0,
              "ticks": ""
             }
            },
            "type": "scatterpolar"
           }
          ],
          "scatterpolargl": [
           {
            "marker": {
             "colorbar": {
              "outlinewidth": 0,
              "ticks": ""
             }
            },
            "type": "scatterpolargl"
           }
          ],
          "scatterternary": [
           {
            "marker": {
             "colorbar": {
              "outlinewidth": 0,
              "ticks": ""
             }
            },
            "type": "scatterternary"
           }
          ],
          "surface": [
           {
            "colorbar": {
             "outlinewidth": 0,
             "ticks": ""
            },
            "colorscale": [
             [
              0,
              "#0d0887"
             ],
             [
              0.1111111111111111,
              "#46039f"
             ],
             [
              0.2222222222222222,
              "#7201a8"
             ],
             [
              0.3333333333333333,
              "#9c179e"
             ],
             [
              0.4444444444444444,
              "#bd3786"
             ],
             [
              0.5555555555555556,
              "#d8576b"
             ],
             [
              0.6666666666666666,
              "#ed7953"
             ],
             [
              0.7777777777777778,
              "#fb9f3a"
             ],
             [
              0.8888888888888888,
              "#fdca26"
             ],
             [
              1,
              "#f0f921"
             ]
            ],
            "type": "surface"
           }
          ],
          "table": [
           {
            "cells": {
             "fill": {
              "color": "#EBF0F8"
             },
             "line": {
              "color": "white"
             }
            },
            "header": {
             "fill": {
              "color": "#C8D4E3"
             },
             "line": {
              "color": "white"
             }
            },
            "type": "table"
           }
          ]
         },
         "layout": {
          "annotationdefaults": {
           "arrowcolor": "#2a3f5f",
           "arrowhead": 0,
           "arrowwidth": 1
          },
          "autotypenumbers": "strict",
          "coloraxis": {
           "colorbar": {
            "outlinewidth": 0,
            "ticks": ""
           }
          },
          "colorscale": {
           "diverging": [
            [
             0,
             "#8e0152"
            ],
            [
             0.1,
             "#c51b7d"
            ],
            [
             0.2,
             "#de77ae"
            ],
            [
             0.3,
             "#f1b6da"
            ],
            [
             0.4,
             "#fde0ef"
            ],
            [
             0.5,
             "#f7f7f7"
            ],
            [
             0.6,
             "#e6f5d0"
            ],
            [
             0.7,
             "#b8e186"
            ],
            [
             0.8,
             "#7fbc41"
            ],
            [
             0.9,
             "#4d9221"
            ],
            [
             1,
             "#276419"
            ]
           ],
           "sequential": [
            [
             0,
             "#0d0887"
            ],
            [
             0.1111111111111111,
             "#46039f"
            ],
            [
             0.2222222222222222,
             "#7201a8"
            ],
            [
             0.3333333333333333,
             "#9c179e"
            ],
            [
             0.4444444444444444,
             "#bd3786"
            ],
            [
             0.5555555555555556,
             "#d8576b"
            ],
            [
             0.6666666666666666,
             "#ed7953"
            ],
            [
             0.7777777777777778,
             "#fb9f3a"
            ],
            [
             0.8888888888888888,
             "#fdca26"
            ],
            [
             1,
             "#f0f921"
            ]
           ],
           "sequentialminus": [
            [
             0,
             "#0d0887"
            ],
            [
             0.1111111111111111,
             "#46039f"
            ],
            [
             0.2222222222222222,
             "#7201a8"
            ],
            [
             0.3333333333333333,
             "#9c179e"
            ],
            [
             0.4444444444444444,
             "#bd3786"
            ],
            [
             0.5555555555555556,
             "#d8576b"
            ],
            [
             0.6666666666666666,
             "#ed7953"
            ],
            [
             0.7777777777777778,
             "#fb9f3a"
            ],
            [
             0.8888888888888888,
             "#fdca26"
            ],
            [
             1,
             "#f0f921"
            ]
           ]
          },
          "colorway": [
           "#636efa",
           "#EF553B",
           "#00cc96",
           "#ab63fa",
           "#FFA15A",
           "#19d3f3",
           "#FF6692",
           "#B6E880",
           "#FF97FF",
           "#FECB52"
          ],
          "font": {
           "color": "#2a3f5f"
          },
          "geo": {
           "bgcolor": "white",
           "lakecolor": "white",
           "landcolor": "white",
           "showlakes": true,
           "showland": true,
           "subunitcolor": "#C8D4E3"
          },
          "hoverlabel": {
           "align": "left"
          },
          "hovermode": "closest",
          "mapbox": {
           "style": "light"
          },
          "paper_bgcolor": "white",
          "plot_bgcolor": "white",
          "polar": {
           "angularaxis": {
            "gridcolor": "#EBF0F8",
            "linecolor": "#EBF0F8",
            "ticks": ""
           },
           "bgcolor": "white",
           "radialaxis": {
            "gridcolor": "#EBF0F8",
            "linecolor": "#EBF0F8",
            "ticks": ""
           }
          },
          "scene": {
           "xaxis": {
            "backgroundcolor": "white",
            "gridcolor": "#DFE8F3",
            "gridwidth": 2,
            "linecolor": "#EBF0F8",
            "showbackground": true,
            "ticks": "",
            "zerolinecolor": "#EBF0F8"
           },
           "yaxis": {
            "backgroundcolor": "white",
            "gridcolor": "#DFE8F3",
            "gridwidth": 2,
            "linecolor": "#EBF0F8",
            "showbackground": true,
            "ticks": "",
            "zerolinecolor": "#EBF0F8"
           },
           "zaxis": {
            "backgroundcolor": "white",
            "gridcolor": "#DFE8F3",
            "gridwidth": 2,
            "linecolor": "#EBF0F8",
            "showbackground": true,
            "ticks": "",
            "zerolinecolor": "#EBF0F8"
           }
          },
          "shapedefaults": {
           "line": {
            "color": "#2a3f5f"
           }
          },
          "ternary": {
           "aaxis": {
            "gridcolor": "#DFE8F3",
            "linecolor": "#A2B1C6",
            "ticks": ""
           },
           "baxis": {
            "gridcolor": "#DFE8F3",
            "linecolor": "#A2B1C6",
            "ticks": ""
           },
           "bgcolor": "white",
           "caxis": {
            "gridcolor": "#DFE8F3",
            "linecolor": "#A2B1C6",
            "ticks": ""
           }
          },
          "title": {
           "x": 0.05
          },
          "xaxis": {
           "automargin": true,
           "gridcolor": "#EBF0F8",
           "linecolor": "#EBF0F8",
           "ticks": "",
           "title": {
            "standoff": 15
           },
           "zerolinecolor": "#EBF0F8",
           "zerolinewidth": 2
          },
          "yaxis": {
           "automargin": true,
           "gridcolor": "#EBF0F8",
           "linecolor": "#EBF0F8",
           "ticks": "",
           "title": {
            "standoff": 15
           },
           "zerolinecolor": "#EBF0F8",
           "zerolinewidth": 2
          }
         }
        },
        "title": {
         "text": "高斯过程曲线与分组结果"
        },
        "width": 900,
        "xaxis": {
         "title": {
          "text": "x"
         }
        },
        "yaxis": {
         "title": {
          "text": "f(x)"
         }
        }
       }
      }
     },
     "metadata": {},
     "output_type": "display_data"
    }
   ],
   "source": [
    "import numpy as np\n",
    "import plotly.graph_objects as go\n",
    "from sklearn.gaussian_process import GaussianProcessRegressor\n",
    "from sklearn.gaussian_process.kernels import RBF, ConstantKernel,WhiteKernel\n",
    "\n",
    "import sys\n",
    "import os\n",
    "# 使用当前工作目录\n",
    "project_root = os.path.dirname(os.getcwd())  # 获取当前目录的父目录\n",
    "sys.path.insert(0, project_root)\n",
    "from util.methods import assign_variances\n",
    "\n",
    "seed = 15\n",
    "# 定义核函数\n",
    "kernel = ConstantKernel(25.0) * RBF(length_scale=4.0) + WhiteKernel(1e-3)\n",
    "gp = GaussianProcessRegressor(kernel=kernel)\n",
    "\n",
    "x_dense = np.linspace(1, 50, 500).reshape(-1, 1)\n",
    "\n",
    "y_dense = gp.sample_y(x_dense, n_samples=1, random_state=seed).flatten() + 70\n",
    "\n",
    "# 提取整数点对应的y值\n",
    "integer_points = np.arange(1, 51)\n",
    "y_integers = y_dense[np.linspace(0, 499, 50, dtype=int)]\n",
    "\n",
    "# 计算整数点的协方差矩阵\n",
    "cov_matrix = kernel(integer_points.reshape(-1,1))\n",
    "\n",
    "# 计算相关性矩阵\n",
    "std_dev = np.sqrt(np.diag(cov_matrix))  \n",
    "corr_matrix = cov_matrix / np.outer(std_dev, std_dev)  \n",
    "\n",
    "np.savetxt('Sigma1.txt', cov_matrix, \n",
    "           fmt='%.6f',\n",
    "           header=f'高斯过程协方差矩阵(1-50整数点)\\n核函数: {kernel}')\n",
    "\n",
    "np.savetxt('correlation_matrix.txt', corr_matrix,\n",
    "           fmt='%.6f',\n",
    "           header=f'高斯过程相关性矩阵(1-50整数点)\\n核函数: {kernel}')\n",
    "\n",
    "np.savetxt('mu.txt', \n",
    "           y_integers,\n",
    "           fmt='%.6f',\n",
    "           header='真实均值')\n",
    "\n",
    "# 创建蛇形分配的分组标签\n",
    "sorted_indices = np.argsort(y_integers)  # 获取y值从小到大的索引\n",
    "positions = np.arange(50)\n",
    "round_num = positions // 5  # 每5个点改变一次方向\n",
    "pos_in_round = positions % 5\n",
    "\n",
    "# 蛇形分配逻辑：正向(0,1,2,3,4)和反向(4,3,2,1,0)交替\n",
    "group_assignments = np.where(\n",
    "    round_num % 2 == 0,\n",
    "    pos_in_round,       # 正向分配：0,1,2,3,4\n",
    "    4 - pos_in_round    # 反向分配：4,3,2,1,0\n",
    ")\n",
    "\n",
    "group_labels = np.zeros(50, dtype=int)\n",
    "group_labels[sorted_indices] = group_assignments\n",
    "group_names = [f\"第{i+1}组\" for i in range(5)]  # 组别名称\n",
    "\n",
    "# 创建分组标签 (5组，蛇形分配)\n",
    "group_labels = np.zeros(50, dtype=int)\n",
    "for i in range(50):\n",
    "    round_num = i // 5  # 每5个点一轮\n",
    "    pos_in_round = i % 5\n",
    "    \n",
    "    if round_num % 2 == 0:  # 偶数轮：正向分配\n",
    "        group = pos_in_round\n",
    "    else:  # 奇数轮：反向分配\n",
    "        group = 4 - pos_in_round\n",
    "    \n",
    "    group_labels[sorted_indices[i]] = group\n",
    "\n",
    "group_names = [f\"第{i+1}组\" for i in range(5)]  # 组别名称\n",
    "\n",
    "fig = go.Figure()\n",
    "\n",
    "fig.add_trace(go.Scatter(\n",
    "    x=x_dense.flatten(), \n",
    "    y=y_dense,\n",
    "    mode='lines',\n",
    "    name='GP曲线',\n",
    "    line=dict(color='royalblue', width=2)\n",
    "))\n",
    "\n",
    "colors = ['#1f77b4', '#ff7f0e', '#2ca02c', '#d62728', '#9467bd']  # 5种不同颜色\n",
    "for group in range(5):\n",
    "    mask = (group_labels == group)\n",
    "    fig.add_trace(go.Scatter(\n",
    "        x=integer_points[mask],\n",
    "        y=y_integers[mask],\n",
    "        mode='markers',\n",
    "        name=group_names[group],\n",
    "        marker=dict(\n",
    "            color=colors[group],\n",
    "            size=8,\n",
    "            line=dict(width=1, color='DarkSlateGrey')\n",
    "    )))\n",
    "\n",
    "fig.update_layout(\n",
    "    title='高斯过程曲线与分组结果',\n",
    "    xaxis_title='x',\n",
    "    yaxis_title='f(x)',\n",
    "    template='plotly_white',\n",
    "    height=600,\n",
    "    width=900,\n",
    "    legend=dict(\n",
    "        title='组别',\n",
    "        x=1.05,\n",
    "        y=1,\n",
    "        xanchor='left',\n",
    "        yanchor='top',\n",
    "        bgcolor='rgba(255,255,255,0.8)'\n",
    "    ),\n",
    "    margin=dict(r=150) \n",
    ")\n",
    "\n",
    "fig.show()"
   ]
  },
  {
   "cell_type": "code",
   "execution_count": 2,
   "id": "0a7bc98a",
   "metadata": {},
   "outputs": [
    {
     "name": "stdout",
     "output_type": "stream",
     "text": [
      "最小特征值: (0.0009999999999942967-1.4284354143439277e-15j)\n",
      "负特征值数量: 0\n"
     ]
    }
   ],
   "source": [
    "eigvals = np.linalg.eigvals(cov_matrix)\n",
    "print(\"最小特征值:\", np.min(eigvals))\n",
    "print(\"负特征值数量:\", np.sum(eigvals < 0))"
   ]
  },
  {
   "cell_type": "code",
   "execution_count": 3,
   "id": "db80fb0f",
   "metadata": {},
   "outputs": [
    {
     "name": "stdout",
     "output_type": "stream",
     "text": [
      "验证结果:\n",
      "对角线均值: 1.000000 (目标: 1.0)\n",
      "最小特征值: 0.000000+0.000000j (应>0)\n"
     ]
    },
    {
     "data": {
      "image/png": "[encoded data removed]",
      "text/plain": [
       "<Figure size 1000x800 with 2 Axes>"
      ]
     },
     "metadata": {},
     "output_type": "display_data"
    }
   ],
   "source": [
    "import numpy as np\n",
    "from scipy.linalg import cholesky\n",
    "import matplotlib.pyplot as plt\n",
    "\n",
    "# 初始化参数\n",
    "n_points = 50\n",
    "within_group_mean = 0.8\n",
    "between_group_mean = 0.0\n",
    "noise_std = 0.1 \n",
    "\n",
    "def build_correlation_matrix(group_labels):\n",
    "    groups = np.unique(group_labels)\n",
    "    n_groups = len(groups)\n",
    "    group_mask = group_labels[:, None] == group_labels  \n",
    "    \n",
    "    base_matrix = np.where(group_mask, \n",
    "                          within_group_mean, \n",
    "                          between_group_mean)\n",
    "    np.fill_diagonal(base_matrix, 1.0)\n",
    "    \n",
    "    random_matrix = np.random.normal(0, noise_std, (n_points, n_points))\n",
    "    random_matrix = (random_matrix + random_matrix.T) / 2  \n",
    "    np.fill_diagonal(random_matrix, 0) \n",
    "    \n",
    "    corr_matrix = base_matrix + random_matrix\n",
    "    \n",
    "\n",
    "    def project_to_pd(matrix):\n",
    "        eigvals, eigvecs = np.linalg.eigh(matrix)\n",
    "        eigvals = np.maximum(eigvals, 1e-8)  \n",
    "        return eigvecs @ np.diag(eigvals) @ eigvecs.T\n",
    "    \n",
    "\n",
    "    for _ in range(10):\n",
    "        corr_matrix = project_to_pd(corr_matrix)\n",
    "        # 重新标准化对角线\n",
    "        diag_scaling = np.diag(1/np.sqrt(np.diag(corr_matrix)))\n",
    "        corr_matrix = diag_scaling @ corr_matrix @ diag_scaling\n",
    "    \n",
    "    return corr_matrix\n",
    "\n",
    "corr_matrix = build_correlation_matrix(group_labels)\n",
    "\n",
    "# 验证矩阵性质\n",
    "print(\"验证结果:\")\n",
    "print(f\"对角线均值: {np.mean(np.diag(corr_matrix)):.6f} (目标: 1.0)\")\n",
    "print(f\"最小特征值: {np.min(np.linalg.eigvals(corr_matrix)):.6f} (应>0)\")\n",
    "\n",
    "# 可视化矩阵\n",
    "plt.figure(figsize=(10,8))\n",
    "plt.imshow(corr_matrix, cmap='coolwarm', vmin=-1, vmax=1)\n",
    "plt.colorbar()\n",
    "plt.title(\"group_corr_mat\")\n",
    "plt.show()"
   ]
  },
  {
   "cell_type": "code",
   "execution_count": 4,
   "id": "075d1c5e",
   "metadata": {},
   "outputs": [
    {
     "data": {
      "text/plain": [
       "array([2, 1, 3, 4, 2, 3, 1, 1, 4, 2, 1, 3, 3, 5, 3, 2, 4, 4, 3, 5, 1, 4,\n",
       "       3, 3, 2, 4, 4, 1, 2, 5, 4, 3, 1, 5, 2, 1, 4, 5, 5, 3, 1, 2, 5, 2,\n",
       "       5, 1, 2, 4, 5, 5])"
      ]
     },
     "execution_count": 4,
     "metadata": {},
     "output_type": "execute_result"
    }
   ],
   "source": [
    "group_labels+1"
   ]
  },
  {
   "cell_type": "code",
   "execution_count": 5,
   "id": "b06744ea",
   "metadata": {},
   "outputs": [
    {
     "name": "stdout",
     "output_type": "stream",
     "text": [
      "验证结果:\n",
      "方差范围: 34.12-140.22 (目标: 25-144)\n",
      "最小特征值: 0.000000 (应>0)\n"
     ]
    },
    {
     "data": {
      "image/png": "[encoded data removed]",
      "text/plain": [
       "<Figure size 1200x1000 with 2 Axes>"
      ]
     },
     "metadata": {},
     "output_type": "display_data"
    }
   ],
   "source": [
    "# 随机分配噪声\n",
    "np.random.seed(seed)  \n",
    "variances = assign_variances(y_integers, min_var=25, max_var=144, correlation_strength=0.7)\n",
    "#variances = variances*4\n",
    "std_devs = np.sqrt(variances)  \n",
    "\n",
    "D = np.diag(std_devs)\n",
    "\n",
    "cov_matrix = D @ corr_matrix @ D\n",
    "\n",
    "print(\"验证结果:\")\n",
    "print(f\"方差范围: {np.min(np.diag(cov_matrix)):.2f}-{np.max(np.diag(cov_matrix)):.2f} (目标: 25-144)\")\n",
    "print(f\"最小特征值: {np.min(np.linalg.eigvals(cov_matrix)):.6f} (应>0)\")\n",
    "\n",
    "np.savetxt('group_cov.txt', \n",
    "           cov_matrix,\n",
    "           fmt='%.6f',\n",
    "           header='协方差矩阵（对角线方差=25-144）\\n基于分组相关性矩阵生成')\n",
    "\n",
    "import matplotlib.pyplot as plt\n",
    "plt.figure(figsize=(12,10))\n",
    "plt.imshow(cov_matrix, cmap='viridis')\n",
    "cbar = plt.colorbar()\n",
    "cbar.set_label('cov')\n",
    "\n",
    "for g in range(1,5):\n",
    "    plt.axhline(y=g*10-0.5, color='white', linestyle='--', alpha=0.7)\n",
    "    plt.axvline(x=g*10-0.5, color='white', linestyle='--', alpha=0.7)\n",
    "\n",
    "plt.title('group_cov_mat')\n",
    "plt.xlabel('index (1-50)')\n",
    "plt.ylabel('index (1-50)')\n",
    "plt.show()\n"
   ]
  },
  {
   "cell_type": "code",
   "execution_count": 6,
   "id": "6b0f752e",
   "metadata": {},
   "outputs": [
    {
     "data": {
      "text/plain": [
       "array([77.76694344, 77.82472398, 77.27611604, 76.03153708, 74.21799845,\n",
       "       72.25342417, 69.96487748, 67.90246834, 66.17581923, 65.09665629,\n",
       "       64.95773236, 65.72182775, 67.23711084, 68.82373912, 70.36553726,\n",
       "       71.53792057, 72.2543083 , 72.73409282, 72.81661993, 72.4230917 ,\n",
       "       71.55438554, 70.43753963, 69.19608525, 68.30640241, 68.17562755,\n",
       "       68.38579121, 68.9804334 , 69.61574031, 70.20688843, 70.68219795,\n",
       "       71.06773813, 71.33919672, 71.71290465, 72.36979018, 73.20994506,\n",
       "       74.10748382, 74.96938516, 75.4082975 , 75.36253832, 74.63701277,\n",
       "       73.34528266, 71.92112155, 70.46741742, 69.43537623, 68.50048542,\n",
       "       67.8703106 , 67.31669517, 67.02032686, 66.76697507, 66.85584641])"
      ]
     },
     "execution_count": 6,
     "metadata": {},
     "output_type": "execute_result"
    }
   ],
   "source": [
    "y_integers"
   ]
  },
  {
   "cell_type": "code",
   "execution_count": 7,
   "id": "97c67c7c",
   "metadata": {},
   "outputs": [
    {
     "data": {
      "text/plain": [
       "array([140.22287706, 124.67695869, 107.50485782, 117.27936242,\n",
       "       110.81573129,  74.23344528,  81.49265805,  64.25501743,\n",
       "        43.2629129 ,  35.37551774,  34.11564188,  57.52697562,\n",
       "        57.87318595,  52.91159827,  63.2573921 ,  84.82987532,\n",
       "       105.04193409,  90.44632103, 109.21612297,  87.29550205,\n",
       "        77.78699096,  74.01155932,  55.11665712,  46.99685345,\n",
       "        56.06226063,  73.55718211,  73.56025274,  62.63784098,\n",
       "        60.24052357,  64.40835906,  82.87515618,  66.86338446,\n",
       "        84.67292555,  86.68531551,  98.64796095,  87.93803463,\n",
       "       110.13131719, 107.03955493, 113.04902223,  94.42816447,\n",
       "        88.0533398 ,  85.67551158,  69.52574874,  77.02699512,\n",
       "        50.34859127,  67.18703701,  41.27759931,  70.68096712,\n",
       "        59.26636686,  59.22463804])"
      ]
     },
     "execution_count": 7,
     "metadata": {},
     "output_type": "execute_result"
    }
   ],
   "source": [
    "variances"
   ]
  },
  {
   "cell_type": "code",
   "execution_count": 8,
   "id": "619bc2af",
   "metadata": {},
   "outputs": [
    {
     "data": {
      "image/png": "[encoded data removed]",
      "text/plain": [
       "<Figure size 1000x600 with 1 Axes>"
      ]
     },
     "metadata": {},
     "output_type": "display_data"
    }
   ],
   "source": [
    "import numpy as np\n",
    "import matplotlib.pyplot as plt\n",
    "from scipy.stats import beta\n",
    "\n",
    "# 设置参数\n",
    "a = 1\n",
    "b = 1/0.7  # ≈1.428\n",
    "c = 1/0.5  # ≈1.428\n",
    "\n",
    "# 生成x轴数据\n",
    "x = np.linspace(0, 1, 1000)\n",
    "\n",
    "# 计算不同参数下的Beta分布PDF\n",
    "y1 = beta.pdf(x, a=1, b=1)          # 均匀分布\n",
    "y2 = beta.pdf(x, a=1, b=b)      # 函数中使用的参数\n",
    "y3 = beta.pdf(x, a=1, b=c)        # 对比案例：b<1\n",
    "\n",
    "# 绘制图形\n",
    "plt.figure(figsize=(10, 6))\n",
    "plt.plot(x, y1, label='Beta(1,1) ', linestyle='--')\n",
    "plt.plot(x, y2, label=f'Beta(1,{b:.3f}) ', linewidth=2, color='red')\n",
    "plt.plot(x, y3, label=f'Beta(1,{c:.3f})', linestyle=':')\n",
    "\n",
    "plt.title('(PDF)')\n",
    "plt.xlabel('x')\n",
    "plt.ylabel('pdf')\n",
    "plt.legend()\n",
    "plt.grid(True)\n",
    "plt.show()"
   ]
  }
 ],
 "metadata": {
  "kernelspec": {
   "display_name": "base",
   "language": "python",
   "name": "python3"
  },
  "language_info": {
   "codemirror_mode": {
    "name": "ipython",
    "version": 3
   },
   "file_extension": ".py",
   "mimetype": "text/x-python",
   "name": "python",
   "nbconvert_exporter": "python",
   "pygments_lexer": "ipython3",
   "version": "3.13.5"
  }
 },
 "nbformat": 4,
 "nbformat_minor": 5
}
