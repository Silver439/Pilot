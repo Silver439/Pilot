{
 "cells": [
  {
   "cell_type": "code",
   "execution_count": 1,
   "id": "d7d126ec",
   "metadata": {},
   "outputs": [
    {
     "data": {
      "application/vnd.plotly.v1+json": {
       "config": {
        "plotlyServerURL": "https://plot.ly"
       },
       "data": [
        {
         "line": {
          "color": "royalblue",
          "width": 2
         },
         "mode": "lines",
         "name": "GP曲线",
         "type": "scatter",
         "x": {
          "bdata": "AAAAAAAA8D9RlnlhNpLxP6Is88JsJPM/88JsJKO29D9EWeaF2Uj2P5XvX+cP2/c/5oXZSEZt+T84HFOqfP/6P4iyzAuzkfw/2khGbekj/j8q37/OH7b/P766HBgrpABA5oXZSEZtAUAPUZZ5YTYCQDgcU6p8/wJAYOcP25fIA0CIsswLs5EEQLF9iTzOWgVA2khGbekjBkACFAOeBO0GQCrfv84ftgdAU6p8/zp/CEB8dTkwVkgJQKRA9mBxEQpAzQuzkYzaCkD11m/Cp6MLQB6iLPPCbAxARm3pI941DUBvOKZU+f4NQJcDY4UUyA5AwM4fti+RD0D0TG5zJS0QQIiyzAuzkRBAHRgrpED2EECxfYk8zloRQEbj59RbvxFA2khGbekjEkBurqQFd4gSQAIUA54E7RJAlnlhNpJRE0Aq37/OH7YTQL9EHmetGhRAU6p8/zp/FEDnD9uXyOMUQHx1OTBWSBVAENuXyOOsFUCkQPZgcREWQDimVPn+dRZAzQuzkYzaFkBhcREqGj8XQPXWb8KnoxdAijzOWjUIGEAeoizzwmwYQLIHi4tQ0RhARm3pI941GUDb0ke8a5oZQG84plT5/hlAA54E7YZjGkCXA2OFFMgaQCxpwR2iLBtAwM4fti+RG0BUNH5OvfUbQOiZ3OZKWhxAff86f9i+HEARZZkXZiMdQKXK96/zhx1AOjBWSIHsHUDOlbTgDlEeQGL7EnmctR5A9mBxESoaH0CLxs+pt34fQB8sLkJF4x9A2khGbekjIECke3U5MFYgQG6upAV3iCBAOOHT0b26IEACFAOeBO0gQMxGMmpLHyFAlnlhNpJRIUBgrJAC2YMhQCrfv84ftiFA9RHvmmboIUC/RB5nrRoiQIl3TTP0TCJAU6p8/zp/IkAd3avLgbEiQOcP25fI4yJAskIKZA8WI0B8dTkwVkgjQEaoaPyceiNAENuXyOOsI0DaDceUKt8jQKRA9mBxESRAbnMlLbhDJEA4plT5/nUkQAPZg8VFqCRAzQuzkYzaJECXPuJd0wwlQGFxESoaPyVAK6RA9mBxJUD11m/Cp6MlQL8Jn47u1SVAijzOWjUIJkBUb/0mfDomQB6iLPPCbCZA6NRbvwmfJkCyB4uLUNEmQHw6uleXAydARm3pI941J0AQoBjwJGgnQNvSR7xrmidApQV3iLLMJ0BvOKZU+f4nQDlr1SBAMShAA54E7YZjKEDN0DO5zZUoQJcDY4UUyChAYjaSUVv6KEAsacEdoiwpQPab8OnoXilAwM4fti+RKUCKAU+CdsMpQFQ0fk699SlAHmetGgQoKkDomdzmSloqQLPMC7ORjCpAff86f9i+KkBHMmpLH/EqQBFlmRdmIytA25fI46xVK0Clyvev84crQG/9Jnw6uitAOjBWSIHsK0AEY4UUyB4sQM6VtOAOUSxAmMjjrFWDLEBi+xJ5nLUsQCwuQkXj5yxA9mBxESoaLUDAk6DdcEwtQIvGz6m3fi1AVfn+df6wLUAfLC5CReMtQOleXQ6MFS5As5GM2tJHLkB9xLumGXouQEf36nJgrC5AEioaP6feLkDcXEkL7hAvQKaPeNc0Qy9AcMKno3t1L0A69dZvwqcvQAQoBjwJ2i9AZ60aBCgGMEDMRjJqSx8wQDLgSdBuODBAlnlhNpJRMED8EnmctWowQGCskALZgzBAxkWoaPycMEAq37/OH7YwQJB41zRDzzBA9RHvmmboMEBaqwYBigExQL9EHmetGjFAJN41zdAzMUCJd00z9EwxQO4QZZkXZjFAU6p8/zp/MUC4Q5RlXpgxQB3dq8uBsTFAgnbDMaXKMUDnD9uXyOMxQEyp8v3r/DFAskIKZA8WMkAX3CHKMi8yQHx1OTBWSDJA4Q5RlnlhMkBGqGj8nHoyQKtBgGLAkzJAENuXyOOsMkB1dK8uB8YyQNoNx5Qq3zJAP6fe+k34MkCkQPZgcREzQAnaDceUKjNAbnMlLbhDM0DTDD2T21wzQDimVPn+dTNAnj9sXyKPM0AD2YPFRagzQGhymytpwTNAzQuzkYzaM0Aypcr3r/MzQJc+4l3TDDRA/Nf5w/YlNEBhcREqGj80QMYKKZA9WDRAK6RA9mBxNECQPVhchIo0QPXWb8KnozRAWnCHKMu8NEC/CZ+O7tU0QCSjtvQR7zRAijzOWjUINUDv1eXAWCE1QFRv/SZ8OjVAuQgVjZ9TNUAeoizzwmw1QIM7RFnmhTVA6NRbvwmfNUBNbnMlLbg1QLIHi4tQ0TVAF6Gi8XPqNUB8OrpXlwM2QOHT0b26HDZARm3pI941NkCrBgGKAU82QBCgGPAkaDZAdjkwVkiBNkDb0ke8a5o2QEBsXyKPszZApQV3iLLMNkAKn47u1eU2QG84plT5/jZA1NG9uhwYN0A5a9UgQDE3QJ4E7YZjSjdAA54E7YZjN0BoNxxTqnw3QM3QM7nNlTdAMmpLH/GuN0CXA2OFFMg3QPyceus34TdAYjaSUVv6N0DHz6m3fhM4QCxpwR2iLDhAkQLZg8VFOED2m/Dp6F44QFs1CFAMeDhAwM4fti+ROEAlaDccU6o4QIoBT4J2wzhA75pm6JncOEBUNH5OvfU4QLnNlbTgDjlAHmetGgQoOUCDAMWAJ0E5QOiZ3OZKWjlATjP0TG5zOUCzzAuzkYw5QBhmIxm1pTlAff86f9i+OUDimFLl+9c5QEcyaksf8TlArMuBsUIKOkARZZkXZiM6QHb+sH2JPDpA25fI46xVOkBAMeBJ0G46QKXK96/zhzpACmQPFhehOkBv/SZ8Oro6QNSWPuJd0zpAOjBWSIHsOkCfyW2upAU7QARjhRTIHjtAafyceus3O0DOlbTgDlE7QDMvzEYyajtAmMjjrFWDO0D9YfsSeZw7QGL7EnmctTtAx5Qq37/OO0AsLkJF4+c7QJHHWasGATxA9mBxESoaPEBb+oh3TTM8QMCToN1wTDxAJi24Q5RlPECLxs+pt348QPBf5w/blzxAVfn+df6wPEC6khbcIco8QB8sLkJF4zxAhMVFqGj8PEDpXl0OjBU9QE74dHSvLj1As5GM2tJHPUAYK6RA9mA9QH3Eu6YZej1A4l3TDD2TPUBH9+pyYKw9QKyQAtmDxT1AEioaP6fePUB3wzGlyvc9QNxcSQvuED5AQfZgcREqPkCmj3jXNEM+QAspkD1YXD5AcMKno3t1PkDVW78Jn44+QDr11m/Cpz5An47u1eXAPkAEKAY8Cdo+QGnBHaIs8z5Azlo1CFAMP0Az9ExucyU/QJiNZNSWPj9A/iZ8OrpXP0BjwJOg3XA/QMhZqwYBij9ALfPCbCSjP0CSjNrSR7w/QPcl8jhr1T9AXL8Jn47uP0BgrJAC2QNAQBN5nLVqEEBAxkWoaPwcQEB4ErQbjilAQCrfv84fNkBA3avLgbFCQECQeNc0Q09AQEJF4+fUW0BA9RHvmmZoQECo3vpN+HRAQFqrBgGKgUBADHgStBuOQEC/RB5nrZpAQHERKho/p0BAJN41zdCzQEDWqkGAYsBAQIl3TTP0zEBAPERZ5oXZQEDuEGWZF+ZAQKHdcEyp8kBAU6p8/zr/QEAGd4iyzAtBQLhDlGVeGEFAaxCgGPAkQUAd3avLgTFBQNCpt34TPkFAgnbDMaVKQUA1Q8/kNldBQOcP25fIY0FAmtzmSlpwQUBMqfL963xBQP91/rB9iUFAskIKZA+WQUBkDxYXoaJBQBfcIcoyr0FAyagtfcS7QUB8dTkwVshBQC5CRePn1EFA4Q5RlnnhQUCT21xJC+5BQEaoaPyc+kFA+HR0ry4HQkCrQYBiwBNCQF0OjBVSIEJAENuXyOMsQkDCp6N7dTlCQHV0ry4HRkJAKEG74ZhSQkDaDceUKl9CQI3a0ke8a0JAP6fe+k14QkDyc+qt34RCQKRA9mBxkUJAVw0CFAOeQkAJ2g3HlKpCQLymGXomt0JAbnMlLbjDQkAhQDHgSdBCQNMMPZPb3EJAhtlIRm3pQkA4plT5/vVCQOtyYKyQAkNAnj9sXyIPQ0BQDHgStBtDQAPZg8VFKENAtaWPeNc0Q0BocpsraUFDQBo/p976TUNAzQuzkYxaQ0B/2L5EHmdDQDKlyvevc0NA5HHWqkGAQ0CXPuJd04xDQEkL7hBlmUNA/Nf5w/alQ0CupAV3iLJDQGFxESoav0NAFD4d3avLQ0DGCimQPdhDQHnXNEPP5ENAK6RA9mDxQ0DecEyp8v1DQJA9WFyECkRAQwpkDxYXRED11m/CpyNEQKije3U5MERAWnCHKMs8REANPZPbXElEQL8Jn47uVURActaqQYBiREAko7b0EW9EQNdvwqeje0RAijzOWjWIREA8CdoNx5REQO/V5cBYoURAoaLxc+qtREBUb/0mfLpEQAY8CdoNx0RAuQgVjZ/TREBr1SBAMeBEQB6iLPPC7ERA0G44plT5RECDO0RZ5gVFQDUIUAx4EkVA6NRbvwkfRUCaoWdymytFQE1ucyUtOEVAADt/2L5ERUCyB4uLUFFFQGXUlj7iXUVAF6Gi8XNqRUDKba6kBXdFQHw6uleXg0VALwfGCimQRUDh09G9upxFQJSg3XBMqUVARm3pI961RUD5OfXWb8JFQKsGAYoBz0VAXtMMPZPbRUAQoBjwJOhFQMNsJKO29EVAdjkwVkgBRkAoBjwJ2g1GQNvSR7xrGkZAjZ9Tb/0mRkBAbF8ijzNGQPI4a9UgQEZApQV3iLJMRkBX0oI7RFlGQAqfju7VZUZAvGuaoWdyRkBvOKZU+X5GQCEFsgeLi0ZA1NG9uhyYRkCGnsltrqRGQDlr1SBAsUZA7Dfh09G9RkCeBO2GY8pGQFHR+Dn11kZAA54E7YbjRkC2ahCgGPBGQGg3HFOq/EZAGwQoBjwJR0DN0DO5zRVHQICdP2xfIkdAMmpLH/EuR0DlNlfSgjtHQJcDY4UUSEdAStBuOKZUR0D8nHrrN2FHQK9php7JbUdAYjaSUVt6R0AUA54E7YZHQMfPqbd+k0dAeZy1ahCgR0AsacEdoqxHQN41zdAzuUdAkQLZg8XFR0BDz+Q2V9JHQPab8Ono3kdAqGj8nHrrR0BbNQhQDPhHQA0CFAOeBEhAwM4fti8RSEBymytpwR1IQCVoNxxTKkhA2DRDz+Q2SECKAU+CdkNIQD3OWjUIUEhA75pm6JlcSECiZ3KbK2lIQFQ0fk69dUhABwGKAU+CSEC5zZW04I5IQGyaoWdym0hAHmetGgSoSEDRM7nNlbRIQIMAxYAnwUhANs3QM7nNSEDomdzmStpIQJtm6Jnc5khATjP0TG7zSEAAAAAAAABJQA==",
          "dtype": "f8"
         },
         "y": {
          "bdata": "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",
          "dtype": "f8"
         }
        },
        {
         "marker": {
          "color": "#1f77b4",
          "line": {
           "color": "DarkSlateGrey",
           "width": 1
          },
          "size": 8
         },
         "mode": "markers",
         "name": "第1组",
         "type": "scatter",
         "x": {
          "bdata": "AgcICxEXISgrLg==",
          "dtype": "i1"
         },
         "y": {
          "bdata": "JV4sQvloU0BeqaFEh29RQCxu3pn4+1BAPaU8Op5ZUEDu5EpBfBZSQPdI+uJTc1FAW4FWFdpiUkBtwkpasGJSQDRiYDRHDlJAR+7T0JgAUUA=",
          "dtype": "f8"
         }
        },
        {
         "marker": {
          "color": "#ff7f0e",
          "line": {
           "color": "DarkSlateGrey",
           "width": 1
          },
          "size": 8
         },
         "mode": "markers",
         "name": "第2组",
         "type": "scatter",
         "x": {
          "bdata": "AwYNFBseJSYtMQ==",
          "dtype": "i1"
         },
         "y": {
          "bdata": "5TbLMWlaU0BJHNoQwwpSQIszWdentlBAdgIXRT0YUkDuzp7HGwhRQLxpBh6+eVFAjzDOmZ1oUkCIn2iOeGJSQEmwziHSXlFA+Icy38tkUEA=",
          "dtype": "f8"
         }
        },
        {
         "marker": {
          "color": "#2ca02c",
          "line": {
           "color": "DarkSlateGrey",
           "width": 1
          },
          "size": 8
         },
         "mode": "markers",
         "name": "第3组",
         "type": "scatter",
         "x": {
          "bdata": "AQoPFRgcICQnLw==",
          "dtype": "i1"
         },
         "y": {
          "bdata": "kQHslI81U0B+3vxNv2ZQQJf8AFPle1FAZZZJb+HjUUD/hGRjQUdRQLx0PRIOE1FAAV/6iSAeUkDOjwsfi3lSQEZgzBriYFJA7sWu7zOkUEA=",
          "dtype": "f8"
         }
        },
        {
         "marker": {
          "color": "#d62728",
          "line": {
           "color": "DarkSlateGrey",
           "width": 1
          },
          "size": 8
         },
         "mode": "markers",
         "name": "第4组",
         "type": "scatter",
         "x": {
          "bdata": "BAkQExYaHSIpMA==",
          "dtype": "i1"
         },
         "y": {
          "bdata": "/7QKxK8OU0DjGDnp+qBQQEPU1cwX0FFAm2K06tw0UkB2ujNGUa5RQODySsbhFFFAN5l43uE6UUDLdTYexYNSQJIi5jHeW1JAFG7mNI5uUEA=",
          "dtype": "f8"
         }
        },
        {
         "marker": {
          "color": "#9467bd",
          "line": {
           "color": "DarkSlateGrey",
           "width": 1
          },
          "size": 8
         },
         "mode": "markers",
         "name": "第5组",
         "type": "scatter",
         "x": {
          "bdata": "BQwOEhkfIyosMg==",
          "dtype": "i1"
         },
         "y": {
          "bdata": "wJOYtvWXUkDuUT3th3VQQFMgloSpGVFAfRrI7+s2UkA+Y/zu0StRQHSBN5q8zlFAyN2n6vOHUkDQ39YCfUBSQM6ZvsVNyFFA6Uk0a8CGUEA=",
          "dtype": "f8"
         }
        }
       ],
       "layout": {
        "height": 600,
        "legend": {
         "bgcolor": "rgba(255,255,255,0.8)",
         "title": {
          "text": "组别"
         },
         "x": 1.05,
         "xanchor": "left",
         "y": 1,
         "yanchor": "top"
        },
        "margin": {
         "r": 150
        },
        "template": {
         "data": {
          "bar": [
           {
            "error_x": {
             "color": "#2a3f5f"
            },
            "error_y": {
             "color": "#2a3f5f"
            },
            "marker": {
             "line": {
              "color": "white",
              "width": 0.5
             },
             "pattern": {
              "fillmode": "overlay",
              "size": 10,
              "solidity": 0.2
             }
            },
            "type": "bar"
           }
          ],
          "barpolar": [
           {
            "marker": {
             "line": {
              "color": "white",
              "width": 0.5
             },
             "pattern": {
              "fillmode": "overlay",
              "size": 10,
              "solidity": 0.2
             }
            },
            "type": "barpolar"
           }
          ],
          "carpet": [
           {
            "aaxis": {
             "endlinecolor": "#2a3f5f",
             "gridcolor": "#C8D4E3",
             "linecolor": "#C8D4E3",
             "minorgridcolor": "#C8D4E3",
             "startlinecolor": "#2a3f5f"
            },
            "baxis": {
             "endlinecolor": "#2a3f5f",
             "gridcolor": "#C8D4E3",
             "linecolor": "#C8D4E3",
             "minorgridcolor": "#C8D4E3",
             "startlinecolor": "#2a3f5f"
            },
            "type": "carpet"
           }
          ],
          "choropleth": [
           {
            "colorbar": {
             "outlinewidth": 0,
             "ticks": ""
            },
            "type": "choropleth"
           }
          ],
          "contour": [
           {
            "colorbar": {
             "outlinewidth": 0,
             "ticks": ""
            },
            "colorscale": [
             [
              0,
              "#0d0887"
             ],
             [
              0.1111111111111111,
              "#46039f"
             ],
             [
              0.2222222222222222,
              "#7201a8"
             ],
             [
              0.3333333333333333,
              "#9c179e"
             ],
             [
              0.4444444444444444,
              "#bd3786"
             ],
             [
              0.5555555555555556,
              "#d8576b"
             ],
             [
              0.6666666666666666,
              "#ed7953"
             ],
             [
              0.7777777777777778,
              "#fb9f3a"
             ],
             [
              0.8888888888888888,
              "#fdca26"
             ],
             [
              1,
              "#f0f921"
             ]
            ],
            "type": "contour"
           }
          ],
          "contourcarpet": [
           {
            "colorbar": {
             "outlinewidth": 0,
             "ticks": ""
            },
            "type": "contourcarpet"
           }
          ],
          "heatmap": [
           {
            "colorbar": {
             "outlinewidth": 0,
             "ticks": ""
            },
            "colorscale": [
             [
              0,
              "#0d0887"
             ],
             [
              0.1111111111111111,
              "#46039f"
             ],
             [
              0.2222222222222222,
              "#7201a8"
             ],
             [
              0.3333333333333333,
              "#9c179e"
             ],
             [
              0.4444444444444444,
              "#bd3786"
             ],
             [
              0.5555555555555556,
              "#d8576b"
             ],
             [
              0.6666666666666666,
              "#ed7953"
             ],
             [
              0.7777777777777778,
              "#fb9f3a"
             ],
             [
              0.8888888888888888,
              "#fdca26"
             ],
             [
              1,
              "#f0f921"
             ]
            ],
            "type": "heatmap"
           }
          ],
          "histogram": [
           {
            "marker": {
             "pattern": {
              "fillmode": "overlay",
              "size": 10,
              "solidity": 0.2
             }
            },
            "type": "histogram"
           }
          ],
          "histogram2d": [
           {
            "colorbar": {
             "outlinewidth": 0,
             "ticks": ""
            },
            "colorscale": [
             [
              0,
              "#0d0887"
             ],
             [
              0.1111111111111111,
              "#46039f"
             ],
             [
              0.2222222222222222,
              "#7201a8"
             ],
             [
              0.3333333333333333,
              "#9c179e"
             ],
             [
              0.4444444444444444,
              "#bd3786"
             ],
             [
              0.5555555555555556,
              "#d8576b"
             ],
             [
              0.6666666666666666,
              "#ed7953"
             ],
             [
              0.7777777777777778,
              "#fb9f3a"
             ],
             [
              0.8888888888888888,
              "#fdca26"
             ],
             [
              1,
              "#f0f921"
             ]
            ],
            "type": "histogram2d"
           }
          ],
          "histogram2dcontour": [
           {
            "colorbar": {
             "outlinewidth": 0,
             "ticks": ""
            },
            "colorscale": [
             [
              0,
              "#0d0887"
             ],
             [
              0.1111111111111111,
              "#46039f"
             ],
             [
              0.2222222222222222,
              "#7201a8"
             ],
             [
              0.3333333333333333,
              "#9c179e"
             ],
             [
              0.4444444444444444,
              "#bd3786"
             ],
             [
              0.5555555555555556,
              "#d8576b"
             ],
             [
              0.6666666666666666,
              "#ed7953"
             ],
             [
              0.7777777777777778,
              "#fb9f3a"
             ],
             [
              0.8888888888888888,
              "#fdca26"
             ],
             [
              1,
              "#f0f921"
             ]
            ],
            "type": "histogram2dcontour"
           }
          ],
          "mesh3d": [
           {
            "colorbar": {
             "outlinewidth": 0,
             "ticks": ""
            },
            "type": "mesh3d"
           }
          ],
          "parcoords": [
           {
            "line": {
             "colorbar": {
              "outlinewidth": 0,
              "ticks": ""
             }
            },
            "type": "parcoords"
           }
          ],
          "pie": [
           {
            "automargin": true,
            "type": "pie"
           }
          ],
          "scatter": [
           {
            "fillpattern": {
             "fillmode": "overlay",
             "size": 10,
             "solidity": 0.2
            },
            "type": "scatter"
           }
          ],
          "scatter3d": [
           {
            "line": {
             "colorbar": {
              "outlinewidth": 0,
              "ticks": ""
             }
            },
            "marker": {
             "colorbar": {
              "outlinewidth": 0,
              "ticks": ""
             }
            },
            "type": "scatter3d"
           }
          ],
          "scattercarpet": [
           {
            "marker": {
             "colorbar": {
              "outlinewidth": 0,
              "ticks": ""
             }
            },
            "type": "scattercarpet"
           }
          ],
          "scattergeo": [
           {
            "marker": {
             "colorbar": {
              "outlinewidth": 0,
              "ticks": ""
             }
            },
            "type": "scattergeo"
           }
          ],
          "scattergl": [
           {
            "marker": {
             "colorbar": {
              "outlinewidth": 0,
              "ticks": ""
             }
            },
            "type": "scattergl"
           }
          ],
          "scattermap": [
           {
            "marker": {
             "colorbar": {
              "outlinewidth": 0,
              "ticks": ""
             }
            },
            "type": "scattermap"
           }
          ],
          "scattermapbox": [
           {
            "marker": {
             "colorbar": {
              "outlinewidth": 0,
              "ticks": ""
             }
            },
            "type": "scattermapbox"
           }
          ],
          "scatterpolar": [
           {
            "marker": {
             "colorbar": {
              "outlinewidth": 0,
              "ticks": ""
             }
            },
            "type": "scatterpolar"
           }
          ],
          "scatterpolargl": [
           {
            "marker": {
             "colorbar": {
              "outlinewidth": 0,
              "ticks": ""
             }
            },
            "type": "scatterpolargl"
           }
          ],
          "scatterternary": [
           {
            "marker": {
             "colorbar": {
              "outlinewidth": 0,
              "ticks": ""
             }
            },
            "type": "scatterternary"
           }
          ],
          "surface": [
           {
            "colorbar": {
             "outlinewidth": 0,
             "ticks": ""
            },
            "colorscale": [
             [
              0,
              "#0d0887"
             ],
             [
              0.1111111111111111,
              "#46039f"
             ],
             [
              0.2222222222222222,
              "#7201a8"
             ],
             [
              0.3333333333333333,
              "#9c179e"
             ],
             [
              0.4444444444444444,
              "#bd3786"
             ],
             [
              0.5555555555555556,
              "#d8576b"
             ],
             [
              0.6666666666666666,
              "#ed7953"
             ],
             [
              0.7777777777777778,
              "#fb9f3a"
             ],
             [
              0.8888888888888888,
              "#fdca26"
             ],
             [
              1,
              "#f0f921"
             ]
            ],
            "type": "surface"
           }
          ],
          "table": [
           {
            "cells": {
             "fill": {
              "color": "#EBF0F8"
             },
             "line": {
              "color": "white"
             }
            },
            "header": {
             "fill": {
              "color": "#C8D4E3"
             },
             "line": {
              "color": "white"
             }
            },
            "type": "table"
           }
          ]
         },
         "layout": {
          "annotationdefaults": {
           "arrowcolor": "#2a3f5f",
           "arrowhead": 0,
           "arrowwidth": 1
          },
          "autotypenumbers": "strict",
          "coloraxis": {
           "colorbar": {
            "outlinewidth": 0,
            "ticks": ""
           }
          },
          "colorscale": {
           "diverging": [
            [
             0,
             "#8e0152"
            ],
            [
             0.1,
             "#c51b7d"
            ],
            [
             0.2,
             "#de77ae"
            ],
            [
             0.3,
             "#f1b6da"
            ],
            [
             0.4,
             "#fde0ef"
            ],
            [
             0.5,
             "#f7f7f7"
            ],
            [
             0.6,
             "#e6f5d0"
            ],
            [
             0.7,
             "#b8e186"
            ],
            [
             0.8,
             "#7fbc41"
            ],
            [
             0.9,
             "#4d9221"
            ],
            [
             1,
             "#276419"
            ]
           ],
           "sequential": [
            [
             0,
             "#0d0887"
            ],
            [
             0.1111111111111111,
             "#46039f"
            ],
            [
             0.2222222222222222,
             "#7201a8"
            ],
            [
             0.3333333333333333,
             "#9c179e"
            ],
            [
             0.4444444444444444,
             "#bd3786"
            ],
            [
             0.5555555555555556,
             "#d8576b"
            ],
            [
             0.6666666666666666,
             "#ed7953"
            ],
            [
             0.7777777777777778,
             "#fb9f3a"
            ],
            [
             0.8888888888888888,
             "#fdca26"
            ],
            [
             1,
             "#f0f921"
            ]
           ],
           "sequentialminus": [
            [
             0,
             "#0d0887"
            ],
            [
             0.1111111111111111,
             "#46039f"
            ],
            [
             0.2222222222222222,
             "#7201a8"
            ],
            [
             0.3333333333333333,
             "#9c179e"
            ],
            [
             0.4444444444444444,
             "#bd3786"
            ],
            [
             0.5555555555555556,
             "#d8576b"
            ],
            [
             0.6666666666666666,
             "#ed7953"
            ],
            [
             0.7777777777777778,
             "#fb9f3a"
            ],
            [
             0.8888888888888888,
             "#fdca26"
            ],
            [
             1,
             "#f0f921"
            ]
           ]
          },
          "colorway": [
           "#636efa",
           "#EF553B",
           "#00cc96",
           "#ab63fa",
           "#FFA15A",
           "#19d3f3",
           "#FF6692",
           "#B6E880",
           "#FF97FF",
           "#FECB52"
          ],
          "font": {
           "color": "#2a3f5f"
          },
          "geo": {
           "bgcolor": "white",
           "lakecolor": "white",
           "landcolor": "white",
           "showlakes": true,
           "showland": true,
           "subunitcolor": "#C8D4E3"
          },
          "hoverlabel": {
           "align": "left"
          },
          "hovermode": "closest",
          "mapbox": {
           "style": "light"
          },
          "paper_bgcolor": "white",
          "plot_bgcolor": "white",
          "polar": {
           "angularaxis": {
            "gridcolor": "#EBF0F8",
            "linecolor": "#EBF0F8",
            "ticks": ""
           },
           "bgcolor": "white",
           "radialaxis": {
            "gridcolor": "#EBF0F8",
            "linecolor": "#EBF0F8",
            "ticks": ""
           }
          },
          "scene": {
           "xaxis": {
            "backgroundcolor": "white",
            "gridcolor": "#DFE8F3",
            "gridwidth": 2,
            "linecolor": "#EBF0F8",
            "showbackground": true,
            "ticks": "",
            "zerolinecolor": "#EBF0F8"
           },
           "yaxis": {
            "backgroundcolor": "white",
            "gridcolor": "#DFE8F3",
            "gridwidth": 2,
            "linecolor": "#EBF0F8",
            "showbackground": true,
            "ticks": "",
            "zerolinecolor": "#EBF0F8"
           },
           "zaxis": {
            "backgroundcolor": "white",
            "gridcolor": "#DFE8F3",
            "gridwidth": 2,
            "linecolor": "#EBF0F8",
            "showbackground": true,
            "ticks": "",
            "zerolinecolor": "#EBF0F8"
           }
          },
          "shapedefaults": {
           "line": {
            "color": "#2a3f5f"
           }
          },
          "ternary": {
           "aaxis": {
            "gridcolor": "#DFE8F3",
            "linecolor": "#A2B1C6",
            "ticks": ""
           },
           "baxis": {
            "gridcolor": "#DFE8F3",
            "linecolor": "#A2B1C6",
            "ticks": ""
           },
           "bgcolor": "white",
           "caxis": {
            "gridcolor": "#DFE8F3",
            "linecolor": "#A2B1C6",
            "ticks": ""
           }
          },
          "title": {
           "x": 0.05
          },
          "xaxis": {
           "automargin": true,
           "gridcolor": "#EBF0F8",
           "linecolor": "#EBF0F8",
           "ticks": "",
           "title": {
            "standoff": 15
           },
           "zerolinecolor": "#EBF0F8",
           "zerolinewidth": 2
          },
          "yaxis": {
           "automargin": true,
           "gridcolor": "#EBF0F8",
           "linecolor": "#EBF0F8",
           "ticks": "",
           "title": {
            "standoff": 15
           },
           "zerolinecolor": "#EBF0F8",
           "zerolinewidth": 2
          }
         }
        },
        "title": {
         "text": "高斯过程曲线与分组结果"
        },
        "width": 900,
        "xaxis": {
         "title": {
          "text": "x"
         }
        },
        "yaxis": {
         "title": {
          "text": "f(x)"
         }
        }
       }
      }
     },
     "metadata": {},
     "output_type": "display_data"
    }
   ],
   "source": [
    "import numpy as np\n",
    "import plotly.graph_objects as go\n",
    "from sklearn.gaussian_process import GaussianProcessRegressor\n",
    "from sklearn.gaussian_process.kernels import RBF, ConstantKernel,WhiteKernel\n",
    "\n",
    "import sys\n",
    "import os\n",
    "# 使用当前工作目录\n",
    "project_root = os.path.dirname(os.getcwd())  # 获取当前目录的父目录\n",
    "sys.path.insert(0, project_root)\n",
    "from util.methods import assign_variances\n",
    "\n",
    "seed = 15\n",
    "# 定义核函数\n",
    "kernel = ConstantKernel(25.0) * RBF(length_scale=4.0) + WhiteKernel(1e-3)\n",
    "gp = GaussianProcessRegressor(kernel=kernel)\n",
    "\n",
    "x_dense = np.linspace(1, 50, 500).reshape(-1, 1)\n",
    "\n",
    "y_dense = gp.sample_y(x_dense, n_samples=1, random_state=seed).flatten() + 70\n",
    "\n",
    "# 提取整数点对应的y值\n",
    "integer_points = np.arange(1, 51)\n",
    "y_integers = y_dense[np.linspace(0, 499, 50, dtype=int)]\n",
    "\n",
    "# 计算整数点的协方差矩阵\n",
    "cov_matrix = kernel(integer_points.reshape(-1,1))\n",
    "\n",
    "# 计算相关性矩阵\n",
    "std_dev = np.sqrt(np.diag(cov_matrix))  \n",
    "corr_matrix = cov_matrix / np.outer(std_dev, std_dev)  \n",
    "\n",
    "np.savetxt('Sigma1.txt', cov_matrix, \n",
    "           fmt='%.6f',\n",
    "           header=f'高斯过程协方差矩阵(1-50整数点)\\n核函数: {kernel}')\n",
    "\n",
    "np.savetxt('correlation_matrix.txt', corr_matrix,\n",
    "           fmt='%.6f',\n",
    "           header=f'高斯过程相关性矩阵(1-50整数点)\\n核函数: {kernel}')\n",
    "\n",
    "np.savetxt('mu.txt', \n",
    "           y_integers,\n",
    "           fmt='%.6f',\n",
    "           header='真实均值')\n",
    "\n",
    "# 创建蛇形分配的分组标签\n",
    "sorted_indices = np.argsort(y_integers)  # 获取y值从小到大的索引\n",
    "positions = np.arange(50)\n",
    "round_num = positions // 5  # 每5个点改变一次方向\n",
    "pos_in_round = positions % 5\n",
    "\n",
    "# 蛇形分配逻辑：正向(0,1,2,3,4)和反向(4,3,2,1,0)交替\n",
    "group_assignments = np.where(\n",
    "    round_num % 2 == 0,\n",
    "    pos_in_round,       # 正向分配：0,1,2,3,4\n",
    "    4 - pos_in_round    # 反向分配：4,3,2,1,0\n",
    ")\n",
    "\n",
    "group_labels = np.zeros(50, dtype=int)\n",
    "group_labels[sorted_indices] = group_assignments\n",
    "group_names = [f\"第{i+1}组\" for i in range(5)]  # 组别名称\n",
    "\n",
    "# 创建分组标签 (5组，蛇形分配)\n",
    "group_labels = np.zeros(50, dtype=int)\n",
    "for i in range(50):\n",
    "    round_num = i // 5  # 每5个点一轮\n",
    "    pos_in_round = i % 5\n",
    "    \n",
    "    if round_num % 2 == 0:  # 偶数轮：正向分配\n",
    "        group = pos_in_round\n",
    "    else:  # 奇数轮：反向分配\n",
    "        group = 4 - pos_in_round\n",
    "    \n",
    "    group_labels[sorted_indices[i]] = group\n",
    "\n",
    "group_names = [f\"第{i+1}组\" for i in range(5)]  # 组别名称\n",
    "\n",
    "fig = go.Figure()\n",
    "\n",
    "fig.add_trace(go.Scatter(\n",
    "    x=x_dense.flatten(), \n",
    "    y=y_dense,\n",
    "    mode='lines',\n",
    "    name='GP曲线',\n",
    "    line=dict(color='royalblue', width=2)\n",
    "))\n",
    "\n",
    "colors = ['#1f77b4', '#ff7f0e', '#2ca02c', '#d62728', '#9467bd']  # 5种不同颜色\n",
    "for group in range(5):\n",
    "    mask = (group_labels == group)\n",
    "    fig.add_trace(go.Scatter(\n",
    "        x=integer_points[mask],\n",
    "        y=y_integers[mask],\n",
    "        mode='markers',\n",
    "        name=group_names[group],\n",
    "        marker=dict(\n",
    "            color=colors[group],\n",
    "            size=8,\n",
    "            line=dict(width=1, color='DarkSlateGrey')\n",
    "    )))\n",
    "\n",
    "fig.update_layout(\n",
    "    title='高斯过程曲线与分组结果',\n",
    "    xaxis_title='x',\n",
    "    yaxis_title='f(x)',\n",
    "    template='plotly_white',\n",
    "    height=600,\n",
    "    width=900,\n",
    "    legend=dict(\n",
    "        title='组别',\n",
    "        x=1.05,\n",
    "        y=1,\n",
    "        xanchor='left',\n",
    "        yanchor='top',\n",
    "        bgcolor='rgba(255,255,255,0.8)'\n",
    "    ),\n",
    "    margin=dict(r=150) \n",
    ")\n",
    "\n",
    "fig.show()"
   ]
  },
  {
   "cell_type": "code",
   "execution_count": 2,
   "id": "0a7bc98a",
   "metadata": {},
   "outputs": [
    {
     "name": "stdout",
     "output_type": "stream",
     "text": [
      "最小特征值: (0.0009999999999915042+0j)\n",
      "负特征值数量: 0\n"
     ]
    }
   ],
   "source": [
    "eigvals = np.linalg.eigvals(cov_matrix)\n",
    "print(\"最小特征值:\", np.min(eigvals))\n",
    "print(\"负特征值数量:\", np.sum(eigvals < 0))"
   ]
  },
  {
   "cell_type": "code",
   "execution_count": 3,
   "id": "db80fb0f",
   "metadata": {},
   "outputs": [
    {
     "name": "stdout",
     "output_type": "stream",
     "text": [
      "验证结果:\n",
      "对角线均值: 1.000000 (目标: 1.0)\n",
      "最小特征值: 0.000000-0.000000j (应>0)\n"
     ]
    },
    {
     "data": {
      "image/png": "[encoded data removed]",
      "text/plain": [
       "<Figure size 1000x800 with 2 Axes>"
      ]
     },
     "metadata": {},
     "output_type": "display_data"
    }
   ],
   "source": [
    "import numpy as np\n",
    "from scipy.linalg import cholesky\n",
    "import matplotlib.pyplot as plt\n",
    "\n",
    "# 初始化参数\n",
    "n_points = 50\n",
    "within_group_mean = 0.8\n",
    "between_group_mean = 0.0\n",
    "noise_std = 0.1 \n",
    "\n",
    "def build_correlation_matrix(group_labels):\n",
    "    groups = np.unique(group_labels)\n",
    "    n_groups = len(groups)\n",
    "    group_mask = group_labels[:, None] == group_labels  \n",
    "    \n",
    "    base_matrix = np.where(group_mask, \n",
    "                          within_group_mean, \n",
    "                          between_group_mean)\n",
    "    np.fill_diagonal(base_matrix, 1.0)\n",
    "    \n",
    "    random_matrix = np.random.normal(0, noise_std, (n_points, n_points))\n",
    "    random_matrix = (random_matrix + random_matrix.T) / 2  \n",
    "    np.fill_diagonal(random_matrix, 0) \n",
    "    \n",
    "    corr_matrix = base_matrix + random_matrix\n",
    "    \n",
    "\n",
    "    def project_to_pd(matrix):\n",
    "        eigvals, eigvecs = np.linalg.eigh(matrix)\n",
    "        eigvals = np.maximum(eigvals, 1e-8)  \n",
    "        return eigvecs @ np.diag(eigvals) @ eigvecs.T\n",
    "    \n",
    "\n",
    "    for _ in range(10):\n",
    "        corr_matrix = project_to_pd(corr_matrix)\n",
    "        # 重新标准化对角线\n",
    "        diag_scaling = np.diag(1/np.sqrt(np.diag(corr_matrix)))\n",
    "        corr_matrix = diag_scaling @ corr_matrix @ diag_scaling\n",
    "    \n",
    "    return corr_matrix\n",
    "\n",
    "corr_matrix = build_correlation_matrix(group_labels)\n",
    "\n",
    "# 验证矩阵性质\n",
    "print(\"验证结果:\")\n",
    "print(f\"对角线均值: {np.mean(np.diag(corr_matrix)):.6f} (目标: 1.0)\")\n",
    "print(f\"最小特征值: {np.min(np.linalg.eigvals(corr_matrix)):.6f} (应>0)\")\n",
    "\n",
    "# 可视化矩阵\n",
    "plt.figure(figsize=(10,8))\n",
    "plt.imshow(corr_matrix, cmap='coolwarm', vmin=-1, vmax=1)\n",
    "plt.colorbar()\n",
    "plt.title(\"group_corr_mat\")\n",
    "plt.show()"
   ]
  },
  {
   "cell_type": "code",
   "execution_count": 4,
   "id": "075d1c5e",
   "metadata": {},
   "outputs": [
    {
     "data": {
      "text/plain": [
       "array([3, 1, 2, 4, 5, 2, 1, 1, 4, 3, 1, 5, 2, 5, 3, 4, 1, 5, 4, 2, 3, 4,\n",
       "       1, 3, 5, 4, 2, 3, 4, 2, 5, 3, 1, 4, 5, 3, 2, 2, 3, 1, 4, 5, 1, 5,\n",
       "       2, 1, 3, 4, 2, 5])"
      ]
     },
     "execution_count": 4,
     "metadata": {},
     "output_type": "execute_result"
    }
   ],
   "source": [
    "group_labels+1"
   ]
  },
  {
   "cell_type": "code",
   "execution_count": 5,
   "id": "b06744ea",
   "metadata": {},
   "outputs": [
    {
     "name": "stdout",
     "output_type": "stream",
     "text": [
      "验证结果:\n",
      "方差范围: 33.94-135.13 (目标: 25-144)\n",
      "最小特征值: 0.000000 (应>0)\n"
     ]
    },
    {
     "data": {
      "image/png": "[encoded data removed]",
      "text/plain": [
       "<Figure size 1200x1000 with 2 Axes>"
      ]
     },
     "metadata": {},
     "output_type": "display_data"
    }
   ],
   "source": [
    "# 随机分配噪声\n",
    "np.random.seed(seed)  \n",
    "variances = assign_variances(y_integers, min_var=25, max_var=144, correlation_strength=0.7)\n",
    "#variances = variances*4\n",
    "std_devs = np.sqrt(variances)  \n",
    "\n",
    "D = np.diag(std_devs)\n",
    "\n",
    "cov_matrix = D @ corr_matrix @ D\n",
    "\n",
    "print(\"验证结果:\")\n",
    "print(f\"方差范围: {np.min(np.diag(cov_matrix)):.2f}-{np.max(np.diag(cov_matrix)):.2f} (目标: 25-144)\")\n",
    "print(f\"最小特征值: {np.min(np.linalg.eigvals(cov_matrix)):.6f} (应>0)\")\n",
    "\n",
    "np.savetxt('group_cov.txt', \n",
    "           cov_matrix,\n",
    "           fmt='%.6f',\n",
    "           header='协方差矩阵（对角线方差=25-144）\\n基于分组相关性矩阵生成')\n",
    "\n",
    "import matplotlib.pyplot as plt\n",
    "plt.figure(figsize=(12,10))\n",
    "plt.imshow(cov_matrix, cmap='viridis')\n",
    "cbar = plt.colorbar()\n",
    "cbar.set_label('cov')\n",
    "\n",
    "for g in range(1,5):\n",
    "    plt.axhline(y=g*10-0.5, color='white', linestyle='--', alpha=0.7)\n",
    "    plt.axvline(x=g*10-0.5, color='white', linestyle='--', alpha=0.7)\n",
    "\n",
    "plt.title('group_cov_mat')\n",
    "plt.xlabel('index (1-50)')\n",
    "plt.ylabel('index (1-50)')\n",
    "plt.show()\n"
   ]
  },
  {
   "cell_type": "code",
   "execution_count": 6,
   "id": "6b0f752e",
   "metadata": {},
   "outputs": [
    {
     "data": {
      "text/plain": [
       "array([76.83688853, 77.64021353, 77.41267056, 76.22947789, 74.37437215,\n",
       "       72.16815587, 69.74263111, 67.9370484 , 66.51531439, 65.60542631,\n",
       "       65.40028244, 65.83642131, 66.85399421, 68.40097155, 69.93587184,\n",
       "       71.25145265, 72.35133393, 72.85815043, 72.82598369, 72.37873962,\n",
       "       71.56063444, 70.72371059, 69.80199503, 69.11336598, 68.68468833,\n",
       "       68.32628019, 68.12669554, 68.29773384, 68.92003595, 69.90222884,\n",
       "       71.23026138, 72.47073602, 73.54456075, 74.05890613, 74.12426249,\n",
       "       73.89911629, 73.63461919, 73.53860817, 73.51380033, 73.54201371,\n",
       "       73.4354367 , 73.00763007, 72.22309598, 71.12974685, 69.48157544,\n",
       "       68.00932713, 66.56566994, 65.7274296 , 65.57494335, 66.10549431])"
      ]
     },
     "execution_count": 6,
     "metadata": {},
     "output_type": "execute_result"
    }
   ],
   "source": [
    "y_integers"
   ]
  },
  {
   "cell_type": "code",
   "execution_count": 7,
   "id": "97c67c7c",
   "metadata": {},
   "outputs": [
    {
     "data": {
      "text/plain": [
       "array([135.12984052, 124.67695869, 109.50794206, 119.28743469,\n",
       "       111.93942895,  73.0610469 ,  78.62901372,  62.45520243,\n",
       "        42.96555871,  35.87225989,  34.11564188,  55.54845976,\n",
       "        53.01002173,  48.3048135 ,  59.11502246,  82.05088713,\n",
       "       105.11044732,  90.85793027, 108.87454375,  86.45783542,\n",
       "        77.00557544,  74.7647619 ,  57.63412644,  50.58753735,\n",
       "        57.58216575,  71.27732224,  66.07242907,  52.20110218,\n",
       "        50.21186883,  57.98698974,  82.99587692,  73.668868  ,\n",
       "        96.36706521,  97.62725011, 104.59558073,  86.54279792,\n",
       "       101.35613185,  94.76946993, 100.90634695,  87.1744994 ,\n",
       "        88.43692488,  92.36753746,  80.28973267,  87.03145114,\n",
       "        55.18867944,  66.08730863,  33.93699377,  59.55430599,\n",
       "        48.74212791,  51.73576662])"
      ]
     },
     "execution_count": 7,
     "metadata": {},
     "output_type": "execute_result"
    }
   ],
   "source": [
    "variances"
   ]
  },
  {
   "cell_type": "code",
   "execution_count": 8,
   "id": "619bc2af",
   "metadata": {},
   "outputs": [
    {
     "data": {
      "image/png": "[encoded data removed]",
      "text/plain": [
       "<Figure size 1000x600 with 1 Axes>"
      ]
     },
     "metadata": {},
     "output_type": "display_data"
    }
   ],
   "source": [
    "import numpy as np\n",
    "import matplotlib.pyplot as plt\n",
    "from scipy.stats import beta\n",
    "\n",
    "# 设置参数\n",
    "a = 1\n",
    "b = 1/0.7  # ≈1.428\n",
    "c = 1/0.5  # ≈1.428\n",
    "\n",
    "# 生成x轴数据\n",
    "x = np.linspace(0, 1, 1000)\n",
    "\n",
    "# 计算不同参数下的Beta分布PDF\n",
    "y1 = beta.pdf(x, a=1, b=1)          # 均匀分布\n",
    "y2 = beta.pdf(x, a=1, b=b)      # 函数中使用的参数\n",
    "y3 = beta.pdf(x, a=1, b=c)        # 对比案例：b<1\n",
    "\n",
    "# 绘制图形\n",
    "plt.figure(figsize=(10, 6))\n",
    "plt.plot(x, y1, label='Beta(1,1) ', linestyle='--')\n",
    "plt.plot(x, y2, label=f'Beta(1,{b:.3f}) ', linewidth=2, color='red')\n",
    "plt.plot(x, y3, label=f'Beta(1,{c:.3f})', linestyle=':')\n",
    "\n",
    "plt.title('(PDF)')\n",
    "plt.xlabel('x')\n",
    "plt.ylabel('pdf')\n",
    "plt.legend()\n",
    "plt.grid(True)\n",
    "plt.show()"
   ]
  }
 ],
 "metadata": {
  "kernelspec": {
   "display_name": "Pilot",
   "language": "python",
   "name": "python3"
  },
  "language_info": {
   "codemirror_mode": {
    "name": "ipython",
    "version": 3
   },
   "file_extension": ".py",
   "mimetype": "text/x-python",
   "name": "python",
   "nbconvert_exporter": "python",
   "pygments_lexer": "ipython3",
   "version": "3.13.5"
  }
 },
 "nbformat": 4,
 "nbformat_minor": 5
}
