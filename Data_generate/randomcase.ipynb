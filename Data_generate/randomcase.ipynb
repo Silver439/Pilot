{
 "cells": [
  {
   "cell_type": "code",
   "execution_count": null,
   "id": "d7d126ec",
   "metadata": {},
   "outputs": [
    {
     "data": {
      "application/vnd.plotly.v1+json": {
       "config": {
        "plotlyServerURL": "https://plot.ly"
       },
       "data": [
        {
         "line": {
          "color": "royalblue",
          "width": 2
         },
         "mode": "lines",
         "name": "GP曲线",
         "type": "scatter",
         "x": {
          "bdata": "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",
          "dtype": "f8"
         },
         "y": {
          "bdata": "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",
          "dtype": "f8"
         }
        },
        {
         "marker": {
          "color": "#2ca02c",
          "line": {
           "color": "DarkSlateGrey",
           "width": 1
          },
          "size": 8
         },
         "mode": "markers",
         "name": "被选点",
         "type": "scatter",
         "x": {
          "bdata": "VDZHLi0oF1ELARMfSiJbBU1ODSA4WRsrRhApYQpJDDBWHV4GQ0IkETIjCGAcFFIaPw4=",
          "dtype": "i1"
         },
         "y": {
          "bdata": "02uA8VakUUD2ejl4fAZPQBN7rzpx81FAXfbfOHwiUkCTDfryy8BSQP5uSRzlzVJA3vho+m1AUEBUnJmoaaxRQBQp+/klSlFA62dsUidRUkBYBHnAYBhSQEFD7aDJqFNAumjfvgEtUkC4xpRIRk9TQLsIMNEpvFJA/kFqDYJIUUDm84MlzZVRQKmU3N+CgFFATC6KQgtiUUDsN7oRE7tTQCFvdo11C1BAASn4AKN0UkDIX74IcTBRQF1qr9X6f1NAV/X60qirUUBtMZpWc+ZRQMNqbnVaLlNAgwoYX+1BU0D74TFlQkBRQCakP6gzQVJA7+5ef8hTUUAhfp3cculQQFztR1St4FFA77TwPwfNUkCzVzvypWlTQG1h6m3eHlFA+E7UOzzWUECE7s9iQ9lQQLH5w+Abp1JARTgadcwXUkB9/lvT0QlQQJVSE11t+lJABJdUEcwTUUA3EEB5NXVTQO0DLEtZ/1FARX4FkwzOUUDIg9wLs7FRQKYcbG1PfFBAdxEaTcrUUUCwe+nfjn9RQA==",
          "dtype": "f8"
         }
        }
       ],
       "layout": {
        "height": 600,
        "legend": {
         "bgcolor": "rgba(255,255,255,0.8)",
         "title": {
          "text": "标志"
         },
         "x": 1.05,
         "xanchor": "left",
         "y": 1,
         "yanchor": "top"
        },
        "margin": {
         "r": 150
        },
        "template": {
         "data": {
          "bar": [
           {
            "error_x": {
             "color": "#2a3f5f"
            },
            "error_y": {
             "color": "#2a3f5f"
            },
            "marker": {
             "line": {
              "color": "white",
              "width": 0.5
             },
             "pattern": {
              "fillmode": "overlay",
              "size": 10,
              "solidity": 0.2
             }
            },
            "type": "bar"
           }
          ],
          "barpolar": [
           {
            "marker": {
             "line": {
              "color": "white",
              "width": 0.5
             },
             "pattern": {
              "fillmode": "overlay",
              "size": 10,
              "solidity": 0.2
             }
            },
            "type": "barpolar"
           }
          ],
          "carpet": [
           {
            "aaxis": {
             "endlinecolor": "#2a3f5f",
             "gridcolor": "#C8D4E3",
             "linecolor": "#C8D4E3",
             "minorgridcolor": "#C8D4E3",
             "startlinecolor": "#2a3f5f"
            },
            "baxis": {
             "endlinecolor": "#2a3f5f",
             "gridcolor": "#C8D4E3",
             "linecolor": "#C8D4E3",
             "minorgridcolor": "#C8D4E3",
             "startlinecolor": "#2a3f5f"
            },
            "type": "carpet"
           }
          ],
          "choropleth": [
           {
            "colorbar": {
             "outlinewidth": 0,
             "ticks": ""
            },
            "type": "choropleth"
           }
          ],
          "contour": [
           {
            "colorbar": {
             "outlinewidth": 0,
             "ticks": ""
            },
            "colorscale": [
             [
              0,
              "#0d0887"
             ],
             [
              0.1111111111111111,
              "#46039f"
             ],
             [
              0.2222222222222222,
              "#7201a8"
             ],
             [
              0.3333333333333333,
              "#9c179e"
             ],
             [
              0.4444444444444444,
              "#bd3786"
             ],
             [
              0.5555555555555556,
              "#d8576b"
             ],
             [
              0.6666666666666666,
              "#ed7953"
             ],
             [
              0.7777777777777778,
              "#fb9f3a"
             ],
             [
              0.8888888888888888,
              "#fdca26"
             ],
             [
              1,
              "#f0f921"
             ]
            ],
            "type": "contour"
           }
          ],
          "contourcarpet": [
           {
            "colorbar": {
             "outlinewidth": 0,
             "ticks": ""
            },
            "type": "contourcarpet"
           }
          ],
          "heatmap": [
           {
            "colorbar": {
             "outlinewidth": 0,
             "ticks": ""
            },
            "colorscale": [
             [
              0,
              "#0d0887"
             ],
             [
              0.1111111111111111,
              "#46039f"
             ],
             [
              0.2222222222222222,
              "#7201a8"
             ],
             [
              0.3333333333333333,
              "#9c179e"
             ],
             [
              0.4444444444444444,
              "#bd3786"
             ],
             [
              0.5555555555555556,
              "#d8576b"
             ],
             [
              0.6666666666666666,
              "#ed7953"
             ],
             [
              0.7777777777777778,
              "#fb9f3a"
             ],
             [
              0.8888888888888888,
              "#fdca26"
             ],
             [
              1,
              "#f0f921"
             ]
            ],
            "type": "heatmap"
           }
          ],
          "histogram": [
           {
            "marker": {
             "pattern": {
              "fillmode": "overlay",
              "size": 10,
              "solidity": 0.2
             }
            },
            "type": "histogram"
           }
          ],
          "histogram2d": [
           {
            "colorbar": {
             "outlinewidth": 0,
             "ticks": ""
            },
            "colorscale": [
             [
              0,
              "#0d0887"
             ],
             [
              0.1111111111111111,
              "#46039f"
             ],
             [
              0.2222222222222222,
              "#7201a8"
             ],
             [
              0.3333333333333333,
              "#9c179e"
             ],
             [
              0.4444444444444444,
              "#bd3786"
             ],
             [
              0.5555555555555556,
              "#d8576b"
             ],
             [
              0.6666666666666666,
              "#ed7953"
             ],
             [
              0.7777777777777778,
              "#fb9f3a"
             ],
             [
              0.8888888888888888,
              "#fdca26"
             ],
             [
              1,
              "#f0f921"
             ]
            ],
            "type": "histogram2d"
           }
          ],
          "histogram2dcontour": [
           {
            "colorbar": {
             "outlinewidth": 0,
             "ticks": ""
            },
            "colorscale": [
             [
              0,
              "#0d0887"
             ],
             [
              0.1111111111111111,
              "#46039f"
             ],
             [
              0.2222222222222222,
              "#7201a8"
             ],
             [
              0.3333333333333333,
              "#9c179e"
             ],
             [
              0.4444444444444444,
              "#bd3786"
             ],
             [
              0.5555555555555556,
              "#d8576b"
             ],
             [
              0.6666666666666666,
              "#ed7953"
             ],
             [
              0.7777777777777778,
              "#fb9f3a"
             ],
             [
              0.8888888888888888,
              "#fdca26"
             ],
             [
              1,
              "#f0f921"
             ]
            ],
            "type": "histogram2dcontour"
           }
          ],
          "mesh3d": [
           {
            "colorbar": {
             "outlinewidth": 0,
             "ticks": ""
            },
            "type": "mesh3d"
           }
          ],
          "parcoords": [
           {
            "line": {
             "colorbar": {
              "outlinewidth": 0,
              "ticks": ""
             }
            },
            "type": "parcoords"
           }
          ],
          "pie": [
           {
            "automargin": true,
            "type": "pie"
           }
          ],
          "scatter": [
           {
            "fillpattern": {
             "fillmode": "overlay",
             "size": 10,
             "solidity": 0.2
            },
            "type": "scatter"
           }
          ],
          "scatter3d": [
           {
            "line": {
             "colorbar": {
              "outlinewidth": 0,
              "ticks": ""
             }
            },
            "marker": {
             "colorbar": {
              "outlinewidth": 0,
              "ticks": ""
             }
            },
            "type": "scatter3d"
           }
          ],
          "scattercarpet": [
           {
            "marker": {
             "colorbar": {
              "outlinewidth": 0,
              "ticks": ""
             }
            },
            "type": "scattercarpet"
           }
          ],
          "scattergeo": [
           {
            "marker": {
             "colorbar": {
              "outlinewidth": 0,
              "ticks": ""
             }
            },
            "type": "scattergeo"
           }
          ],
          "scattergl": [
           {
            "marker": {
             "colorbar": {
              "outlinewidth": 0,
              "ticks": ""
             }
            },
            "type": "scattergl"
           }
          ],
          "scattermap": [
           {
            "marker": {
             "colorbar": {
              "outlinewidth": 0,
              "ticks": ""
             }
            },
            "type": "scattermap"
           }
          ],
          "scattermapbox": [
           {
            "marker": {
             "colorbar": {
              "outlinewidth": 0,
              "ticks": ""
             }
            },
            "type": "scattermapbox"
           }
          ],
          "scatterpolar": [
           {
            "marker": {
             "colorbar": {
              "outlinewidth": 0,
              "ticks": ""
             }
            },
            "type": "scatterpolar"
           }
          ],
          "scatterpolargl": [
           {
            "marker": {
             "colorbar": {
              "outlinewidth": 0,
              "ticks": ""
             }
            },
            "type": "scatterpolargl"
           }
          ],
          "scatterternary": [
           {
            "marker": {
             "colorbar": {
              "outlinewidth": 0,
              "ticks": ""
             }
            },
            "type": "scatterternary"
           }
          ],
          "surface": [
           {
            "colorbar": {
             "outlinewidth": 0,
             "ticks": ""
            },
            "colorscale": [
             [
              0,
              "#0d0887"
             ],
             [
              0.1111111111111111,
              "#46039f"
             ],
             [
              0.2222222222222222,
              "#7201a8"
             ],
             [
              0.3333333333333333,
              "#9c179e"
             ],
             [
              0.4444444444444444,
              "#bd3786"
             ],
             [
              0.5555555555555556,
              "#d8576b"
             ],
             [
              0.6666666666666666,
              "#ed7953"
             ],
             [
              0.7777777777777778,
              "#fb9f3a"
             ],
             [
              0.8888888888888888,
              "#fdca26"
             ],
             [
              1,
              "#f0f921"
             ]
            ],
            "type": "surface"
           }
          ],
          "table": [
           {
            "cells": {
             "fill": {
              "color": "#EBF0F8"
             },
             "line": {
              "color": "white"
             }
            },
            "header": {
             "fill": {
              "color": "#C8D4E3"
             },
             "line": {
              "color": "white"
             }
            },
            "type": "table"
           }
          ]
         },
         "layout": {
          "annotationdefaults": {
           "arrowcolor": "#2a3f5f",
           "arrowhead": 0,
           "arrowwidth": 1
          },
          "autotypenumbers": "strict",
          "coloraxis": {
           "colorbar": {
            "outlinewidth": 0,
            "ticks": ""
           }
          },
          "colorscale": {
           "diverging": [
            [
             0,
             "#8e0152"
            ],
            [
             0.1,
             "#c51b7d"
            ],
            [
             0.2,
             "#de77ae"
            ],
            [
             0.3,
             "#f1b6da"
            ],
            [
             0.4,
             "#fde0ef"
            ],
            [
             0.5,
             "#f7f7f7"
            ],
            [
             0.6,
             "#e6f5d0"
            ],
            [
             0.7,
             "#b8e186"
            ],
            [
             0.8,
             "#7fbc41"
            ],
            [
             0.9,
             "#4d9221"
            ],
            [
             1,
             "#276419"
            ]
           ],
           "sequential": [
            [
             0,
             "#0d0887"
            ],
            [
             0.1111111111111111,
             "#46039f"
            ],
            [
             0.2222222222222222,
             "#7201a8"
            ],
            [
             0.3333333333333333,
             "#9c179e"
            ],
            [
             0.4444444444444444,
             "#bd3786"
            ],
            [
             0.5555555555555556,
             "#d8576b"
            ],
            [
             0.6666666666666666,
             "#ed7953"
            ],
            [
             0.7777777777777778,
             "#fb9f3a"
            ],
            [
             0.8888888888888888,
             "#fdca26"
            ],
            [
             1,
             "#f0f921"
            ]
           ],
           "sequentialminus": [
            [
             0,
             "#0d0887"
            ],
            [
             0.1111111111111111,
             "#46039f"
            ],
            [
             0.2222222222222222,
             "#7201a8"
            ],
            [
             0.3333333333333333,
             "#9c179e"
            ],
            [
             0.4444444444444444,
             "#bd3786"
            ],
            [
             0.5555555555555556,
             "#d8576b"
            ],
            [
             0.6666666666666666,
             "#ed7953"
            ],
            [
             0.7777777777777778,
             "#fb9f3a"
            ],
            [
             0.8888888888888888,
             "#fdca26"
            ],
            [
             1,
             "#f0f921"
            ]
           ]
          },
          "colorway": [
           "#636efa",
           "#EF553B",
           "#00cc96",
           "#ab63fa",
           "#FFA15A",
           "#19d3f3",
           "#FF6692",
           "#B6E880",
           "#FF97FF",
           "#FECB52"
          ],
          "font": {
           "color": "#2a3f5f"
          },
          "geo": {
           "bgcolor": "white",
           "lakecolor": "white",
           "landcolor": "white",
           "showlakes": true,
           "showland": true,
           "subunitcolor": "#C8D4E3"
          },
          "hoverlabel": {
           "align": "left"
          },
          "hovermode": "closest",
          "mapbox": {
           "style": "light"
          },
          "paper_bgcolor": "white",
          "plot_bgcolor": "white",
          "polar": {
           "angularaxis": {
            "gridcolor": "#EBF0F8",
            "linecolor": "#EBF0F8",
            "ticks": ""
           },
           "bgcolor": "white",
           "radialaxis": {
            "gridcolor": "#EBF0F8",
            "linecolor": "#EBF0F8",
            "ticks": ""
           }
          },
          "scene": {
           "xaxis": {
            "backgroundcolor": "white",
            "gridcolor": "#DFE8F3",
            "gridwidth": 2,
            "linecolor": "#EBF0F8",
            "showbackground": true,
            "ticks": "",
            "zerolinecolor": "#EBF0F8"
           },
           "yaxis": {
            "backgroundcolor": "white",
            "gridcolor": "#DFE8F3",
            "gridwidth": 2,
            "linecolor": "#EBF0F8",
            "showbackground": true,
            "ticks": "",
            "zerolinecolor": "#EBF0F8"
           },
           "zaxis": {
            "backgroundcolor": "white",
            "gridcolor": "#DFE8F3",
            "gridwidth": 2,
            "linecolor": "#EBF0F8",
            "showbackground": true,
            "ticks": "",
            "zerolinecolor": "#EBF0F8"
           }
          },
          "shapedefaults": {
           "line": {
            "color": "#2a3f5f"
           }
          },
          "ternary": {
           "aaxis": {
            "gridcolor": "#DFE8F3",
            "linecolor": "#A2B1C6",
            "ticks": ""
           },
           "baxis": {
            "gridcolor": "#DFE8F3",
            "linecolor": "#A2B1C6",
            "ticks": ""
           },
           "bgcolor": "white",
           "caxis": {
            "gridcolor": "#DFE8F3",
            "linecolor": "#A2B1C6",
            "ticks": ""
           }
          },
          "title": {
           "x": 0.05
          },
          "xaxis": {
           "automargin": true,
           "gridcolor": "#EBF0F8",
           "linecolor": "#EBF0F8",
           "ticks": "",
           "title": {
            "standoff": 15
           },
           "zerolinecolor": "#EBF0F8",
           "zerolinewidth": 2
          },
          "yaxis": {
           "automargin": true,
           "gridcolor": "#EBF0F8",
           "linecolor": "#EBF0F8",
           "ticks": "",
           "title": {
            "standoff": 15
           },
           "zerolinecolor": "#EBF0F8",
           "zerolinewidth": 2
          }
         }
        },
        "title": {
         "text": "高斯过程曲线与选点结果"
        },
        "width": 900,
        "xaxis": {
         "title": {
          "text": "x"
         }
        },
        "yaxis": {
         "title": {
          "text": "f(x)"
         }
        }
       }
      }
     },
     "metadata": {},
     "output_type": "display_data"
    }
   ],
   "source": [
    "import numpy as np\n",
    "import plotly.graph_objects as go\n",
    "from sklearn.gaussian_process import GaussianProcessRegressor\n",
    "from sklearn.gaussian_process.kernels import RBF, ConstantKernel,WhiteKernel\n",
    "\n",
    "seed = 42\n",
    "np.random.seed(seed=seed)\n",
    "# 定义核函数\n",
    "kernel = ConstantKernel(25.0) * RBF(length_scale=4.0) + WhiteKernel(1e-3)\n",
    "gp = GaussianProcessRegressor(kernel=kernel)\n",
    "\n",
    "x_dense = np.linspace(1, 100, 1000).reshape(-1, 1)\n",
    "\n",
    "y_dense = gp.sample_y(x_dense, n_samples=1, random_state=seed).flatten() + 70\n",
    "\n",
    "# 提取整数点对应的y值\n",
    "integer_points = np.random.choice(np.arange(1, 101), size=50, replace=False)\n",
    "indices = [np.abs(x_dense.flatten() - x).argmin() for x in integer_points]\n",
    "y_integers = y_dense[indices]\n",
    "\n",
    "# 计算整数点的协方差矩阵\n",
    "cov_matrix = kernel(integer_points.reshape(-1,1))\n",
    "\n",
    "# 计算相关性矩阵\n",
    "std_dev = np.sqrt(np.diag(cov_matrix))  \n",
    "corr_matrix = cov_matrix / np.outer(std_dev, std_dev)  \n",
    "\n",
    "np.savetxt('Sigma1.txt', cov_matrix, \n",
    "           fmt='%.6f',\n",
    "           header=f'高斯过程协方差矩阵(1-50整数点)\\n核函数: {kernel}')\n",
    "\n",
    "np.savetxt('correlation_matrix.txt', corr_matrix,\n",
    "           fmt='%.6f',\n",
    "           header=f'高斯过程相关性矩阵(1-50整数点)\\n核函数: {kernel}')\n",
    "\n",
    "np.savetxt('mu.txt', \n",
    "           y_integers,\n",
    "           fmt='%.6f',\n",
    "           header='真实均值')\n",
    "\n",
    "fig = go.Figure()\n",
    "\n",
    "fig.add_trace(go.Scatter(\n",
    "    x=x_dense.flatten(), \n",
    "    y=y_dense,\n",
    "    mode='lines',\n",
    "    name='GP曲线',\n",
    "    line=dict(color='royalblue', width=2)\n",
    "))\n",
    "\n",
    "#colors = ['#1f77b4', '#ff7f0e', '#2ca02c', '#d62728', '#9467bd']  # 5种不同颜色\n",
    "colors = ['#2ca02c',]\n",
    "\n",
    "fig.add_trace(go.Scatter(\n",
    "    x=integer_points,\n",
    "    y=y_integers,\n",
    "    mode='markers',\n",
    "    name='被选点',\n",
    "    marker=dict(\n",
    "        color=colors[0],\n",
    "        size=8,\n",
    "        line=dict(width=1, color='DarkSlateGrey')\n",
    ")))\n",
    "\n",
    "fig.update_layout(\n",
    "    title='高斯过程曲线与选点结果',\n",
    "    xaxis_title='x',\n",
    "    yaxis_title='f(x)',\n",
    "    template='plotly_white',\n",
    "    height=600,\n",
    "    width=900,\n",
    "    legend=dict(\n",
    "        title='标志',\n",
    "        x=1.05,\n",
    "        y=1,\n",
    "        xanchor='left',\n",
    "        yanchor='top',\n",
    "        bgcolor='rgba(255,255,255,0.8)'\n",
    "    ),\n",
    "    margin=dict(r=150) \n",
    ")\n",
    "\n",
    "fig.show()"
   ]
  },
  {
   "cell_type": "code",
   "execution_count": 2,
   "id": "0a7bc98a",
   "metadata": {},
   "outputs": [
    {
     "name": "stdout",
     "output_type": "stream",
     "text": [
      "最小特征值: 0.0010000000538959947\n",
      "负特征值数量: 0\n"
     ]
    }
   ],
   "source": [
    "eigvals = np.linalg.eigvals(cov_matrix)\n",
    "print(\"最小特征值:\", np.min(eigvals))\n",
    "print(\"负特征值数量:\", np.sum(eigvals < 0))"
   ]
  },
  {
   "cell_type": "code",
   "execution_count": 3,
   "id": "db80fb0f",
   "metadata": {},
   "outputs": [
    {
     "data": {
      "application/vnd.plotly.v1+json": {
       "config": {
        "plotlyServerURL": "https://plot.ly"
       },
       "data": [
        {
         "line": {
          "color": "royalblue",
          "width": 2
         },
         "mode": "lines",
         "name": "GP曲线",
         "type": "scatter",
         "x": {
          "bdata": "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",
          "dtype": "f8"
         },
         "y": {
          "bdata": "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",
          "dtype": "f8"
         }
        },
        {
         "marker": {
          "color": "#2ca02c",
          "line": {
           "color": "DarkSlateGrey",
           "width": 1
          },
          "size": 8
         },
         "mode": "markers",
         "name": "被选点",
         "type": "scatter",
         "x": {
          "bdata": "DigfLhIxGxohFA0FJgkEByovMBAKERkjIAEtHCIGHgwlAhYDLCQYKQsXEzIVCCsPHSc=",
          "dtype": "i1"
         },
         "y": {
          "bdata": "iNL8mUdlUEDF8sQMi9dQQBI6CmB7cFBA572MCfLFUUAY6B5eEoNTQPWPpHI1fVJAQIkXkMx1UEANUAsW99BQQCX0kU/sQVFA8fUAGVi7UkCy2MzShFVQQHrPRwf+alBAUPDhPYgUUUDi2TuFDmFQQE/EUj/hjlBA+P1fRhxIUEAQiG28205QQJJmTr6zhFJAsOlc9HDDUkCow88TpIZSQCyqxrrYUFBAHQc17WQ5U0CHUesV2EZRQPtymXtwCFFA8Yy3Oif+UEClF0zaVpRQQKDwTAI9D1FAmdJFR8xNUEBgzZJMr0lRQGxuUKubSlBA45+dwVs5UED1bLcxCGRQQIkILKoktVBAfRzM6eGiUEDO6VsoujtSQK/xnVRljlBAabBye7WrUECrwPCPH6pQQBB/CfcewVFA4bRR8K+CUEBkmf3NiVxQQKsEIQ/1HVJAIjo6z246U0BCsLbdnghSQM9p1hGuclJAp8FRXVpVUEB9/NXxEmJQQBLAf4JqYVFAvpvtDghSUEDnCLtP+RNRQA==",
          "dtype": "f8"
         }
        }
       ],
       "layout": {
        "height": 600,
        "legend": {
         "bgcolor": "rgba(255,255,255,0.8)",
         "title": {
          "text": "标志"
         },
         "x": 1.05,
         "xanchor": "left",
         "y": 1,
         "yanchor": "top"
        },
        "margin": {
         "r": 150
        },
        "template": {
         "data": {
          "bar": [
           {
            "error_x": {
             "color": "#2a3f5f"
            },
            "error_y": {
             "color": "#2a3f5f"
            },
            "marker": {
             "line": {
              "color": "white",
              "width": 0.5
             },
             "pattern": {
              "fillmode": "overlay",
              "size": 10,
              "solidity": 0.2
             }
            },
            "type": "bar"
           }
          ],
          "barpolar": [
           {
            "marker": {
             "line": {
              "color": "white",
              "width": 0.5
             },
             "pattern": {
              "fillmode": "overlay",
              "size": 10,
              "solidity": 0.2
             }
            },
            "type": "barpolar"
           }
          ],
          "carpet": [
           {
            "aaxis": {
             "endlinecolor": "#2a3f5f",
             "gridcolor": "#C8D4E3",
             "linecolor": "#C8D4E3",
             "minorgridcolor": "#C8D4E3",
             "startlinecolor": "#2a3f5f"
            },
            "baxis": {
             "endlinecolor": "#2a3f5f",
             "gridcolor": "#C8D4E3",
             "linecolor": "#C8D4E3",
             "minorgridcolor": "#C8D4E3",
             "startlinecolor": "#2a3f5f"
            },
            "type": "carpet"
           }
          ],
          "choropleth": [
           {
            "colorbar": {
             "outlinewidth": 0,
             "ticks": ""
            },
            "type": "choropleth"
           }
          ],
          "contour": [
           {
            "colorbar": {
             "outlinewidth": 0,
             "ticks": ""
            },
            "colorscale": [
             [
              0,
              "#0d0887"
             ],
             [
              0.1111111111111111,
              "#46039f"
             ],
             [
              0.2222222222222222,
              "#7201a8"
             ],
             [
              0.3333333333333333,
              "#9c179e"
             ],
             [
              0.4444444444444444,
              "#bd3786"
             ],
             [
              0.5555555555555556,
              "#d8576b"
             ],
             [
              0.6666666666666666,
              "#ed7953"
             ],
             [
              0.7777777777777778,
              "#fb9f3a"
             ],
             [
              0.8888888888888888,
              "#fdca26"
             ],
             [
              1,
              "#f0f921"
             ]
            ],
            "type": "contour"
           }
          ],
          "contourcarpet": [
           {
            "colorbar": {
             "outlinewidth": 0,
             "ticks": ""
            },
            "type": "contourcarpet"
           }
          ],
          "heatmap": [
           {
            "colorbar": {
             "outlinewidth": 0,
             "ticks": ""
            },
            "colorscale": [
             [
              0,
              "#0d0887"
             ],
             [
              0.1111111111111111,
              "#46039f"
             ],
             [
              0.2222222222222222,
              "#7201a8"
             ],
             [
              0.3333333333333333,
              "#9c179e"
             ],
             [
              0.4444444444444444,
              "#bd3786"
             ],
             [
              0.5555555555555556,
              "#d8576b"
             ],
             [
              0.6666666666666666,
              "#ed7953"
             ],
             [
              0.7777777777777778,
              "#fb9f3a"
             ],
             [
              0.8888888888888888,
              "#fdca26"
             ],
             [
              1,
              "#f0f921"
             ]
            ],
            "type": "heatmap"
           }
          ],
          "histogram": [
           {
            "marker": {
             "pattern": {
              "fillmode": "overlay",
              "size": 10,
              "solidity": 0.2
             }
            },
            "type": "histogram"
           }
          ],
          "histogram2d": [
           {
            "colorbar": {
             "outlinewidth": 0,
             "ticks": ""
            },
            "colorscale": [
             [
              0,
              "#0d0887"
             ],
             [
              0.1111111111111111,
              "#46039f"
             ],
             [
              0.2222222222222222,
              "#7201a8"
             ],
             [
              0.3333333333333333,
              "#9c179e"
             ],
             [
              0.4444444444444444,
              "#bd3786"
             ],
             [
              0.5555555555555556,
              "#d8576b"
             ],
             [
              0.6666666666666666,
              "#ed7953"
             ],
             [
              0.7777777777777778,
              "#fb9f3a"
             ],
             [
              0.8888888888888888,
              "#fdca26"
             ],
             [
              1,
              "#f0f921"
             ]
            ],
            "type": "histogram2d"
           }
          ],
          "histogram2dcontour": [
           {
            "colorbar": {
             "outlinewidth": 0,
             "ticks": ""
            },
            "colorscale": [
             [
              0,
              "#0d0887"
             ],
             [
              0.1111111111111111,
              "#46039f"
             ],
             [
              0.2222222222222222,
              "#7201a8"
             ],
             [
              0.3333333333333333,
              "#9c179e"
             ],
             [
              0.4444444444444444,
              "#bd3786"
             ],
             [
              0.5555555555555556,
              "#d8576b"
             ],
             [
              0.6666666666666666,
              "#ed7953"
             ],
             [
              0.7777777777777778,
              "#fb9f3a"
             ],
             [
              0.8888888888888888,
              "#fdca26"
             ],
             [
              1,
              "#f0f921"
             ]
            ],
            "type": "histogram2dcontour"
           }
          ],
          "mesh3d": [
           {
            "colorbar": {
             "outlinewidth": 0,
             "ticks": ""
            },
            "type": "mesh3d"
           }
          ],
          "parcoords": [
           {
            "line": {
             "colorbar": {
              "outlinewidth": 0,
              "ticks": ""
             }
            },
            "type": "parcoords"
           }
          ],
          "pie": [
           {
            "automargin": true,
            "type": "pie"
           }
          ],
          "scatter": [
           {
            "fillpattern": {
             "fillmode": "overlay",
             "size": 10,
             "solidity": 0.2
            },
            "type": "scatter"
           }
          ],
          "scatter3d": [
           {
            "line": {
             "colorbar": {
              "outlinewidth": 0,
              "ticks": ""
             }
            },
            "marker": {
             "colorbar": {
              "outlinewidth": 0,
              "ticks": ""
             }
            },
            "type": "scatter3d"
           }
          ],
          "scattercarpet": [
           {
            "marker": {
             "colorbar": {
              "outlinewidth": 0,
              "ticks": ""
             }
            },
            "type": "scattercarpet"
           }
          ],
          "scattergeo": [
           {
            "marker": {
             "colorbar": {
              "outlinewidth": 0,
              "ticks": ""
             }
            },
            "type": "scattergeo"
           }
          ],
          "scattergl": [
           {
            "marker": {
             "colorbar": {
              "outlinewidth": 0,
              "ticks": ""
             }
            },
            "type": "scattergl"
           }
          ],
          "scattermap": [
           {
            "marker": {
             "colorbar": {
              "outlinewidth": 0,
              "ticks": ""
             }
            },
            "type": "scattermap"
           }
          ],
          "scattermapbox": [
           {
            "marker": {
             "colorbar": {
              "outlinewidth": 0,
              "ticks": ""
             }
            },
            "type": "scattermapbox"
           }
          ],
          "scatterpolar": [
           {
            "marker": {
             "colorbar": {
              "outlinewidth": 0,
              "ticks": ""
             }
            },
            "type": "scatterpolar"
           }
          ],
          "scatterpolargl": [
           {
            "marker": {
             "colorbar": {
              "outlinewidth": 0,
              "ticks": ""
             }
            },
            "type": "scatterpolargl"
           }
          ],
          "scatterternary": [
           {
            "marker": {
             "colorbar": {
              "outlinewidth": 0,
              "ticks": ""
             }
            },
            "type": "scatterternary"
           }
          ],
          "surface": [
           {
            "colorbar": {
             "outlinewidth": 0,
             "ticks": ""
            },
            "colorscale": [
             [
              0,
              "#0d0887"
             ],
             [
              0.1111111111111111,
              "#46039f"
             ],
             [
              0.2222222222222222,
              "#7201a8"
             ],
             [
              0.3333333333333333,
              "#9c179e"
             ],
             [
              0.4444444444444444,
              "#bd3786"
             ],
             [
              0.5555555555555556,
              "#d8576b"
             ],
             [
              0.6666666666666666,
              "#ed7953"
             ],
             [
              0.7777777777777778,
              "#fb9f3a"
             ],
             [
              0.8888888888888888,
              "#fdca26"
             ],
             [
              1,
              "#f0f921"
             ]
            ],
            "type": "surface"
           }
          ],
          "table": [
           {
            "cells": {
             "fill": {
              "color": "#EBF0F8"
             },
             "line": {
              "color": "white"
             }
            },
            "header": {
             "fill": {
              "color": "#C8D4E3"
             },
             "line": {
              "color": "white"
             }
            },
            "type": "table"
           }
          ]
         },
         "layout": {
          "annotationdefaults": {
           "arrowcolor": "#2a3f5f",
           "arrowhead": 0,
           "arrowwidth": 1
          },
          "autotypenumbers": "strict",
          "coloraxis": {
           "colorbar": {
            "outlinewidth": 0,
            "ticks": ""
           }
          },
          "colorscale": {
           "diverging": [
            [
             0,
             "#8e0152"
            ],
            [
             0.1,
             "#c51b7d"
            ],
            [
             0.2,
             "#de77ae"
            ],
            [
             0.3,
             "#f1b6da"
            ],
            [
             0.4,
             "#fde0ef"
            ],
            [
             0.5,
             "#f7f7f7"
            ],
            [
             0.6,
             "#e6f5d0"
            ],
            [
             0.7,
             "#b8e186"
            ],
            [
             0.8,
             "#7fbc41"
            ],
            [
             0.9,
             "#4d9221"
            ],
            [
             1,
             "#276419"
            ]
           ],
           "sequential": [
            [
             0,
             "#0d0887"
            ],
            [
             0.1111111111111111,
             "#46039f"
            ],
            [
             0.2222222222222222,
             "#7201a8"
            ],
            [
             0.3333333333333333,
             "#9c179e"
            ],
            [
             0.4444444444444444,
             "#bd3786"
            ],
            [
             0.5555555555555556,
             "#d8576b"
            ],
            [
             0.6666666666666666,
             "#ed7953"
            ],
            [
             0.7777777777777778,
             "#fb9f3a"
            ],
            [
             0.8888888888888888,
             "#fdca26"
            ],
            [
             1,
             "#f0f921"
            ]
           ],
           "sequentialminus": [
            [
             0,
             "#0d0887"
            ],
            [
             0.1111111111111111,
             "#46039f"
            ],
            [
             0.2222222222222222,
             "#7201a8"
            ],
            [
             0.3333333333333333,
             "#9c179e"
            ],
            [
             0.4444444444444444,
             "#bd3786"
            ],
            [
             0.5555555555555556,
             "#d8576b"
            ],
            [
             0.6666666666666666,
             "#ed7953"
            ],
            [
             0.7777777777777778,
             "#fb9f3a"
            ],
            [
             0.8888888888888888,
             "#fdca26"
            ],
            [
             1,
             "#f0f921"
            ]
           ]
          },
          "colorway": [
           "#636efa",
           "#EF553B",
           "#00cc96",
           "#ab63fa",
           "#FFA15A",
           "#19d3f3",
           "#FF6692",
           "#B6E880",
           "#FF97FF",
           "#FECB52"
          ],
          "font": {
           "color": "#2a3f5f"
          },
          "geo": {
           "bgcolor": "white",
           "lakecolor": "white",
           "landcolor": "white",
           "showlakes": true,
           "showland": true,
           "subunitcolor": "#C8D4E3"
          },
          "hoverlabel": {
           "align": "left"
          },
          "hovermode": "closest",
          "mapbox": {
           "style": "light"
          },
          "paper_bgcolor": "white",
          "plot_bgcolor": "white",
          "polar": {
           "angularaxis": {
            "gridcolor": "#EBF0F8",
            "linecolor": "#EBF0F8",
            "ticks": ""
           },
           "bgcolor": "white",
           "radialaxis": {
            "gridcolor": "#EBF0F8",
            "linecolor": "#EBF0F8",
            "ticks": ""
           }
          },
          "scene": {
           "xaxis": {
            "backgroundcolor": "white",
            "gridcolor": "#DFE8F3",
            "gridwidth": 2,
            "linecolor": "#EBF0F8",
            "showbackground": true,
            "ticks": "",
            "zerolinecolor": "#EBF0F8"
           },
           "yaxis": {
            "backgroundcolor": "white",
            "gridcolor": "#DFE8F3",
            "gridwidth": 2,
            "linecolor": "#EBF0F8",
            "showbackground": true,
            "ticks": "",
            "zerolinecolor": "#EBF0F8"
           },
           "zaxis": {
            "backgroundcolor": "white",
            "gridcolor": "#DFE8F3",
            "gridwidth": 2,
            "linecolor": "#EBF0F8",
            "showbackground": true,
            "ticks": "",
            "zerolinecolor": "#EBF0F8"
           }
          },
          "shapedefaults": {
           "line": {
            "color": "#2a3f5f"
           }
          },
          "ternary": {
           "aaxis": {
            "gridcolor": "#DFE8F3",
            "linecolor": "#A2B1C6",
            "ticks": ""
           },
           "baxis": {
            "gridcolor": "#DFE8F3",
            "linecolor": "#A2B1C6",
            "ticks": ""
           },
           "bgcolor": "white",
           "caxis": {
            "gridcolor": "#DFE8F3",
            "linecolor": "#A2B1C6",
            "ticks": ""
           }
          },
          "title": {
           "x": 0.05
          },
          "xaxis": {
           "automargin": true,
           "gridcolor": "#EBF0F8",
           "linecolor": "#EBF0F8",
           "ticks": "",
           "title": {
            "standoff": 15
           },
           "zerolinecolor": "#EBF0F8",
           "zerolinewidth": 2
          },
          "yaxis": {
           "automargin": true,
           "gridcolor": "#EBF0F8",
           "linecolor": "#EBF0F8",
           "ticks": "",
           "title": {
            "standoff": 15
           },
           "zerolinecolor": "#EBF0F8",
           "zerolinewidth": 2
          }
         }
        },
        "title": {
         "text": "高斯过程曲线与选点结果"
        },
        "width": 900,
        "xaxis": {
         "title": {
          "text": "x"
         }
        },
        "yaxis": {
         "title": {
          "text": "f(x)"
         }
        }
       }
      }
     },
     "metadata": {},
     "output_type": "display_data"
    }
   ],
   "source": [
    "import numpy as np\n",
    "import plotly.graph_objects as go\n",
    "from sklearn.gaussian_process import GaussianProcessRegressor\n",
    "from sklearn.gaussian_process.kernels import RBF, ConstantKernel,WhiteKernel,Matern\n",
    "from util.methods import assign_variances\n",
    "from scipy.linalg import cholesky\n",
    "import matplotlib.pyplot as plt\n",
    "\n",
    "np.random.seed(seed=seed)\n",
    "# 定义核函数\n",
    "kernel = ConstantKernel(25.0) * Matern(length_scale=4, nu=2.5) + WhiteKernel(1e-3)\n",
    "gp = GaussianProcessRegressor(kernel=kernel)\n",
    "\n",
    "x_dense = np.linspace(1, 51, 1000).reshape(-1, 1)\n",
    "\n",
    "y_dense = gp.sample_y(x_dense, n_samples=1, random_state=seed).flatten() + 70\n",
    "\n",
    "# 提取整数点对应的y值\n",
    "integer_points = np.random.choice(np.arange(1, 51), size=50, replace=False)\n",
    "indices = [np.abs(x_dense.flatten() - x).argmin() for x in integer_points]\n",
    "y_integers = y_dense[indices]\n",
    "\n",
    "# 计算整数点的协方差矩阵\n",
    "cov_matrix = kernel(integer_points.reshape(-1,1))\n",
    "\n",
    "# 计算相关性矩阵\n",
    "std_dev = np.sqrt(np.diag(cov_matrix))  \n",
    "corr_matrix = cov_matrix / np.outer(std_dev, std_dev)  \n",
    "\n",
    "fig = go.Figure()\n",
    "\n",
    "fig.add_trace(go.Scatter(\n",
    "    x=x_dense.flatten(), \n",
    "    y=y_dense,\n",
    "    mode='lines',\n",
    "    name='GP曲线',\n",
    "    line=dict(color='royalblue', width=2)\n",
    "))\n",
    "\n",
    "#colors = ['#1f77b4', '#ff7f0e', '#2ca02c', '#d62728', '#9467bd']  # 5种不同颜色\n",
    "colors = ['#2ca02c',]\n",
    "\n",
    "fig.add_trace(go.Scatter(\n",
    "    x=integer_points,\n",
    "    y=y_integers,\n",
    "    mode='markers',\n",
    "    name='被选点',\n",
    "    marker=dict(\n",
    "        color=colors[0],\n",
    "        size=8,\n",
    "        line=dict(width=1, color='DarkSlateGrey')\n",
    ")))\n",
    "\n",
    "fig.update_layout(\n",
    "    title='高斯过程曲线与选点结果',\n",
    "    xaxis_title='x',\n",
    "    yaxis_title='f(x)',\n",
    "    template='plotly_white',\n",
    "    height=600,\n",
    "    width=900,\n",
    "    legend=dict(\n",
    "        title='标志',\n",
    "        x=1.05,\n",
    "        y=1,\n",
    "        xanchor='left',\n",
    "        yanchor='top',\n",
    "        bgcolor='rgba(255,255,255,0.8)'\n",
    "    ),\n",
    "    margin=dict(r=150) \n",
    ")\n",
    "\n",
    "fig.show()\n"
   ]
  },
  {
   "cell_type": "code",
   "execution_count": 4,
   "id": "e2de6c8d",
   "metadata": {},
   "outputs": [
    {
     "name": "stdout",
     "output_type": "stream",
     "text": [
      "验证结果:\n",
      "对角线均值: 1.000000 (目标: 1.0)\n",
      "最小特征值: 0.000597 (应>0)\n"
     ]
    },
    {
     "data": {
      "image/png": "[encoded data removed]",
      "text/plain": [
       "<Figure size 1000x800 with 2 Axes>"
      ]
     },
     "metadata": {},
     "output_type": "display_data"
    }
   ],
   "source": [
    "# 验证矩阵性质\n",
    "print(\"验证结果:\")\n",
    "print(f\"对角线均值: {np.mean(np.diag(corr_matrix)):.6f} (目标: 1.0)\")\n",
    "print(f\"最小特征值: {np.min(np.linalg.eigvals(corr_matrix)):.6f} (应>0)\")\n",
    "\n",
    "# 可视化矩阵\n",
    "plt.figure(figsize=(10,8))\n",
    "plt.imshow(corr_matrix, cmap='coolwarm', vmin=-1, vmax=1)\n",
    "plt.colorbar()\n",
    "plt.title(\"random_corr_mat\")\n",
    "plt.show()"
   ]
  },
  {
   "cell_type": "code",
   "execution_count": 5,
   "id": "b06744ea",
   "metadata": {},
   "outputs": [
    {
     "name": "stdout",
     "output_type": "stream",
     "text": [
      "验证结果:\n",
      "方差范围: 27.45-140.42 (目标: 25-144)\n",
      "最小特征值: 0.029427 (应>0)\n"
     ]
    },
    {
     "data": {
      "image/png": "[encoded data removed]",
      "text/plain": [
       "<Figure size 1200x1000 with 2 Axes>"
      ]
     },
     "metadata": {},
     "output_type": "display_data"
    }
   ],
   "source": [
    "# 随机分配噪声\n",
    "np.random.seed(seed)  \n",
    "variances = np.random.uniform(low=25, high=144, size=50)\n",
    "std_devs = np.sqrt(variances)  \n",
    "\n",
    "D = np.diag(std_devs)\n",
    "\n",
    "cov_matrix = D @ corr_matrix @ D\n",
    "\n",
    "print(\"验证结果:\")\n",
    "print(f\"方差范围: {np.min(np.diag(cov_matrix)):.2f}-{np.max(np.diag(cov_matrix)):.2f} (目标: 25-144)\")\n",
    "print(f\"最小特征值: {np.min(np.linalg.eigvals(cov_matrix)):.6f} (应>0)\")\n",
    "\n",
    "np.savetxt('group_cov.txt', \n",
    "           cov_matrix,\n",
    "           fmt='%.6f',\n",
    "           header='协方差矩阵（对角线方差=25-144）\\n基于分组相关性矩阵生成')\n",
    "\n",
    "import matplotlib.pyplot as plt\n",
    "plt.figure(figsize=(12,10))\n",
    "plt.imshow(cov_matrix, cmap='viridis')\n",
    "cbar = plt.colorbar()\n",
    "cbar.set_label('cov')\n",
    "\n",
    "for g in range(1,5):\n",
    "    plt.axhline(y=g*10-0.5, color='white', linestyle='--', alpha=0.7)\n",
    "    plt.axvline(x=g*10-0.5, color='white', linestyle='--', alpha=0.7)\n",
    "\n",
    "plt.title('random_cov_mat')\n",
    "plt.xlabel('index (1-50)')\n",
    "plt.ylabel('index (1-50)')\n",
    "plt.show()\n"
   ]
  },
  {
   "cell_type": "code",
   "execution_count": 6,
   "id": "97c67c7c",
   "metadata": {},
   "outputs": [
    {
     "data": {
      "text/plain": [
       "array([ 69.57027414, 138.13500246, 112.10727908,  96.24035962,\n",
       "        43.56621821,  43.56334792,  31.91194985, 128.07496135,\n",
       "        96.5326864 , 109.26063676,  27.44955482, 140.41927241,\n",
       "       124.06067426,  50.26835417,  46.6371711 ,  46.82513667,\n",
       "        61.20482691,  87.44601536,  76.40145722,  59.65626768,\n",
       "        97.81049447,  41.59976942,  59.76521318,  68.59705935,\n",
       "        79.27232812, 118.43593941,  48.76118008,  86.19389817,\n",
       "        95.49733369,  30.52759911,  97.29783738,  45.29237072,\n",
       "        32.74113957, 137.91737893, 139.91021194, 121.19928443,\n",
       "        61.24903853,  36.62298157, 106.42373015,  77.37814676,\n",
       "        39.52254995,  83.9260523 ,  29.09223401, 133.20912785,\n",
       "        55.79481781, 103.84015184,  62.09361805,  86.88809452,\n",
       "        90.05852324,  46.99768021])"
      ]
     },
     "execution_count": 6,
     "metadata": {},
     "output_type": "execute_result"
    }
   ],
   "source": [
    "variances"
   ]
  }
 ],
 "metadata": {
  "kernelspec": {
   "display_name": "base",
   "language": "python",
   "name": "python3"
  },
  "language_info": {
   "codemirror_mode": {
    "name": "ipython",
    "version": 3
   },
   "file_extension": ".py",
   "mimetype": "text/x-python",
   "name": "python",
   "nbconvert_exporter": "python",
   "pygments_lexer": "ipython3",
   "version": "3.13.5"
  }
 },
 "nbformat": 4,
 "nbformat_minor": 5
}
