{
 "cells": [
  {
   "cell_type": "code",
   "execution_count": 1,
   "id": "d7d126ec",
   "metadata": {},
   "outputs": [
    {
     "data": {
      "application/vnd.plotly.v1+json": {
       "config": {
        "plotlyServerURL": "https://plot.ly"
       },
       "data": [
        {
         "line": {
          "color": "royalblue",
          "width": 2
         },
         "mode": "lines",
         "name": "GP曲线",
         "type": "scatter",
         "x": {
          "bdata": "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",
          "dtype": "f8"
         },
         "y": {
          "bdata": "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",
          "dtype": "f8"
         }
        },
        {
         "marker": {
          "color": "#2ca02c",
          "line": {
           "color": "DarkSlateGrey",
           "width": 1
          },
          "size": 8
         },
         "mode": "markers",
         "name": "被选点",
         "type": "scatter",
         "x": {
          "bdata": "VB85GREYAxwdDmRdTQ8BFgQePlAkDFUtSgYaTks/QgITMSVPB1pcCw02WDdgIRQbPTg=",
          "dtype": "i1"
         },
         "y": {
          "bdata": "IWD+u2TwUEAJkS8WwpBSQJLWSiiOIlFAJkvKn/8sUEBQVCI3NOtOQHOfpRpq+U9AKRfH0yVVUUAniymJWT1RQDchiyGAtFFAFHR3MdgBTEAKZ89myoBNQHe0ymCFrU9AIGIbJnIFUUD7CfbdSdVMQDVw4ZoxN1FAG005QNIAUEAz8ilexk1RQGvK+dnQH1JA/C/qOS54UUAz2T4l7EtQQJKP3Uz+U1RAvqtqkw7CS0C8nLAbumRRQG1ULQUKp1FA97u+Fh6EUUD5P5vnautQQFiL2gLZfFBAqc10vXS4UECfsowTNGxRQD2kC6UamFFAwOeBIOc3UUAU7O2CaE5RQFD3kFH8K1BA0RXVYPUwUUDud1qz5kFUQHEaVYwBeVBA5TCfVRxyUEAqB+BufXxRQFl/rET/V1BAE8S0U7lOTEDlc7MvlqdLQJJu/snoMVFAZRZ/Syo0UkCDpXzroDVRQPePqhdfJk1AgPrryyOFU0BBqmSdgzVQQKruEnO42FBApYzM7r1AUUDtMSMRrjNRQA==",
          "dtype": "f8"
         }
        }
       ],
       "layout": {
        "height": 600,
        "legend": {
         "bgcolor": "rgba(255,255,255,0.8)",
         "title": {
          "text": "标志"
         },
         "x": 1.05,
         "xanchor": "left",
         "y": 1,
         "yanchor": "top"
        },
        "margin": {
         "r": 150
        },
        "template": {
         "data": {
          "bar": [
           {
            "error_x": {
             "color": "#2a3f5f"
            },
            "error_y": {
             "color": "#2a3f5f"
            },
            "marker": {
             "line": {
              "color": "white",
              "width": 0.5
             },
             "pattern": {
              "fillmode": "overlay",
              "size": 10,
              "solidity": 0.2
             }
            },
            "type": "bar"
           }
          ],
          "barpolar": [
           {
            "marker": {
             "line": {
              "color": "white",
              "width": 0.5
             },
             "pattern": {
              "fillmode": "overlay",
              "size": 10,
              "solidity": 0.2
             }
            },
            "type": "barpolar"
           }
          ],
          "carpet": [
           {
            "aaxis": {
             "endlinecolor": "#2a3f5f",
             "gridcolor": "#C8D4E3",
             "linecolor": "#C8D4E3",
             "minorgridcolor": "#C8D4E3",
             "startlinecolor": "#2a3f5f"
            },
            "baxis": {
             "endlinecolor": "#2a3f5f",
             "gridcolor": "#C8D4E3",
             "linecolor": "#C8D4E3",
             "minorgridcolor": "#C8D4E3",
             "startlinecolor": "#2a3f5f"
            },
            "type": "carpet"
           }
          ],
          "choropleth": [
           {
            "colorbar": {
             "outlinewidth": 0,
             "ticks": ""
            },
            "type": "choropleth"
           }
          ],
          "contour": [
           {
            "colorbar": {
             "outlinewidth": 0,
             "ticks": ""
            },
            "colorscale": [
             [
              0,
              "#0d0887"
             ],
             [
              0.1111111111111111,
              "#46039f"
             ],
             [
              0.2222222222222222,
              "#7201a8"
             ],
             [
              0.3333333333333333,
              "#9c179e"
             ],
             [
              0.4444444444444444,
              "#bd3786"
             ],
             [
              0.5555555555555556,
              "#d8576b"
             ],
             [
              0.6666666666666666,
              "#ed7953"
             ],
             [
              0.7777777777777778,
              "#fb9f3a"
             ],
             [
              0.8888888888888888,
              "#fdca26"
             ],
             [
              1,
              "#f0f921"
             ]
            ],
            "type": "contour"
           }
          ],
          "contourcarpet": [
           {
            "colorbar": {
             "outlinewidth": 0,
             "ticks": ""
            },
            "type": "contourcarpet"
           }
          ],
          "heatmap": [
           {
            "colorbar": {
             "outlinewidth": 0,
             "ticks": ""
            },
            "colorscale": [
             [
              0,
              "#0d0887"
             ],
             [
              0.1111111111111111,
              "#46039f"
             ],
             [
              0.2222222222222222,
              "#7201a8"
             ],
             [
              0.3333333333333333,
              "#9c179e"
             ],
             [
              0.4444444444444444,
              "#bd3786"
             ],
             [
              0.5555555555555556,
              "#d8576b"
             ],
             [
              0.6666666666666666,
              "#ed7953"
             ],
             [
              0.7777777777777778,
              "#fb9f3a"
             ],
             [
              0.8888888888888888,
              "#fdca26"
             ],
             [
              1,
              "#f0f921"
             ]
            ],
            "type": "heatmap"
           }
          ],
          "histogram": [
           {
            "marker": {
             "pattern": {
              "fillmode": "overlay",
              "size": 10,
              "solidity": 0.2
             }
            },
            "type": "histogram"
           }
          ],
          "histogram2d": [
           {
            "colorbar": {
             "outlinewidth": 0,
             "ticks": ""
            },
            "colorscale": [
             [
              0,
              "#0d0887"
             ],
             [
              0.1111111111111111,
              "#46039f"
             ],
             [
              0.2222222222222222,
              "#7201a8"
             ],
             [
              0.3333333333333333,
              "#9c179e"
             ],
             [
              0.4444444444444444,
              "#bd3786"
             ],
             [
              0.5555555555555556,
              "#d8576b"
             ],
             [
              0.6666666666666666,
              "#ed7953"
             ],
             [
              0.7777777777777778,
              "#fb9f3a"
             ],
             [
              0.8888888888888888,
              "#fdca26"
             ],
             [
              1,
              "#f0f921"
             ]
            ],
            "type": "histogram2d"
           }
          ],
          "histogram2dcontour": [
           {
            "colorbar": {
             "outlinewidth": 0,
             "ticks": ""
            },
            "colorscale": [
             [
              0,
              "#0d0887"
             ],
             [
              0.1111111111111111,
              "#46039f"
             ],
             [
              0.2222222222222222,
              "#7201a8"
             ],
             [
              0.3333333333333333,
              "#9c179e"
             ],
             [
              0.4444444444444444,
              "#bd3786"
             ],
             [
              0.5555555555555556,
              "#d8576b"
             ],
             [
              0.6666666666666666,
              "#ed7953"
             ],
             [
              0.7777777777777778,
              "#fb9f3a"
             ],
             [
              0.8888888888888888,
              "#fdca26"
             ],
             [
              1,
              "#f0f921"
             ]
            ],
            "type": "histogram2dcontour"
           }
          ],
          "mesh3d": [
           {
            "colorbar": {
             "outlinewidth": 0,
             "ticks": ""
            },
            "type": "mesh3d"
           }
          ],
          "parcoords": [
           {
            "line": {
             "colorbar": {
              "outlinewidth": 0,
              "ticks": ""
             }
            },
            "type": "parcoords"
           }
          ],
          "pie": [
           {
            "automargin": true,
            "type": "pie"
           }
          ],
          "scatter": [
           {
            "fillpattern": {
             "fillmode": "overlay",
             "size": 10,
             "solidity": 0.2
            },
            "type": "scatter"
           }
          ],
          "scatter3d": [
           {
            "line": {
             "colorbar": {
              "outlinewidth": 0,
              "ticks": ""
             }
            },
            "marker": {
             "colorbar": {
              "outlinewidth": 0,
              "ticks": ""
             }
            },
            "type": "scatter3d"
           }
          ],
          "scattercarpet": [
           {
            "marker": {
             "colorbar": {
              "outlinewidth": 0,
              "ticks": ""
             }
            },
            "type": "scattercarpet"
           }
          ],
          "scattergeo": [
           {
            "marker": {
             "colorbar": {
              "outlinewidth": 0,
              "ticks": ""
             }
            },
            "type": "scattergeo"
           }
          ],
          "scattergl": [
           {
            "marker": {
             "colorbar": {
              "outlinewidth": 0,
              "ticks": ""
             }
            },
            "type": "scattergl"
           }
          ],
          "scattermap": [
           {
            "marker": {
             "colorbar": {
              "outlinewidth": 0,
              "ticks": ""
             }
            },
            "type": "scattermap"
           }
          ],
          "scattermapbox": [
           {
            "marker": {
             "colorbar": {
              "outlinewidth": 0,
              "ticks": ""
             }
            },
            "type": "scattermapbox"
           }
          ],
          "scatterpolar": [
           {
            "marker": {
             "colorbar": {
              "outlinewidth": 0,
              "ticks": ""
             }
            },
            "type": "scatterpolar"
           }
          ],
          "scatterpolargl": [
           {
            "marker": {
             "colorbar": {
              "outlinewidth": 0,
              "ticks": ""
             }
            },
            "type": "scatterpolargl"
           }
          ],
          "scatterternary": [
           {
            "marker": {
             "colorbar": {
              "outlinewidth": 0,
              "ticks": ""
             }
            },
            "type": "scatterternary"
           }
          ],
          "surface": [
           {
            "colorbar": {
             "outlinewidth": 0,
             "ticks": ""
            },
            "colorscale": [
             [
              0,
              "#0d0887"
             ],
             [
              0.1111111111111111,
              "#46039f"
             ],
             [
              0.2222222222222222,
              "#7201a8"
             ],
             [
              0.3333333333333333,
              "#9c179e"
             ],
             [
              0.4444444444444444,
              "#bd3786"
             ],
             [
              0.5555555555555556,
              "#d8576b"
             ],
             [
              0.6666666666666666,
              "#ed7953"
             ],
             [
              0.7777777777777778,
              "#fb9f3a"
             ],
             [
              0.8888888888888888,
              "#fdca26"
             ],
             [
              1,
              "#f0f921"
             ]
            ],
            "type": "surface"
           }
          ],
          "table": [
           {
            "cells": {
             "fill": {
              "color": "#EBF0F8"
             },
             "line": {
              "color": "white"
             }
            },
            "header": {
             "fill": {
              "color": "#C8D4E3"
             },
             "line": {
              "color": "white"
             }
            },
            "type": "table"
           }
          ]
         },
         "layout": {
          "annotationdefaults": {
           "arrowcolor": "#2a3f5f",
           "arrowhead": 0,
           "arrowwidth": 1
          },
          "autotypenumbers": "strict",
          "coloraxis": {
           "colorbar": {
            "outlinewidth": 0,
            "ticks": ""
           }
          },
          "colorscale": {
           "diverging": [
            [
             0,
             "#8e0152"
            ],
            [
             0.1,
             "#c51b7d"
            ],
            [
             0.2,
             "#de77ae"
            ],
            [
             0.3,
             "#f1b6da"
            ],
            [
             0.4,
             "#fde0ef"
            ],
            [
             0.5,
             "#f7f7f7"
            ],
            [
             0.6,
             "#e6f5d0"
            ],
            [
             0.7,
             "#b8e186"
            ],
            [
             0.8,
             "#7fbc41"
            ],
            [
             0.9,
             "#4d9221"
            ],
            [
             1,
             "#276419"
            ]
           ],
           "sequential": [
            [
             0,
             "#0d0887"
            ],
            [
             0.1111111111111111,
             "#46039f"
            ],
            [
             0.2222222222222222,
             "#7201a8"
            ],
            [
             0.3333333333333333,
             "#9c179e"
            ],
            [
             0.4444444444444444,
             "#bd3786"
            ],
            [
             0.5555555555555556,
             "#d8576b"
            ],
            [
             0.6666666666666666,
             "#ed7953"
            ],
            [
             0.7777777777777778,
             "#fb9f3a"
            ],
            [
             0.8888888888888888,
             "#fdca26"
            ],
            [
             1,
             "#f0f921"
            ]
           ],
           "sequentialminus": [
            [
             0,
             "#0d0887"
            ],
            [
             0.1111111111111111,
             "#46039f"
            ],
            [
             0.2222222222222222,
             "#7201a8"
            ],
            [
             0.3333333333333333,
             "#9c179e"
            ],
            [
             0.4444444444444444,
             "#bd3786"
            ],
            [
             0.5555555555555556,
             "#d8576b"
            ],
            [
             0.6666666666666666,
             "#ed7953"
            ],
            [
             0.7777777777777778,
             "#fb9f3a"
            ],
            [
             0.8888888888888888,
             "#fdca26"
            ],
            [
             1,
             "#f0f921"
            ]
           ]
          },
          "colorway": [
           "#636efa",
           "#EF553B",
           "#00cc96",
           "#ab63fa",
           "#FFA15A",
           "#19d3f3",
           "#FF6692",
           "#B6E880",
           "#FF97FF",
           "#FECB52"
          ],
          "font": {
           "color": "#2a3f5f"
          },
          "geo": {
           "bgcolor": "white",
           "lakecolor": "white",
           "landcolor": "white",
           "showlakes": true,
           "showland": true,
           "subunitcolor": "#C8D4E3"
          },
          "hoverlabel": {
           "align": "left"
          },
          "hovermode": "closest",
          "mapbox": {
           "style": "light"
          },
          "paper_bgcolor": "white",
          "plot_bgcolor": "white",
          "polar": {
           "angularaxis": {
            "gridcolor": "#EBF0F8",
            "linecolor": "#EBF0F8",
            "ticks": ""
           },
           "bgcolor": "white",
           "radialaxis": {
            "gridcolor": "#EBF0F8",
            "linecolor": "#EBF0F8",
            "ticks": ""
           }
          },
          "scene": {
           "xaxis": {
            "backgroundcolor": "white",
            "gridcolor": "#DFE8F3",
            "gridwidth": 2,
            "linecolor": "#EBF0F8",
            "showbackground": true,
            "ticks": "",
            "zerolinecolor": "#EBF0F8"
           },
           "yaxis": {
            "backgroundcolor": "white",
            "gridcolor": "#DFE8F3",
            "gridwidth": 2,
            "linecolor": "#EBF0F8",
            "showbackground": true,
            "ticks": "",
            "zerolinecolor": "#EBF0F8"
           },
           "zaxis": {
            "backgroundcolor": "white",
            "gridcolor": "#DFE8F3",
            "gridwidth": 2,
            "linecolor": "#EBF0F8",
            "showbackground": true,
            "ticks": "",
            "zerolinecolor": "#EBF0F8"
           }
          },
          "shapedefaults": {
           "line": {
            "color": "#2a3f5f"
           }
          },
          "ternary": {
           "aaxis": {
            "gridcolor": "#DFE8F3",
            "linecolor": "#A2B1C6",
            "ticks": ""
           },
           "baxis": {
            "gridcolor": "#DFE8F3",
            "linecolor": "#A2B1C6",
            "ticks": ""
           },
           "bgcolor": "white",
           "caxis": {
            "gridcolor": "#DFE8F3",
            "linecolor": "#A2B1C6",
            "ticks": ""
           }
          },
          "title": {
           "x": 0.05
          },
          "xaxis": {
           "automargin": true,
           "gridcolor": "#EBF0F8",
           "linecolor": "#EBF0F8",
           "ticks": "",
           "title": {
            "standoff": 15
           },
           "zerolinecolor": "#EBF0F8",
           "zerolinewidth": 2
          },
          "yaxis": {
           "automargin": true,
           "gridcolor": "#EBF0F8",
           "linecolor": "#EBF0F8",
           "ticks": "",
           "title": {
            "standoff": 15
           },
           "zerolinecolor": "#EBF0F8",
           "zerolinewidth": 2
          }
         }
        },
        "title": {
         "text": "高斯过程曲线与选点结果"
        },
        "width": 900,
        "xaxis": {
         "title": {
          "text": "x"
         }
        },
        "yaxis": {
         "title": {
          "text": "f(x)"
         }
        }
       }
      }
     },
     "metadata": {},
     "output_type": "display_data"
    }
   ],
   "source": [
    "import numpy as np\n",
    "import plotly.graph_objects as go\n",
    "from sklearn.gaussian_process import GaussianProcessRegressor\n",
    "from sklearn.gaussian_process.kernels import RBF, ConstantKernel,WhiteKernel\n",
    "from util.methods import assign_variances\n",
    "seed = 2\n",
    "np.random.seed(seed=seed)\n",
    "# 定义核函数\n",
    "kernel = ConstantKernel(25.0) * RBF(length_scale=4.0) + WhiteKernel(1e-3)\n",
    "gp = GaussianProcessRegressor(kernel=kernel)\n",
    "\n",
    "x_dense = np.linspace(1, 100, 1000).reshape(-1, 1)\n",
    "\n",
    "y_dense = gp.sample_y(x_dense, n_samples=1, random_state=seed).flatten() + 70\n",
    "\n",
    "# 提取整数点对应的y值\n",
    "integer_points = np.random.choice(np.arange(1, 101), size=50, replace=False)\n",
    "indices = [np.abs(x_dense.flatten() - x).argmin() for x in integer_points]\n",
    "y_integers = y_dense[indices]\n",
    "\n",
    "# 计算整数点的协方差矩阵\n",
    "cov_matrix = kernel(integer_points.reshape(-1,1))\n",
    "\n",
    "# 计算相关性矩阵\n",
    "std_dev = np.sqrt(np.diag(cov_matrix))  \n",
    "corr_matrix = cov_matrix / np.outer(std_dev, std_dev)  \n",
    "\n",
    "np.savetxt('Sigma1.txt', cov_matrix, \n",
    "           fmt='%.6f',\n",
    "           header=f'高斯过程协方差矩阵(1-50整数点)\\n核函数: {kernel}')\n",
    "\n",
    "np.savetxt('correlation_matrix.txt', corr_matrix,\n",
    "           fmt='%.6f',\n",
    "           header=f'高斯过程相关性矩阵(1-50整数点)\\n核函数: {kernel}')\n",
    "\n",
    "np.savetxt('mu.txt', \n",
    "           y_integers,\n",
    "           fmt='%.6f',\n",
    "           header='真实均值')\n",
    "\n",
    "fig = go.Figure()\n",
    "\n",
    "fig.add_trace(go.Scatter(\n",
    "    x=x_dense.flatten(), \n",
    "    y=y_dense,\n",
    "    mode='lines',\n",
    "    name='GP曲线',\n",
    "    line=dict(color='royalblue', width=2)\n",
    "))\n",
    "\n",
    "#colors = ['#1f77b4', '#ff7f0e', '#2ca02c', '#d62728', '#9467bd']  # 5种不同颜色\n",
    "colors = ['#2ca02c',]\n",
    "\n",
    "fig.add_trace(go.Scatter(\n",
    "    x=integer_points,\n",
    "    y=y_integers,\n",
    "    mode='markers',\n",
    "    name='被选点',\n",
    "    marker=dict(\n",
    "        color=colors[0],\n",
    "        size=8,\n",
    "        line=dict(width=1, color='DarkSlateGrey')\n",
    ")))\n",
    "\n",
    "fig.update_layout(\n",
    "    title='高斯过程曲线与选点结果',\n",
    "    xaxis_title='x',\n",
    "    yaxis_title='f(x)',\n",
    "    template='plotly_white',\n",
    "    height=600,\n",
    "    width=900,\n",
    "    legend=dict(\n",
    "        title='标志',\n",
    "        x=1.05,\n",
    "        y=1,\n",
    "        xanchor='left',\n",
    "        yanchor='top',\n",
    "        bgcolor='rgba(255,255,255,0.8)'\n",
    "    ),\n",
    "    margin=dict(r=150) \n",
    ")\n",
    "\n",
    "fig.show()"
   ]
  },
  {
   "cell_type": "code",
   "execution_count": 2,
   "id": "0a7bc98a",
   "metadata": {},
   "outputs": [
    {
     "name": "stdout",
     "output_type": "stream",
     "text": [
      "最小特征值: 0.0010000000005565184\n",
      "负特征值数量: 0\n"
     ]
    }
   ],
   "source": [
    "eigvals = np.linalg.eigvals(cov_matrix)\n",
    "print(\"最小特征值:\", np.min(eigvals))\n",
    "print(\"负特征值数量:\", np.sum(eigvals < 0))"
   ]
  },
  {
   "cell_type": "code",
   "execution_count": 3,
   "id": "db80fb0f",
   "metadata": {},
   "outputs": [
    {
     "data": {
      "application/vnd.plotly.v1+json": {
       "config": {
        "plotlyServerURL": "https://plot.ly"
       },
       "data": [
        {
         "line": {
          "color": "royalblue",
          "width": 2
         },
         "mode": "lines",
         "name": "GP曲线",
         "type": "scatter",
         "x": {
          "bdata": "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",
          "dtype": "f8"
         },
         "y": {
          "bdata": "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",
          "dtype": "f8"
         }
        },
        {
         "marker": {
          "color": "#2ca02c",
          "line": {
           "color": "DarkSlateGrey",
           "width": 1
          },
          "size": 8
         },
         "mode": "markers",
         "name": "被选点",
         "type": "scatter",
         "x": {
          "bdata": "LBEbHxUyIDEkKg0eGC4IHSYaIhAXJxwhARMtDigHDykKBAIFJQwLFjASIxkJAy8GFCs=",
          "dtype": "i1"
         },
         "y": {
          "bdata": "WoeXnC+yUkCqllOENeZPQIdY8lB7UFFAHVknUxnUUkB+80dQlQtRQC/wqxGxK1NA7NTFW+VhU0Cl4QU7KWlTQJO/EHLFilJA+/cL8fKWUkB2XHWtxotPQBST2PFj+1FARMH9b1FpUUBb4CZuqNdSQJ9sfoU3x1BAXR+9ib5pUUCjoO3DMnFSQBVdDpzLoVBAmdAvhFceU0BRBncLtCdQQKvg+/00BlFAuhoX5knIUUDa47vNujxRQO8sLL9zMVNAz+n/2a2nUUCPMo/B8VpQQGNtf7RIg1JAmGsiLotlUEBtEqxs3fpRQFIjVDH0X1BAUqh7w5Q9UEC60eS4QXZSQMohq8Ii8E9ABq6z6t1aUEDQja2Bp5xRQNpdZjwTiU9AW6dnG1x4UkA70CKV0QpPQE2N9TfmdE9ABk6WcuDAUEBTq2C+gLpTQDlEAgdIx09AlonSm628UkAWYBrPbhpRQLpOEt7GmFBAklEuvQkuUUCfrQ3dsYhTQLscsQDNck9Aa/ZkSj0bUUB7RXGveu1SQA==",
          "dtype": "f8"
         }
        }
       ],
       "layout": {
        "height": 600,
        "legend": {
         "bgcolor": "rgba(255,255,255,0.8)",
         "title": {
          "text": "标志"
         },
         "x": 1.05,
         "xanchor": "left",
         "y": 1,
         "yanchor": "top"
        },
        "margin": {
         "r": 150
        },
        "template": {
         "data": {
          "bar": [
           {
            "error_x": {
             "color": "#2a3f5f"
            },
            "error_y": {
             "color": "#2a3f5f"
            },
            "marker": {
             "line": {
              "color": "white",
              "width": 0.5
             },
             "pattern": {
              "fillmode": "overlay",
              "size": 10,
              "solidity": 0.2
             }
            },
            "type": "bar"
           }
          ],
          "barpolar": [
           {
            "marker": {
             "line": {
              "color": "white",
              "width": 0.5
             },
             "pattern": {
              "fillmode": "overlay",
              "size": 10,
              "solidity": 0.2
             }
            },
            "type": "barpolar"
           }
          ],
          "carpet": [
           {
            "aaxis": {
             "endlinecolor": "#2a3f5f",
             "gridcolor": "#C8D4E3",
             "linecolor": "#C8D4E3",
             "minorgridcolor": "#C8D4E3",
             "startlinecolor": "#2a3f5f"
            },
            "baxis": {
             "endlinecolor": "#2a3f5f",
             "gridcolor": "#C8D4E3",
             "linecolor": "#C8D4E3",
             "minorgridcolor": "#C8D4E3",
             "startlinecolor": "#2a3f5f"
            },
            "type": "carpet"
           }
          ],
          "choropleth": [
           {
            "colorbar": {
             "outlinewidth": 0,
             "ticks": ""
            },
            "type": "choropleth"
           }
          ],
          "contour": [
           {
            "colorbar": {
             "outlinewidth": 0,
             "ticks": ""
            },
            "colorscale": [
             [
              0,
              "#0d0887"
             ],
             [
              0.1111111111111111,
              "#46039f"
             ],
             [
              0.2222222222222222,
              "#7201a8"
             ],
             [
              0.3333333333333333,
              "#9c179e"
             ],
             [
              0.4444444444444444,
              "#bd3786"
             ],
             [
              0.5555555555555556,
              "#d8576b"
             ],
             [
              0.6666666666666666,
              "#ed7953"
             ],
             [
              0.7777777777777778,
              "#fb9f3a"
             ],
             [
              0.8888888888888888,
              "#fdca26"
             ],
             [
              1,
              "#f0f921"
             ]
            ],
            "type": "contour"
           }
          ],
          "contourcarpet": [
           {
            "colorbar": {
             "outlinewidth": 0,
             "ticks": ""
            },
            "type": "contourcarpet"
           }
          ],
          "heatmap": [
           {
            "colorbar": {
             "outlinewidth": 0,
             "ticks": ""
            },
            "colorscale": [
             [
              0,
              "#0d0887"
             ],
             [
              0.1111111111111111,
              "#46039f"
             ],
             [
              0.2222222222222222,
              "#7201a8"
             ],
             [
              0.3333333333333333,
              "#9c179e"
             ],
             [
              0.4444444444444444,
              "#bd3786"
             ],
             [
              0.5555555555555556,
              "#d8576b"
             ],
             [
              0.6666666666666666,
              "#ed7953"
             ],
             [
              0.7777777777777778,
              "#fb9f3a"
             ],
             [
              0.8888888888888888,
              "#fdca26"
             ],
             [
              1,
              "#f0f921"
             ]
            ],
            "type": "heatmap"
           }
          ],
          "histogram": [
           {
            "marker": {
             "pattern": {
              "fillmode": "overlay",
              "size": 10,
              "solidity": 0.2
             }
            },
            "type": "histogram"
           }
          ],
          "histogram2d": [
           {
            "colorbar": {
             "outlinewidth": 0,
             "ticks": ""
            },
            "colorscale": [
             [
              0,
              "#0d0887"
             ],
             [
              0.1111111111111111,
              "#46039f"
             ],
             [
              0.2222222222222222,
              "#7201a8"
             ],
             [
              0.3333333333333333,
              "#9c179e"
             ],
             [
              0.4444444444444444,
              "#bd3786"
             ],
             [
              0.5555555555555556,
              "#d8576b"
             ],
             [
              0.6666666666666666,
              "#ed7953"
             ],
             [
              0.7777777777777778,
              "#fb9f3a"
             ],
             [
              0.8888888888888888,
              "#fdca26"
             ],
             [
              1,
              "#f0f921"
             ]
            ],
            "type": "histogram2d"
           }
          ],
          "histogram2dcontour": [
           {
            "colorbar": {
             "outlinewidth": 0,
             "ticks": ""
            },
            "colorscale": [
             [
              0,
              "#0d0887"
             ],
             [
              0.1111111111111111,
              "#46039f"
             ],
             [
              0.2222222222222222,
              "#7201a8"
             ],
             [
              0.3333333333333333,
              "#9c179e"
             ],
             [
              0.4444444444444444,
              "#bd3786"
             ],
             [
              0.5555555555555556,
              "#d8576b"
             ],
             [
              0.6666666666666666,
              "#ed7953"
             ],
             [
              0.7777777777777778,
              "#fb9f3a"
             ],
             [
              0.8888888888888888,
              "#fdca26"
             ],
             [
              1,
              "#f0f921"
             ]
            ],
            "type": "histogram2dcontour"
           }
          ],
          "mesh3d": [
           {
            "colorbar": {
             "outlinewidth": 0,
             "ticks": ""
            },
            "type": "mesh3d"
           }
          ],
          "parcoords": [
           {
            "line": {
             "colorbar": {
              "outlinewidth": 0,
              "ticks": ""
             }
            },
            "type": "parcoords"
           }
          ],
          "pie": [
           {
            "automargin": true,
            "type": "pie"
           }
          ],
          "scatter": [
           {
            "fillpattern": {
             "fillmode": "overlay",
             "size": 10,
             "solidity": 0.2
            },
            "type": "scatter"
           }
          ],
          "scatter3d": [
           {
            "line": {
             "colorbar": {
              "outlinewidth": 0,
              "ticks": ""
             }
            },
            "marker": {
             "colorbar": {
              "outlinewidth": 0,
              "ticks": ""
             }
            },
            "type": "scatter3d"
           }
          ],
          "scattercarpet": [
           {
            "marker": {
             "colorbar": {
              "outlinewidth": 0,
              "ticks": ""
             }
            },
            "type": "scattercarpet"
           }
          ],
          "scattergeo": [
           {
            "marker": {
             "colorbar": {
              "outlinewidth": 0,
              "ticks": ""
             }
            },
            "type": "scattergeo"
           }
          ],
          "scattergl": [
           {
            "marker": {
             "colorbar": {
              "outlinewidth": 0,
              "ticks": ""
             }
            },
            "type": "scattergl"
           }
          ],
          "scattermap": [
           {
            "marker": {
             "colorbar": {
              "outlinewidth": 0,
              "ticks": ""
             }
            },
            "type": "scattermap"
           }
          ],
          "scattermapbox": [
           {
            "marker": {
             "colorbar": {
              "outlinewidth": 0,
              "ticks": ""
             }
            },
            "type": "scattermapbox"
           }
          ],
          "scatterpolar": [
           {
            "marker": {
             "colorbar": {
              "outlinewidth": 0,
              "ticks": ""
             }
            },
            "type": "scatterpolar"
           }
          ],
          "scatterpolargl": [
           {
            "marker": {
             "colorbar": {
              "outlinewidth": 0,
              "ticks": ""
             }
            },
            "type": "scatterpolargl"
           }
          ],
          "scatterternary": [
           {
            "marker": {
             "colorbar": {
              "outlinewidth": 0,
              "ticks": ""
             }
            },
            "type": "scatterternary"
           }
          ],
          "surface": [
           {
            "colorbar": {
             "outlinewidth": 0,
             "ticks": ""
            },
            "colorscale": [
             [
              0,
              "#0d0887"
             ],
             [
              0.1111111111111111,
              "#46039f"
             ],
             [
              0.2222222222222222,
              "#7201a8"
             ],
             [
              0.3333333333333333,
              "#9c179e"
             ],
             [
              0.4444444444444444,
              "#bd3786"
             ],
             [
              0.5555555555555556,
              "#d8576b"
             ],
             [
              0.6666666666666666,
              "#ed7953"
             ],
             [
              0.7777777777777778,
              "#fb9f3a"
             ],
             [
              0.8888888888888888,
              "#fdca26"
             ],
             [
              1,
              "#f0f921"
             ]
            ],
            "type": "surface"
           }
          ],
          "table": [
           {
            "cells": {
             "fill": {
              "color": "#EBF0F8"
             },
             "line": {
              "color": "white"
             }
            },
            "header": {
             "fill": {
              "color": "#C8D4E3"
             },
             "line": {
              "color": "white"
             }
            },
            "type": "table"
           }
          ]
         },
         "layout": {
          "annotationdefaults": {
           "arrowcolor": "#2a3f5f",
           "arrowhead": 0,
           "arrowwidth": 1
          },
          "autotypenumbers": "strict",
          "coloraxis": {
           "colorbar": {
            "outlinewidth": 0,
            "ticks": ""
           }
          },
          "colorscale": {
           "diverging": [
            [
             0,
             "#8e0152"
            ],
            [
             0.1,
             "#c51b7d"
            ],
            [
             0.2,
             "#de77ae"
            ],
            [
             0.3,
             "#f1b6da"
            ],
            [
             0.4,
             "#fde0ef"
            ],
            [
             0.5,
             "#f7f7f7"
            ],
            [
             0.6,
             "#e6f5d0"
            ],
            [
             0.7,
             "#b8e186"
            ],
            [
             0.8,
             "#7fbc41"
            ],
            [
             0.9,
             "#4d9221"
            ],
            [
             1,
             "#276419"
            ]
           ],
           "sequential": [
            [
             0,
             "#0d0887"
            ],
            [
             0.1111111111111111,
             "#46039f"
            ],
            [
             0.2222222222222222,
             "#7201a8"
            ],
            [
             0.3333333333333333,
             "#9c179e"
            ],
            [
             0.4444444444444444,
             "#bd3786"
            ],
            [
             0.5555555555555556,
             "#d8576b"
            ],
            [
             0.6666666666666666,
             "#ed7953"
            ],
            [
             0.7777777777777778,
             "#fb9f3a"
            ],
            [
             0.8888888888888888,
             "#fdca26"
            ],
            [
             1,
             "#f0f921"
            ]
           ],
           "sequentialminus": [
            [
             0,
             "#0d0887"
            ],
            [
             0.1111111111111111,
             "#46039f"
            ],
            [
             0.2222222222222222,
             "#7201a8"
            ],
            [
             0.3333333333333333,
             "#9c179e"
            ],
            [
             0.4444444444444444,
             "#bd3786"
            ],
            [
             0.5555555555555556,
             "#d8576b"
            ],
            [
             0.6666666666666666,
             "#ed7953"
            ],
            [
             0.7777777777777778,
             "#fb9f3a"
            ],
            [
             0.8888888888888888,
             "#fdca26"
            ],
            [
             1,
             "#f0f921"
            ]
           ]
          },
          "colorway": [
           "#636efa",
           "#EF553B",
           "#00cc96",
           "#ab63fa",
           "#FFA15A",
           "#19d3f3",
           "#FF6692",
           "#B6E880",
           "#FF97FF",
           "#FECB52"
          ],
          "font": {
           "color": "#2a3f5f"
          },
          "geo": {
           "bgcolor": "white",
           "lakecolor": "white",
           "landcolor": "white",
           "showlakes": true,
           "showland": true,
           "subunitcolor": "#C8D4E3"
          },
          "hoverlabel": {
           "align": "left"
          },
          "hovermode": "closest",
          "mapbox": {
           "style": "light"
          },
          "paper_bgcolor": "white",
          "plot_bgcolor": "white",
          "polar": {
           "angularaxis": {
            "gridcolor": "#EBF0F8",
            "linecolor": "#EBF0F8",
            "ticks": ""
           },
           "bgcolor": "white",
           "radialaxis": {
            "gridcolor": "#EBF0F8",
            "linecolor": "#EBF0F8",
            "ticks": ""
           }
          },
          "scene": {
           "xaxis": {
            "backgroundcolor": "white",
            "gridcolor": "#DFE8F3",
            "gridwidth": 2,
            "linecolor": "#EBF0F8",
            "showbackground": true,
            "ticks": "",
            "zerolinecolor": "#EBF0F8"
           },
           "yaxis": {
            "backgroundcolor": "white",
            "gridcolor": "#DFE8F3",
            "gridwidth": 2,
            "linecolor": "#EBF0F8",
            "showbackground": true,
            "ticks": "",
            "zerolinecolor": "#EBF0F8"
           },
           "zaxis": {
            "backgroundcolor": "white",
            "gridcolor": "#DFE8F3",
            "gridwidth": 2,
            "linecolor": "#EBF0F8",
            "showbackground": true,
            "ticks": "",
            "zerolinecolor": "#EBF0F8"
           }
          },
          "shapedefaults": {
           "line": {
            "color": "#2a3f5f"
           }
          },
          "ternary": {
           "aaxis": {
            "gridcolor": "#DFE8F3",
            "linecolor": "#A2B1C6",
            "ticks": ""
           },
           "baxis": {
            "gridcolor": "#DFE8F3",
            "linecolor": "#A2B1C6",
            "ticks": ""
           },
           "bgcolor": "white",
           "caxis": {
            "gridcolor": "#DFE8F3",
            "linecolor": "#A2B1C6",
            "ticks": ""
           }
          },
          "title": {
           "x": 0.05
          },
          "xaxis": {
           "automargin": true,
           "gridcolor": "#EBF0F8",
           "linecolor": "#EBF0F8",
           "ticks": "",
           "title": {
            "standoff": 15
           },
           "zerolinecolor": "#EBF0F8",
           "zerolinewidth": 2
          },
          "yaxis": {
           "automargin": true,
           "gridcolor": "#EBF0F8",
           "linecolor": "#EBF0F8",
           "ticks": "",
           "title": {
            "standoff": 15
           },
           "zerolinecolor": "#EBF0F8",
           "zerolinewidth": 2
          }
         }
        },
        "title": {
         "text": "高斯过程曲线与选点结果"
        },
        "width": 900,
        "xaxis": {
         "title": {
          "text": "x"
         }
        },
        "yaxis": {
         "title": {
          "text": "f(x)"
         }
        }
       }
      }
     },
     "metadata": {},
     "output_type": "display_data"
    }
   ],
   "source": [
    "import numpy as np\n",
    "import plotly.graph_objects as go\n",
    "from sklearn.gaussian_process import GaussianProcessRegressor\n",
    "from sklearn.gaussian_process.kernels import RBF, ConstantKernel,WhiteKernel,Matern\n",
    "from util.methods import assign_variances\n",
    "from scipy.linalg import cholesky\n",
    "import matplotlib.pyplot as plt\n",
    "\n",
    "seed = 18\n",
    "np.random.seed(seed=seed)\n",
    "# 定义核函数\n",
    "kernel = ConstantKernel(25.0) * Matern(length_scale=4, nu=1.5) + WhiteKernel(1e-3)\n",
    "gp = GaussianProcessRegressor(kernel=kernel)\n",
    "\n",
    "x_dense = np.linspace(1, 51, 1000).reshape(-1, 1)\n",
    "\n",
    "y_dense = gp.sample_y(x_dense, n_samples=1, random_state=seed).flatten() + 70\n",
    "\n",
    "# 提取整数点对应的y值\n",
    "integer_points = np.random.choice(np.arange(1, 51), size=50, replace=False)\n",
    "indices = [np.abs(x_dense.flatten() - x).argmin() for x in integer_points]\n",
    "y_integers = y_dense[indices]\n",
    "\n",
    "# 计算整数点的协方差矩阵\n",
    "cov_matrix = kernel(integer_points.reshape(-1,1))\n",
    "\n",
    "# 计算相关性矩阵\n",
    "std_dev = np.sqrt(np.diag(cov_matrix))  \n",
    "corr_matrix = cov_matrix / np.outer(std_dev, std_dev)  \n",
    "\n",
    "fig = go.Figure()\n",
    "\n",
    "fig.add_trace(go.Scatter(\n",
    "    x=x_dense.flatten(), \n",
    "    y=y_dense,\n",
    "    mode='lines',\n",
    "    name='GP曲线',\n",
    "    line=dict(color='royalblue', width=2)\n",
    "))\n",
    "\n",
    "#colors = ['#1f77b4', '#ff7f0e', '#2ca02c', '#d62728', '#9467bd']  # 5种不同颜色\n",
    "colors = ['#2ca02c',]\n",
    "\n",
    "fig.add_trace(go.Scatter(\n",
    "    x=integer_points,\n",
    "    y=y_integers,\n",
    "    mode='markers',\n",
    "    name='被选点',\n",
    "    marker=dict(\n",
    "        color=colors[0],\n",
    "        size=8,\n",
    "        line=dict(width=1, color='DarkSlateGrey')\n",
    ")))\n",
    "\n",
    "fig.update_layout(\n",
    "    title='高斯过程曲线与选点结果',\n",
    "    xaxis_title='x',\n",
    "    yaxis_title='f(x)',\n",
    "    template='plotly_white',\n",
    "    height=600,\n",
    "    width=900,\n",
    "    legend=dict(\n",
    "        title='标志',\n",
    "        x=1.05,\n",
    "        y=1,\n",
    "        xanchor='left',\n",
    "        yanchor='top',\n",
    "        bgcolor='rgba(255,255,255,0.8)'\n",
    "    ),\n",
    "    margin=dict(r=150) \n",
    ")\n",
    "\n",
    "fig.show()\n"
   ]
  },
  {
   "cell_type": "code",
   "execution_count": 7,
   "id": "e2de6c8d",
   "metadata": {},
   "outputs": [
    {
     "name": "stdout",
     "output_type": "stream",
     "text": [
      "验证结果:\n",
      "对角线均值: 1.000000 (目标: 1.0)\n",
      "最小特征值: 0.006584 (应>0)\n"
     ]
    },
    {
     "data": {
      "image/png": "[encoded data removed]",
      "text/plain": [
       "<Figure size 1000x800 with 2 Axes>"
      ]
     },
     "metadata": {},
     "output_type": "display_data"
    }
   ],
   "source": [
    "# 验证矩阵性质\n",
    "print(\"验证结果:\")\n",
    "print(f\"对角线均值: {np.mean(np.diag(corr_matrix)):.6f} (目标: 1.0)\")\n",
    "print(f\"最小特征值: {np.min(np.linalg.eigvals(corr_matrix)):.6f} (应>0)\")\n",
    "\n",
    "# 可视化矩阵\n",
    "plt.figure(figsize=(10,8))\n",
    "plt.imshow(corr_matrix, cmap='coolwarm', vmin=-1, vmax=1)\n",
    "plt.colorbar()\n",
    "plt.title(\"random_corr_mat\")\n",
    "plt.show()"
   ]
  },
  {
   "cell_type": "code",
   "execution_count": 8,
   "id": "b06744ea",
   "metadata": {},
   "outputs": [
    {
     "name": "stdout",
     "output_type": "stream",
     "text": [
      "验证结果:\n",
      "方差范围: 28.09-139.78 (目标: 25-144)\n",
      "最小特征值: 0.311939 (应>0)\n"
     ]
    },
    {
     "data": {
      "image/png": "[encoded data removed]",
      "text/plain": [
       "<Figure size 1200x1000 with 2 Axes>"
      ]
     },
     "metadata": {},
     "output_type": "display_data"
    }
   ],
   "source": [
    "# 随机分配噪声\n",
    "seed = 2\n",
    "np.random.seed(seed)  \n",
    "variances = np.random.uniform(low=25, high=144, size=50)\n",
    "std_devs = np.sqrt(variances)  \n",
    "\n",
    "D = np.diag(std_devs)\n",
    "\n",
    "cov_matrix = D @ corr_matrix @ D\n",
    "\n",
    "print(\"验证结果:\")\n",
    "print(f\"方差范围: {np.min(np.diag(cov_matrix)):.2f}-{np.max(np.diag(cov_matrix)):.2f} (目标: 25-144)\")\n",
    "print(f\"最小特征值: {np.min(np.linalg.eigvals(cov_matrix)):.6f} (应>0)\")\n",
    "\n",
    "np.savetxt('group_cov.txt', \n",
    "           cov_matrix,\n",
    "           fmt='%.6f',\n",
    "           header='协方差矩阵（对角线方差=25-144）\\n基于分组相关性矩阵生成')\n",
    "\n",
    "import matplotlib.pyplot as plt\n",
    "plt.figure(figsize=(12,10))\n",
    "plt.imshow(cov_matrix, cmap='viridis')\n",
    "cbar = plt.colorbar()\n",
    "cbar.set_label('cov')\n",
    "\n",
    "for g in range(1,5):\n",
    "    plt.axhline(y=g*10-0.5, color='white', linestyle='--', alpha=0.7)\n",
    "    plt.axvline(x=g*10-0.5, color='white', linestyle='--', alpha=0.7)\n",
    "\n",
    "plt.title('random_cov_mat')\n",
    "plt.xlabel('index (1-50)')\n",
    "plt.ylabel('index (1-50)')\n",
    "plt.show()\n"
   ]
  },
  {
   "cell_type": "code",
   "execution_count": 6,
   "id": "97c67c7c",
   "metadata": {},
   "outputs": [
    {
     "data": {
      "text/plain": [
       "array([ 76.88339335,  28.08522159,  90.40983487,  76.80336472,\n",
       "        75.02376845,  64.3098437 ,  49.35318745,  98.693245  ,\n",
       "        60.65890617,  56.75244574,  98.9149261 ,  87.96790922,\n",
       "        41.0150135 ,  86.11579643,  46.94834401, 118.45488259,\n",
       "       126.62305982,  83.81418365, 125.74081676,  34.47781176,\n",
       "        85.12428472,  32.76909402,  75.94655698,  36.48717896,\n",
       "        40.13203663,  96.01269177,  51.89542807,  37.72653643,\n",
       "        51.21643864,  66.62932792,  80.66671067,  49.00744393,\n",
       "       101.2084003 ,  82.48531043,  85.12316968,  71.04022548,\n",
       "       119.44285708,  94.02049729,  44.31353322, 108.38952925,\n",
       "       139.78157853,  84.50099498, 130.85288761,  65.65202467,\n",
       "        92.49015119,  75.87796963,  76.9729243 , 117.41054301,\n",
       "        88.73689665, 138.49532501])"
      ]
     },
     "execution_count": 6,
     "metadata": {},
     "output_type": "execute_result"
    }
   ],
   "source": [
    "variances"
   ]
  }
 ],
 "metadata": {
  "kernelspec": {
   "display_name": "base",
   "language": "python",
   "name": "python3"
  },
  "language_info": {
   "codemirror_mode": {
    "name": "ipython",
    "version": 3
   },
   "file_extension": ".py",
   "mimetype": "text/x-python",
   "name": "python",
   "nbconvert_exporter": "python",
   "pygments_lexer": "ipython3",
   "version": "3.13.5"
  }
 },
 "nbformat": 4,
 "nbformat_minor": 5
}
