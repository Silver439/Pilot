{
 "cells": [
  {
   "cell_type": "code",
   "execution_count": null,
   "id": "b092e502",
   "metadata": {},
   "outputs": [],
   "source": [
    "import numpy as np\n",
    "import matplotlib.pyplot as plt\n",
    "import seaborn as sns\n",
    "from util.data_generate import *\n",
    "from util.methods import *\n",
    "\n",
    "# 1. 参数设置\n",
    "p = 100\n",
    "m = 10\n",
    "seed = 6 \n",
    "J = 10000\n",
    "#group_sizes=[10, 10, 10, 10, 10]\n",
    "group_sizes=[15, 10, 20, 10, 15, 10, 10, 10]\n",
    "#group_sizes=[75, 50, 100, 50, 75, 50, 50, 50]\n",
    "# 2. 生成均值（70-90分）\n",
    "mu,std,R,Sigma = data1(p=p, seed=seed, group_sizes=group_sizes)\n",
    "\n",
    "# #4. 生成数据\n",
    "# X = np.random.multivariate_normal(mu, Sigma, size=1000)\n",
    "# X = np.clip(X, 0, 100)\n",
    "\n",
    "# #5. 验证\n",
    "# print(\"科目0均值:\", np.mean(X[:, 0])) \n",
    "# sns.heatmap(np.corrcoef(X[:, 15:25].T), annot=True, cmap=\"coolwarm\")\n",
    "# plt.show()\n"
   ]
  },
  {
   "cell_type": "code",
   "execution_count": 34,
   "id": "61f04ad0",
   "metadata": {},
   "outputs": [],
   "source": [
    "# cluster_labels = cluster_subjects(R, n_clusters=m, method='average')\n",
    "# cluster_indices = find_min_mu_in_clusters(mu, cluster_labels)\n",
    "# sub_Sigma = Sigma[np.ix_(cluster_indices, cluster_indices)]\n",
    "# B = np.linalg.cholesky(sub_Sigma) \n",
    "# cluster_indices"
   ]
  },
  {
   "cell_type": "code",
   "execution_count": 35,
   "id": "2685319e",
   "metadata": {},
   "outputs": [
    {
     "data": {
      "text/plain": [
       "[94, 3, 31, 4, 88, 96, 43, 15, 21, 1]"
      ]
     },
     "execution_count": 35,
     "metadata": {},
     "output_type": "execute_result"
    }
   ],
   "source": [
    "L, LCB_mean_index = LCB(p,m,mu,std,R,Sigma,J=J,num=10,method='mean')\n",
    "LCB_mean_index"
   ]
  },
  {
   "cell_type": "code",
   "execution_count": 36,
   "id": "4f8e361f",
   "metadata": {},
   "outputs": [],
   "source": [
    "# indices_smallest = np.argsort(mu)[:m] #直接取最小值\n",
    "# sub_Sigma = Sigma[np.ix_(indices_smallest, indices_smallest)]\n",
    "# L = np.linalg.cholesky(sub_Sigma) \n",
    "# indices_smallest"
   ]
  },
  {
   "cell_type": "code",
   "execution_count": 37,
   "id": "e15c8835",
   "metadata": {},
   "outputs": [
    {
     "data": {
      "text/plain": [
       "[94, 3, 61, 8, 88, 11, 15, 10, 50, 21]"
      ]
     },
     "execution_count": 37,
     "metadata": {},
     "output_type": "execute_result"
    }
   ],
   "source": [
    "U, LCB_max_index = LCB(p,m,mu,std,R,Sigma,J=J,num=10,method='max')\n",
    "LCB_max_index"
   ]
  },
  {
   "cell_type": "code",
   "execution_count": 38,
   "id": "febb1909",
   "metadata": {},
   "outputs": [],
   "source": [
    "# #cluster优化结果\n",
    "# J = 10000\n",
    "# G_cul = 0\n",
    "# for j in range(J):\n",
    "#     z = np.random.randn(m)\n",
    "#     temp = mu[cluster_indices] + B @ z\n",
    "#     G_cul += np.min(temp)\n",
    "# G1 = G_cul/J\n",
    "# G1"
   ]
  },
  {
   "cell_type": "code",
   "execution_count": 39,
   "id": "95a8c530",
   "metadata": {},
   "outputs": [
    {
     "data": {
      "text/plain": [
       "np.float64(66.74473355234457)"
      ]
     },
     "execution_count": 39,
     "metadata": {},
     "output_type": "execute_result"
    }
   ],
   "source": [
    "#LCB优化结果\n",
    "J = 100000\n",
    "G_cul = 0\n",
    "for j in range(J):\n",
    "    z = np.random.randn(m)\n",
    "    temp = mu[LCB_mean_index] + L @ z\n",
    "    G_cul += np.min(temp)\n",
    "G2 = G_cul/J\n",
    "G2"
   ]
  },
  {
   "cell_type": "code",
   "execution_count": 40,
   "id": "0c5f3dcb",
   "metadata": {},
   "outputs": [
    {
     "data": {
      "text/plain": [
       "np.float64(67.0086771175764)"
      ]
     },
     "execution_count": 40,
     "metadata": {},
     "output_type": "execute_result"
    }
   ],
   "source": [
    "#混合优化结果\n",
    "J = 100000\n",
    "G_cul = 0\n",
    "for j in range(J):\n",
    "    z = np.random.randn(m)\n",
    "    temp = mu[LCB_max_index] + U @ z\n",
    "    G_cul += np.min(temp)\n",
    "G3 = G_cul/J\n",
    "G3"
   ]
  }
 ],
 "metadata": {
  "kernelspec": {
   "display_name": "Python 3",
   "language": "python",
   "name": "python3"
  },
  "language_info": {
   "codemirror_mode": {
    "name": "ipython",
    "version": 3
   },
   "file_extension": ".py",
   "mimetype": "text/x-python",
   "name": "python",
   "nbconvert_exporter": "python",
   "pygments_lexer": "ipython3",
   "version": "3.11.13"
  }
 },
 "nbformat": 4,
 "nbformat_minor": 5
}
