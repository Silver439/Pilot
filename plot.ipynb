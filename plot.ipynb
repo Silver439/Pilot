{
 "cells": [
  {
   "cell_type": "code",
   "execution_count": 4,
   "id": "2258663c",
   "metadata": {},
   "outputs": [
    {
     "data": {
      "application/vnd.plotly.v1+json": {
       "config": {
        "plotlyServerURL": "https://plot.ly"
       },
       "data": [
        {
         "hovertemplate": "Iter: %{x}<br>Cumulative Regret: %{y:.4f}<br>Condition: %{meta[0]}<extra></extra>",
         "legendgroup": "smallest",
         "line": {
          "color": "#636EFA"
         },
         "meta": [
          "smallest"
         ],
         "name": "smallest",
         "showlegend": true,
         "type": "scatter",
         "x": {
          "bdata": "AQACAAMABAAFAAYABwAIAAkACgALAAwADQAOAA8AEAARABIAEwAUABUAFgAXABgAGQAaABsAHAAdAB4AHwAgACEAIgAjACQAJQAmACcAKAApACoAKwAsAC0ALgAvADAAMQAyADMANAA1ADYANwA4ADkAOgA7ADwAPQA+AD8AQABBAEIAQwBEAEUARgBHAEgASQBKAEsATABNAE4ATwBQAFEAUgBTAFQAVQBWAFcAWABZAFoAWwBcAF0AXgBfAGAAYQBiAGMAZABlAGYAZwBoAGkAagBrAGwAbQBuAG8AcABxAHIAcwB0AHUAdgB3AHgAeQB6AHsAfAB9AH4AfwCAAIEAggCDAIQAhQCGAIcAiACJAIoAiwCMAI0AjgCPAJAAkQCSAJMAlACVAJYA",
          "dtype": "i2"
         },
         "xaxis": "x",
         "y": {
          "bdata": "8cftl0+mGEAbZ3hYTQwoQHLNQfTITTFAHexNDMkVNkDk3MsiudE6QElXe2qHrz9A0gYpQUg0QkAViB/kPXhEQGVQt/08sEZASrCCKRTXSEDTBeJiMulKQBYUPSf09ExAxfD+ZeQCT0D6oIuqA4dQQHsDSy2Th1FA10of8eKKUkDo7t9hf41TQDoQSHgxlFRAT6sf0qaVVUA8Nl2qLZRWQEd7TgzbkVdATBT9fSKPWEC25N7pu4tZQGm24WaniFpAxf3s7FCEW0BmtA1bsnpcQMfq1x6+cF1AEgOB8ptjXkA3+9/tnVVfQK3UxusUJGBACF0dW2qdYECQtC5ITRVhQMHvlS9ei2FAyz3cjf0BYkAe+iUZMHliQNo8DoO572JAoeeXCQdmY0B6NQmnjtxjQGOqquEsU2RA/gqZKwPLZEDn6BVz9ENlQD+/lCZKvGVAlZjVqaAzZkCFdRqga6pmQNFLDbWuIWdA6QCbhruYZ0B0Gg7wSQ9oQKgh8t4ZhmhAx8PD/J37aEC+aom5iHJpQDvupTqu6GlAwyvbGbhfakBfAPQOStZqQDI0DI0VTWtAJJOK/ZzDa0DBxB9FnTpsQO3QVV8CsWxAoL3Wgc8nbUDOzZJb7p1tQEWsfbnOE25ASq4HOGmKbkCMM6owGgFvQLl91+hdeG9AmOXYZzvvb0AmIbWtKjNwQHr74VUkbnBAif/zsxCpcEBmYJx3m+RwQNM3Mlj6H3FAgO5w4JpbcUC04CFoSJdxQKIT1ILp0nFAtkSvh5cOckAGO+tAI0pyQEgI6u/ghXJAGUD4UOLBckAoAsJ0p/1yQE6XRhRbOXNAFbKYfUN1c0DBQH6kFrFzQFLz+jif7HNAdI+SRBwodEDNuKmBxmN0QAAeLaphn3RAEuYIqwPbdEAlazGc7xV1QOF+nAwqUXVAvbvyfRWMdUBj2m65Mcd1QPNOYjQvAnZA0vrcUSQ9dkBsniPyHXh2QJFnl289s3ZACMJf3WLudkCGoY3bRyl3QCeWgfBOZHdARSLsk1ufd0DCOSNKe9p3QK08Su55FXhAJB3UNJ5QeEBtdHOWvot4QKqpiWKWxnhAIW4GN7EBeUD/1k6UxDx5QJ0Vv5fQd3lAQgenT9yyeUBumPyqt+15QATvUli3KHpAgXParmtjekC1vxCWVZ56QMewVRQh2XpAP6YSwgcUe0DyFUv/4E57QKDKs9zDiXtAtymfZqnEe0BIioDCmP97QBgrffuNOnxAEjglM5F1fEDXiYMDubB8QB3xdwL063xAgAFit/QmfUBuUvfu/GF9QLa6MC0lnX1AIZFKDD3YfUDuIEGDPxN+QCj9B6JYTn5A6FjxILCJfkBoKkVzJcV+QGAEIbRZAH9A++GOpX07f0AAAAAAAAD4fwAAAAAAAPh/AAAAAAAA+H8AAAAAAAD4fwAAAAAAAPh/AAAAAAAA+H8AAAAAAAD4fwAAAAAAAPh/AAAAAAAA+H8AAAAAAAD4fwAAAAAAAPh/AAAAAAAA+H8AAAAAAAD4fwAAAAAAAPh/AAAAAAAA+H8AAAAAAAD4fwAAAAAAAPh/AAAAAAAA+H8AAAAAAAD4fwAAAAAAAPh/",
          "dtype": "f8"
         },
         "yaxis": "y"
        },
        {
         "hovertemplate": "Iter: %{x}<br>Cumulative Regret: %{y:.4f}<br>Condition: %{meta[0]}<extra></extra>",
         "legendgroup": "cluster",
         "line": {
          "color": "#EF553B"
         },
         "meta": [
          "cluster"
         ],
         "name": "cluster",
         "showlegend": true,
         "type": "scatter",
         "x": {
          "bdata": "AQACAAMABAAFAAYABwAIAAkACgALAAwADQAOAA8AEAARABIAEwAUABUAFgAXABgAGQAaABsAHAAdAB4AHwAgACEAIgAjACQAJQAmACcAKAApACoAKwAsAC0ALgAvADAAMQAyADMANAA1ADYANwA4ADkAOgA7ADwAPQA+AD8AQABBAEIAQwBEAEUARgBHAEgASQBKAEsATABNAE4ATwBQAFEAUgBTAFQAVQBWAFcAWABZAFoAWwBcAF0AXgBfAGAAYQBiAGMAZABlAGYAZwBoAGkAagBrAGwAbQBuAG8AcABxAHIAcwB0AHUAdgB3AHgAeQB6AHsAfAB9AH4AfwCAAIEAggCDAIQAhQCGAIcAiACJAIoAiwCMAI0AjgCPAJAAkQCSAJMAlACVAJYA",
          "dtype": "i2"
         },
         "xaxis": "x",
         "y": {
          "bdata": "bUR4/F8WGEDbHqoW/u0lQNKypJLwDzBAIFVePM3RNECkCF9Ov1A5QIi20W5itj1AIfbBsebyQEAJE1l+8wBDQFhyTE25BUVAzV98LNgIR0CCtLV0u/NIQCb43auN6kpAk2WbLp7WTEDcxEiuGrBOQA1WwGHGSFBAlhp9qJA7UUAv+Wg6BClSQHxzW/6fB1NAcX5C9Q7xU0CerfEHceNUQOnGPHPX0FVAlIdOmHm1VkDcvhA7HJRXQFkqS1Afc1hAUtgOD6pTWUBqPMc23y5aQAX2zwrDBltAjsAyST/lW0BPN75kUb9cQMmJ5JmFll1AYEAcEflsXkAufPxd10BfQGCSJc6lC2BAn3kmIb52YEBuaJOMJeFgQLAUpWCpSmFAAYblz3e0YUAry1i1LB5iQDfgvAEvh2JAL5YzJaPvYkDzm3i9qlhjQIZZaOd0v2NA8synal4mZEAjvU0kfY5kQCoooOTp82RAh+62L4RaZUAwye7vWcJlQDgKWpKNKGZAzYexlgyOZkAIu6nJVPRmQCt6KFLiWmdAsIh0UjLCZ0BppukhCChoQK4W/Fp7jmhAPoI/IHT0aEDfk3S62VppQO2ujypmwmlARHMc9+UpakBVzyX4gpFqQMSuJLCw+GpA0kK4uHxea0AqghJ5JcZrQDo8Fm2gLWxA79rcz+CTbECQ21OWhfpsQP+NPXtuYG1APqW4GPHGbUDq56j+nC1uQH8ALAU3lG5AdAbY2eL6bkCBLcCIx2BvQFV111pgxm9AhHYqvGcVcEDcAR8ExUdwQGOo1DZvenBAe4KNtL2scED7ScZ7395wQMCUpfoSEXFASmlHu9tCcUDyk/wa+3RxQM685bMFqHFA2/UtzrPacUA6hcotWw1yQMwvXZsAQHJACDbSdpByckA1oX6FWqVyQESDyq7K13JAM/fY3s8Kc0A4YETIpj1zQDuc5GsTcHNAWgv7vmCic0Bo38mU3NRzQJqp/cOjBnRACTCrL2o4dEBut0j+RGp0QJrtG6monHRAquhqhu/OdEBiklrx1gB1QNgn/xJQMnVAvgDCh7JjdUBVWthl6pR1QLx+v88PxnVA2QC0Lhb3dUCbKjrthCh2QGOWhfedWXZAcOsRRo+KdkBlJNSexLt2QLKo4e3T7HZAh0prVAged0BLwwE+SU93QGxazKuWgHdAlJ6MzQqyd0BHJsttX+N3QJ02YEanFHhAHLvBBlpGeECBTa5znXd4QLk/XVziqHhAE9i+2xfaeEBJtIeZeQt5QJEwLrCCPXlAa5alsMVveUA0aOYAuKF5QDzRhg0A1HlAoPoF8sMFekC/C1kUrTd6QJVntyglaXpAsPTp+ZuaekDJhaQpFcx6QMr3iqWf/XpA4gYMW3wve0AAAAAAAAD4fwAAAAAAAPh/AAAAAAAA+H8AAAAAAAD4fwAAAAAAAPh/AAAAAAAA+H8AAAAAAAD4fwAAAAAAAPh/AAAAAAAA+H8AAAAAAAD4fwAAAAAAAPh/AAAAAAAA+H8AAAAAAAD4fwAAAAAAAPh/AAAAAAAA+H8AAAAAAAD4fwAAAAAAAPh/AAAAAAAA+H8AAAAAAAD4fwAAAAAAAPh/",
          "dtype": "f8"
         },
         "yaxis": "y"
        },
        {
         "hovertemplate": "Iter: %{x}<br>Cumulative Regret: %{y:.4f}<br>Condition: %{meta[0]}<extra></extra>",
         "legendgroup": "dynamic",
         "line": {
          "color": "#00CC96"
         },
         "meta": [
          "dynamic"
         ],
         "name": "dynamic",
         "showlegend": true,
         "type": "scatter",
         "x": {
          "bdata": "AQACAAMABAAFAAYABwAIAAkACgALAAwADQAOAA8AEAARABIAEwAUABUAFgAXABgAGQAaABsAHAAdAB4AHwAgACEAIgAjACQAJQAmACcAKAApACoAKwAsAC0ALgAvADAAMQAyADMANAA1ADYANwA4ADkAOgA7ADwAPQA+AD8AQABBAEIAQwBEAEUARgBHAEgASQBKAEsATABNAE4ATwBQAFEAUgBTAFQAVQBWAFcAWABZAFoAWwBcAF0AXgBfAGAAYQBiAGMAZABlAGYAZwBoAGkAagBrAGwAbQBuAG8AcABxAHIAcwB0AHUAdgB3AHgAeQB6AHsAfAB9AH4AfwCAAIEAggCDAIQAhQCGAIcAiACJAIoAiwCMAI0AjgCPAJAAkQCSAJMAlACVAJYA",
          "dtype": "i2"
         },
         "xaxis": "x",
         "y": {
          "bdata": "ypTFs7rbEEDS3/Anz9kkQBrdeK4mojBAT1flsGmTN0CtGeIhVQM/QJcHe6W+gkNAGbhgzSUoR0B6OsUYxt1KQKKL4UW6TE5A6yWPcCO/UEBFXo7W0DVSQEeJg3HduVNABoO1ewPyVEDPmRECFiVWQIglsMsCY1dA/Xtg/kF0WECUtBt9TGhZQOH5s40tTFpAelWxQls+W0DWvXLh5BRcQCzidJIt+FxADWtQIUTJXUBoIiSKSKpeQNjwGuHael9AafX764IiYECo8fjjY4dgQDUESLWQ6GBAnIddJSlCYUDY5uyKRp5hQLHp07z19mFAt1CN8qdTYkBv6b6JTrJiQHELzazcAGNA6/8vsYxLY0AhDklkVptjQFob0asv7mNAP+e4ZKZCZECjgsML4pxkQDAnxeue6WRAVW9X+W88ZUB1N6zNY4dlQGviVKLj1mVAIS3OGKYjZkCOZ5kOZnFmQOFgue9iwGZATWLIaQcHZ0BF7aSr4UlnQAceBXV3kWdARtITO//bZ0AGZWTaSB1oQJRLmynsXGhAm9QHyXmcaEDb3YTDU99oQKNtIiAMJGlA/v5fByBlaUATsXc1r6RpQMIiGji762lAr+8xxvUtakAqSsHSeHFqQIIS5ymzq2pAFMSKZBnmakAIZgTTqB5rQNBjyym4WGtApEKZagqMa0DSJAxeT8RrQHmi2pb3/WtA680Ds90wbEDZSgwmomhsQElNu5jmnGxAaiElmmTUbEA5ImD1yAdtQLWtZp0xPW1A7Fx1QWFsbUCerJn9Ap5tQFfXoZrS0W1AavaKuIr/bUD3LNEiJDNuQGrB1UvdYm5Aig0WTtKUbkBGoGiMxMVuQDueKjot9m5A2dWJcDglb0CU2DYN0k1vQNOpYmG/eW9AHQbPYK+fb0DuarvS+81vQBTS48DUAHBARa1WE3EXcEBnmO0d6C1wQJZGzOwTQ3BAiiFwW9JZcED6uKTY/25wQK1n5M8zhXBAWq5tQHqacEDxOZ1RILBwQIO2ix9Zw3BA2cYg+EDUcEA5JfwuaOhwQGYLUjpi/XBAWjZgfYkQcUASSSv1oyJxQMBHIe0jNHFAbiqc7uZHcUB7zzdYLltxQIB5EiIKb3FAm/xgKueAcUDptlf5uJJxQInBV8+kpHFAyc8P7AG2cUApKbAApshxQL1zXwUP23FAfEoFTPfscUDfMFJwWQFyQCjOQBuvFHJA4X7TzgMockDhRt3hyTlyQGu75cZQTHJAGjVy8L9eckB7M0bHMXNyQNf4loOKhXJABMZ7VhqYckBS50DFp6pyQIijULtkvXJAFM64uu3OckDP+229FOFyQJV8pECe8nJAhspA5qsEc0BKWuDhzBZzQKu+hQdfKHNAfv0j5iw6c0AAAAAAAAD4fwAAAAAAAPh/AAAAAAAA+H8AAAAAAAD4fwAAAAAAAPh/AAAAAAAA+H8AAAAAAAD4fwAAAAAAAPh/AAAAAAAA+H8AAAAAAAD4fwAAAAAAAPh/AAAAAAAA+H8AAAAAAAD4fwAAAAAAAPh/AAAAAAAA+H8AAAAAAAD4fwAAAAAAAPh/AAAAAAAA+H8AAAAAAAD4fwAAAAAAAPh/",
          "dtype": "f8"
         },
         "yaxis": "y"
        },
        {
         "hovertemplate": "Iter: %{x}<br>Simple Regret: %{y:.4f}<br>Condition: %{meta[0]}<extra></extra>",
         "legendgroup": "smallest",
         "line": {
          "color": "#636EFA"
         },
         "meta": [
          "smallest"
         ],
         "name": "smallest",
         "showlegend": false,
         "type": "scatter",
         "x": {
          "bdata": "AQACAAMABAAFAAYABwAIAAkACgALAAwADQAOAA8AEAARABIAEwAUABUAFgAXABgAGQAaABsAHAAdAB4AHwAgACEAIgAjACQAJQAmACcAKAApACoAKwAsAC0ALgAvADAAMQAyADMANAA1ADYANwA4ADkAOgA7ADwAPQA+AD8AQABBAEIAQwBEAEUARgBHAEgASQBKAEsATABNAE4ATwBQAFEAUgBTAFQAVQBWAFcAWABZAFoAWwBcAF0AXgBfAGAAYQBiAGMAZABlAGYAZwBoAGkAagBrAGwAbQBuAG8AcABxAHIAcwB0AHUAdgB3AHgAeQB6AHsAfAB9AH4AfwCAAIEAggCDAIQAhQCGAIcAiACJAIoAiwCMAI0AjgCPAJAAkQCSAJMAlACVAJYA",
          "dtype": "i2"
         },
         "xaxis": "x2",
         "y": {
          "bdata": "CfNXyFwBGUCaaA8zs24WQFZzJacbjRRALxeDGeUbE0CwNF4ozl8SQGQV20nprhFAtmSMRnVxEUBkHCPZI9wQQDrIkAgynxBA62KJvQZbEEDRixHABNUPQNXCmjgndA9AUPWs7ANxD0AwDlIUDFsPQJAce4jY0g5ARB/PCuixDkDXKOs3E7MOQGzOL7hUow5A6ecFV/hCDkC1u7/5jBMOQONLu6sx2w1A/HqY0DfcDUDaYAUcZtwNQNTAs2FxvA1AkQJ55H2KDUCiZqPON40NQHBM8v+GjA1AKnb9SxtnDUBev7vw3kwNQEdfZZFKRQ1AA3jUYU6JDUD1FAKCAhgNQIDqadFMwQxAreYmV57NDEAc66t0QKsMQO0VAxHPrwxAjUk1omqaDEBU8cc1hpEMQOqyYRajhwxA6hHYCghrDEB3VDVB1G0MQPyUvmsrcQxAPnfwgYsjDEBuV0M92C0MQNBW3aJLRwxAN6QtivpQDEBNPpoOwSUMQO4swpU0NwxAf8MxuNMTDECHIShtYDEMQFIv5WnmNgxApUgsl/syDECke+dhskIMQNbYpvmrKAxA3typyggpDECLv7ZHODYMQNS4boE7BwxAF/DXCdQHDED9uP3yyfoLQJwDXyxn2gtAouFwwmDqC0CtK7AR0vQLQI0gu/jI8wtAqmLPQxLyC0A/t9CVCAQMQEzVGbsgDgxAdEiyj5YLDECh+VIuQ/ILQPMZhzEgEgxA3OpMtL47DECKzo1Eww0MQB9GrdXDHAxA+7nFINT5C0CSHqpNwAMMQPoTgkIq8gtATWTCC/7qC0BJgxKdnOgLQDaw5/0R6AtAwshdFqX2C0Bxv1Yc4QcMQA+ed9HF9AtAPK2RE9zuC0B6V5gZkfMLQM9UGsMu/AtAPlS/d0DuC0BjPDn54/wLQE2qo9CfAwxAXO/JVb7pC0CUCAwR7/gLQKUw73Gm6QtAp5kBQZPnC0BcJQ6Ps+8LQK8oJQSr+gtA7+5cc6L4C0Af9H8hvuYLQP7AVZ5A6AtAchVn6Hv5C0AFyV9+ywAMQIJidfV07wtAnjfxsZfpC0BJyL9OaewLQBMybHD+4gtAd3mE5K4fDEDaxMn9DvULQFlxPDF98QtA5Xjy1ub8C0BXPCwLXQAMQNPehVIg+AtAG5PYyIj+C0A5OsERtw0MQAn/D52L7AtAlviSfNvyC0Da5o8yq/ALQNQyPyRp9AtA6x0TzhP0C0A55PrSNhkMQIGA7CyxCQxAO8LEev7vC0BiU7CPF+sLQNVLjGX6BQxAlk1camAHDEClBxhwqf0LQPSBwKaqDAxA26vGSZjwC0AAiV0SnvcLQFcDy0j06QtAqrt7SSzyC0AXc1hi5vMLQNJtwB5K6wtA4lkn0w35C0AAAAAAAAD4fwAAAAAAAPh/AAAAAAAA+H8AAAAAAAD4fwAAAAAAAPh/AAAAAAAA+H8AAAAAAAD4fwAAAAAAAPh/AAAAAAAA+H8AAAAAAAD4fwAAAAAAAPh/AAAAAAAA+H8AAAAAAAD4fwAAAAAAAPh/AAAAAAAA+H8AAAAAAAD4fwAAAAAAAPh/AAAAAAAA+H8AAAAAAAD4fwAAAAAAAPh/",
          "dtype": "f8"
         },
         "yaxis": "y2"
        },
        {
         "hovertemplate": "Iter: %{x}<br>Simple Regret: %{y:.4f}<br>Condition: %{meta[0]}<extra></extra>",
         "legendgroup": "cluster",
         "line": {
          "color": "#EF553B"
         },
         "meta": [
          "cluster"
         ],
         "name": "cluster",
         "showlegend": false,
         "type": "scatter",
         "x": {
          "bdata": "AQACAAMABAAFAAYABwAIAAkACgALAAwADQAOAA8AEAARABIAEwAUABUAFgAXABgAGQAaABsAHAAdAB4AHwAgACEAIgAjACQAJQAmACcAKAApACoAKwAsAC0ALgAvADAAMQAyADMANAA1ADYANwA4ADkAOgA7ADwAPQA+AD8AQABBAEIAQwBEAEUARgBHAEgASQBKAEsATABNAE4ATwBQAFEAUgBTAFQAVQBWAFcAWABZAFoAWwBcAF0AXgBfAGAAYQBiAGMAZABlAGYAZwBoAGkAagBrAGwAbQBuAG8AcABxAHIAcwB0AHUAdgB3AHgAeQB6AHsAfAB9AH4AfwCAAIEAggCDAIQAhQCGAIcAiACJAIoAiwCMAI0AjgCPAJAAkQCSAJMAlACVAJYA",
          "dtype": "i2"
         },
         "xaxis": "x2",
         "y": {
          "bdata": "2jLz92U7GEBmNkfVLjUUQNc91rADCxNAYho8Am4kEkC/hpYrcm4RQPUnlgChohBApsLFd08TEEChEnx4O3cPQOWyY7WLuw5AFQIUfgQJDkDCjKgI71oNQNGw4bLT6A1Aeoov7a42DUCs+ktBbYoMQFowlo7eRQxAqvFTnVYCDEBag2XabJoLQHykHCfgIgtAYm9PfQ3OC0DVTORvaHcMQMMuweDRrQtAsxgrIKNSC0AXAzXGmKUKQPnSgOYYVQpAd6Jb5qtLCkCNEMOzqc8JQMIT1ba8bQlATMx80HznCUBnb7ti2LMJQKyg6tiJkwlAm+lLXLT9CEAK/qTH3AIJQD1cvGlE6ghAFcu/KNP6CEBsTgEMp/gIQHC14Nfa3QhAenfSMOq4CEAcdFMU+b8IQBt1GaMauwhAHDJ5XoW/CEDGONrMfLIIQFuSTQNQdghAdjV5ymp6CECDtH6y4UgIQGcnFR8xTAhAP0kCVSRXCECV1Iq3Fl4IQHrE1e5EVghA0nkMDq44CEDro0Ir5hYIQEtj2IVDIwhA6fxvgPTYB0CH/fkRGswHQN2ozbe9vAdAP1J7SC/BB0DbBXCgreAHQOdB+ToosAdAzG16zwDGB0CknLBFU74HQOMgRcGwoAdAWiJhKdysB0C6x1E4OqYHQOD5Mj65owdAjWk49+mKB0A+wh80cZEHQEPcQZGTjgdAas3qeCeKB0CNEQjz1ogHQF4eIbnriwdAI8vKd3GTB0AA7jEQg3gHQAKeDyrMZgdAx7SkEaFvB0Cp/sDUTlwHQHGE6OxASQdAUV6s8K9WB0CecWKQPEgHQKuHMbItTAdApk5RP7lHB0BT+Z6RCC0HQIs/rjEMbAdAvX6KrP5RB0BSUb5pw2oHQOPlRBbEOwdA7wxkh0JFB0DO9IDnTDgHQE/4krOdHAdAsARSYtdWB0D3CMe+9g4HQAz9XenGRQdA5By9Yo4WB0A5uIeXui4HQJPHLqx2OAdAIN+UqM0OB0BVhwAE0BwHQAkPrSg4HwdAg237VbcRB0DXk/eo9gAHQOmRLE03BgdAircpedD3BkBeDs66WRYHQI49IHXgAQdAPMYCTAbtBkCAhiSgrwYHQPK+4IkP8gZA1PGYgcr4BkCqOB/osiIHQEM0zU4ZEgdA/2SwBkwkB0Bh7QI40BYHQLSSVnxDIQdA7uLZwWQmB0BKvISLXSMHQCB/jUg4IQdAO3il5FQaB0DciZKQSBsHQKQRRsZ9DgdAeW3bnO8cB0DS95vR1zQHQGyH0FLDKAdAlSKeka0jB0DH5B5cSzIHQMMb0AnYJQdApbI7t+MQB0DtPTh7Qy0HQOytpaSr+AZAZTYj3pXYBkDMlCBtLe0GQHli1ouh/AZAWsYFHwL2BkAAAAAAAAD4fwAAAAAAAPh/AAAAAAAA+H8AAAAAAAD4fwAAAAAAAPh/AAAAAAAA+H8AAAAAAAD4fwAAAAAAAPh/AAAAAAAA+H8AAAAAAAD4fwAAAAAAAPh/AAAAAAAA+H8AAAAAAAD4fwAAAAAAAPh/AAAAAAAA+H8AAAAAAAD4fwAAAAAAAPh/AAAAAAAA+H8AAAAAAAD4fwAAAAAAAPh/",
          "dtype": "f8"
         },
         "yaxis": "y2"
        },
        {
         "hovertemplate": "Iter: %{x}<br>Simple Regret: %{y:.4f}<br>Condition: %{meta[0]}<extra></extra>",
         "legendgroup": "dynamic",
         "line": {
          "color": "#00CC96"
         },
         "meta": [
          "dynamic"
         ],
         "name": "dynamic",
         "showlegend": false,
         "type": "scatter",
         "x": {
          "bdata": "AQACAAMABAAFAAYABwAIAAkACgALAAwADQAOAA8AEAARABIAEwAUABUAFgAXABgAGQAaABsAHAAdAB4AHwAgACEAIgAjACQAJQAmACcAKAApACoAKwAsAC0ALgAvADAAMQAyADMANAA1ADYANwA4ADkAOgA7ADwAPQA+AD8AQABBAEIAQwBEAEUARgBHAEgASQBKAEsATABNAE4ATwBQAFEAUgBTAFQAVQBWAFcAWABZAFoAWwBcAF0AXgBfAGAAYQBiAGMAZABlAGYAZwBoAGkAagBrAGwAbQBuAG8AcABxAHIAcwB0AHUAdgB3AHgAeQB6AHsAfAB9AH4AfwCAAIEAggCDAIQAhQCGAIcAiACJAIoAiwCMAI0AjgCPAJAAkQCSAJMAlACVAJYA",
          "dtype": "i2"
         },
         "xaxis": "x2",
         "y": {
          "bdata": "ypTFs7rbEED3fn2HtXMSQGnehFXPhBNAY4q6Vy70EkDnrknbHNMTQGw5qq3rChJAn81zDfypEkBALT3RrCMSQCb0DV85XRJAYwzjpdK2E0B+xrzF+l0SQDu0RyfKfRNAgbG+gcnlEUADq48sBZEQQLp17cFacxFAvZ2h3NrmC0AuwBpD3LgJQDM2PfFlSwhAnPOdqSHrBkBhLs9w8NIEQMnaXooq2wRAHp268lkOBUC9fWfFgQEEQIJTscMqYARA+6grRCyXAkDm4U4z7qcCQAeuTb404AFArhdnMGqLAUBgs1w2OocAQPLcRPYKlP8/xAjh0cZx/z8p3kmM5in+P+IspHtVJvw/K8tYtewR/D9lbQmvE+38P5PhCrpP4Pw/z+s+thvz+T8bYIuChdj5P919soavU/k/xar3CsHg+j+KC/YVWoz5P7y7u7u7O/g/PqsnTknR9z8xq1PBhO32PzwiXlbgI/c/1wBISetL9j9MKmT4maT2P+xqu9L77/Y/FsJqLGGt9j/uztptF3r2PwILl4yaBvY/QCD0kE3W9D9jJ7wEpx71P3FOkegKW/Q/0ZTUQCoc9T/qwx/q44b0Py1LYcsYDPQ/h+ghZGo89T+v5ZXrbdP0P02IguKQ9vI//X1H1fei8j8gX0IFh/fxP2ZvFhxLRfI/LcQQJrK88j/xWbHStz/yPy8w0Fp27fE/JI69X03m8D91fQxD0WnvPxFbi2AtSO8/n/TPHQ5c8D/6eizrbJbwP0ROlpGxcfA/VDkk7BIM8T868i2ZUI7wPy7Seq6lFvA/YDbdjkzj7j/m+a9P3E3uPz0ziq7UPOw/L9q/jtsL7T+EF2o6KI7tP3mgBOxZRuw/tGhLZ3EQ7T+MyJ2/9jnqP4Nc4Ckbjek/zhVKy+2D6D8m6BwpSNnoPzJLgyPJ9Ok/crUEz3P66D93tTnyZJvqP61zekwS+eg/7SGGwgzy6D8kGjj7Xh7pP2TmOVmhP+o/Bb79FCL76T9/8nfvqHHoP0rsSGMi0+g/pqhEI+nk6D/Nf2y2FgroP6lQS+Gvd+Y/4NbwBxZa5j/a4UFFZ6vmP4yr2+qDduY/dojtXIat5j8y/YB1ioPmP7QVDpcvwuU/CwFl+PQ95j9WmpSCbi/mP18+NTrDcOY/8sqHMubA5z9EEMPqa7nnP+ZUMgBUMec/q/7A1E4M6D8iqoLjxOnnP6HaqYIaR+g/fUH4Pddk5z/KzV04/YbmP2MblAzcXec/x0ZEVXDc5j9Os+UB0fjlPz+76NCOgOY/LS7pg8Dl5T+ycdclvcLlP4RRpFbzd+U/6tazaIJp5T8cEhtQk/3kP6XXZmMlZuY/YNgZXsii5T9pSUc5mM3lP8Pgh3C55+Q/FcE2GYzI5D8AAAAAAAD4fwAAAAAAAPh/AAAAAAAA+H8AAAAAAAD4fwAAAAAAAPh/AAAAAAAA+H8AAAAAAAD4fwAAAAAAAPh/AAAAAAAA+H8AAAAAAAD4fwAAAAAAAPh/AAAAAAAA+H8AAAAAAAD4fwAAAAAAAPh/AAAAAAAA+H8AAAAAAAD4fwAAAAAAAPh/AAAAAAAA+H8AAAAAAAD4fwAAAAAAAPh/",
          "dtype": "f8"
         },
         "yaxis": "y2"
        }
       ],
       "layout": {
        "height": 600,
        "legend": {
         "title": {
          "text": "Condition"
         },
         "x": 0.95,
         "xanchor": "left",
         "y": 0.99,
         "yanchor": "top"
        },
        "template": {
         "data": {
          "bar": [
           {
            "error_x": {
             "color": "#2a3f5f"
            },
            "error_y": {
             "color": "#2a3f5f"
            },
            "marker": {
             "line": {
              "color": "white",
              "width": 0.5
             },
             "pattern": {
              "fillmode": "overlay",
              "size": 10,
              "solidity": 0.2
             }
            },
            "type": "bar"
           }
          ],
          "barpolar": [
           {
            "marker": {
             "line": {
              "color": "white",
              "width": 0.5
             },
             "pattern": {
              "fillmode": "overlay",
              "size": 10,
              "solidity": 0.2
             }
            },
            "type": "barpolar"
           }
          ],
          "carpet": [
           {
            "aaxis": {
             "endlinecolor": "#2a3f5f",
             "gridcolor": "#C8D4E3",
             "linecolor": "#C8D4E3",
             "minorgridcolor": "#C8D4E3",
             "startlinecolor": "#2a3f5f"
            },
            "baxis": {
             "endlinecolor": "#2a3f5f",
             "gridcolor": "#C8D4E3",
             "linecolor": "#C8D4E3",
             "minorgridcolor": "#C8D4E3",
             "startlinecolor": "#2a3f5f"
            },
            "type": "carpet"
           }
          ],
          "choropleth": [
           {
            "colorbar": {
             "outlinewidth": 0,
             "ticks": ""
            },
            "type": "choropleth"
           }
          ],
          "contour": [
           {
            "colorbar": {
             "outlinewidth": 0,
             "ticks": ""
            },
            "colorscale": [
             [
              0,
              "#0d0887"
             ],
             [
              0.1111111111111111,
              "#46039f"
             ],
             [
              0.2222222222222222,
              "#7201a8"
             ],
             [
              0.3333333333333333,
              "#9c179e"
             ],
             [
              0.4444444444444444,
              "#bd3786"
             ],
             [
              0.5555555555555556,
              "#d8576b"
             ],
             [
              0.6666666666666666,
              "#ed7953"
             ],
             [
              0.7777777777777778,
              "#fb9f3a"
             ],
             [
              0.8888888888888888,
              "#fdca26"
             ],
             [
              1,
              "#f0f921"
             ]
            ],
            "type": "contour"
           }
          ],
          "contourcarpet": [
           {
            "colorbar": {
             "outlinewidth": 0,
             "ticks": ""
            },
            "type": "contourcarpet"
           }
          ],
          "heatmap": [
           {
            "colorbar": {
             "outlinewidth": 0,
             "ticks": ""
            },
            "colorscale": [
             [
              0,
              "#0d0887"
             ],
             [
              0.1111111111111111,
              "#46039f"
             ],
             [
              0.2222222222222222,
              "#7201a8"
             ],
             [
              0.3333333333333333,
              "#9c179e"
             ],
             [
              0.4444444444444444,
              "#bd3786"
             ],
             [
              0.5555555555555556,
              "#d8576b"
             ],
             [
              0.6666666666666666,
              "#ed7953"
             ],
             [
              0.7777777777777778,
              "#fb9f3a"
             ],
             [
              0.8888888888888888,
              "#fdca26"
             ],
             [
              1,
              "#f0f921"
             ]
            ],
            "type": "heatmap"
           }
          ],
          "histogram": [
           {
            "marker": {
             "pattern": {
              "fillmode": "overlay",
              "size": 10,
              "solidity": 0.2
             }
            },
            "type": "histogram"
           }
          ],
          "histogram2d": [
           {
            "colorbar": {
             "outlinewidth": 0,
             "ticks": ""
            },
            "colorscale": [
             [
              0,
              "#0d0887"
             ],
             [
              0.1111111111111111,
              "#46039f"
             ],
             [
              0.2222222222222222,
              "#7201a8"
             ],
             [
              0.3333333333333333,
              "#9c179e"
             ],
             [
              0.4444444444444444,
              "#bd3786"
             ],
             [
              0.5555555555555556,
              "#d8576b"
             ],
             [
              0.6666666666666666,
              "#ed7953"
             ],
             [
              0.7777777777777778,
              "#fb9f3a"
             ],
             [
              0.8888888888888888,
              "#fdca26"
             ],
             [
              1,
              "#f0f921"
             ]
            ],
            "type": "histogram2d"
           }
          ],
          "histogram2dcontour": [
           {
            "colorbar": {
             "outlinewidth": 0,
             "ticks": ""
            },
            "colorscale": [
             [
              0,
              "#0d0887"
             ],
             [
              0.1111111111111111,
              "#46039f"
             ],
             [
              0.2222222222222222,
              "#7201a8"
             ],
             [
              0.3333333333333333,
              "#9c179e"
             ],
             [
              0.4444444444444444,
              "#bd3786"
             ],
             [
              0.5555555555555556,
              "#d8576b"
             ],
             [
              0.6666666666666666,
              "#ed7953"
             ],
             [
              0.7777777777777778,
              "#fb9f3a"
             ],
             [
              0.8888888888888888,
              "#fdca26"
             ],
             [
              1,
              "#f0f921"
             ]
            ],
            "type": "histogram2dcontour"
           }
          ],
          "mesh3d": [
           {
            "colorbar": {
             "outlinewidth": 0,
             "ticks": ""
            },
            "type": "mesh3d"
           }
          ],
          "parcoords": [
           {
            "line": {
             "colorbar": {
              "outlinewidth": 0,
              "ticks": ""
             }
            },
            "type": "parcoords"
           }
          ],
          "pie": [
           {
            "automargin": true,
            "type": "pie"
           }
          ],
          "scatter": [
           {
            "fillpattern": {
             "fillmode": "overlay",
             "size": 10,
             "solidity": 0.2
            },
            "type": "scatter"
           }
          ],
          "scatter3d": [
           {
            "line": {
             "colorbar": {
              "outlinewidth": 0,
              "ticks": ""
             }
            },
            "marker": {
             "colorbar": {
              "outlinewidth": 0,
              "ticks": ""
             }
            },
            "type": "scatter3d"
           }
          ],
          "scattercarpet": [
           {
            "marker": {
             "colorbar": {
              "outlinewidth": 0,
              "ticks": ""
             }
            },
            "type": "scattercarpet"
           }
          ],
          "scattergeo": [
           {
            "marker": {
             "colorbar": {
              "outlinewidth": 0,
              "ticks": ""
             }
            },
            "type": "scattergeo"
           }
          ],
          "scattergl": [
           {
            "marker": {
             "colorbar": {
              "outlinewidth": 0,
              "ticks": ""
             }
            },
            "type": "scattergl"
           }
          ],
          "scattermap": [
           {
            "marker": {
             "colorbar": {
              "outlinewidth": 0,
              "ticks": ""
             }
            },
            "type": "scattermap"
           }
          ],
          "scattermapbox": [
           {
            "marker": {
             "colorbar": {
              "outlinewidth": 0,
              "ticks": ""
             }
            },
            "type": "scattermapbox"
           }
          ],
          "scatterpolar": [
           {
            "marker": {
             "colorbar": {
              "outlinewidth": 0,
              "ticks": ""
             }
            },
            "type": "scatterpolar"
           }
          ],
          "scatterpolargl": [
           {
            "marker": {
             "colorbar": {
              "outlinewidth": 0,
              "ticks": ""
             }
            },
            "type": "scatterpolargl"
           }
          ],
          "scatterternary": [
           {
            "marker": {
             "colorbar": {
              "outlinewidth": 0,
              "ticks": ""
             }
            },
            "type": "scatterternary"
           }
          ],
          "surface": [
           {
            "colorbar": {
             "outlinewidth": 0,
             "ticks": ""
            },
            "colorscale": [
             [
              0,
              "#0d0887"
             ],
             [
              0.1111111111111111,
              "#46039f"
             ],
             [
              0.2222222222222222,
              "#7201a8"
             ],
             [
              0.3333333333333333,
              "#9c179e"
             ],
             [
              0.4444444444444444,
              "#bd3786"
             ],
             [
              0.5555555555555556,
              "#d8576b"
             ],
             [
              0.6666666666666666,
              "#ed7953"
             ],
             [
              0.7777777777777778,
              "#fb9f3a"
             ],
             [
              0.8888888888888888,
              "#fdca26"
             ],
             [
              1,
              "#f0f921"
             ]
            ],
            "type": "surface"
           }
          ],
          "table": [
           {
            "cells": {
             "fill": {
              "color": "#EBF0F8"
             },
             "line": {
              "color": "white"
             }
            },
            "header": {
             "fill": {
              "color": "#C8D4E3"
             },
             "line": {
              "color": "white"
             }
            },
            "type": "table"
           }
          ]
         },
         "layout": {
          "annotationdefaults": {
           "arrowcolor": "#2a3f5f",
           "arrowhead": 0,
           "arrowwidth": 1
          },
          "autotypenumbers": "strict",
          "coloraxis": {
           "colorbar": {
            "outlinewidth": 0,
            "ticks": ""
           }
          },
          "colorscale": {
           "diverging": [
            [
             0,
             "#8e0152"
            ],
            [
             0.1,
             "#c51b7d"
            ],
            [
             0.2,
             "#de77ae"
            ],
            [
             0.3,
             "#f1b6da"
            ],
            [
             0.4,
             "#fde0ef"
            ],
            [
             0.5,
             "#f7f7f7"
            ],
            [
             0.6,
             "#e6f5d0"
            ],
            [
             0.7,
             "#b8e186"
            ],
            [
             0.8,
             "#7fbc41"
            ],
            [
             0.9,
             "#4d9221"
            ],
            [
             1,
             "#276419"
            ]
           ],
           "sequential": [
            [
             0,
             "#0d0887"
            ],
            [
             0.1111111111111111,
             "#46039f"
            ],
            [
             0.2222222222222222,
             "#7201a8"
            ],
            [
             0.3333333333333333,
             "#9c179e"
            ],
            [
             0.4444444444444444,
             "#bd3786"
            ],
            [
             0.5555555555555556,
             "#d8576b"
            ],
            [
             0.6666666666666666,
             "#ed7953"
            ],
            [
             0.7777777777777778,
             "#fb9f3a"
            ],
            [
             0.8888888888888888,
             "#fdca26"
            ],
            [
             1,
             "#f0f921"
            ]
           ],
           "sequentialminus": [
            [
             0,
             "#0d0887"
            ],
            [
             0.1111111111111111,
             "#46039f"
            ],
            [
             0.2222222222222222,
             "#7201a8"
            ],
            [
             0.3333333333333333,
             "#9c179e"
            ],
            [
             0.4444444444444444,
             "#bd3786"
            ],
            [
             0.5555555555555556,
             "#d8576b"
            ],
            [
             0.6666666666666666,
             "#ed7953"
            ],
            [
             0.7777777777777778,
             "#fb9f3a"
            ],
            [
             0.8888888888888888,
             "#fdca26"
            ],
            [
             1,
             "#f0f921"
            ]
           ]
          },
          "colorway": [
           "#636efa",
           "#EF553B",
           "#00cc96",
           "#ab63fa",
           "#FFA15A",
           "#19d3f3",
           "#FF6692",
           "#B6E880",
           "#FF97FF",
           "#FECB52"
          ],
          "font": {
           "color": "#2a3f5f"
          },
          "geo": {
           "bgcolor": "white",
           "lakecolor": "white",
           "landcolor": "white",
           "showlakes": true,
           "showland": true,
           "subunitcolor": "#C8D4E3"
          },
          "hoverlabel": {
           "align": "left"
          },
          "hovermode": "closest",
          "mapbox": {
           "style": "light"
          },
          "paper_bgcolor": "white",
          "plot_bgcolor": "white",
          "polar": {
           "angularaxis": {
            "gridcolor": "#EBF0F8",
            "linecolor": "#EBF0F8",
            "ticks": ""
           },
           "bgcolor": "white",
           "radialaxis": {
            "gridcolor": "#EBF0F8",
            "linecolor": "#EBF0F8",
            "ticks": ""
           }
          },
          "scene": {
           "xaxis": {
            "backgroundcolor": "white",
            "gridcolor": "#DFE8F3",
            "gridwidth": 2,
            "linecolor": "#EBF0F8",
            "showbackground": true,
            "ticks": "",
            "zerolinecolor": "#EBF0F8"
           },
           "yaxis": {
            "backgroundcolor": "white",
            "gridcolor": "#DFE8F3",
            "gridwidth": 2,
            "linecolor": "#EBF0F8",
            "showbackground": true,
            "ticks": "",
            "zerolinecolor": "#EBF0F8"
           },
           "zaxis": {
            "backgroundcolor": "white",
            "gridcolor": "#DFE8F3",
            "gridwidth": 2,
            "linecolor": "#EBF0F8",
            "showbackground": true,
            "ticks": "",
            "zerolinecolor": "#EBF0F8"
           }
          },
          "shapedefaults": {
           "line": {
            "color": "#2a3f5f"
           }
          },
          "ternary": {
           "aaxis": {
            "gridcolor": "#DFE8F3",
            "linecolor": "#A2B1C6",
            "ticks": ""
           },
           "baxis": {
            "gridcolor": "#DFE8F3",
            "linecolor": "#A2B1C6",
            "ticks": ""
           },
           "bgcolor": "white",
           "caxis": {
            "gridcolor": "#DFE8F3",
            "linecolor": "#A2B1C6",
            "ticks": ""
           }
          },
          "title": {
           "x": 0.05
          },
          "xaxis": {
           "automargin": true,
           "gridcolor": "#EBF0F8",
           "linecolor": "#EBF0F8",
           "ticks": "",
           "title": {
            "standoff": 15
           },
           "zerolinecolor": "#EBF0F8",
           "zerolinewidth": 2
          },
          "yaxis": {
           "automargin": true,
           "gridcolor": "#EBF0F8",
           "linecolor": "#EBF0F8",
           "ticks": "",
           "title": {
            "standoff": 15
           },
           "zerolinecolor": "#EBF0F8",
           "zerolinewidth": 2
          }
         }
        },
        "title": {
         "text": "randomcase_200_10",
         "x": 0.5
        },
        "width": 800,
        "xaxis": {
         "anchor": "y",
         "domain": [
          0,
          1
         ]
        },
        "xaxis2": {
         "anchor": "y2",
         "domain": [
          0,
          1
         ],
         "title": {
          "text": "Iteration"
         }
        },
        "yaxis": {
         "anchor": "x",
         "domain": [
          0.55,
          1
         ],
         "title": {
          "text": "Cumulative Regret"
         }
        },
        "yaxis2": {
         "anchor": "x2",
         "domain": [
          0,
          0.45
         ],
         "title": {
          "text": "Simple Regret"
         }
        }
       }
      }
     },
     "metadata": {},
     "output_type": "display_data"
    }
   ],
   "source": [
    "import pandas as pd\n",
    "import plotly.graph_objects as go\n",
    "import plotly.express as px\n",
    "from plotly.subplots import make_subplots\n",
    "import plotly.io as pio\n",
    "import os\n",
    "import numpy as np\n",
    "\n",
    "text = \"randomcase\"\n",
    "\n",
    "# 定义文件夹路径\n",
    "data_folder = os.path.join('Data', text)\n",
    "\n",
    "# 定义文件列表 - Simple Regret来自pre文件，Cumulative Regret来自原始文件\n",
    "simple_regret_files = ['200_10_smallest_pre.csv','200_10_cluster_pre.csv', '200_10_dynamic_pre.csv']\n",
    "cumulative_regret_files = ['200_10_smallest.csv','200_10_cluster.csv','200_10_dynamic.csv']\n",
    "\n",
    "curve_names = ['smallest','cluster', 'dynamic']\n",
    "colors = px.colors.qualitative.Plotly[:len(curve_names)] \n",
    "\n",
    "# 创建DataFrame存储Simple Regret和Cumulative Regret\n",
    "simple_regret_data = pd.DataFrame()\n",
    "cumulative_regret_data = pd.DataFrame()\n",
    "\n",
    "# 加载Simple Regret数据（来自pre文件）\n",
    "for file, name in zip(simple_regret_files, curve_names):\n",
    "    file_path = os.path.join(data_folder, file)\n",
    "    df = pd.read_csv(file_path, index_col='Repetition')\n",
    "    \n",
    "    # 计算每个step的均值（Simple Regret）\n",
    "    mean_results = df.mean(axis=0)\n",
    "    \n",
    "    # 添加到Simple Regret DataFrame\n",
    "    temp_df = pd.DataFrame({\n",
    "        'Iter': range(1, 151),\n",
    "        'Value': mean_results.values,\n",
    "        'Condition': name\n",
    "    })\n",
    "    simple_regret_data = pd.concat([simple_regret_data, temp_df])\n",
    "\n",
    "# 加载Cumulative Regret数据（来自原始文件）\n",
    "for file, name in zip(cumulative_regret_files, curve_names):\n",
    "    file_path = os.path.join(data_folder, file)\n",
    "    df = pd.read_csv(file_path, index_col='Repetition')\n",
    "    \n",
    "    # 计算每个step的均值\n",
    "    mean_results = df.mean(axis=0)\n",
    "    \n",
    "    # 计算Cumulative Regret\n",
    "    if name != 'Uniform':\n",
    "        cumsum_results = np.cumsum(mean_results.values)\n",
    "        temp_df = pd.DataFrame({\n",
    "            'Iter': range(1, 151),\n",
    "            'Value': cumsum_results,\n",
    "            'Condition': name\n",
    "        })\n",
    "        cumulative_regret_data = pd.concat([cumulative_regret_data, temp_df])\n",
    "\n",
    "# 创建子图（2行1列，垂直排列）- 删除子图标题\n",
    "fig = make_subplots(\n",
    "    rows=2, cols=1,\n",
    "    vertical_spacing=0.1\n",
    "    # 删除了 subplot_titles 参数\n",
    ")\n",
    "\n",
    "# 第一子图：Cumulative Regret（来自原始文件）- 先画Cumulative Regret\n",
    "for i, condition in enumerate(curve_names):\n",
    "    if condition == 'Uniform':\n",
    "        continue  # 跳过Uniform条件\n",
    "    cumsum_df = cumulative_regret_data[cumulative_regret_data['Condition'] == condition]\n",
    "    fig.add_trace(\n",
    "        go.Scatter(\n",
    "            x=cumsum_df['Iter'],\n",
    "            y=cumsum_df['Value'],\n",
    "            name=condition,\n",
    "            legendgroup=condition,\n",
    "            showlegend=True,  # 在第一子图显示图例\n",
    "            line=dict(color=colors[i]),\n",
    "            meta=[condition],\n",
    "            hovertemplate=\"Iter: %{x}<br>Cumulative Regret: %{y:.4f}<br>Condition: %{meta[0]}<extra></extra>\"\n",
    "        ),\n",
    "        row=1, col=1  # Cumulative Regret放在第一行\n",
    "    )\n",
    "\n",
    "# 第二子图：Obs-based Simple Regret（来自pre文件）\n",
    "for i, condition in enumerate(curve_names):\n",
    "    simple_df = simple_regret_data[simple_regret_data['Condition'] == condition]\n",
    "    fig.add_trace(\n",
    "        go.Scatter(\n",
    "            x=simple_df['Iter'],\n",
    "            y=simple_df['Value'],\n",
    "            name=condition,\n",
    "            legendgroup=condition,\n",
    "            showlegend=False,  # 避免重复图例\n",
    "            line=dict(color=colors[i]),\n",
    "            meta=[condition],\n",
    "            hovertemplate=\"Iter: %{x}<br>Simple Regret: %{y:.4f}<br>Condition: %{meta[0]}<extra></extra>\"\n",
    "        ),\n",
    "        row=2, col=1  # Simple Regret放在第二行\n",
    "    )\n",
    "\n",
    "# 更新布局\n",
    "fig.update_layout(\n",
    "    title_text=text+\"_200_10\",\n",
    "    title_x=0.5,\n",
    "    height=600,\n",
    "    width=800,\n",
    "    template='plotly_white',\n",
    "    legend_title_text='Condition',\n",
    "    legend=dict(yanchor=\"top\", y=0.99, xanchor=\"left\", x=0.95)\n",
    ")\n",
    "\n",
    "# 更新Y轴和X轴标签\n",
    "fig.update_yaxes(title_text=\"Cumulative Regret\", row=1, col=1)  # 第一子图Y轴标签\n",
    "fig.update_yaxes(title_text=\"Simple Regret\", row=2, col=1)      # 第二子图Y轴标签\n",
    "fig.update_xaxes(title_text=\"Iteration\", row=2, col=1)          # 仅底部子图显示X轴标签\n",
    "\n",
    "# 显示图形\n",
    "fig.show()\n",
    "\n",
    "# 保存为HTML文件（可选）\n",
    "# pio.write_html(fig, 'combined_simple_cumulative_plot.html')"
   ]
  }
 ],
 "metadata": {
  "kernelspec": {
   "display_name": "base",
   "language": "python",
   "name": "python3"
  },
  "language_info": {
   "codemirror_mode": {
    "name": "ipython",
    "version": 3
   },
   "file_extension": ".py",
   "mimetype": "text/x-python",
   "name": "python",
   "nbconvert_exporter": "python",
   "pygments_lexer": "ipython3",
   "version": "3.13.5"
  }
 },
 "nbformat": 4,
 "nbformat_minor": 5
}
