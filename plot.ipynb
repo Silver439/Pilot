{
 "cells": [
  {
   "cell_type": "code",
   "execution_count": 10,
   "id": "6b38c165",
   "metadata": {},
   "outputs": [
    {
     "data": {
      "application/vnd.plotly.v1+json": {
       "config": {
        "plotlyServerURL": "https://plot.ly"
       },
       "data": [
        {
         "hovertemplate": "Iter: %{x}<br>Mean: %{y:.4f}<br>Condition: %{meta[0]}<extra></extra>",
         "legendgroup": "GP-SM",
         "line": {
          "color": "#636EFA"
         },
         "meta": [
          "GP-SM"
         ],
         "name": "GP-SM",
         "showlegend": true,
         "type": "scatter",
         "x": {
          "bdata": "AQACAAMABAAFAAYABwAIAAkACgALAAwADQAOAA8AEAARABIAEwAUABUAFgAXABgAGQAaABsAHAAdAB4AHwAgACEAIgAjACQAJQAmACcAKAApACoAKwAsAC0ALgAvADAAMQAyADMANAA1ADYANwA4ADkAOgA7ADwAPQA+AD8AQABBAEIAQwBEAEUARgBHAEgASQBKAEsATABNAE4ATwBQAFEAUgBTAFQAVQBWAFcAWABZAFoAWwBcAF0AXgBfAGAAYQBiAGMAZABlAGYAZwBoAGkAagBrAGwAbQBuAG8AcABxAHIAcwB0AHUAdgB3AHgAeQB6AHsAfAB9AH4AfwCAAIEAggCDAIQAhQCGAIcAiACJAIoAiwCMAI0AjgCPAJAAkQCSAJMAlACVAJYA",
          "dtype": "i2"
         },
         "xaxis": "x",
         "y": {
          "bdata": "KhzTpRFF3D/VLUzwl+DXP3XgnBGlvc8/UvclPwZPzD/1x/wkv8bGP71cDGaUr8U/jnhoDv+fxD+g9M8dDlzEP8m30sZsJMU/fGCQvac7xD/dgsmxGQTBPwyqspTRbcA/nnxWdTIUvz+PWayXldy9P98Ga1LALL0/yaP3abikuj/ZwWSGabu7P8eZlPDy4ro/DKAphYq7sz9JrQrnLTG1P2Y3/Df4i7Q/ujxoCFmotT+ufW9BJLG0P/m3cMVqmLQ/eXbV3+6Itj88Y5Z0y0WzPzL4aUogk7Q/l4E4favjsj+P+8RveK+0P8omr4SkBbQ/RgouHxKHsz/LwqAV4e+yP8Xq6ul+qbI/jNA9WZ/gsj/nCM86mW60PzRMyGL2DbU/Bc8Fdn1ntj8M062NZ4a1P6FoVYL8o7Q/jkAqMxN6sz+J3rxLvBazP/s/h/nyArQ/igK05Ch3sj9g1+VK832xP2FczsmvQ7M/sjCfB9Igsj8GFq3JQIuyPz20/ZmvALI/guMybmqgsT8v8sXxVnCyP80jfzDw3LM/HSuMiL2rsT96FmD7pSGyP7pL4qyImrI/OwjwzLo1sz/UvXLhZD+xPxNYgaL6T7E/D4iPB9qcsj9FPenpyDaxPzJPL3mEG7M/AsRK8kkUsz/Fv+KDsZixP1Uyks+9GbE/heE2LYucsD+Li2ywOdCwP0fQKsUgQrA/ix7BVtJTrT/7ZVQ9vXatPxwlr84xIK8/gzKxHbDPrD8hioEtLg2rPwd4mwCMMLA/txsgdKwuqz8FP2DUpMqqP0996bYNbKo/YNm79VCRqT/P9h/Q0HarP36VRSpVa6o/bl9RWzSuqT/M5T0F9zqoP9kSqLS0Cao/mikIeZhRpz+Cvr00Dr6lPxUAmYwZl6g/jdnaQ0NHpz8WttSv4sKnPzUPAzkEaqU//McLsi43pT8MBJOtwCKpPy8yOIEgd6g/wn33oeVTpj//x65Z02GmPw/+a2YaOqc/kB9ye8qyqD/DBrBt9qyoPw4Iq+hGj6Y//+GKZ6zZpj+FDhU+tsClP2lHFtXH6KU/zVMwPXRUpD+c5I/qvA6pP3MrYN6/VaI/z5SwSZGPpD/UdsuNoRulPxvk5DT6h6M/emLDwGAkoT+qw5wyyVqlP6VTezVkYKU/cudB+ToooD/ZB5DYJeGhP5B+oIH9fKQ/oYWWB3ulpj8unxqdYdinP8mX4jwuPKU/nVrHAnD9oT+1Pi2HXsekPybr7yShrKM/gYxcE64jpj/K4ZNOJJiiP1z7cP6UmKU/z9i9Ar7IpT9a9iSwOQejP7TC9L2G4KQ/79nffmVKpD+1a3kcPbWlP/M4wliVM6Y/o7ygz5Gmoz9l6i2djn+mP6R9qkHPnaM/pN5TOe0ppT/nCcyLlK6hPwcOVR7KPaI/SzTJEEgKoT9piXHaL3uhP6wgmDVDPKQ/CzncNKMMoj+SJjm7EAalP8nRdxJst6A/q6PQnyPfoj+z+7LYSgymPyboHClIWaQ/Ecyt7F7KpD8H0bWKWYqjP6Cij57HzaU/xYUnGPIspT8DFI8wsZ6jPwAAAAAAAPh/AAAAAAAA+H8AAAAAAAD4fwAAAAAAAPh/",
          "dtype": "f8"
         },
         "yaxis": "y"
        },
        {
         "hovertemplate": "Iter: %{x}<br>Mean: %{y:.4f}<br>Condition: %{meta[0]}<extra></extra>",
         "legendgroup": "GP-CLS",
         "line": {
          "color": "#EF553B"
         },
         "meta": [
          "GP-CLS"
         ],
         "name": "GP-CLS",
         "showlegend": true,
         "type": "scatter",
         "x": {
          "bdata": "AQACAAMABAAFAAYABwAIAAkACgALAAwADQAOAA8AEAARABIAEwAUABUAFgAXABgAGQAaABsAHAAdAB4AHwAgACEAIgAjACQAJQAmACcAKAApACoAKwAsAC0ALgAvADAAMQAyADMANAA1ADYANwA4ADkAOgA7ADwAPQA+AD8AQABBAEIAQwBEAEUARgBHAEgASQBKAEsATABNAE4ATwBQAFEAUgBTAFQAVQBWAFcAWABZAFoAWwBcAF0AXgBfAGAAYQBiAGMAZABlAGYAZwBoAGkAagBrAGwAbQBuAG8AcABxAHIAcwB0AHUAdgB3AHgAeQB6AHsAfAB9AH4AfwCAAIEAggCDAIQAhQCGAIcAiACJAIoAiwCMAI0AjgCPAJAAkQCSAJMAlACVAJYA",
          "dtype": "i2"
         },
         "xaxis": "x",
         "y": {
          "bdata": "YVg1PzVV5j8AFp480driPy0gbDCMc+E/3gqFLC+d3T8nf/eOGhPcP+zap6xvKds/oomKS2il2D/7CGpmmwnaP1rVE95m8tY/WTtA5rn01j8eLxJI9+HWP2R4axi90tQ/ZqrfBF5l1D/C27rSaRTTPxnNAbn7U9M/Za2OCR5M0T/Ue5gr8W7QP6aY3lkWp88/mktgKYGDzz9kX58mIJPQP4V791n3Ic0/mQMEc/T4zz9wHzqF3fjOP3OMv0jDhM8/PZkRcJpQ0D/gvf5/9+nPP/xGYQR6TtA/zjEge7170T9jRGsO2YnRP6AOPqczCs8/fGA1BDVq0D9nQQT4SvzPP8RPm/DKrc0/GcsYQ11I0D8oThJvwXbQP/mZxGo9DdA/8mUhubSZzz+mDVDjpzrPPwWtrcWUNc8/Yya/s6v+zz9Tvo26w5PQPyO1Y/15LdA/3TT+xbS3zj/m1uzJRJLPP+l942vPLM4/UBGWZxSByz88ktyroLPLPyCXOPJAZMk/qaPjamRXyj8wP6W4GHHKPwwKpykmk8o/ClF0E2unyT8lv8Z2P+/IPw2Ero4tFco//NRnvc48yT/Oac55RW/MPyGg1dzkyss/NjuJP8H8zj/X9zzakxvNPxqhe7I+wcw/xhbd1QaCzD8z8Xx0WE/MP3Pv4ZLjTss/kH+d0vi8yz/EOLbV4/XMP7TSfn7yiss/8+giYbtXyj/Zacici+PKP56b2ynC8so/DWW7Vepsyj/jwU19VzvKP2lgPx/Afco/IXuGOQrZyj/+oT5uZMPLP6BJ0M1sxcw/DQzYjfb3yj/QtFZGtRrKP3RFqNFjE8s/DPWqhN1mzD/DoINlo6rLPzLZwJ73R8w/gpQPeJfCyj9nwEZ/VRvMPx1j3S7qScs/T27Ky1DLyz+clTUyEEzNP08sAUI1b80/TltJGPNgzT/P/5jD23DNP7BR6TpnHss/opvZitluzD9ru/byKILMP0o1R7E3jMs/mrYkrDL4yz8RGlNCQibKP5mrMMc8PMk/j4KDmZKIyT/V1A1vMZrJP0LB1rZyQMc/5hkOXs5/xj/xyzyVr6fGP+mxLQPOUsY/QAE4GuRSxz+tSRLf5BLGP0FFHz2Pm8c/FVLs1qCdxz8XRgzNB5bHP2XB6BbeCcc/A79XvnhQxT9ltea0lBnHP0+LigHbisc/Kr1J5mupxz9C16u1HUDIP7kvQ7+Sh8c/XZOSQn3vxz9MSNmQ7erGP78Xp6L55Mc/UgRLiMxvxz9Hx0NNYn7HPwSZ+P5hpsc/1JH/pegkyD/nEnxBeY3IP7AYGvRK/sg/ytUQneZlyD8bldJqf57IP+04R+Zafcg/8St7tx4qyD8Xa0pEipPIPxGx+IQjf8c/wL76nN9UyD9+FoJTVgrIP5UN/aXX+MY/K6g6duIExz8Qvh3O6Z/HP1u/9FGhFcg/AZYlAwlTyD+j9hGuNrXJP3NerSTDO8k/jlJkCFtHyj9knQRJsiHKPyJ1KDCKC8o/hmRJAepOyz8uUpaPEinLPwyy93QHQ8s/ddZdj3hoyz96meBTuJ3IPwAAAAAAAPh/AAAAAAAA+H8AAAAAAAD4fwAAAAAAAPh/",
          "dtype": "f8"
         },
         "yaxis": "y"
        },
        {
         "hovertemplate": "Iter: %{x}<br>Mean: %{y:.4f}<br>Condition: %{meta[0]}<extra></extra>",
         "legendgroup": "GP-UCB",
         "line": {
          "color": "#00CC96"
         },
         "meta": [
          "GP-UCB"
         ],
         "name": "GP-UCB",
         "showlegend": true,
         "type": "scatter",
         "x": {
          "bdata": "AQACAAMABAAFAAYABwAIAAkACgALAAwADQAOAA8AEAARABIAEwAUABUAFgAXABgAGQAaABsAHAAdAB4AHwAgACEAIgAjACQAJQAmACcAKAApACoAKwAsAC0ALgAvADAAMQAyADMANAA1ADYANwA4ADkAOgA7ADwAPQA+AD8AQABBAEIAQwBEAEUARgBHAEgASQBKAEsATABNAE4ATwBQAFEAUgBTAFQAVQBWAFcAWABZAFoAWwBcAF0AXgBfAGAAYQBiAGMAZABlAGYAZwBoAGkAagBrAGwAbQBuAG8AcABxAHIAcwB0AHUAdgB3AHgAeQB6AHsAfAB9AH4AfwCAAIEAggCDAIQAhQCGAIcAiACJAIoAiwCMAI0AjgCPAJAAkQCSAJMAlACVAJYA",
          "dtype": "i2"
         },
         "xaxis": "x",
         "y": {
          "bdata": "f1Swsw6U8T8S9rZiSJffPwlwH1589t4/28KFzv3n2z/O58kiOnHXP5GM5hJYytg/hUbUaJao1T8QJextxZDTP+kArlH8BdM/lR0srdDR0j+ri+4zQefQPyyiSvEVgdE/DxJrumcmzD/6nYHsUKjJPxfRrQ63esQ/qzYlRrxixj8RH45kRcPFP84V3EY6OsU/KSYB/OUlwj9noB8zPU7CP+WUb2wsF7w/7H4oq/xFwT/BA5WDa4DEP/o8WUQnXsE/xlvUFO6Cuj8RF7cIw7fBPy24eqkzUsE/2fX4qoI+vD9gj1LSjA67P67tyZ9LFMA/7nfgG8Kwvz8F6xLoJkS9PxA2T4iTDrk/119SWIWpsz9Qh7q0hvezP1s1Yywu6bc/JA79N1NFrT9tFaBJPlK2P2UCfo0kQbA/DBg3SJu9sj/PdWJX25WwPxfLdZu4nbA/UO6bH6Ngsj+Dex3weBKwP762WgM3Lqc/P3c4cL1cqj9jGruyeYquP8cUKyJC26E/zcxxE1p7rD/jzuBK0SWfP4/aaRCLvag/4nxWPnA6nj9RL517tN2lPxmuWA3TCJ8/kWYsms5Ooj9UuNT30PSgPwkMSLGSRZg/7GVJ7h4OpD9Q/E81sfelP2VRM/9DVac/qeIh51g5pz8z3X0gC2OlP1P4kBS1WKI/H74VUkeQoz/6W0x9agaqPxts6jwq/qc/rBLkHzWloD8rGkeIzg6kPwZxL3q4LqI/zX2p1vnuoT+PR0wszB6kPyc/mMqRhJs/DOEZtUNEoj8XSRaLOs6YP/c7ATq5zJ4/OsRSNypKoD9d3VYftMOkP8VVwJiIEqQ/8pvCSgUVlT929QY7obOQP1Ln42zMfZw/qYrgtu2yhj/qr9Rpk3lqP5AMObaeIVy/tq0cENcgkj/FQEOkS6R5P1CmvhkilIQ/yTTk6abelD+etDmXq+iIP356ERIOYow/cJYkYXHKjj8E4uHiTSNiP7+If6EQypw/UbVeVNN2lD/A/QFX+lGdP41k/dTmbZo/g3ysvMCIkT+XsDbGTniRP6mxBQUmuIk/mc492u7Ukj/0T4N8436KP+kizz8LU6E/QizS+/2ZoD/u8Gng2bCYP0LD4yOqOGY/VAO6HJx1gz9165D2mnmdPylLmizbdIE/kjeLqYaPej92GVmNgGWQP0Dc1avI6Jg/KRPINrqUhD9x1js3yH+UP6TnTXzsZYI/ZwdYGfsAUj/0+HPAZJl0v7PEgNvJlms/6m3a+lfEXj8RFphfF49cvxonmETQq2Q/vTbkaFfqgj9l1mULG3iIP3Dsa+/l0HQ/AO76TamThD9bpXP9Ou9+P9y9N+G5Uoo/WqCTlKqjaT8kmDOkUyB8P2PGyh5X2ZU/D/pkV+zBhj9kAtenrg5iP0YjVcohmHk/8eTTY1sGbD/Z8CsNM2uQP5VhuBYJSZI/txM2Temqij8MCU8fuAGGP6/Lce9i4nc/FWSn+9ysbb8M/JW7vCZRv82d4U5qsHG/xg4ZRcXucb8+wesgnDyCv8rxVNFpJ4S/d3wpzuPCIz/NEq6RbpVxvwAAAAAAAPh/AAAAAAAA+H8AAAAAAAD4fwAAAAAAAPh/",
          "dtype": "f8"
         },
         "yaxis": "y"
        },
        {
         "hovertemplate": "Iter: %{x}<br>CumSum: %{y:.4f}<br>Condition: %{meta[0]}<extra></extra>",
         "legendgroup": "GP-SM",
         "line": {
          "color": "#636EFA"
         },
         "meta": [
          "GP-SM"
         ],
         "name": "GP-SM",
         "showlegend": false,
         "type": "scatter",
         "x": {
          "bdata": "AQACAAMABAAFAAYABwAIAAkACgALAAwADQAOAA8AEAARABIAEwAUABUAFgAXABgAGQAaABsAHAAdAB4AHwAgACEAIgAjACQAJQAmACcAKAApACoAKwAsAC0ALgAvADAAMQAyADMANAA1ADYANwA4ADkAOgA7ADwAPQA+AD8AQABBAEIAQwBEAEUARgBHAEgASQBKAEsATABNAE4ATwBQAFEAUgBTAFQAVQBWAFcAWABZAFoAWwBcAF0AXgBfAGAAYQBiAGMAZABlAGYAZwBoAGkAagBrAGwAbQBuAG8AcABxAHIAcwB0AHUAdgB3AHgAeQB6AHsAfAB9AH4AfwCAAIEAggCDAIQAhQCGAIcAiACJAIoAiwCMAI0AjgCPAJAAkQCSAJMAlACVAJYA",
          "dtype": "i2"
         },
         "xaxis": "x2",
         "y": {
          "bdata": "KhzTpRFF3D8ApQ/L1BLqP49uuwcfAfE/eS2gz/+K9D94xj+012P3PxBSAUHKGfo/ImHOIsqt/D+2X4jmSzn/P1hbsb/s7gBAYGGKO6cyAkCO+abW6EIDQC8k8u/FSQRAFNicg2dCBUDgOlowTDEGQBeT7TKyGgdANVA99tfvB0BEdnBCs80IQBIb9dnKpAlAEmgeLqdCCkB8vVadMOwKQDefFl+QkAtAHeFZJ9M9DEAKXWVJXOMMQMrikJ8fiA1Afo6PFmc8DkCYQTRyldYOQFqRh3Quew9As6o46CUJEEChvvfJ41sQQDx7Clz6qxBAZTOHpBb6EEBwtt0o1kURQBtihSR8kBFAXVnqof7bEUCBldUGuS0SQLK2YODwgRJA7s041o7bEkA6hW90qDETQN3aeGY4hBNA34NFsyDSE0BZd3Skex4UQFmUWnCHbhRAY2TtE2S4FEDA+xjhW/4UQDI1QKBqSxVA9bFe6O2TFUBNZoXrGt4VQB5d7akdJhZArCimU59sFkB1QG2vYLYWQAQ9L3DUBRdAsG1RZoNMF0AK7j7+CZUXQDl38iB03xdAWjcmDEssGEBRAqyfSHEYQLEHNoqIthhA0UVU8vsAGUDG6vsV10UZQAOo4CdFkhlAE9OpT5beGUASXrkV+SQaQNum9wxgaRpAYYKsOdKrGkCPNG4gE+8aQNDfgqMbMBtADWIwSMNqG0DZCqvCsKUbQCNpSCbx4xtAiMuDhpAdHECczt7iqlMcQHw84RJtlBxAs3zJa8rKHEAxPXK1XwAdQCwQ4NA3NR1A34fLclpoHUDNx2sUSJ8dQPhSwL4e1B1At/V2J3sHHkCDcYEV8TceQKnB6n4EbB5A/NHcr6eaHkB5TUbMI8YeQHl/X/9R9x5ALDXnheAlH0CY3kZLZlUfQLbkuFM6gB9ARvwcsaiqH0BOIngy7twfQFlJvTnuBiBA10BfH0IdIECf77jyozMgQJ1bHw3eSiBAvc2a15BjIEDEfQjOPXwgQMwo8RTNkiBArrNYwaapIEC9yJZ3Z78gQATfaz9Q1SBAWA+ps6TpIEA9n5NwswIhQGj/cTAJFSFA/a+7wZgpIUB0e0ljtD4hQFhgfl08UiFAuiM/vmBjIUB+wHGHu3ghQNI7p+sbjiFAuX2gJkSeIUDBDXlMJbAhQECu+kmixCFAxkQCxUfbIUBlX58mIPMhQP1B3FRcCCJAWAnfxFkaIkCXNmYjIS8iQIImi8TNQiJAD4OecvFYIkDxFu2WiWsiQOyH6ysigSJAxUXu6eqWIkC7ap4j8qkiQH5fXKrSviJAWD/bDx3TIkDEuPdM0ugiQP16UOIF/yJAuhsgdKwSI0CkSb0CLCkjQCL0/tHJPCNAAUg4v/NRI0ALFMRTomMjQBlp4h3gdSNATTLzZeqGI0DWo82VZZgjQPc7A9mhrCNAMBg4fK6+I0BXUfOMtNMjQCnJBflr5CNAzZmlHEv3I0DJTH5nVw0kQLFpp6+wISRAfReUDns2JEBOzR5oBUokQPFcvS/TXyRAd4TVIQB1JECLEwbTnogkQAAAAAAAAPh/AAAAAAAA+H8AAAAAAAD4fwAAAAAAAPh/",
          "dtype": "f8"
         },
         "yaxis": "y2"
        },
        {
         "hovertemplate": "Iter: %{x}<br>CumSum: %{y:.4f}<br>Condition: %{meta[0]}<extra></extra>",
         "legendgroup": "GP-CLS",
         "line": {
          "color": "#EF553B"
         },
         "meta": [
          "GP-CLS"
         ],
         "name": "GP-CLS",
         "showlegend": false,
         "type": "scatter",
         "x": {
          "bdata": "AQACAAMABAAFAAYABwAIAAkACgALAAwADQAOAA8AEAARABIAEwAUABUAFgAXABgAGQAaABsAHAAdAB4AHwAgACEAIgAjACQAJQAmACcAKAApACoAKwAsAC0ALgAvADAAMQAyADMANAA1ADYANwA4ADkAOgA7ADwAPQA+AD8AQABBAEIAQwBEAEUARgBHAEgASQBKAEsATABNAE4ATwBQAFEAUgBTAFQAVQBWAFcAWABZAFoAWwBcAF0AXgBfAGAAYQBiAGMAZABlAGYAZwBoAGkAagBrAGwAbQBuAG8AcABxAHIAcwB0AHUAdgB3AHgAeQB6AHsAfAB9AH4AfwCAAIEAggCDAIQAhQCGAIcAiACJAIoAiwCMAI0AjgCPAJAAkQCSAJMAlACVAJYA",
          "dtype": "i2"
         },
         "xaxis": "x2",
         "y": {
          "bdata": "YVg1PzVV5j8wt+k9A5j0P0bHH1bJUf0//4SgkIpcAkDkdH/i7d4FQEJwFNgbRAlAdsGF4chYDECVAlNO/JkPQKC+CpUkPBFAVsJuM3CrEkBI5e+njxkUQM6cdnm7ZhVAdJfEWRGtFkAwRfD2V94XQAJigLKXExlA2EwZk1koGkCV1NKlSC8bQFrJoViBLBxAt8vsYZ0oHUCtwVZkzzEeQIl9Jh/fGh9A005fYVMNIEBRN3TXNokgQIM1l+RJByFATcIXuM6JIUBEvReWdgkiQHzHOmbqiyJACskTUsgXI0AtI4caF6QjQGgbJOk/ICRAbMZFkZGjJEBy1yW9giMlQLFE6Og5miVACgsB03wcJkB7nXneMqAmQEvCz8mcICdA40e0nAOfJ0AaiEE87hsoQM4+WI/EmChAaDsnPr8YKUBbqftbXZ0pQATH5ivJHipA17/+/qeZKkAzcyYS8RcrQCsB1k+kkCtAcFl0oaj+K0C5yyMkd20sQBau7CcI0yxApTyYuWU8LUCi0XocKqYtQMptIbV2EC5ADj9vYRR3LkALWkpf0douQBsUhRUmQy9Ab7N6UBmoL0CL9jAz6wwwQMuh6vyARDBAQbRpf3qCMEAxLh6nsbwwQHMlgyQ09jBAod8uMjgvMUCD2Rfj1mcxQGKdPap0njFAYdjim+7VMUDTRI5j2g8yQHhCi0jwRjJASohNv597MkAeGYfWZrEyQFXQ2lpM5zJAH0eGLyYcM0Cj4oDenFAzQGRhv16YhTNAWm4yc0q7M0Ce6w480fIzQDGMqhVcLDRASTzGAkxiNECz6VJtgZY0QD469jSozDRAKJD/73UFNUBql8o2yzw1QBwZCCZbdTVARTj4VOCqNUDGxfb/FuM1QIyAVNSqGTZAaRXsdUFRNkCUgFCW2Ys2QO2C1AC4xjZApBUF53kBN0CkR4yeWzw3QEcaAm2YcjdAfs0XIHarN0D1uv1xeuQ3QGBJYOGSGzhAzZK4RoNTOEABOT3Lz4c4QFiay0RIujhAXaH+aVntOEAHvdzMjSA5QIpqSrIOTzlAvoYGTw58OUBWADGuXak5QLpbN0oD1jlAvMtrEqkEOkBP8CnczjA6QNoupPoFYDpAfgdSPEGPOkAKIOxLbb46QI3xGQiB7DpAC6GW+SEXO0B2bgAjVUU7QI2DA9lqdDtABxfQsL2jO0C2bjvsPdQ7QBX1uRFNAzxAPBo/DCwzPEDNzGDnAWE8QPwaptrLkDxABbG2c6u/PECUOFE4qO48QMYpT/z0HT1A6iibzT5OPUAQIR7AWX89QEFVBlZWsT1A7XZAIyLiPUAXHBYiXxM+QImq4tdZRD5A4aBRFa50PkC3Ndop1aU+QBkn5HDT1D5AlhweMH0FP0DDIMXckTU/QN4aEYyDYz9ALpD9UI2RP0Cqy5kkzcA/QCm1PWf48D9AKwCiPM8QQEAiElBzhCpAQIC/dDbAQ0BA0yN9kQdeQEBwKMZDKXhAQOVQ9s00kkBASpr3t4OtQECcMIfKrMhAQE4o/NHv40BAJIaLSlj/QEC9Zt8C9hdBQAAAAAAAAPh/AAAAAAAA+H8AAAAAAAD4fwAAAAAAAPh/",
          "dtype": "f8"
         },
         "yaxis": "y2"
        },
        {
         "hovertemplate": "Iter: %{x}<br>CumSum: %{y:.4f}<br>Condition: %{meta[0]}<extra></extra>",
         "legendgroup": "GP-UCB",
         "line": {
          "color": "#00CC96"
         },
         "meta": [
          "GP-UCB"
         ],
         "name": "GP-UCB",
         "showlegend": false,
         "type": "scatter",
         "x": {
          "bdata": "AQACAAMABAAFAAYABwAIAAkACgALAAwADQAOAA8AEAARABIAEwAUABUAFgAXABgAGQAaABsAHAAdAB4AHwAgACEAIgAjACQAJQAmACcAKAApACoAKwAsAC0ALgAvADAAMQAyADMANAA1ADYANwA4ADkAOgA7ADwAPQA+AD8AQABBAEIAQwBEAEUARgBHAEgASQBKAEsATABNAE4ATwBQAFEAUgBTAFQAVQBWAFcAWABZAFoAWwBcAF0AXgBfAGAAYQBiAGMAZABlAGYAZwBoAGkAagBrAGwAbQBuAG8AcABxAHIAcwB0AHUAdgB3AHgAeQB6AHsAfAB9AH4AfwCAAIEAggCDAIQAhQCGAIcAiACJAIoAiwCMAI0AjgCPAJAAkQCSAJMAlACVAJYA",
          "dtype": "i2"
         },
         "xaxis": "x2",
         "y": {
          "bdata": "f1Swsw6U8T8EEl7M4Hn5PwP38vG/mwBAXq/Dq78YBEBY7Bzw5gYHQOq9efIxIApAu0aUv0TVDEBdy1FtXUcPQL3Fw3sO1BBAloeWhisBEkBRcNWZnw8TQHQa6viwJxRABHO9NuQIFUD0fyG+JtYVQH3ulnb8eRZAMhjIWBItF0ArieyDLNsXQNlpI1b+hBhACnMDhi0WGUANcJxvn6gZQGEuTiH8GBpAWHKnBiyjGkB2GsRiL0cbQF7k5pwg0htAzTU6VSw8HECG7n9t6skcQEfEywp8VB1AHqh3FXbFHUBc8sBIsDEeQMlBv6VSsh5AqcMurhUxH0BVD89JJqYfQBcm+EswBSBA18qoVoMsIEDmPxJkclQgQFEGa8BEhCBAXwOjE4qhIECKQzaQLs4gQI8/Udmw7iBAv63hDywUIUCrcpDGVzUhQEFexzeTViFAHpYGflR7IUAV0eZveZshQMwr6qansiFAQ2RaZATNIUBdHw3ejushQHJKLyBq/SFAP7xCeuUZIkCmLOhieCkiQIGW+O01QiJAv8EXJlNRIkDuXpPaMGciQEULGkS1diJArDe0EgSJIkBkDKzj+JkiQGqwBK0bpiJA0Pnyyym6IkDMSSh9IdAiQB19J8F25yJAAJ8OGrD+IkDdHC8lExQjQNWtQ9prJiNAk8OVIfw5I0DvDxOMAlQjQFv6T7YAbCNAbt5v66V8I0CIJfi5tJAjQPlUcnLjoiNAd/5IbNK0I0C/SnU48cgjQN+WWoGz1iNAwLAPxffoI0DlO1XiXvUjQIM88j7FBCRAR48paQ8VJEAk5kgd0ykkQHqm4aXlPSRAyAeHKHBIJEBDiyT5yVAkQDf9Wt8IXyRAWrXImrVkJEClUv8zXWYkQN2gCSd8ZSRANK+RkoxuJECcNwYcwXEkQEanjCTmdiRAYJkBeFWBJEDNZ+eij4ckQCzsayaojiRAUjXEwlqWJEBwY6L3fJckQDQj8//hpSRAj1KdaR2wJECO08hmxr4kQEBSM1r9yyRAfqiRusHUJEDWw/Thfd0kQEIFduvr4yRAKSTjYlbtJED9RMIb9vMkQCAUAidJBSVATOb9JOMVJUBEG+6ROyIlQIBZkByfIyVAAYiXg3woJUB30BJROTclQAr33YeWOyVAcSizeOg+JUD+1Pk4G0clQOy/T52PUyVA8XHdy7RYJUDcD/mv9GIlQFYjGCuOZyVAFu7wMh5oJUCX31gGi2UlQKOX9nJEZyVAdm62lTpoJUC1cfscVmclQDe7/9mgaCVARfTZb1ttJUC7zZx2eXMlQDm7WpMTdiVA9DmufTh7JUBp6A1lFn8lQFg2hhOrhSVAkn8vTkWHJUAFBqRYyYolQGhrMwS2lSVAp0RJf2abJUAXwjNqh5wlQLsMbW66nyVA+Ukj1HqhJUDx36ltsKklQCI8NfLUsiVAp4mIrH+5JUBpXZAaAL8lQKJL7mb8wSVALJEemSHAJUB8tDhjmL8lQEjY7lVivSVAJjVGfSS7JUA2+j1WlbYlQPqkyXuLsSVAI3OtPp+xJUBhPduQbK8lQAAAAAAAAPh/AAAAAAAA+H8AAAAAAAD4fwAAAAAAAPh/",
          "dtype": "f8"
         },
         "yaxis": "y2"
        }
       ],
       "layout": {
        "annotations": [
         {
          "font": {
           "size": 16
          },
          "showarrow": false,
          "text": "Instant Regret",
          "x": 0.5,
          "xanchor": "center",
          "xref": "paper",
          "y": 1,
          "yanchor": "bottom",
          "yref": "paper"
         },
         {
          "font": {
           "size": 16
          },
          "showarrow": false,
          "text": "Cumulative Regret",
          "x": 0.5,
          "xanchor": "center",
          "xref": "paper",
          "y": 0.45,
          "yanchor": "bottom",
          "yref": "paper"
         }
        ],
        "height": 600,
        "legend": {
         "title": {
          "text": "Condition"
         },
         "x": 0.95,
         "xanchor": "left",
         "y": 0.99,
         "yanchor": "top"
        },
        "template": {
         "data": {
          "bar": [
           {
            "error_x": {
             "color": "#2a3f5f"
            },
            "error_y": {
             "color": "#2a3f5f"
            },
            "marker": {
             "line": {
              "color": "white",
              "width": 0.5
             },
             "pattern": {
              "fillmode": "overlay",
              "size": 10,
              "solidity": 0.2
             }
            },
            "type": "bar"
           }
          ],
          "barpolar": [
           {
            "marker": {
             "line": {
              "color": "white",
              "width": 0.5
             },
             "pattern": {
              "fillmode": "overlay",
              "size": 10,
              "solidity": 0.2
             }
            },
            "type": "barpolar"
           }
          ],
          "carpet": [
           {
            "aaxis": {
             "endlinecolor": "#2a3f5f",
             "gridcolor": "#C8D4E3",
             "linecolor": "#C8D4E3",
             "minorgridcolor": "#C8D4E3",
             "startlinecolor": "#2a3f5f"
            },
            "baxis": {
             "endlinecolor": "#2a3f5f",
             "gridcolor": "#C8D4E3",
             "linecolor": "#C8D4E3",
             "minorgridcolor": "#C8D4E3",
             "startlinecolor": "#2a3f5f"
            },
            "type": "carpet"
           }
          ],
          "choropleth": [
           {
            "colorbar": {
             "outlinewidth": 0,
             "ticks": ""
            },
            "type": "choropleth"
           }
          ],
          "contour": [
           {
            "colorbar": {
             "outlinewidth": 0,
             "ticks": ""
            },
            "colorscale": [
             [
              0,
              "#0d0887"
             ],
             [
              0.1111111111111111,
              "#46039f"
             ],
             [
              0.2222222222222222,
              "#7201a8"
             ],
             [
              0.3333333333333333,
              "#9c179e"
             ],
             [
              0.4444444444444444,
              "#bd3786"
             ],
             [
              0.5555555555555556,
              "#d8576b"
             ],
             [
              0.6666666666666666,
              "#ed7953"
             ],
             [
              0.7777777777777778,
              "#fb9f3a"
             ],
             [
              0.8888888888888888,
              "#fdca26"
             ],
             [
              1,
              "#f0f921"
             ]
            ],
            "type": "contour"
           }
          ],
          "contourcarpet": [
           {
            "colorbar": {
             "outlinewidth": 0,
             "ticks": ""
            },
            "type": "contourcarpet"
           }
          ],
          "heatmap": [
           {
            "colorbar": {
             "outlinewidth": 0,
             "ticks": ""
            },
            "colorscale": [
             [
              0,
              "#0d0887"
             ],
             [
              0.1111111111111111,
              "#46039f"
             ],
             [
              0.2222222222222222,
              "#7201a8"
             ],
             [
              0.3333333333333333,
              "#9c179e"
             ],
             [
              0.4444444444444444,
              "#bd3786"
             ],
             [
              0.5555555555555556,
              "#d8576b"
             ],
             [
              0.6666666666666666,
              "#ed7953"
             ],
             [
              0.7777777777777778,
              "#fb9f3a"
             ],
             [
              0.8888888888888888,
              "#fdca26"
             ],
             [
              1,
              "#f0f921"
             ]
            ],
            "type": "heatmap"
           }
          ],
          "histogram": [
           {
            "marker": {
             "pattern": {
              "fillmode": "overlay",
              "size": 10,
              "solidity": 0.2
             }
            },
            "type": "histogram"
           }
          ],
          "histogram2d": [
           {
            "colorbar": {
             "outlinewidth": 0,
             "ticks": ""
            },
            "colorscale": [
             [
              0,
              "#0d0887"
             ],
             [
              0.1111111111111111,
              "#46039f"
             ],
             [
              0.2222222222222222,
              "#7201a8"
             ],
             [
              0.3333333333333333,
              "#9c179e"
             ],
             [
              0.4444444444444444,
              "#bd3786"
             ],
             [
              0.5555555555555556,
              "#d8576b"
             ],
             [
              0.6666666666666666,
              "#ed7953"
             ],
             [
              0.7777777777777778,
              "#fb9f3a"
             ],
             [
              0.8888888888888888,
              "#fdca26"
             ],
             [
              1,
              "#f0f921"
             ]
            ],
            "type": "histogram2d"
           }
          ],
          "histogram2dcontour": [
           {
            "colorbar": {
             "outlinewidth": 0,
             "ticks": ""
            },
            "colorscale": [
             [
              0,
              "#0d0887"
             ],
             [
              0.1111111111111111,
              "#46039f"
             ],
             [
              0.2222222222222222,
              "#7201a8"
             ],
             [
              0.3333333333333333,
              "#9c179e"
             ],
             [
              0.4444444444444444,
              "#bd3786"
             ],
             [
              0.5555555555555556,
              "#d8576b"
             ],
             [
              0.6666666666666666,
              "#ed7953"
             ],
             [
              0.7777777777777778,
              "#fb9f3a"
             ],
             [
              0.8888888888888888,
              "#fdca26"
             ],
             [
              1,
              "#f0f921"
             ]
            ],
            "type": "histogram2dcontour"
           }
          ],
          "mesh3d": [
           {
            "colorbar": {
             "outlinewidth": 0,
             "ticks": ""
            },
            "type": "mesh3d"
           }
          ],
          "parcoords": [
           {
            "line": {
             "colorbar": {
              "outlinewidth": 0,
              "ticks": ""
             }
            },
            "type": "parcoords"
           }
          ],
          "pie": [
           {
            "automargin": true,
            "type": "pie"
           }
          ],
          "scatter": [
           {
            "fillpattern": {
             "fillmode": "overlay",
             "size": 10,
             "solidity": 0.2
            },
            "type": "scatter"
           }
          ],
          "scatter3d": [
           {
            "line": {
             "colorbar": {
              "outlinewidth": 0,
              "ticks": ""
             }
            },
            "marker": {
             "colorbar": {
              "outlinewidth": 0,
              "ticks": ""
             }
            },
            "type": "scatter3d"
           }
          ],
          "scattercarpet": [
           {
            "marker": {
             "colorbar": {
              "outlinewidth": 0,
              "ticks": ""
             }
            },
            "type": "scattercarpet"
           }
          ],
          "scattergeo": [
           {
            "marker": {
             "colorbar": {
              "outlinewidth": 0,
              "ticks": ""
             }
            },
            "type": "scattergeo"
           }
          ],
          "scattergl": [
           {
            "marker": {
             "colorbar": {
              "outlinewidth": 0,
              "ticks": ""
             }
            },
            "type": "scattergl"
           }
          ],
          "scattermap": [
           {
            "marker": {
             "colorbar": {
              "outlinewidth": 0,
              "ticks": ""
             }
            },
            "type": "scattermap"
           }
          ],
          "scattermapbox": [
           {
            "marker": {
             "colorbar": {
              "outlinewidth": 0,
              "ticks": ""
             }
            },
            "type": "scattermapbox"
           }
          ],
          "scatterpolar": [
           {
            "marker": {
             "colorbar": {
              "outlinewidth": 0,
              "ticks": ""
             }
            },
            "type": "scatterpolar"
           }
          ],
          "scatterpolargl": [
           {
            "marker": {
             "colorbar": {
              "outlinewidth": 0,
              "ticks": ""
             }
            },
            "type": "scatterpolargl"
           }
          ],
          "scatterternary": [
           {
            "marker": {
             "colorbar": {
              "outlinewidth": 0,
              "ticks": ""
             }
            },
            "type": "scatterternary"
           }
          ],
          "surface": [
           {
            "colorbar": {
             "outlinewidth": 0,
             "ticks": ""
            },
            "colorscale": [
             [
              0,
              "#0d0887"
             ],
             [
              0.1111111111111111,
              "#46039f"
             ],
             [
              0.2222222222222222,
              "#7201a8"
             ],
             [
              0.3333333333333333,
              "#9c179e"
             ],
             [
              0.4444444444444444,
              "#bd3786"
             ],
             [
              0.5555555555555556,
              "#d8576b"
             ],
             [
              0.6666666666666666,
              "#ed7953"
             ],
             [
              0.7777777777777778,
              "#fb9f3a"
             ],
             [
              0.8888888888888888,
              "#fdca26"
             ],
             [
              1,
              "#f0f921"
             ]
            ],
            "type": "surface"
           }
          ],
          "table": [
           {
            "cells": {
             "fill": {
              "color": "#EBF0F8"
             },
             "line": {
              "color": "white"
             }
            },
            "header": {
             "fill": {
              "color": "#C8D4E3"
             },
             "line": {
              "color": "white"
             }
            },
            "type": "table"
           }
          ]
         },
         "layout": {
          "annotationdefaults": {
           "arrowcolor": "#2a3f5f",
           "arrowhead": 0,
           "arrowwidth": 1
          },
          "autotypenumbers": "strict",
          "coloraxis": {
           "colorbar": {
            "outlinewidth": 0,
            "ticks": ""
           }
          },
          "colorscale": {
           "diverging": [
            [
             0,
             "#8e0152"
            ],
            [
             0.1,
             "#c51b7d"
            ],
            [
             0.2,
             "#de77ae"
            ],
            [
             0.3,
             "#f1b6da"
            ],
            [
             0.4,
             "#fde0ef"
            ],
            [
             0.5,
             "#f7f7f7"
            ],
            [
             0.6,
             "#e6f5d0"
            ],
            [
             0.7,
             "#b8e186"
            ],
            [
             0.8,
             "#7fbc41"
            ],
            [
             0.9,
             "#4d9221"
            ],
            [
             1,
             "#276419"
            ]
           ],
           "sequential": [
            [
             0,
             "#0d0887"
            ],
            [
             0.1111111111111111,
             "#46039f"
            ],
            [
             0.2222222222222222,
             "#7201a8"
            ],
            [
             0.3333333333333333,
             "#9c179e"
            ],
            [
             0.4444444444444444,
             "#bd3786"
            ],
            [
             0.5555555555555556,
             "#d8576b"
            ],
            [
             0.6666666666666666,
             "#ed7953"
            ],
            [
             0.7777777777777778,
             "#fb9f3a"
            ],
            [
             0.8888888888888888,
             "#fdca26"
            ],
            [
             1,
             "#f0f921"
            ]
           ],
           "sequentialminus": [
            [
             0,
             "#0d0887"
            ],
            [
             0.1111111111111111,
             "#46039f"
            ],
            [
             0.2222222222222222,
             "#7201a8"
            ],
            [
             0.3333333333333333,
             "#9c179e"
            ],
            [
             0.4444444444444444,
             "#bd3786"
            ],
            [
             0.5555555555555556,
             "#d8576b"
            ],
            [
             0.6666666666666666,
             "#ed7953"
            ],
            [
             0.7777777777777778,
             "#fb9f3a"
            ],
            [
             0.8888888888888888,
             "#fdca26"
            ],
            [
             1,
             "#f0f921"
            ]
           ]
          },
          "colorway": [
           "#636efa",
           "#EF553B",
           "#00cc96",
           "#ab63fa",
           "#FFA15A",
           "#19d3f3",
           "#FF6692",
           "#B6E880",
           "#FF97FF",
           "#FECB52"
          ],
          "font": {
           "color": "#2a3f5f"
          },
          "geo": {
           "bgcolor": "white",
           "lakecolor": "white",
           "landcolor": "white",
           "showlakes": true,
           "showland": true,
           "subunitcolor": "#C8D4E3"
          },
          "hoverlabel": {
           "align": "left"
          },
          "hovermode": "closest",
          "mapbox": {
           "style": "light"
          },
          "paper_bgcolor": "white",
          "plot_bgcolor": "white",
          "polar": {
           "angularaxis": {
            "gridcolor": "#EBF0F8",
            "linecolor": "#EBF0F8",
            "ticks": ""
           },
           "bgcolor": "white",
           "radialaxis": {
            "gridcolor": "#EBF0F8",
            "linecolor": "#EBF0F8",
            "ticks": ""
           }
          },
          "scene": {
           "xaxis": {
            "backgroundcolor": "white",
            "gridcolor": "#DFE8F3",
            "gridwidth": 2,
            "linecolor": "#EBF0F8",
            "showbackground": true,
            "ticks": "",
            "zerolinecolor": "#EBF0F8"
           },
           "yaxis": {
            "backgroundcolor": "white",
            "gridcolor": "#DFE8F3",
            "gridwidth": 2,
            "linecolor": "#EBF0F8",
            "showbackground": true,
            "ticks": "",
            "zerolinecolor": "#EBF0F8"
           },
           "zaxis": {
            "backgroundcolor": "white",
            "gridcolor": "#DFE8F3",
            "gridwidth": 2,
            "linecolor": "#EBF0F8",
            "showbackground": true,
            "ticks": "",
            "zerolinecolor": "#EBF0F8"
           }
          },
          "shapedefaults": {
           "line": {
            "color": "#2a3f5f"
           }
          },
          "ternary": {
           "aaxis": {
            "gridcolor": "#DFE8F3",
            "linecolor": "#A2B1C6",
            "ticks": ""
           },
           "baxis": {
            "gridcolor": "#DFE8F3",
            "linecolor": "#A2B1C6",
            "ticks": ""
           },
           "bgcolor": "white",
           "caxis": {
            "gridcolor": "#DFE8F3",
            "linecolor": "#A2B1C6",
            "ticks": ""
           }
          },
          "title": {
           "x": 0.05
          },
          "xaxis": {
           "automargin": true,
           "gridcolor": "#EBF0F8",
           "linecolor": "#EBF0F8",
           "ticks": "",
           "title": {
            "standoff": 15
           },
           "zerolinecolor": "#EBF0F8",
           "zerolinewidth": 2
          },
          "yaxis": {
           "automargin": true,
           "gridcolor": "#EBF0F8",
           "linecolor": "#EBF0F8",
           "ticks": "",
           "title": {
            "standoff": 15
           },
           "zerolinecolor": "#EBF0F8",
           "zerolinewidth": 2
          }
         }
        },
        "title": {
         "text": "bestcase_50_16",
         "x": 0.5
        },
        "width": 800,
        "xaxis": {
         "anchor": "y",
         "domain": [
          0,
          1
         ]
        },
        "xaxis2": {
         "anchor": "y2",
         "domain": [
          0,
          1
         ],
         "title": {
          "text": "Iteration"
         }
        },
        "yaxis": {
         "anchor": "x",
         "domain": [
          0.55,
          1
         ],
         "title": {
          "text": "Instant Regret"
         }
        },
        "yaxis2": {
         "anchor": "x2",
         "domain": [
          0,
          0.45
         ],
         "title": {
          "text": "Cumulative Regret"
         }
        }
       }
      }
     },
     "metadata": {},
     "output_type": "display_data"
    }
   ],
   "source": [
    "import pandas as pd\n",
    "import plotly.graph_objects as go\n",
    "import plotly.express as px\n",
    "from plotly.subplots import make_subplots\n",
    "import plotly.io as pio\n",
    "import os\n",
    "import numpy as np\n",
    "\n",
    "text = \"bestcase\"\n",
    "\n",
    "# 定义文件夹路径和CSV文件列表\n",
    "data_folder = os.path.join('Data', text)\n",
    "files = ['50_16_smallest.csv','50_16_cluster.csv','50_16_dynamic.csv']\n",
    "curve_names = ['GP-SM','GP-CLS', 'GP-UCB']\n",
    "colors = px.colors.qualitative.Plotly[:len(curve_names)] \n",
    "\n",
    "# 创建三个DataFrame分别存储原始均值、最优均值和累积遗憾\n",
    "all_mean_data = pd.DataFrame()\n",
    "all_best_data = pd.DataFrame()\n",
    "all_cumsum_data = pd.DataFrame()  # 新增：存储Cumulative Regret\n",
    "\n",
    "# 循环处理每个文件\n",
    "for file, name in zip(files, curve_names):\n",
    "    file_path = os.path.join(data_folder, file)\n",
    "    df = pd.read_csv(file_path, index_col='Repetition')\n",
    "    \n",
    "    # 计算每个step的均值（Instant Regret）\n",
    "    mean_results = df.mean(axis=0)\n",
    "    \n",
    "    # 计算当前最优均值（Simple Regret，可选保留或删除）\n",
    "    best_results = np.minimum.accumulate(mean_results.values)\n",
    "    \n",
    "    # 添加到原始均值DataFrame\n",
    "    temp_mean_df = pd.DataFrame({\n",
    "        'Iter': range(1, 151),\n",
    "        'Value': mean_results.values,\n",
    "        'Condition': name\n",
    "    })\n",
    "    \n",
    "    # 添加到最优均值DataFrame（可选保留或删除）\n",
    "    temp_best_df = pd.DataFrame({\n",
    "        'Iter': range(1, 151),\n",
    "        'Value': best_results,\n",
    "        'Condition': name\n",
    "    })    \n",
    "    \n",
    "    # 新增：计算Cumulative Regret（排除Uniform条件）\n",
    "    if name != 'Uniform':\n",
    "        cumsum_results = np.cumsum(mean_results.values)\n",
    "        temp_cumsum_df = pd.DataFrame({\n",
    "            'Iter': range(1, 151),\n",
    "            'Value': cumsum_results,\n",
    "            'Condition': name\n",
    "        })\n",
    "        all_cumsum_data = pd.concat([all_cumsum_data, temp_cumsum_df])\n",
    "    \n",
    "    all_mean_data = pd.concat([all_mean_data, temp_mean_df])\n",
    "    all_best_data = pd.concat([all_best_data, temp_best_df])\n",
    "\n",
    "# 创建子图（2行1列，垂直排列）\n",
    "fig = make_subplots(\n",
    "    rows=2, cols=1,\n",
    "    vertical_spacing=0.1,\n",
    "    subplot_titles=(\"Instant Regret\", \"Cumulative Regret\")  # 添加子图标题\n",
    ")\n",
    "\n",
    "# 为每个条件添加原始均值曲线（Instant Regret，第一个子图）\n",
    "for i, condition in enumerate(curve_names):\n",
    "    mean_df = all_mean_data[all_mean_data['Condition'] == condition]\n",
    "    fig.add_trace(\n",
    "        go.Scatter(\n",
    "            x=mean_df['Iter'],\n",
    "            y=mean_df['Value'],\n",
    "            name=condition,\n",
    "            legendgroup=condition,\n",
    "            showlegend=True,\n",
    "            line=dict(color=colors[i]),\n",
    "            meta=[condition],\n",
    "            hovertemplate=\"Iter: %{x}<br>Mean: %{y:.4f}<br>Condition: %{meta[0]}<extra></extra>\"\n",
    "        ),\n",
    "        row=1, col=1\n",
    "    )\n",
    "\n",
    "# 为每个条件（排除Uniform）添加累积遗憾曲线（Cumulative Regret，第二个子图）\n",
    "for i, condition in enumerate(curve_names):\n",
    "    if condition == 'Uniform':\n",
    "        continue  # 跳过Uniform条件\n",
    "    cumsum_df = all_cumsum_data[all_cumsum_data['Condition'] == condition]\n",
    "    fig.add_trace(\n",
    "        go.Scatter(\n",
    "            x=cumsum_df['Iter'],\n",
    "            y=cumsum_df['Value'],\n",
    "            name=condition,\n",
    "            legendgroup=condition,\n",
    "            showlegend=False,  # 避免重复图例\n",
    "            line=dict(color=colors[i]),\n",
    "            meta=[condition],\n",
    "            hovertemplate=\"Iter: %{x}<br>CumSum: %{y:.4f}<br>Condition: %{meta[0]}<extra></extra>\"\n",
    "        ),\n",
    "        row=2, col=1\n",
    "    )\n",
    "\n",
    "# 更新布局\n",
    "fig.update_layout(\n",
    "    title_text=text+\"_50_16\",\n",
    "    title_x=0.5,\n",
    "    height=600,\n",
    "    width=800,\n",
    "    template='plotly_white',\n",
    "    legend_title_text='Condition',\n",
    "    legend=dict(yanchor=\"top\", y=0.99, xanchor=\"left\", x=0.95)\n",
    ")\n",
    "\n",
    "# 更新Y轴和X轴标签\n",
    "fig.update_yaxes(title_text=\"Instant Regret\", row=1, col=1)\n",
    "fig.update_yaxes(title_text=\"Cumulative Regret\", row=2, col=1)\n",
    "fig.update_xaxes(title_text=\"Iteration\", row=2, col=1)  # 仅底部子图显示X轴标签\n",
    "\n",
    "# 显示图形\n",
    "fig.show()\n",
    "\n",
    "# 保存为HTML文件\n",
    "#pio.write_html(fig, '50_16_instant.html')"
   ]
  },
  {
   "cell_type": "code",
   "execution_count": 11,
   "id": "2f3ce067",
   "metadata": {},
   "outputs": [
    {
     "data": {
      "application/vnd.plotly.v1+json": {
       "config": {
        "plotlyServerURL": "https://plot.ly"
       },
       "data": [
        {
         "hovertemplate": "Iter: %{x}<br>Value: %{y:.4f}<br>Condition: %{meta[0]}<extra></extra>",
         "line": {
          "color": "#636EFA"
         },
         "meta": [
          "GP-SM"
         ],
         "name": "GP-SM",
         "showlegend": true,
         "type": "scatter",
         "x": {
          "bdata": "AQACAAMABAAFAAYABwAIAAkACgALAAwADQAOAA8AEAARABIAEwAUABUAFgAXABgAGQAaABsAHAAdAB4AHwAgACEAIgAjACQAJQAmACcAKAApACoAKwAsAC0ALgAvADAAMQAyADMANAA1ADYANwA4ADkAOgA7ADwAPQA+AD8AQABBAEIAQwBEAEUARgBHAEgASQBKAEsATABNAE4ATwBQAFEAUgBTAFQAVQBWAFcAWABZAFoAWwBcAF0AXgBfAGAAYQBiAGMAZABlAGYAZwBoAGkAagBrAGwAbQBuAG8AcABxAHIAcwB0AHUAdgB3AHgAeQB6AHsAfAB9AH4AfwCAAIEAggCDAIQAhQCGAIcAiACJAIoAiwCMAI0AjgCPAJAAkQCSAJMAlACVAJYA",
          "dtype": "i2"
         },
         "xaxis": "x",
         "y": {
          "bdata": "KhzTpRFF3D+3Tjb41a/WP5W/+veYx88/dhRVLVet0j9Zht0cU5zSP10OYDamzM8//biiOVc5zD/copVEv3/GP9JmeI8PVsU/AHhofINTyj+RvE2SwWTHP+4Tv+G9otA/H+1biRz+xz+dIgjYj5XFPzIy2yjFocU/WR1dybKEwj+hfB0UcKvDP5Y/OtCeJsY/rhbFmOEsvD9ZH6H4w2G/P0aGZujpbcE/pMrmYOxzwT8ZBfiltaDAPxXj2FaP178/iYXZg8ihwD8+u2kggwK6P2YRZrYH/b4/KUeTHa38uj+bMxA568HAP9QTcOK+6L8/HKtd3A9Bvj+qV1yuEOi+P+S+1TpxObw//Zbvz/u1uz+6fLQBob66PwrVBIi527o/sJw85OVovT/zs+ykGea5P3UNIGldkLw/BPwaSYJwvT9rqm/hwZe8P+6ZJQFqars/rN1SqiDivD/1RbDfgW+8P6SEuw4wTr0/Keh34rqquj8JeJsAjDC8P8ki3zdQcrs/xMdx8QHLuT9kmo6ltKO7P3cZkE9aSrw/KVYzWF7fuj/EUu2cL7+8P6HU8L8naLs/hqFDTs1Tuz8bgA2IEFe6P61P8TdZIrs/WlOhAqgquz+eAgWDEDW8Pw+/m27ZIbw/UB5xI8BEvT/cclK87tG5PzPy50kHWbw/HdG8mybruz9n2UkzzL+4P8/6cGwZTLs/6koV1tcEuD8ZTLLEuTy8PwE5FzVO+bg/y4YRnqz0uD++j7RlCue2P5/It5sEk7k/SYjyBS0kuD+HuchhVHa4P4OBVWN377g/ft9kwP6Qtz8q7uYXk2y3P3MYXtttqbU/scrggzLotz8AT5F6hqe2P9lD6ixpe7Y/kYUMCNF+tD83EmiwqfO2P4cZmf8PL7c/LJpzlZP1tj8DE8mhj0O2PwTtH1VePLU/HICyzp0Ftj9KS3dpVd21P10ZZUf0fLk/6mM+INCZuD+CCsZAVm+2PzqlFxC1yLU/xqvQZCM0uD/SaIX8Rk61P90akDyPCbQ/Nhs+/A/DtT/zC68kea6zP0duhHwHdrU/tBawLrgwtj+CLyivcdm2P/G7IFn3xrU//yIxCksFtj/Hog3k/dy0P9O6srBMZLU/bAzwk1lzsj+6qrX5SBOyP1oWAm83d7Q/qovKPKh6sj+Ov2y6HZmwPxZnevc1ALM/5qGSFgq0sT+DUlm5vN60P+qJZh0NX7Y/AdroLhsvsT/aUQooQlizP0TE8aD9bLQ/DYLY488Bsz9tKgpzOkixPw8UnB44i7M/zqaRBE+Psz+EZFzMKsexP6HxIBlOdbQ/KuW1ErpLsj+QeB6B5EK0P/SUMC6wIrQ/tROTpUSAsz8F93GiywmyP1n/5zBfXrI/U7RyLzArtD/69xkXDoS0P6sHcYozK7Y/ZuOuS3oFsz9piD3HWlawP1FGyoTNbrE/k4qi40ZttD/6bju1ezqzPyUMXk/PFrM/kpYllYSfsz/nUYP7k4q0P0DcDG6izbI/yzPBAiqusj/a3BnupAazP02d7AuNzLY/fVAq9NT9tD9Us73MZsSxPwAAAAAAAPh/AAAAAAAA+H8AAAAAAAD4fwAAAAAAAPh/",
          "dtype": "f8"
         },
         "yaxis": "y"
        },
        {
         "hovertemplate": "Iter: %{x}<br>Value: %{y:.4f}<br>Condition: %{meta[0]}<extra></extra>",
         "line": {
          "color": "#EF553B"
         },
         "meta": [
          "GP-CLS"
         ],
         "name": "GP-CLS",
         "showlegend": true,
         "type": "scatter",
         "x": {
          "bdata": "AQACAAMABAAFAAYABwAIAAkACgALAAwADQAOAA8AEAARABIAEwAUABUAFgAXABgAGQAaABsAHAAdAB4AHwAgACEAIgAjACQAJQAmACcAKAApACoAKwAsAC0ALgAvADAAMQAyADMANAA1ADYANwA4ADkAOgA7ADwAPQA+AD8AQABBAEIAQwBEAEUARgBHAEgASQBKAEsATABNAE4ATwBQAFEAUgBTAFQAVQBWAFcAWABZAFoAWwBcAF0AXgBfAGAAYQBiAGMAZABlAGYAZwBoAGkAagBrAGwAbQBuAG8AcABxAHIAcwB0AHUAdgB3AHgAeQB6AHsAfAB9AH4AfwCAAIEAggCDAIQAhQCGAIcAiACJAIoAiwCMAI0AjgCPAJAAkQCSAJMAlACVAJYA",
          "dtype": "i2"
         },
         "xaxis": "x",
         "y": {
          "bdata": "4iCPTst96T+XAr8zxx/nPweO3oPq+eQ/oQYK81Vp4j8w8ntkPNPjPxNK8YOFpeI/vHxGfe004D8n3u7Sc7jgP10/s9qyMuA/IRpLxp/W4D+KEA1BxLzdP/7+usDS5t0/YXxjmnta2T9ptYlcOcTXP4n0/84a4Nc/zRW4T6HN1T8/ppFy00LUPwYZSQPA+dQ/XzbwWY1b0z/lS/DOIlzSPzlhMO0JANM/V7SUh+AT0j99qkHPnZfSPyVAqObNPNA/Mef1A/qg0D+yi488/Y3PP5HimyWAGtA/Sclh5vFqzz+Zi4rKGLHNP7EeUmdJ28w/G/UQje4gzj8au8VEywLOP0Kyt8u1n9A/PXyZKEJq0D/ibkdv71HMP58Cu/X1188/BguCInHqzj/8XlSctLrOP73EIeSFPcw/satumuOByz8/THqXCqnLPx652i9E88s/lJwCTxArzD8gKSLDKt7LP4JdXsoKj8s/1z36p5x3zT/ns7u/+YzMPz1OCFQ248s/EvBHLXBVzD+s/UI0X8rKP995BjH0rMo/U+Wh3KMkxz+RRJ0nDDjJP5XmoJXFDsk/K1EtWUyjyj9dOSCuQQTLPzVKu/W+Fco/JOtMffyByj9yxovg2uTKP4IwJQBtGco/RMb+DTVl0D+1DdriUWHKP7LQ4TRX4Ms/LBt5/LqvyT8bsia7PhjKP5KKNF+TI9A/wmw5zqQE0D/ldgsAMWXQP5QzSzmWrso/NFqPQ0Ud0D+EW+PYH83NP44BEK63BNA/zIqXXeYq0D9UfZ2KCgvQP+G9x70dBdA/uk7/NfxKzz86EXyLBqjPP5+NJXXL18Y/w23Imuz6zj8Aok+avLfHP+CPIx7Rhc0/8l61MuGXzj+CI247WsLNP9fEJlZqGs4/jcYizgv4xj+nJlOXHt/NP0N5DHwy7M0/U1703uE/zj+yA4o0zRfOP305IeJU2c0/Qw1xPgcozj8LjD38fUfMP0NjN32H7MY/78CBEXxUxT8+LGYWM1TNP7oeciARQMg/R71MuWcCxz/x/i4iQDzMPyEgBImSNc0/ylt3vJKtzD9N2lTdI5vMP2wEGTjXZ80/7N2Ncwn1zT/yIKvJwdrMP2vBwoBcGcc/vy2zY37JzT+TxY/D8nnHPwAo69xZYMg/hxXtqVQIxz/Ukf+l6CTJPy2+jiWZws8/tBBl8HjbzD/Tse8vJw3NP7LB5kAzrMY/ahcKD9Efxj8DEJvsw57GP2NIlhSg7sc/Us47csgqxz8qdF5jl6jFP8FD0FBbosY/eatTisLTzT8aiJz1YInGP2OxTSoaa8c/lHTx2zTaxj+gpZlc+gXHPy/M1Lbzj8U/PGqDSpOJxj8PFeP8TSjHP14/6pyMF8c/wAAwDMb2xj/S//HdZT7GP3Q5OOtmWcY/djE7+WJdxj9qEQlerCfHP6YSZw4Sa8Y/BN1e0hitxj/zPiBiFQHHPzXxRbJ+asY/C7hCs0aYzT8Xey++aI/NPywfOB23Ts0/H3IgEUBXxj+13t04l1DGP3RM8GCeqMY/5BrDwJfmxj+lPKnlvSDNPwAAAAAAAPh/AAAAAAAA+H8AAAAAAAD4fwAAAAAAAPh/",
          "dtype": "f8"
         },
         "yaxis": "y"
        },
        {
         "hovertemplate": "Iter: %{x}<br>Value: %{y:.4f}<br>Condition: %{meta[0]}<extra></extra>",
         "line": {
          "color": "#00CC96"
         },
         "meta": [
          "GP-UCB"
         ],
         "name": "GP-UCB",
         "showlegend": true,
         "type": "scatter",
         "x": {
          "bdata": "AQACAAMABAAFAAYABwAIAAkACgALAAwADQAOAA8AEAARABIAEwAUABUAFgAXABgAGQAaABsAHAAdAB4AHwAgACEAIgAjACQAJQAmACcAKAApACoAKwAsAC0ALgAvADAAMQAyADMANAA1ADYANwA4ADkAOgA7ADwAPQA+AD8AQABBAEIAQwBEAEUARgBHAEgASQBKAEsATABNAE4ATwBQAFEAUgBTAFQAVQBWAFcAWABZAFoAWwBcAF0AXgBfAGAAYQBiAGMAZABlAGYAZwBoAGkAagBrAGwAbQBuAG8AcABxAHIAcwB0AHUAdgB3AHgAeQB6AHsAfAB9AH4AfwCAAIEAggCDAIQAhQCGAIcAiACJAIoAiwCMAI0AjgCPAJAAkQCSAJMAlACVAJYA",
          "dtype": "i2"
         },
         "xaxis": "x",
         "y": {
          "bdata": "iN3SxQGv8D+f8gw+8UDmPxYl1wOc1OA/RmHggjWX4j+jOvnQ4X3aPxaN2bZMqto/dHukHCfg1z93QemwZ3TRP0LT22jJLNA/z5qNAx0b0T9P9K+bCNHPP6QnrUB19M8/YM3utvgByz8ioENhmJTHP6vho0Zpt8k/8VHtQXZMyz/5187TXErKP9CLkg/55sY/AgPkJ7FHxz+36Anwgi3EP3PzxKp4WsM/av4qUvPnwD+gU1nds3fAPy/9AcV+Bb0/PVrCx036vD9/S26C3R68Pw+0cMcJgbQ/h6ChtkRltj9sRuLB8sOyPwv6UyuUzbc/STonGsjXtD9++007DwG2P0Z9tjIFj7E/iUM2kC42sT/3PxsUKL20P4fJ03G0YrE/YWva6Stspj/Q6FjvgWeoP+QUQcB+rKw/ag+ObMFlqD+CjVlkqWOnP0cobPWLyKI/kIwwoHKnnz+M6FaHW72aP95x+BKYvJ8/XBAS6mpzoD/6DKg3o+ajP41bqNh04JA/va1zi3hqlT/PCdhFCMaYP34GC14r2I0/hB02yFvlgD/vj4XoEDgyP8HHKQPQ8Yo/Gpa+jyLqfT9icpD9GcuRP9FgFKnV/F0/EQRaTP65kj8curOJpsaWP5c8wo24JJM/RIRu5dtxiT9aG3RTFPl/PwbT+blqZ4E/fXvXoC+9lT9QiTMHiTWNPz1n+DxsD4g/EfJNUhgTKr8N1NB05LaLPwR7FeJatm8/kdI1XK3cdD/jeac5sFODP/BmDd5X5YK/XgV5vucIgb+L0CwtR+x3vya+JN+2AI6/HCSyfTbggb9nCz9vYRR7v7wPzAim0Us/vHgso34Ei7/dq1Ym/FJ/vzZaaa3DLJe/dbRzY0MAib+lWcZzo7WXvx9d7akdRpm/5Hyx9+KLlr8TW4tgLYiSv3k1wbick3+/rdxCjuQpgr+ilJH7ntl2v5tVjOBsYHi/+ycAR4Nckr9gfD+j4m2Dv/Mr55zpb5O/K/LHkD/0mL8UdY0EiPB9v1/E9hLiSZq/DODloW4fkb9Li2ipKqKUv32xLqVl25i/2pqa8aMHk7+uJ5Y3Y3ScvxRXAwILzpa/tIYuhHgAn7/xYqsVtxuWv4dy/Rb45Z+/qx7VVSaheb93UhUJXA2Xv7a8O/uTwZq/xbzF+j3omL9hwTRD4eqjv6Vh1JH/paC/V5hQU11So78vALHJPuyZv4D2kckXIp2/KWSMtPkkoL+6K7tgcM2pv4O1ewPdqKe/QYI9gQsNp7+Py+9rW8ujvymLMLM96KO/AYnvjeo9qr/WZKBFyb6iv8IP4XLPzaG/D7niq+YCoL/Cw9hmhxynv9ZEHkA+oKO/ywKlIPcso7+O0QPowDuiv3vwJDMo5Jy/NTYqJiXzor/MQApDiTubv+KSrIwPfJ2/oejLHNznor+WJgBaTp2iv7+qjcTenqK/I0dxxfwTo7/BAdKjTuWZv8s7BuNfg6G/zJgUsRrdm78WAc2f7rupv+wXI0lHcKa/jEwuNEXun7+PvSiLDLykv4tvuvcCRaK/sUR6ZIagob8fAo/wPg+mvwAAAAAAAPh/AAAAAAAA+H8AAAAAAAD4fwAAAAAAAPh/",
          "dtype": "f8"
         },
         "yaxis": "y"
        },
        {
         "hovertemplate": "Iter: %{x}<br>Value: %{y:.4f}<br>Condition: %{meta[0]}<extra></extra>",
         "line": {
          "color": "#636EFA"
         },
         "meta": [
          "GP-SM"
         ],
         "name": "GP-SM",
         "showlegend": false,
         "type": "scatter",
         "x": {
          "bdata": "AQACAAMABAAFAAYABwAIAAkACgALAAwADQAOAA8AEAARABIAEwAUABUAFgAXABgAGQAaABsAHAAdAB4AHwAgACEAIgAjACQAJQAmACcAKAApACoAKwAsAC0ALgAvADAAMQAyADMANAA1ADYANwA4ADkAOgA7ADwAPQA+AD8AQABBAEIAQwBEAEUARgBHAEgASQBKAEsATABNAE4ATwBQAFEAUgBTAFQAVQBWAFcAWABZAFoAWwBcAF0AXgBfAGAAYQBiAGMAZABlAGYAZwBoAGkAagBrAGwAbQBuAG8AcABxAHIAcwB0AHUAdgB3AHgAeQB6AHsAfAB9AH4AfwCAAIEAggCDAIQAhQCGAIcAiACJAIoAiwCMAI0AjgCPAJAAkQCSAJMAlACVAJYA",
          "dtype": "i2"
         },
         "xaxis": "x2",
         "y": {
          "bdata": "Wpjz+gH92j93pVLZnVvTPxs5HKcy1s4/mX0xbn1rzj+TLW5/CiPKP4a0RVEfAMY/DU/mVj9txD/b4xfwxD7FPzKtqBzufsI/hXLs6p/xwD+UAyyoXm29P7UPw1jw7L4/W2TNWpzDuz+Wif6s1fq+P1fkIZ3LHrw/T5D85bcMvD+UhuPCSs64PxGDLk9VD7o/9wKgd1B2uD9TxpvYHwS0P/wfBfRn5Lg/m15iLNMvtz8Q0bFMiIK4P0GCqwW/1rI/ZYttGw9/sj/uKJePbeKxPzIEyQTFWLM/tGOiwLqpsj99spl6FOW1P1K1pkIFULM/q2HjHm8WtT/MZUi6Czm1P92wEpjzMbQ/7WYPfUBpsz+OZDL41861Px1bKsoAq7Q/OudMf5tqtD8vIq7AtMywP4uVY0Q0TK8/W61dJP5yrz/8vfAmm06wP6GGpiO3Xa8/s/5yCWPnrT8aLRpF6eWuPwyrQWEZ5K8/IKl0ZnG1qD+Hn6RlSSWtP+dwG3tk4a0/3EqL1i3eqz+d/N/aUtCuP5Lltg8LR7I/q48sBUlErT/Fc+1Cql+wP0rT+yGREa8/uXpOet/4rj8ydDYuLTStPzwUl3WR1Kw/Qwnp3+RtsT/3ImwK9vGwP6PhOQCH9a8/T5OH896GsD93MPQaTcCtP1pqqhQoT64/7Iyl/jD4qj+ISPIBJhWwP4vYlQQWLq0/+pUFSkHurT/So4WnM9OtP+/AAMKHEq0/+tBPgkjQrT8fSn0iGNCwPwtLzhu5ALA/oHszjrXjrj8Dax2dO0KqP1BzYKfGuas/+6UOu7hWrD/FE0GchxOoP1rJtCPCrKk/o00fy8wWqj9jsIeb+A+qPwG/RpIgXKk/oZ2vNTeCqD+dqKW5FcKqPyZwtKzEBak/4Mxn+M7nqz9zUB0GThGrP5oj9Pwy4ag/tAA26X+CqD9XUU5GJ92sP6rJ1KXHN6w/p8Frzvj1qj8e8k697cGrP7xtpkI8Eqs/Z+NAx8Y7qz9aZ0WdgsWqP47Ku1iGpqo/DOhycNbNqj+KCcWxiSeqP0pLQKd7+Kk/EySSxG57qj9yP3L9TbqrP7mDfeDPlaU/71vRCjBQrj/fV2Tz8B2sP91Tg3pElqo/s5ZwVrLRqz+VQIGutMOqPxawQYNxlKg/nbdWIB+Zpz/GRlcgsRSoPzWNAIHhb6o/zo1Ew72NrD+GMLXc0MurPzBCr3ZLqao/7EVIOIgxqD88Welt6yasP9BihEsiVqo/CmRl6mRfqD8c47AhJWOmPyMdsD1FoKg/z6h42wSXpj9wrYgsZECoP36t3QgdBqk/nsls/s35pz9UspyE0heqP/e8vrKuras/xwM2jCcnqz+KVQSAq72oPyLeqIMqo6s/dL4zNWSXqz/bs67RcqCrP73WSo11Fqo/yWcNORFYqD8ickQI2cOoPwJObpMJd6o/CercNWmbqz+lhSbk3lesPw+mqea6cac/ywAZA7R2qD8DMAonDkWqP1l0tHNjQ6g/Dtd92rsZqD8Nq6/lzK2nP7L4Fp/Lnao/Ck9Wetu6qT8tQaH593SoPwAAAAAAAPh/AAAAAAAA+H8AAAAAAAD4fwAAAAAAAPh/",
          "dtype": "f8"
         },
         "yaxis": "y2"
        },
        {
         "hovertemplate": "Iter: %{x}<br>Value: %{y:.4f}<br>Condition: %{meta[0]}<extra></extra>",
         "line": {
          "color": "#EF553B"
         },
         "meta": [
          "GP-CLS"
         ],
         "name": "GP-CLS",
         "showlegend": false,
         "type": "scatter",
         "x": {
          "bdata": "AQACAAMABAAFAAYABwAIAAkACgALAAwADQAOAA8AEAARABIAEwAUABUAFgAXABgAGQAaABsAHAAdAB4AHwAgACEAIgAjACQAJQAmACcAKAApACoAKwAsAC0ALgAvADAAMQAyADMANAA1ADYANwA4ADkAOgA7ADwAPQA+AD8AQABBAEIAQwBEAEUARgBHAEgASQBKAEsATABNAE4ATwBQAFEAUgBTAFQAVQBWAFcAWABZAFoAWwBcAF0AXgBfAGAAYQBiAGMAZABlAGYAZwBoAGkAagBrAGwAbQBuAG8AcABxAHIAcwB0AHUAdgB3AHgAeQB6AHsAfAB9AH4AfwCAAIEAggCDAIQAhQCGAIcAiACJAIoAiwCMAI0AjgCPAJAAkQCSAJMAlACVAJYA",
          "dtype": "i2"
         },
         "xaxis": "x2",
         "y": {
          "bdata": "MWizfO8B4T/JMBSdUkvYP0yzeRwG89k/BxiUoPYS1T+Sq+p38+bTP0siaaV+zNE/G+7/v41wzz9B4ACyj83JP8HgCMCtKcc/E7D5lD+7wz8RddXyucnBP8HnqwhbEMA/zDJ6JBQRvj/EVvZKRru9P2In4Ps/q7w/ex2C9F7Guj/r0xcvA7u7P2vGxuCF0bw/wzdey3Vkuj912yotyDu2P6Q5RG4Yl7Y/iaoX+0qftz+7JBgYw+a1P/I1p24KB7I/Iq5SMBl9tT9uZMM/ETCrPwIzFoQpAag/s1KtKqD1qT8MN7z8KpyoPyO+lAJTTqw/qiqilH4wqj/ajoXEGZ+lPyCOiDxchac/lN+PyGResj96dh3OIGKvP/9yQCXBLrE/rxayzaC0qj9Me3BkCy6vPx0PSFQ66qo/a+N16recqD/1NISHjdalPwGKyOdMEac/VXiqVjnHqz9XjJbfRTumP/bOMem447A/xa7aIlZspT9Fl6ULH3+nP4ZzDTM0nqg/BWjJUe6sqz+SZHrmCaioP0FIl391naY/57ibKIrYrD+9qRHD16CwP7o483R3Zqs/qrOk7anmpz9ETGUt4aysP/NQ24ZREKg/FzCSh8/nqT+T8ZR6u8qrP+1m64Wn/KQ/UZYhjnVxpz8PDeYKSiyoPzv6O7esnqc/gCQ2aWShpz9J7/dn4vmkP462ToCF8KQ/LnMosdn/oj+hX24KPuCkP6t4Nr4JmKM/E3+m8DJVoj/meM7fTYCiP0d+WMqNfaQ/XHVUbAOupj+BarrVqpSdP/8SAgNSrKA/R1PPFMwqnj93Di7msMSgP2e0jAs+BKA/sSzPun2Npz89D7cMAYmjP4mVCIvB+qI/24CHIfGqoj9TKT9yNBCgP/2CzIQVXZ0/JaFkqSxBlT+yyl80PqagPxviRUx2WZk/Q6lPBAOamj8KiuigFHaiPzUuQP9hb54/bafA3AGxoz8l3HWAcbqiP0c/0MB+Pqg/vmmfMw6aoj8yeJj2zf2lPxCVtFCgvaA/cp2Q50TMoj/O+D8ISeekP/HaE5I6b6E/VdOai2Q0nz/MbcRcG/ObP5wpLHAxvqc/SjygbMoVpj/gtIWM7O+hP7l5YlU8raY//DXHJ9JrpT9zoWA0mV+nP+qdZXFaS6Q/WdJA4g0foz8gaLv4kRGmP5S3EnC+x6c/1sqoVoNUpj/fMt6NPEejP8r3nw+pfKY/sWZkkLsIoz87oowCjk6jP6m5SuVbjaY/5D8lL7NQoz8H2FjTBnGjP2uetW2qgKE/oKJY3O3ooT9fKYGDrF2hP/va6b3ndqE/fgD34cVnnz/HontosaagP6n+05+PxJ0/AWgCs7AVoj9JPgoyXeOiP6fG3bLVd6A/ZNRraST4nT8WuqT8NlacP1atloXA250/kcmYcQl2mj/Ye/FFe7ygP5cU+6f3MJc/FwlJQv51oj9kAUp6TxyjP3Pfsovq9Z8/w+HyRWjxoz+iIS3fRD6lP80h8XPEoqY/igpDUnmpoj9xE9vKODOjPxQsjReK858/po3GfYd+oT/LUCgeKqCbPwAAAAAAAPh/AAAAAAAA+H8AAAAAAAD4fwAAAAAAAPh/",
          "dtype": "f8"
         },
         "yaxis": "y2"
        },
        {
         "hovertemplate": "Iter: %{x}<br>Value: %{y:.4f}<br>Condition: %{meta[0]}<extra></extra>",
         "line": {
          "color": "#00CC96"
         },
         "meta": [
          "GP-UCB"
         ],
         "name": "GP-UCB",
         "showlegend": false,
         "type": "scatter",
         "x": {
          "bdata": "AQACAAMABAAFAAYABwAIAAkACgALAAwADQAOAA8AEAARABIAEwAUABUAFgAXABgAGQAaABsAHAAdAB4AHwAgACEAIgAjACQAJQAmACcAKAApACoAKwAsAC0ALgAvADAAMQAyADMANAA1ADYANwA4ADkAOgA7ADwAPQA+AD8AQABBAEIAQwBEAEUARgBHAEgASQBKAEsATABNAE4ATwBQAFEAUgBTAFQAVQBWAFcAWABZAFoAWwBcAF0AXgBfAGAAYQBiAGMAZABlAGYAZwBoAGkAagBrAGwAbQBuAG8AcABxAHIAcwB0AHUAdgB3AHgAeQB6AHsAfAB9AH4AfwCAAIEAggCDAIQAhQCGAIcAiACJAIoAiwCMAI0AjgCPAJAAkQCSAJMAlACVAJYA",
          "dtype": "i2"
         },
         "xaxis": "x2",
         "y": {
          "bdata": "UTPIgXtC2j/zejApPr7VP9PhRYM4M9Q/W8+11Oak0T8xl/mzxG/KP1O7FXjdEc0/PYmaem+eyj8PBG0XPzLHP+bx/OryLsk/iviFjlQWxj8EBAVwRfTFPyttcY3PZMU/UXjjt/svxD8ZO/TweG3BPyYHEGKLAcA/PdEaKJWVuz9wwIovtuy8Pyo0WliBa7Y/DRAWX/5Utj/GjAEjefiyP6QHKzvq1bE//hKDUkburz+tP0Hha4euPyCKuO8H8q4/d4wYY01Srj9x2nkI0NysP73H9N/ekK0/RHSal1VqsD90VUVdEDatP7FVyrMTpqg/DyyPtnJ3rj/r6iBBg9+oP9q2p2NN5KU/vm/Xpgx3pT81cC2AFjiqP0qxEfZbqaE/37kKPArqoj81FhalTZ6bP98B1XZKPp0/kjSl4uzDlz/0R4aK34KiP9JfnoSIip8/1PBkbvXTnj9Jgap28o6gP95BWtFUvZo/NNy3kekHnD9pRRwz0WibPxCCe4t0LIw/0iCE/ywVkz9qUTFgW9GIP7LosNX4X5E/cDK7ODtjiT+M1cIIvdqNP58wllccPJE/Cc/MFLv+hT9bFPeg6AKPP/Smfc44aIo/Qa5ozlVOhj+QL9hEnfCRPx67C5QUWJA/q+7Ijy/YhD8JuztFIdx3PyZfiFTQbIY/e7FBcKZTkD/didp+erSRP5CA5LAOWoI/P70sAKCdhj+D/tQKZXOHPy5z4MKnJo4/2ZT0+fFghD/+XNmqyfiMP3VhpBe1+2W/QHlp1I3BZD/kzfQlLtp2PyYbM61xWoQ/liTNVpW0Sb97XnIkGE+FP7fn+dNGdYo/OWFU5KLsfz/EWbZ7XpZ7P/oe0eCSv2c/USq7czsOVr/EQ08BZ2B7v9YBt1xrXWg/+1A0odvdZb+89XH/I2X9PnN0giNuO3o/Q8+dl8FPYz8ARnNA7v50P9v5/RrIMnw/TPcD51Vmgz8+yQwKOaWCPxl0Lx1g03A/7DNDhjHFeD9kcRJdKkmBPyChddWENWY/UYiP0BfDbT/lmGERMZNmP7rKXZVVIlo/E7YzpyYcZb9hd/G1nlhuv0XzABb59YM/9XuGlMNLVL+PGFCCEQ5wPykhxtniiIO/HmEYsOQqVj+LTvOySg1xP1c7wTWutmm/doIQo/rher/cAyxxnJN2PzVKXp1jQHY/bZQZkyJWgz9TC9sFOd6DP9wrmjzTuVA/fBgpuHxIPD8Gezc6C59hv1qpxJmDxFq/bQASKanveL/QC8G7plGCP7bt6VgTeYA/A9qL1r9ZeD+/3EmfsYpSv5JjoYyn1Hs/fThch0ZTOT8mX0BmnpNVvya8fXqQwkk/i+NDmsKUUr/rPFCUcXlpP/M41SPWq4E/SktTcrxwdT+XTN7JcAVtP+95tCc3QF8/xDpTH3+gY78RKwDqKgFlP3IoWL91oWU/QDuHoNh4Pr8mKmElnmtXPxEw8X4TQXM/6R6kOURuWL/qkQhWnglGPyFKABH1lUo/dg8t1pSIZL/lKVLP8NRRPwRGKbPToYW/bUPrzgAEWb8psmjMtmVyvwAAAAAAAPh/AAAAAAAA+H8AAAAAAAD4fwAAAAAAAPh/",
          "dtype": "f8"
         },
         "yaxis": "y2"
        }
       ],
       "layout": {
        "annotations": [
         {
          "font": {
           "size": 16
          },
          "showarrow": false,
          "text": "Obs-based",
          "x": 0.5,
          "xanchor": "center",
          "xref": "paper",
          "y": 1,
          "yanchor": "bottom",
          "yref": "paper"
         },
         {
          "font": {
           "size": 16
          },
          "showarrow": false,
          "text": "Global-based",
          "x": 0.5,
          "xanchor": "center",
          "xref": "paper",
          "y": 0.45,
          "yanchor": "bottom",
          "yref": "paper"
         }
        ],
        "height": 600,
        "legend": {
         "x": 0.95,
         "xanchor": "left",
         "y": 0.99,
         "yanchor": "top"
        },
        "template": {
         "data": {
          "bar": [
           {
            "error_x": {
             "color": "#2a3f5f"
            },
            "error_y": {
             "color": "#2a3f5f"
            },
            "marker": {
             "line": {
              "color": "white",
              "width": 0.5
             },
             "pattern": {
              "fillmode": "overlay",
              "size": 10,
              "solidity": 0.2
             }
            },
            "type": "bar"
           }
          ],
          "barpolar": [
           {
            "marker": {
             "line": {
              "color": "white",
              "width": 0.5
             },
             "pattern": {
              "fillmode": "overlay",
              "size": 10,
              "solidity": 0.2
             }
            },
            "type": "barpolar"
           }
          ],
          "carpet": [
           {
            "aaxis": {
             "endlinecolor": "#2a3f5f",
             "gridcolor": "#C8D4E3",
             "linecolor": "#C8D4E3",
             "minorgridcolor": "#C8D4E3",
             "startlinecolor": "#2a3f5f"
            },
            "baxis": {
             "endlinecolor": "#2a3f5f",
             "gridcolor": "#C8D4E3",
             "linecolor": "#C8D4E3",
             "minorgridcolor": "#C8D4E3",
             "startlinecolor": "#2a3f5f"
            },
            "type": "carpet"
           }
          ],
          "choropleth": [
           {
            "colorbar": {
             "outlinewidth": 0,
             "ticks": ""
            },
            "type": "choropleth"
           }
          ],
          "contour": [
           {
            "colorbar": {
             "outlinewidth": 0,
             "ticks": ""
            },
            "colorscale": [
             [
              0,
              "#0d0887"
             ],
             [
              0.1111111111111111,
              "#46039f"
             ],
             [
              0.2222222222222222,
              "#7201a8"
             ],
             [
              0.3333333333333333,
              "#9c179e"
             ],
             [
              0.4444444444444444,
              "#bd3786"
             ],
             [
              0.5555555555555556,
              "#d8576b"
             ],
             [
              0.6666666666666666,
              "#ed7953"
             ],
             [
              0.7777777777777778,
              "#fb9f3a"
             ],
             [
              0.8888888888888888,
              "#fdca26"
             ],
             [
              1,
              "#f0f921"
             ]
            ],
            "type": "contour"
           }
          ],
          "contourcarpet": [
           {
            "colorbar": {
             "outlinewidth": 0,
             "ticks": ""
            },
            "type": "contourcarpet"
           }
          ],
          "heatmap": [
           {
            "colorbar": {
             "outlinewidth": 0,
             "ticks": ""
            },
            "colorscale": [
             [
              0,
              "#0d0887"
             ],
             [
              0.1111111111111111,
              "#46039f"
             ],
             [
              0.2222222222222222,
              "#7201a8"
             ],
             [
              0.3333333333333333,
              "#9c179e"
             ],
             [
              0.4444444444444444,
              "#bd3786"
             ],
             [
              0.5555555555555556,
              "#d8576b"
             ],
             [
              0.6666666666666666,
              "#ed7953"
             ],
             [
              0.7777777777777778,
              "#fb9f3a"
             ],
             [
              0.8888888888888888,
              "#fdca26"
             ],
             [
              1,
              "#f0f921"
             ]
            ],
            "type": "heatmap"
           }
          ],
          "histogram": [
           {
            "marker": {
             "pattern": {
              "fillmode": "overlay",
              "size": 10,
              "solidity": 0.2
             }
            },
            "type": "histogram"
           }
          ],
          "histogram2d": [
           {
            "colorbar": {
             "outlinewidth": 0,
             "ticks": ""
            },
            "colorscale": [
             [
              0,
              "#0d0887"
             ],
             [
              0.1111111111111111,
              "#46039f"
             ],
             [
              0.2222222222222222,
              "#7201a8"
             ],
             [
              0.3333333333333333,
              "#9c179e"
             ],
             [
              0.4444444444444444,
              "#bd3786"
             ],
             [
              0.5555555555555556,
              "#d8576b"
             ],
             [
              0.6666666666666666,
              "#ed7953"
             ],
             [
              0.7777777777777778,
              "#fb9f3a"
             ],
             [
              0.8888888888888888,
              "#fdca26"
             ],
             [
              1,
              "#f0f921"
             ]
            ],
            "type": "histogram2d"
           }
          ],
          "histogram2dcontour": [
           {
            "colorbar": {
             "outlinewidth": 0,
             "ticks": ""
            },
            "colorscale": [
             [
              0,
              "#0d0887"
             ],
             [
              0.1111111111111111,
              "#46039f"
             ],
             [
              0.2222222222222222,
              "#7201a8"
             ],
             [
              0.3333333333333333,
              "#9c179e"
             ],
             [
              0.4444444444444444,
              "#bd3786"
             ],
             [
              0.5555555555555556,
              "#d8576b"
             ],
             [
              0.6666666666666666,
              "#ed7953"
             ],
             [
              0.7777777777777778,
              "#fb9f3a"
             ],
             [
              0.8888888888888888,
              "#fdca26"
             ],
             [
              1,
              "#f0f921"
             ]
            ],
            "type": "histogram2dcontour"
           }
          ],
          "mesh3d": [
           {
            "colorbar": {
             "outlinewidth": 0,
             "ticks": ""
            },
            "type": "mesh3d"
           }
          ],
          "parcoords": [
           {
            "line": {
             "colorbar": {
              "outlinewidth": 0,
              "ticks": ""
             }
            },
            "type": "parcoords"
           }
          ],
          "pie": [
           {
            "automargin": true,
            "type": "pie"
           }
          ],
          "scatter": [
           {
            "fillpattern": {
             "fillmode": "overlay",
             "size": 10,
             "solidity": 0.2
            },
            "type": "scatter"
           }
          ],
          "scatter3d": [
           {
            "line": {
             "colorbar": {
              "outlinewidth": 0,
              "ticks": ""
             }
            },
            "marker": {
             "colorbar": {
              "outlinewidth": 0,
              "ticks": ""
             }
            },
            "type": "scatter3d"
           }
          ],
          "scattercarpet": [
           {
            "marker": {
             "colorbar": {
              "outlinewidth": 0,
              "ticks": ""
             }
            },
            "type": "scattercarpet"
           }
          ],
          "scattergeo": [
           {
            "marker": {
             "colorbar": {
              "outlinewidth": 0,
              "ticks": ""
             }
            },
            "type": "scattergeo"
           }
          ],
          "scattergl": [
           {
            "marker": {
             "colorbar": {
              "outlinewidth": 0,
              "ticks": ""
             }
            },
            "type": "scattergl"
           }
          ],
          "scattermap": [
           {
            "marker": {
             "colorbar": {
              "outlinewidth": 0,
              "ticks": ""
             }
            },
            "type": "scattermap"
           }
          ],
          "scattermapbox": [
           {
            "marker": {
             "colorbar": {
              "outlinewidth": 0,
              "ticks": ""
             }
            },
            "type": "scattermapbox"
           }
          ],
          "scatterpolar": [
           {
            "marker": {
             "colorbar": {
              "outlinewidth": 0,
              "ticks": ""
             }
            },
            "type": "scatterpolar"
           }
          ],
          "scatterpolargl": [
           {
            "marker": {
             "colorbar": {
              "outlinewidth": 0,
              "ticks": ""
             }
            },
            "type": "scatterpolargl"
           }
          ],
          "scatterternary": [
           {
            "marker": {
             "colorbar": {
              "outlinewidth": 0,
              "ticks": ""
             }
            },
            "type": "scatterternary"
           }
          ],
          "surface": [
           {
            "colorbar": {
             "outlinewidth": 0,
             "ticks": ""
            },
            "colorscale": [
             [
              0,
              "#0d0887"
             ],
             [
              0.1111111111111111,
              "#46039f"
             ],
             [
              0.2222222222222222,
              "#7201a8"
             ],
             [
              0.3333333333333333,
              "#9c179e"
             ],
             [
              0.4444444444444444,
              "#bd3786"
             ],
             [
              0.5555555555555556,
              "#d8576b"
             ],
             [
              0.6666666666666666,
              "#ed7953"
             ],
             [
              0.7777777777777778,
              "#fb9f3a"
             ],
             [
              0.8888888888888888,
              "#fdca26"
             ],
             [
              1,
              "#f0f921"
             ]
            ],
            "type": "surface"
           }
          ],
          "table": [
           {
            "cells": {
             "fill": {
              "color": "#EBF0F8"
             },
             "line": {
              "color": "white"
             }
            },
            "header": {
             "fill": {
              "color": "#C8D4E3"
             },
             "line": {
              "color": "white"
             }
            },
            "type": "table"
           }
          ]
         },
         "layout": {
          "annotationdefaults": {
           "arrowcolor": "#2a3f5f",
           "arrowhead": 0,
           "arrowwidth": 1
          },
          "autotypenumbers": "strict",
          "coloraxis": {
           "colorbar": {
            "outlinewidth": 0,
            "ticks": ""
           }
          },
          "colorscale": {
           "diverging": [
            [
             0,
             "#8e0152"
            ],
            [
             0.1,
             "#c51b7d"
            ],
            [
             0.2,
             "#de77ae"
            ],
            [
             0.3,
             "#f1b6da"
            ],
            [
             0.4,
             "#fde0ef"
            ],
            [
             0.5,
             "#f7f7f7"
            ],
            [
             0.6,
             "#e6f5d0"
            ],
            [
             0.7,
             "#b8e186"
            ],
            [
             0.8,
             "#7fbc41"
            ],
            [
             0.9,
             "#4d9221"
            ],
            [
             1,
             "#276419"
            ]
           ],
           "sequential": [
            [
             0,
             "#0d0887"
            ],
            [
             0.1111111111111111,
             "#46039f"
            ],
            [
             0.2222222222222222,
             "#7201a8"
            ],
            [
             0.3333333333333333,
             "#9c179e"
            ],
            [
             0.4444444444444444,
             "#bd3786"
            ],
            [
             0.5555555555555556,
             "#d8576b"
            ],
            [
             0.6666666666666666,
             "#ed7953"
            ],
            [
             0.7777777777777778,
             "#fb9f3a"
            ],
            [
             0.8888888888888888,
             "#fdca26"
            ],
            [
             1,
             "#f0f921"
            ]
           ],
           "sequentialminus": [
            [
             0,
             "#0d0887"
            ],
            [
             0.1111111111111111,
             "#46039f"
            ],
            [
             0.2222222222222222,
             "#7201a8"
            ],
            [
             0.3333333333333333,
             "#9c179e"
            ],
            [
             0.4444444444444444,
             "#bd3786"
            ],
            [
             0.5555555555555556,
             "#d8576b"
            ],
            [
             0.6666666666666666,
             "#ed7953"
            ],
            [
             0.7777777777777778,
             "#fb9f3a"
            ],
            [
             0.8888888888888888,
             "#fdca26"
            ],
            [
             1,
             "#f0f921"
            ]
           ]
          },
          "colorway": [
           "#636efa",
           "#EF553B",
           "#00cc96",
           "#ab63fa",
           "#FFA15A",
           "#19d3f3",
           "#FF6692",
           "#B6E880",
           "#FF97FF",
           "#FECB52"
          ],
          "font": {
           "color": "#2a3f5f"
          },
          "geo": {
           "bgcolor": "white",
           "lakecolor": "white",
           "landcolor": "white",
           "showlakes": true,
           "showland": true,
           "subunitcolor": "#C8D4E3"
          },
          "hoverlabel": {
           "align": "left"
          },
          "hovermode": "closest",
          "mapbox": {
           "style": "light"
          },
          "paper_bgcolor": "white",
          "plot_bgcolor": "white",
          "polar": {
           "angularaxis": {
            "gridcolor": "#EBF0F8",
            "linecolor": "#EBF0F8",
            "ticks": ""
           },
           "bgcolor": "white",
           "radialaxis": {
            "gridcolor": "#EBF0F8",
            "linecolor": "#EBF0F8",
            "ticks": ""
           }
          },
          "scene": {
           "xaxis": {
            "backgroundcolor": "white",
            "gridcolor": "#DFE8F3",
            "gridwidth": 2,
            "linecolor": "#EBF0F8",
            "showbackground": true,
            "ticks": "",
            "zerolinecolor": "#EBF0F8"
           },
           "yaxis": {
            "backgroundcolor": "white",
            "gridcolor": "#DFE8F3",
            "gridwidth": 2,
            "linecolor": "#EBF0F8",
            "showbackground": true,
            "ticks": "",
            "zerolinecolor": "#EBF0F8"
           },
           "zaxis": {
            "backgroundcolor": "white",
            "gridcolor": "#DFE8F3",
            "gridwidth": 2,
            "linecolor": "#EBF0F8",
            "showbackground": true,
            "ticks": "",
            "zerolinecolor": "#EBF0F8"
           }
          },
          "shapedefaults": {
           "line": {
            "color": "#2a3f5f"
           }
          },
          "ternary": {
           "aaxis": {
            "gridcolor": "#DFE8F3",
            "linecolor": "#A2B1C6",
            "ticks": ""
           },
           "baxis": {
            "gridcolor": "#DFE8F3",
            "linecolor": "#A2B1C6",
            "ticks": ""
           },
           "bgcolor": "white",
           "caxis": {
            "gridcolor": "#DFE8F3",
            "linecolor": "#A2B1C6",
            "ticks": ""
           }
          },
          "title": {
           "x": 0.05
          },
          "xaxis": {
           "automargin": true,
           "gridcolor": "#EBF0F8",
           "linecolor": "#EBF0F8",
           "ticks": "",
           "title": {
            "standoff": 15
           },
           "zerolinecolor": "#EBF0F8",
           "zerolinewidth": 2
          },
          "yaxis": {
           "automargin": true,
           "gridcolor": "#EBF0F8",
           "linecolor": "#EBF0F8",
           "ticks": "",
           "title": {
            "standoff": 15
           },
           "zerolinecolor": "#EBF0F8",
           "zerolinewidth": 2
          }
         }
        },
        "title": {
         "text": "bestcase_50_16",
         "x": 0.5
        },
        "width": 800,
        "xaxis": {
         "anchor": "y",
         "domain": [
          0,
          1
         ]
        },
        "xaxis2": {
         "anchor": "y2",
         "domain": [
          0,
          1
         ],
         "title": {
          "text": "Iteration"
         }
        },
        "yaxis": {
         "anchor": "x",
         "domain": [
          0.55,
          1
         ],
         "title": {
          "text": "Simple Regret"
         }
        },
        "yaxis2": {
         "anchor": "x2",
         "domain": [
          0,
          0.45
         ],
         "title": {
          "text": "Simple Regret"
         }
        }
       }
      }
     },
     "metadata": {},
     "output_type": "display_data"
    }
   ],
   "source": [
    "import pandas as pd\n",
    "import plotly.graph_objects as go\n",
    "import plotly.express as px\n",
    "from plotly.subplots import make_subplots\n",
    "import os\n",
    "import plotly.io as pio\n",
    "\n",
    "# ---------- 配置 ----------\n",
    "data_folder = os.path.join('Data', text) # 根据你的data变量自动设置\n",
    "\n",
    "# 新旧算法文件列表（假设curve_names相同）\n",
    "old_files = ['50_16_smallest_pre.csv','50_16_cluster_pre.csv', '50_16_dynamic_pre.csv']\n",
    "new_files = ['50_16_smallest_post.csv','50_16_cluster_post.csv', '50_16_dynamic_post.csv']\n",
    "colors = px.colors.qualitative.Plotly[:len(old_files)]  # 统一颜色\n",
    "\n",
    "# ---------- 数据加载函数 ----------\n",
    "def load_data(files):\n",
    "    df_all = pd.DataFrame()\n",
    "    for file, name in zip(files, curve_names):\n",
    "        df = pd.read_csv(os.path.join(data_folder, file), index_col='Repetition')\n",
    "        mean = df.mean(axis=0)\n",
    "        temp_df = pd.DataFrame({\n",
    "            'Iter': range(1, 151),\n",
    "            'Value': mean.values,\n",
    "            'Condition': name\n",
    "        })\n",
    "        df_all = pd.concat([df_all, temp_df])\n",
    "    return df_all\n",
    "\n",
    "# 加载新旧算法数据\n",
    "old_data = load_data(old_files)\n",
    "new_data = load_data(new_files)\n",
    "\n",
    "# ---------- 绘图 ----------\n",
    "fig = make_subplots(\n",
    "    rows=2, cols=1,\n",
    "    subplot_titles=(\"Obs-based\", \"Global-based\"),\n",
    "    vertical_spacing=0.1\n",
    ")\n",
    "\n",
    "# 绘制原始算法（第一子图）\n",
    "for i, name in enumerate(curve_names):\n",
    "    df = old_data[old_data['Condition'] == name]\n",
    "    fig.add_trace(\n",
    "        go.Scatter(\n",
    "            x=df['Iter'], y=df['Value'],\n",
    "            name=name, line=dict(color=colors[i]),\n",
    "            showlegend=True,\n",
    "            hovertemplate=\"Iter: %{x}<br>Value: %{y:.4f}<br>Condition: %{meta[0]}<extra></extra>\",\n",
    "            meta=[name]\n",
    "        ),\n",
    "        row=1, col=1\n",
    "    )\n",
    "\n",
    "# 绘制新算法（第二子图）\n",
    "for i, name in enumerate(curve_names):\n",
    "    df = new_data[new_data['Condition'] == name]\n",
    "    fig.add_trace(\n",
    "        go.Scatter(\n",
    "            x=df['Iter'], y=df['Value'],\n",
    "            name=name, line=dict(color=colors[i]),\n",
    "            showlegend=False,  # 避免图例重复\n",
    "            hovertemplate=\"Iter: %{x}<br>Value: %{y:.4f}<br>Condition: %{meta[0]}<extra></extra>\",\n",
    "            meta=[name]\n",
    "        ),\n",
    "        row=2, col=1\n",
    "    )\n",
    "\n",
    "# ---------- 更新布局 ----------\n",
    "fig.update_layout(\n",
    "    title_text=f\"{text}_50_16\",\n",
    "    title_x=0.5,\n",
    "    height=600,                    \n",
    "    width=800, \n",
    "    template='plotly_white',\n",
    "    legend=dict(yanchor=\"top\", y=0.99, xanchor=\"left\", x=0.95)\n",
    ")\n",
    "\n",
    "# 统一Y轴标签\n",
    "fig.update_yaxes(title_text=\"Simple Regret\", row=1, col=1)\n",
    "fig.update_yaxes(title_text=\"Simple Regret\", row=2, col=1)\n",
    "fig.update_xaxes(title_text=\"Iteration\", row=2, col=1)\n",
    "\n",
    "fig.show()\n",
    "#pio.write_html(fig, '50_16_simple.html')"
   ]
  }
 ],
 "metadata": {
  "kernelspec": {
   "display_name": "base",
   "language": "python",
   "name": "python3"
  },
  "language_info": {
   "codemirror_mode": {
    "name": "ipython",
    "version": 3
   },
   "file_extension": ".py",
   "mimetype": "text/x-python",
   "name": "python",
   "nbconvert_exporter": "python",
   "pygments_lexer": "ipython3",
   "version": "3.13.5"
  }
 },
 "nbformat": 4,
 "nbformat_minor": 5
}
