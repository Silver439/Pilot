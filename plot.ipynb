{
 "cells": [
  {
   "cell_type": "code",
   "execution_count": 1,
   "id": "6b38c165",
   "metadata": {},
   "outputs": [
    {
     "data": {
      "application/vnd.plotly.v1+json": {
       "config": {
        "plotlyServerURL": "https://plot.ly"
       },
       "data": [
        {
         "hovertemplate": "Iter: %{x}<br>Mean: %{y:.4f}<br>Condition: %{meta[0]}<extra></extra>",
         "legendgroup": "0.25Sigma",
         "line": {
          "color": "#636EFA"
         },
         "meta": [
          "0.25Sigma"
         ],
         "name": "0.25Sigma",
         "showlegend": true,
         "type": "scatter",
         "x": {
          "bdata": "AQACAAMABAAFAAYABwAIAAkACgALAAwADQAOAA8AEAARABIAEwAUABUAFgAXABgAGQAaABsAHAAdAB4AHwAgACEAIgAjACQAJQAmACcAKAApACoAKwAsAC0ALgAvADAAMQAyADMANAA1ADYANwA4ADkAOgA7ADwAPQA+AD8AQABBAEIAQwBEAEUARgBHAEgASQBKAEsATABNAE4ATwBQAFEAUgBTAFQAVQBWAFcAWABZAFoAWwBcAF0AXgBfAGAAYQBiAGMAZABlAGYAZwBoAGkAagBrAGwAbQBuAG8AcABxAHIAcwB0AHUAdgB3AHgAeQB6AHsAfAB9AH4AfwCAAIEAggCDAIQAhQCGAIcAiACJAIoAiwCMAI0AjgCPAJAAkQCSAJMAlACVAJYA",
          "dtype": "i2"
         },
         "xaxis": "x",
         "y": {
          "bdata": "acOr9vpk6z9JjzqVZ/njP5mxewV80eg/tm1Px5oI5j/jFVHcuiTjP2YMvQ9RVuU/Jb+zq/523j8xwPSsWojbP7Agg8sZwN8/z0YcIAYo4T8xhyVmPujSP/b/u0+frts/xIXy9ABM3T+dFXUKFmvgP8uiecnIYuA/XhlBUFsQ3D8h+jZFyMHMP5pbsycTCeE/3vr6a8Ny3D87FpO2cNjdP5UMAFXcONs/AT0eRHzx2j8aVRjtg77cP7QmlaiWrNc/IF3a3txN0j+XtxDR1UPYP4YSUw++ndU/JrRkDZbp1D/ngG559ibVP2M2gDbxDdg/MkfqmE7G1j/2WobuSKvYP+9qlTx6n8o/TrCkgcQb2j8AZLO1UMTVP6FxBTjhgs0/iZUIi8H61z+lNrlg8RzOP9l6K7dZYcs/W9vdzLGF1D+kNnFyv0PXP76sUkPkvdg/7tzpPJiCzj9G+myczPfGP1Wj6X7gvMw/JFwSsdJu0T9tWb4uw3/TP0VmnPQsdsU/3CUpaBJ00D+9cxV4FNTIPw7trZLZasY/nlcY/q+W0z8UpbsiLyLUP+ENxA1TtsA/VvWEt5mcyz+3Wt8/lVLLPySD3EWYos4/HBhA+FCizj/npSuhhGLLPx/1+yLFJL4/Y5hKdqPGtz8Hgn/JRTTAP4QVlI/KOsc/JO56MsgmuD+0u7/5jMO6P4pgrteGHLs/ea+RW8owtz+GhJREm4jNP1Xh4By/AcU/rUAaO85axT+fSeOYrT3CP9NKNFuMlJg/jJUZtxnvtT9xMHcJKoaXP5rKtXvMGrE/+zKGp8VOsj8b/VVtJPa+PxwYwUdF5KQ/P+AmSBG+sj8l9xcdbI3EPxOgAVAgR7Q/wNF7UD2/pT9hVBtlxqSoP9XSpUiHULw/5zaqnL/Soj9iC9OJls6ZP9Ey0z6e3q2/UykIsForoD8jwdPjdue6P3mDHiBOFr0/oXlKGBdYtz+86YXxiStNPx5pKG0pn6E/YK3HauA0qr+jCYCWU6eIP3t2QcW5zre/Uo9Hg+6ls7/gEjbyLziJvxYXECNNha0/AQ+xZgnXpL9QLdqbl0K1v9PO6MZzNam/idFzC12JrL/n9HQt2TCuv/t9yCTspLW/uauOU6vmsL+BoJIp1fSxP/IraOzdsbg/vK0oyko4Wb+bZnBKLyCqP6oFrqoWkLe/MxaEKQFos79UEyDmbrOov+KK/wTgaGA/IhUL+/XCTD8M+CLHw2ibvxaFLC8dl3U/amVDf+k1tL989UyK6gjAv/R8qXtAfKA/hu+zgL9Ovj8D3YRomp2avwGOF+WsYqi/t9YXCW05pz9g4ZJR05y6vzHVZLMQCoe/SR+Ffc0Epb98z+3K016Rvzz+avtEi2m/wFZA2GAYp7/v7y1RYnx9v6C1os1xbpM/f5jOmJNhnr+vtIzUeyqrPx1l19Dgyb2/vEhXn2Egtr/Xy27lpK+jv76Y9pY7/La/9bWJ7rSQq7/ao+/tFZXFv71z8YB7Z6W/H4/i5bKadz9z8n3MYr2yvwMlKQ1ZAby/bS7YIKZXnb/caSG3FbGmv16znN+LilO/WnzVXACsgL+lQNaKbYmbv8RrlZczEqS/",
          "dtype": "f8"
         },
         "yaxis": "y"
        },
        {
         "hovertemplate": "Iter: %{x}<br>Mean: %{y:.4f}<br>Condition: %{meta[0]}<extra></extra>",
         "legendgroup": "Sigma",
         "line": {
          "color": "#EF553B"
         },
         "meta": [
          "Sigma"
         ],
         "name": "Sigma",
         "showlegend": true,
         "type": "scatter",
         "x": {
          "bdata": "AQACAAMABAAFAAYABwAIAAkACgALAAwADQAOAA8AEAARABIAEwAUABUAFgAXABgAGQAaABsAHAAdAB4AHwAgACEAIgAjACQAJQAmACcAKAApACoAKwAsAC0ALgAvADAAMQAyADMANAA1ADYANwA4ADkAOgA7ADwAPQA+AD8AQABBAEIAQwBEAEUARgBHAEgASQBKAEsATABNAE4ATwBQAFEAUgBTAFQAVQBWAFcAWABZAFoAWwBcAF0AXgBfAGAAYQBiAGMAZABlAGYAZwBoAGkAagBrAGwAbQBuAG8AcABxAHIAcwB0AHUAdgB3AHgAeQB6AHsAfAB9AH4AfwCAAIEAggCDAIQAhQCGAIcAiACJAIoAiwCMAI0AjgCPAJAAkQCSAJMAlACVAJYA",
          "dtype": "i2"
         },
         "xaxis": "x",
         "y": {
          "bdata": "7ufdIY4+6j8PxFVB6LzoPxB4c8shfOY/zREfxSaf4D8tJqSjilDhP/AyVcKlNeE/Ap0S2dCW5T/HBz2bVZ/MPxAGeoR2qtQ/f+QxXk5k2j+CeUdFG//UP9Kk8Hzi3NU/xsWZp7sz2T/AqVmxCXrOP0EHlIR7HNk/y9is1mXUzz/ZXQ4pdEzRP+8418K+L9I/34rEBDV81z+qoMbh8CbYP/7AeZXZxNY/P8y5bxAIwz+WPfagjUnTPyvzDm9VkdI/mnWiAC05zj9rtRk5nfa+PwdpoAxofNI/hqrzA7Ky0T8U2MB6AC/QPyUFOrctbtE/M0/4tqo2xj/3n30tMKzHP9Tmbdr6V8g/kmHerIo5zD+qJFdWP9vJP0R+I6ecHM8/ad6EVc9cwD+lQ96ptz2Yv8nHk0mys6G/4rnkpYj5uz/bnEoGgCqWv9XxhbaJgLY/3Ja32Q78xz8kKxrGONrRP8IYtR9NGcE/+z4cJET5tj9StPN+JG2bv2k+sKz9ZsU/BbrSDltWwz+LvSoq9T/APw6+1d+3xqw/C205l+Kqkj+PEJMCndtWP7oYA+s4fr4/x1UIh7rrsj/LGQns6aKoP4WMkTafhLM/khQQEiEtpT9ktI6qJoiiv8A2YxljqMk/Tq9wbu/2rD9PFXl/qYykP8BmpqEzVqS/1A3dtU26qj8zI81pYPWpv/1QMgLzWau/VRnG3SBatz8Kvf4kPnewP3AAa0MzvbQ/ImxBuMtHk79c/dgkP+K7v+/5qxELxrK/UNuGURA8oj9CmDZ3T3mxP1Gl1JNnzLY/xDvTXlemxD+llGnGNGWtP/rJGB9mL6c/czDSwpzXwD+xh9K66XKyv8ITH0TXKrC/90lallQSqj88eKXkVOqhP62Pq7VUAqK/J3mIWUJRkz+7ugj42tiZvzDclTk5H5I/i5DxX1fKsb8M8EtrQV2qv41VgzC3e6U/Qi3PTPnZcT8AIaGuNkd+v2r5uG0WZrC/Bx2+lqE7sD9tp9EIWqWkvxx8862hZsS/vWPCeYIOvL9kpCjhU0qRv55lOphxd64/mb01eZOoqL/zjDXblKqkv4AYoOzl9sm/krxgXQLdsr8wSzs1lxvLvw5krdiWOIm/zj1bPslUtL9dvWaVdduxvyRM9nQaDri/wmLUtfY+x79NG437Dv22v/K11Rq4cci/xajbEBr4mD/S6zwXM6+2v1ro70o3Lse/9qPf9dB1oL/5dTtWhPazv+J/T9BKfri/Bzkmwr1pu7+56fN1PfXAv9+hX5IB17K/eUePqBkbt799msrZcmWzv4PMPCcr9J+/82Omx8nXtL9ZRdzAQZ++v16mcu0es5Y/4eM5SHUntb9zKqt79u6xv3L+bgJUuaW/K1Ru2VjAvb+mPsd+TQ3Bv/bt7V8ip7q/vGHI14uOv7/dZK/SOC+hv0FuUfj+mLa/POlEgqlmhj+JiIiIiIiyv4c8k0eBT8e/6T0WI5PUsr+AFCtZBLXBv2I/1TJjG7q/eQxpZ6ulq78eJj6beZagv/M5CTer0K6/3xA+7yE8qT+BppPa+ey2vwjDk/CXKbC/B7A2NNMrr7+uqYfDLXq+v473YqfX5bW/",
          "dtype": "f8"
         },
         "yaxis": "y"
        },
        {
         "hovertemplate": "Iter: %{x}<br>Mean: %{y:.4f}<br>Condition: %{meta[0]}<extra></extra>",
         "legendgroup": "4Sigma",
         "line": {
          "color": "#00CC96"
         },
         "meta": [
          "4Sigma"
         ],
         "name": "4Sigma",
         "showlegend": true,
         "type": "scatter",
         "x": {
          "bdata": "AQACAAMABAAFAAYABwAIAAkACgALAAwADQAOAA8AEAARABIAEwAUABUAFgAXABgAGQAaABsAHAAdAB4AHwAgACEAIgAjACQAJQAmACcAKAApACoAKwAsAC0ALgAvADAAMQAyADMANAA1ADYANwA4ADkAOgA7ADwAPQA+AD8AQABBAEIAQwBEAEUARgBHAEgASQBKAEsATABNAE4ATwBQAFEAUgBTAFQAVQBWAFcAWABZAFoAWwBcAF0AXgBfAGAAYQBiAGMAZABlAGYAZwBoAGkAagBrAGwAbQBuAG8AcABxAHIAcwB0AHUAdgB3AHgAeQB6AHsAfAB9AH4AfwCAAIEAggCDAIQAhQCGAIcAiACJAIoAiwCMAI0AjgCPAJAAkQCSAJMAlACVAJYA",
          "dtype": "i2"
         },
         "xaxis": "x",
         "y": {
          "bdata": "TvoNpYge7D9i1ouhnKjkP+XKRSFuM+A/+uyA64pZ4D90N735exfbPyMTFGO99eQ/nDt5ELqD3D8VGlGjWaLVPz3zqZpXrNc/fb1WnTA81T9hhmtazsrTP7xglMS2ac4/ypmlHEvXyj9uRHj8X/bTP7UnN0AfG8M/nvzwBqtE1T/zxE+/52PGP9Ts3A/TGcY/rUSzxUgJwj9sF4m/3N3NP91jRP2JJcA/XAt8DvWExj8ugzPBOezFP3dEYfNNdsU/7My81Ietxj8achGE0ObHP3Lmn2GyOcU/stA87skxuT+ieBRmWa+9P+RtSH8LjpY/Uex9hhN0lz+LJ15BdrrHP61py6ZJFsU/Ezi1D1XUtD9sd2qJ8Iq/P/wM8CXVv6g/D1xCYt9ykT8OnhwYU8PLP0V/1mp9/7A/1C/r2BuPyD+Ohgv4tEKyvwUiegiZGrU/IyUZFRTipT/Hd867VuehP3Vo2duuGLa/f6WpVD8llb9gk/4nSDWzP54/Eps0spg/2X4f+0ZhuD8b1lQWhV3BP02UztH0I7U/xRcAvYOysT/6iHJ8xwO4v8fdxz+hDIM/5sntFgBikr9P14Hhykesv14WE5uPa68/NSB/+8zrij/UhmZ6Zbq9v59MJBm6Wr+/V0PAxpo2mL8tbScAtQe2P/PbVjJ/BKW/RBjfYSTFQb/VlC1btMmwv75pHuQZWJu/0cku9GTaw7/bsO6gWsWrP029g3tB52E/YdcabuTegL8xh1woGE26Pw3tGxeNNKQ/nJTKXGFCpb9zkNeDSfHHv1VOHFOKMIg/y5zT0RZ8s7+sU665bD20v4wki0UdZ7Q/bJEioDCWsb+0Sy7Zi3vDv90jHPvae6W/icHWf7Bmt7/5gGReaxO/v/mdJjPeVr6/qon0kUpnwL++O3il5FSSP2ufe/zL27C//d3gsNk2mb8OH2wMldrAv7BzLiAP2Li/wT281PUxwb+Jv0pibbDIvzF6bqErEcS/jlmIoPxvs78frOyoV7fNvyHSAdtTBMm/IsicwqW+xb8avnRJi+m4v0fDKXPzjcK/nffIr+ifx7/WDzIRt4u9vxrk0Wm5D6y/1OciPcS+ur+P82zEAWK8v3ARqmZozsS/MvZvqCkTy78t1gINyPDIvzZluEssOsy/35JAp0Q2lD/XEPif2ObMv2BKN5wMobW/kZIz8H8jjb8ryltk8VHBv2Qm46pEa7+/rzHC7k5RuL/+H5XQy5bEv0vMa6Qko7y/ohPlrgHtxb844tqavujAv1zpfhd/pLu/L2/XFJEqyr+ip4AzsA3Qv3tLcCHGosm/m8AsbIVox79QvX89cN/Bv8pdqCBjEsC/kbZM4Zxsy78u5xuae5HQv9t4eQOVur2/I20HR+0i0b+Omi5Dm5vGvz3nEx7ZgdO/o0mqN+vUwr98czcHh5bJv4k04OKXsM6/kOy2sBMDyL9dpbvrbMjEv5T5EB3LhM6/PFhaoaOwxL/1vYbguIzGvzJFk5788MK/6wippBd+x79rr4YMLMjIv4ax4Nl5ds+/Kbu9yCjzw7+zjvSzopfQv8zOj6zpZ8W/NByF2iVgsr+DZBTe+O3Fv2GZbV0g972/",
          "dtype": "f8"
         },
         "yaxis": "y"
        },
        {
         "hovertemplate": "Iter: %{x}<br>Mean: %{y:.4f}<br>Condition: %{meta[0]}<extra></extra>",
         "legendgroup": "10Sigma",
         "line": {
          "color": "#AB63FA"
         },
         "meta": [
          "10Sigma"
         ],
         "name": "10Sigma",
         "showlegend": true,
         "type": "scatter",
         "x": {
          "bdata": "AQACAAMABAAFAAYABwAIAAkACgALAAwADQAOAA8AEAARABIAEwAUABUAFgAXABgAGQAaABsAHAAdAB4AHwAgACEAIgAjACQAJQAmACcAKAApACoAKwAsAC0ALgAvADAAMQAyADMANAA1ADYANwA4ADkAOgA7ADwAPQA+AD8AQABBAEIAQwBEAEUARgBHAEgASQBKAEsATABNAE4ATwBQAFEAUgBTAFQAVQBWAFcAWABZAFoAWwBcAF0AXgBfAGAAYQBiAGMAZABlAGYAZwBoAGkAagBrAGwAbQBuAG8AcABxAHIAcwB0AHUAdgB3AHgAeQB6AHsAfAB9AH4AfwCAAIEAggCDAIQAhQCGAIcAiACJAIoAiwCMAI0AjgCPAJAAkQCSAJMAlACVAJYA",
          "dtype": "i2"
         },
         "xaxis": "x",
         "y": {
          "bdata": "roV9X4Ah8T/Z/yYBVx/vPwd9e2kcPO8/O2vKKKmm5z+/IZ429GDhP8VjLMBkUOI//g8LEGDs3D9LF79No23ePy/RjokCa9c/QcLC2xWM3D9WrZaFwNvWPznyQGSRpto/8jQYosIQ0j//L40V6wrJPzbOFKgzZcs/zyinh7IBxz/LaK0xscLOP2ZwgfH5Tsg/B5lRGexzuj9y5rIs87HWP0KOG+y7ENA/wvQrC5SCzz9QhwKjuNDVP4NHictfj7c/9cYSnwT/rD/i97dMztHHP+B5dLWndpA/ahonmETQvz+hEWxc/67CP3nm5bD7jrE/xsjt8gjJvT8D+O9Cu4uwP0z7HcHEVqc/YNV9JEk0wj/pWAJNqAS8P38F+aIGnLw/ECQASSJFrj9cIn9Dux10v8BMJU3NL6Q/DRGlK0bLwz/BfXjx2ZWzPxxIhR8K1HC/0jPhu/ESsD/cznYE72OsPw/JSHW5QLG/PEUOETentD/k2OZrOxKUvx2k8VU8P8Y/GaMam8Lvpz86WSLPrY+qP5z1veGZK6o/b9hsm5jktj8bz/m7CVCtv6YTHHHb0ZI/T2Sa1pPmjD/AwZbWXsOTv03zoR61nLq/j1L2g6d9rD+PqBkbgxewv+194czmqLC/6UeMZ5kOsD9Lfmn25XGhPzc4x2/AnbC/EZcmktWaY78Q9jeyPFmnv0l8XImueac/88MI4dHGqT9gEvnAIHuPP1+NCmWqKWK/620zFeKRrL/rmdtzTw2SP4vBM9gLPKI/ADqbezUtXj9NEpf24Mh2v+NVDfmeyL4/TT3BtF7Cvz83SoKU/KyuP4AMqdk6b1q/vCmbKPhcsr+SZxYgiRagv0JBhBMsaay/7fvLSYM2qL87yY1ZLeezv8CXZ8rzhZU/ctCCdNVgur+/CjprAeuCPzyM2/p7u5+/AvbXhuUqcb/7XvniQWmev8ORYtv9haU/NYIfZywsrr8Fy7TZNJKsP8mf3Y9JtIK/q2cbkm3zib+b56xzML+fP/tSG3iR5bC/sy0DzlKypD9aitFgQBypv/fkvFpJhq+/pBMJpppZmz/GHIVsoay8v8ndnwo3mL2/QOmUWgIDS7+7kNnrb5ubvwmUAyyoXrO/6beLDE4gtr/3xXm3MfVyP6clZ3J7k4C/3d5bfs1fuL98g8HH8kCmvzun6xsqWMu/lmlF5XD3kz8Jv50NwqW0v0wTW+YZoL+//Xs6aMBqxL+gSuDpqH21v1BJeYmNVbC/vFf32RIDwL+WQo4b7Lu4v18kD5/P26O/tcoC3OLQyb8QCd/7G7S7v+31XBSrdKm/BgF6Yh56yb/adF8pJsqzv8yM/4OQdMu/RZIzJ0L9wL+fJlfV7+atP2NGnHKpbrC/OwN+6N2zwL/wuV152ivEv4DAuXXtwci/KsXFiHtjsb9Lpy0toqWmv4LlrV9VYre/hTZun8Pqw7+T4dP3dTvFv4ys6wbALrm/sBVr74oXzr9ld1v8gBqpv1pGWMJInba/LEKNHpvAy79r8suXTiLDv0q9XeW/9ri/EH13K0t0tL8T3NpUb5/Jv2OluUyERLu/CxoN8/jQuL+56L9iaNDQvxc6Ulnwfrq/",
          "dtype": "f8"
         },
         "yaxis": "y"
        },
        {
         "hovertemplate": "Iter: %{x}<br>Mean: %{y:.4f}<br>Condition: %{meta[0]}<extra></extra>",
         "legendgroup": "20Sigma",
         "line": {
          "color": "#FFA15A"
         },
         "meta": [
          "20Sigma"
         ],
         "name": "20Sigma",
         "showlegend": true,
         "type": "scatter",
         "x": {
          "bdata": "AQACAAMABAAFAAYABwAIAAkACgALAAwADQAOAA8AEAARABIAEwAUABUAFgAXABgAGQAaABsAHAAdAB4AHwAgACEAIgAjACQAJQAmACcAKAApACoAKwAsAC0ALgAvADAAMQAyADMANAA1ADYANwA4ADkAOgA7ADwAPQA+AD8AQABBAEIAQwBEAEUARgBHAEgASQBKAEsATABNAE4ATwBQAFEAUgBTAFQAVQBWAFcAWABZAFoAWwBcAF0AXgBfAGAAYQBiAGMAZABlAGYAZwBoAGkAagBrAGwAbQBuAG8AcABxAHIAcwB0AHUAdgB3AHgAeQB6AHsAfAB9AH4AfwCAAIEAggCDAIQAhQCGAIcAiACJAIoAiwCMAI0AjgCPAJAAkQCSAJMAlACVAJYA",
          "dtype": "i2"
         },
         "xaxis": "x",
         "y": {
          "bdata": "93G1lkoA7z8hyuDxtpvzP47L72tbi+k/0tImmHtS6D+KYt87V8HhP2t6YxvLTt4/Bjd2reEG5D+X5DbQMsHWP25fiB0OU+Q/I9nsETPE1j8PEAOUvVzSPxKrmnujMdY/AmO0xWwAwj+A9aWkdNbEP7Bhqr2srdc/8hidq2Xqxj+t41NbRVrQP0uizHQdGMs/V6wY5dBZyT8PNNY1kdDVP9JG9omEt9M/m3/hglmOwT8zKl+GtWfTPylmqk2JEcg/oZ4aC+aL0D8AhcSHI1nAP/Y9WDQLIsM/IvgWDVBRyj/5PDVNjvHDP+ZSytmpJ8E/nnzo8H5KyD+3K+H28b26Pyr7U0+LZrY/dESaVBDfyz/eEiXG10O0Pwm9bKnxQJq/ut5+QVP3ob9uiYBnn+vHPxVNevLDG7Y/okB70fo3uz/921YyfwSNv99paaVHisM/8XOgq9HPuj99b0EksRKlvwkyJiG1rbA/u5IuR9lssr9/i7waDrmXP/f0IiQcxEg/wGvhwzbzob8RuSqaGNzJP3BuXXuw1rI/p8DcAbF/qb+OtOj4wyp5P4blz7cFS6U/3/Pn/3k+l78mn2hoTT2kv4KJY4HT35+/3tKhCrZIqb8A2lhSt3ypP+tBCmeA1LE/lGg3aB3DuT838cRiiiiyP26/12vVCbG/5o02amHygj/2yphePjW6v9EItV6LlZi/mrSFw67Jqj/mr+o+kiRaPzGf0A9He6y/cwcZ234McD/EQUKUL2iRv2lBFSSj8La/IgquOvPzsT+aXJC/RiR8vylqVqNEOLu/jHNCViX/pb8EssTw/mXFvwGVvMxCzaK/Beo5jsRwxb8OB66XS0+NPwDB+EXlAsK/MP21mHskgb8JYUhh8a67v77TQM9C3q6/om192b7IoL/+gD7I6SK2v+fvXQJvALG/aZjrfl9tor/+ZYlgrteWvxdvv9dr1bu/03yoRy2nwr/zqJ+lmVyKP2kcWPwUNZa/hAXAQUQzxL9M+nspPGi6v4lUYugiz8m/czhOZayRwL8UW2XKq5e/v4TPssoocsO/3isqGTdsuL96Z/7iY8G2v1KDxNGwc7q/46XShvqUw7/qfT4lQn7Dvz6IwSANy7e/n+QhZglFsb+FABebjczEvwYhauxcYsa/JYXnE+cWqL/KTnZqZfnKv4AE2Fpy776/gYtfwrLjvL970gzzL5OCP4zddW2meci/upHDcSpjyL8+1xvZuY24v1DI8tJxWcu/Yte/tHGNtL9O7R8enGKov/HtcE7/bMO/A4RXE4zLxr/+TfGB5jyyv4f/dAMF3sC/IanPH+QGob+tFF1yN+PLv3/k+pt0f7u/45bqXRfZwL8k3PbPZfzGv82WPga9ycC/p8rkwQPwoL+5nsTDVxe/vww15lHNiMi/csMTnvTiuL/iWCjjKfWqvxE15LLkBMa/rjm/4FJNy7/1wXokpozDv13UFO6Crsu/arlZqY3Xs79LT354g1W8v/fLla85dcW/11QDuhyc0b8CxUdDRVTGvxQMnY1LC7+/sizPun2Nxb/htbmfwRTNv47QBpfF+8y/9RNg6nnJxb8L+FmJnU3OvymvYK1ssb2/",
          "dtype": "f8"
         },
         "yaxis": "y"
        },
        {
         "hovertemplate": "Iter: %{x}<br>CumSum: %{y:.4f}<br>Condition: %{meta[0]}<extra></extra>",
         "legendgroup": "0.25Sigma",
         "line": {
          "color": "#636EFA"
         },
         "meta": [
          "0.25Sigma"
         ],
         "name": "0.25Sigma",
         "showlegend": false,
         "type": "scatter",
         "x": {
          "bdata": "AQACAAMABAAFAAYABwAIAAkACgALAAwADQAOAA8AEAARABIAEwAUABUAFgAXABgAGQAaABsAHAAdAB4AHwAgACEAIgAjACQAJQAmACcAKAApACoAKwAsAC0ALgAvADAAMQAyADMANAA1ADYANwA4ADkAOgA7ADwAPQA+AD8AQABBAEIAQwBEAEUARgBHAEgASQBKAEsATABNAE4ATwBQAFEAUgBTAFQAVQBWAFcAWABZAFoAWwBcAF0AXgBfAGAAYQBiAGMAZABlAGYAZwBoAGkAagBrAGwAbQBuAG8AcABxAHIAcwB0AHUAdgB3AHgAeQB6AHsAfAB9AH4AfwCAAIEAggCDAIQAhQCGAIcAiACJAIoAiwCMAI0AjgCPAJAAkQCSAJMAlACVAJYA",
          "dtype": "i2"
         },
         "xaxis": "x2",
         "y": {
          "bdata": "acOr9vpk6z9ZKfNFMa/3PxOBWKT3CwJAgFwsVh6OB0D5oUANTVcMQInyl6hw1hBAey5Tk+C9EkB+eiI+ZnYUQIms2tpnchZAYzXenmiXGEDWjUCF7MUZQNVNPHrWgBtAMXaLiZZVHUDlGNpK+WIfQJ+mBDKptyBAaq+GDCyYIUBTi5stMwsiQA3BFmDEGyNA5Jh2e1r/I0CWMSsBHu4kQPsx0+PkxyVA4yP0xXCfJkCM5lzlZIUnQMKPoZrJQihAq2KYgTjVKEBo6CAwV5cpQPyAmyBFRCpAnaYG0ZHrKkCkGtKEyZQrQFcchg45VSxAkW5Ng2sLLUBpocHKxdAtQBX3s7NDOy5AlxzB1yEML0C3t25dRLovQL9mJ/EnGDBAFYlT9xJ4MECC+xTaTLQwQHhSg40P6zBA5cm2VCY9MUDAjoBSNZoxQHPZjeMs/TFALa0HFDI6MkAih0CtIWgyQGlaPm6boTJA2qMCuVbnMkBAnb3FVTUzQA3Wph9CYDNApHpHaRKiM0CLpTeSutMzQGUBXUWQADRAw2JVBetONEBXUeDBc580QHPZ+2fgwDRAXuNqmxn4NEATourFvi41QBlbdvYDbDVASdtmmEipNUCVMqmhDeA1QIouzGYy/jVAInlCCvkVNkAmeNWVYTY2QFGg9CrXZDZAPxsn8/18NkD72iCAwZc2QFyJ+AbesjZACxtU0Q7KNkAURN0HIAU3QNcFF4YjLzdAWDqNItlZN0DrAL99VH43QP7N1aB5hDdAlOeMumiaN0BgRQ9FSqA3QCv7ihFlsTdAXoEy17PDN0Bb15/7qeI3QOe3Qx4c7TdAx96LL9r/N0C1DsYH9Sg4QFUQFig8PThAPk6+xhtIOEDo2/ApblQ4QLuBObG+cDhA1tYHESh6OECZS6q2m4A4QADiimescThAFebiFMJ5OEDWucaLqZQ4QFnY5tm/sThA0yL/8BfJOEDfBRNIUsk4QBSaydwh0jhAPTaUbAfFOEA+BgdXHMg4QMjEQZ1NsDhAOX2+rqecOEB3NsCogJk4QIO+UU9DqDhA+2WeytedOEDOiwIzlYg4QGcXH3n6ezhAfl2ZyrVtOEAEowJenV44QIba3XH4SDhA2kuKxhE4OEB73rObBko4QKdGoHm4YjhABB51mFNiOEA3VhqwY284QDGob5nTVzhAGyRGmGtEOEARFNPgETg4QA080yeVODhAIzK/rc44OEBlac189DE4QC1coO5NMzhAyBghBRgfOEDdfgwwBv83QJtTSlBEBzhAiwfLD5MlOEBU5jCp6x44QI1avlK6EjhAeOZCCVceOECXU/E1ugM4QPzm2vPYADhAbCQcjVb2N0D4aCnY/vE3QKCNAX4y8TdAdW2VTablN0CWWnCHzuM3QEPD4yOq6DdAnY/9vhHhN0D31ef8pu43QJL+Fhzd0DdASad3ury6N0Dj7wTo5LA3QEr5bazomTdAb7T2USCMN0An1Rom9mA3QG1cWmhCVjdAlrqIE7xXN0CkPLyw/kQ3QH8Tr1f9KDdAc90mbqchN0C+TEvjThY3QEvOG7kAFjdAmzMQOesTN0ALfq3dCA03QFWz4cP/AjdA",
          "dtype": "f8"
         },
         "yaxis": "y2"
        },
        {
         "hovertemplate": "Iter: %{x}<br>CumSum: %{y:.4f}<br>Condition: %{meta[0]}<extra></extra>",
         "legendgroup": "Sigma",
         "line": {
          "color": "#EF553B"
         },
         "meta": [
          "Sigma"
         ],
         "name": "Sigma",
         "showlegend": false,
         "type": "scatter",
         "x": {
          "bdata": "AQACAAMABAAFAAYABwAIAAkACgALAAwADQAOAA8AEAARABIAEwAUABUAFgAXABgAGQAaABsAHAAdAB4AHwAgACEAIgAjACQAJQAmACcAKAApACoAKwAsAC0ALgAvADAAMQAyADMANAA1ADYANwA4ADkAOgA7ADwAPQA+AD8AQABBAEIAQwBEAEUARgBHAEgASQBKAEsATABNAE4ATwBQAFEAUgBTAFQAVQBWAFcAWABZAFoAWwBcAF0AXgBfAGAAYQBiAGMAZABlAGYAZwBoAGkAagBrAGwAbQBuAG8AcABxAHIAcwB0AHUAdgB3AHgAeQB6AHsAfAB9AH4AfwCAAIEAggCDAIQAhQCGAIcAiACJAIoAiwCMAI0AjgCPAJAAkQCSAJMAlACVAJYA",
          "dtype": "i2"
         },
         "xaxis": "x2",
         "y": {
          "bdata": "7ufdIY4+6j/+1Zkxu335PwPJqQvmXQJAdo3xvK+FBkABl9pl0tkKQL3jb9Y7Jw9Af0VaBnhGEkC9LTSzcisTQB7OexsadhRAZuxeAV8cFkD+Y7O1UGwXQEtugt0eyhhApwr8l1pdGkD114blKlEbQGkY0J3y4hxAL3+FzJXhHUANZRYPXfYeQE7soX2sDCBApRDIJY7IIECqRdasxYkhQLITgnnsPyJA4/pAuwyMIkDQrEgoWSYjQGkkwdPjuiNAP67Dh8gzJECq4TXCtXEkQPLkmgKZBSVARoK6ki6TJUAHiZCWphQmQDBZSgQYoCZAbTomr/L4JkDtMNxvo1cnQIjoRVsDuSdADmL5hekpKEChvlKDVpEoQJpM7/XIDSlAFGBFMzxPKUDycHBXHUMpQCrdJqVpMSlAnqZytlxpKUBQgW92R14pQDSN3IlIiylAj2tDxTjrKUDoPHSLCnoqQEsR879vvipAyUk7SGLsKkDvz/u1q94qQOmQrqxHNCtA0dvpGKGBK0DHhpLtoMIrQIVccqVn3ytAPPm9Fr3oK0DVDabzc+krQAYUfGVwJixAsiSK2kdMLEDMLXbE6mQsQOVQ4wL0iyxA+mD1IyGhLEBG0kr9mI4sQCFfsIk69SxA0M8eeTESLUDlSJ4iviYtQH6i/O5nEi1AjH+yPCItLUBpskjcLBMtQBiARunS9yxASwwCK4cmLUDFCUyndUctQMbf0g3wcC1AEL/2J0xnLUAVDa2phy8tQCG1iZP7CS1A/DvbozccLUAtqclCKj8tQHhS8RHDbC1AZ59sb1y/LUD8CDOkwdwtQMYhUgrx8y1AiGpdfU83LkB5xeepaRIuQFGHX/sT8i1Am+H1TyYMLkATh9qkEB4uQIPbJFAODC5AwJ9R8bYVLkBjm9WDygguQFFmciDaES5AMIOycUXuLUBAN0cw6NMtQJa6d+dj6S1AfFShJp/rLUBYgMs/1uctQGUO8BIKxy1An4odVoHnLUD4uBT829ItQAjrXHVBgS1AQWZpcCRJLUDv0XhGf0AtQFUMEbj2Xi1Al9aXJE5GLUAKobyPozEtQKggCvjHySxAL19P8w2kLEACcnqWnzcsQKlGxHBRMSxALZBH3qcILECywhzz8OQrQBrWMr7UtCtAj4Rb49hXK0BYamTF3ikrQIAT+eQXyCpAVIEB8pPUKkB8B9OLNacqQNtHp658SipAN2ix3QY6KkBL8QTVGRIqQEtSZD8d4SlA2QXgw0mqKUAyNgjOdGYpQO5248rGQClAX1iSl5ASKUAqw96xxesoQMQkS5zL2yhA/Ne7CByyKEBxHzqF3XQoQMTYsBQ3gChA/GQgKuhVKECnDik9CjIoQKmfJulQHChAAcNzN9DgJ0AGpngBm5wnQCrKuLxMZydAZzkJpS8oJ0ACijZsABcnQCXnRW7O6SZAX3imGGjvJkBOZ5UHV8omQFwadwIZbSZA4O0w3G9HJkCOQczKmwAmQA+XZgRlzCVAAy7/WL+wJUDd72PfKKAlQKPmLDRYgSVAtCQcVpSaJUBn/WZiumwlQOHVhTJnTCVAMZ9RXzstJUDej8oDR/AkQO/Je1R7xCRA",
          "dtype": "f8"
         },
         "yaxis": "y2"
        },
        {
         "hovertemplate": "Iter: %{x}<br>CumSum: %{y:.4f}<br>Condition: %{meta[0]}<extra></extra>",
         "legendgroup": "4Sigma",
         "line": {
          "color": "#00CC96"
         },
         "meta": [
          "4Sigma"
         ],
         "name": "4Sigma",
         "showlegend": false,
         "type": "scatter",
         "x": {
          "bdata": "AQACAAMABAAFAAYABwAIAAkACgALAAwADQAOAA8AEAARABIAEwAUABUAFgAXABgAGQAaABsAHAAdAB4AHwAgACEAIgAjACQAJQAmACcAKAApACoAKwAsAC0ALgAvADAAMQAyADMANAA1ADYANwA4ADkAOgA7ADwAPQA+AD8AQABBAEIAQwBEAEUARgBHAEgASQBKAEsATABNAE4ATwBQAFEAUgBTAFQAVQBWAFcAWABZAFoAWwBcAF0AXgBfAGAAYQBiAGMAZABlAGYAZwBoAGkAagBrAGwAbQBuAG8AcABxAHIAcwB0AHUAdgB3AHgAeQB6AHsAfAB9AH4AfwCAAIEAggCDAIQAhQCGAIcAiACJAIoAiwCMAI0AjgCPAJAAkQCSAJMAlACVAJYA",
          "dtype": "i2"
         },
         "xaxis": "x2",
         "y": {
          "bdata": "TvoNpYge7D9Y6EyjkmP4P+Xm99mkPgBAJCLYlAdVBEASyQ8U97cHQNvN1Gxm9QxAp/px1+5CEEBIDKdxFJ0RQHyrUevZFxNAVBcn9ZxrFEC6z83aSagVQMBy8pCXmxZAjp/X6VFyF0DVI5/pt7EYQBPdoOOQShlA3ewPlNueGkAFawrS+lEbQGxSiWrJAhxAkey2sBOTHEBMNbOWAoIdQGtYneYuAx5AxjgRj1a3HkDf1BpduGYfQIHvWmY1CSBAteKthetjIEB9KL7HhsMgQBeoRJFtGCFAuCEhJdFKIUCpSu3XL4YhQODurN12kSFA1i1w5zCdIUB0pnXAGvwhQBvUEOdzUCJAiz4wkRx6IkB6E0NyMrkiQIcDaUfy0SJAtSQat6vaIkAtl3oDuUkjQCxEUP63ayNA6/CzbfTNI0De2cMDb6kjQCLO1DWk0yNAR+fpSYbpI0C/taWgbfsjQO4C7kI8zyNAG65Do6nEI0BCq5MzFOsjQGI04U1t9yNAYHPX2y8oJEC4xjDwpW0kQOFj1NntlyRAEWRO4VK7JED/flVSS4skQPZwpXoOkCRAEfqZet2GJEA6eLivlWokQFCLUz8BiiRAGGuSMryQJEAKnp1nR1UkQHFVa/ORFiRAT/UHpnYKJEApRAgQhjYkQE3t1ZCBISRA0WVEfDohJECnCo4Tp/8jQHL7mwb78SNAS0DLcpGiI0D8LmzNVr4jQDjng0F1vyNAgmBoiD27I0CQGbm41+8jQH010EUMBCRA6Gpz5MnuI0CmDGS+BI8jQLrT+OAQlSNAgCxVsxhuI0DZz+HZnUUjQCLmbBRsbiNA/6Assz9LI0DQ58eDUf0iQKzLzKjV5yJAKR7NRwi5IkAnVRBx4XoiQOsHqrQzPiJAxDViipb8IUDi8bT8wAUiQKP6u2QJ5CFANIrj923XIUC42bGjA5QhQNF8cYVTYiFA2oserosdIUDcYJX4ybogQPOmD0qFaiBAQJbOUKVDIEAfx1Xkj5kfQI64fUVt0R5ATdJoF3gjHkBV/0Lq0b8dQDuxqU5iKx1AfmkrCWNuHEA/oeYsNPgbQHf9EroUwBtA2HEeqRlVG0AKvgyikeMaQH5t114ePRpAzO2TEYVkGUAb1yvR/pwYQPETzm4tuxdAhFR1s2PPF0D9k3XuLOgWQNS2BLyokRZAC50M/BaDFkC6vulwh/gVQCAyPl7aehVAWSmDIpUZFUBZgP7D3nQUQCjRbDFSAhRAi6j1I+pSE0B50R4vpMsSQNTVwDISXRJAWxoaqr2LEUDhD+Km4ooQQAobreuYew9AAE/qlBAFDkArUxKRGecMQE7NB1/z5QtA5QHzkCkvCkD/hK8d+hwIQDi5k3UlLwdAlMuyzMcKBUDr4X8YDqEDQANlvfTSMAFAacBCQYQDAEBikp6hN9T8P9GLQqUk/vg/P64rL8L99T+TObSRtGTzP8E0JFw2KO8/sp7Ncw386T8176s731jkP9E7DihAOd8/XLe5VTR60z+aftk9eVi8Pzny8zo9SsG/sdbYAbOe0r+ysubaKpvhv2WmCkYl9ea/7ElbASpB6b8NY+A4qLzuvx0LRyLGPfG/",
          "dtype": "f8"
         },
         "yaxis": "y2"
        },
        {
         "hovertemplate": "Iter: %{x}<br>CumSum: %{y:.4f}<br>Condition: %{meta[0]}<extra></extra>",
         "legendgroup": "10Sigma",
         "line": {
          "color": "#AB63FA"
         },
         "meta": [
          "10Sigma"
         ],
         "name": "10Sigma",
         "showlegend": false,
         "type": "scatter",
         "x": {
          "bdata": "AQACAAMABAAFAAYABwAIAAkACgALAAwADQAOAA8AEAARABIAEwAUABUAFgAXABgAGQAaABsAHAAdAB4AHwAgACEAIgAjACQAJQAmACcAKAApACoAKwAsAC0ALgAvADAAMQAyADMANAA1ADYANwA4ADkAOgA7ADwAPQA+AD8AQABBAEIAQwBEAEUARgBHAEgASQBKAEsATABNAE4ATwBQAFEAUgBTAFQAVQBWAFcAWABZAFoAWwBcAF0AXgBfAGAAYQBiAGMAZABlAGYAZwBoAGkAagBrAGwAbQBuAG8AcABxAHIAcwB0AHUAdgB3AHgAeQB6AHsAfAB9AH4AfwCAAIEAggCDAIQAhQCGAIcAiACJAIoAiwCMAI0AjgCPAJAAkQCSAJMAlACVAJYA",
          "dtype": "i2"
         },
         "xaxis": "x2",
         "y": {
          "bdata": "roV9X4Ah8T/NggjwlVgAQA9iZwqdJwhA3vyZVEcRDkCnwiAxwjQRQCBPJsnOfhNAIAAnypRNFUCV8QL/bjQXQKjemycfqxhAzApYheBzGkChdbGNnOEbQMWE9aMFjB1AFAgXzhGtHkCUccMmaXUfQAMMAmJJKCBApqggLFCEIEBJXufwWv8gQAtkrdiWYCFAPQfgsH6VIUBxnkVKDksiQON6pimUyyJAtirTeZ5JI0DwPus+JPgjQH9Rgv5CJyRARmQhA0JEJEAmRFQ8iaMkQGP+LpDEqyRAmExfGWXrJEDf/NAWITYlQKzIMg4/WSVAPqQYINGUJUAuhJ6W6LUlQCmiX1s/zSVAfpnxfxAWJkAwnovQGU4mQDuQ0d1RhyZAX5AaAJelJkB7ILJIE6MmQMhF/xVDtyZADNqtLnAGJ0AIy5Dimy0nQF/aTGGBKydAx5zERKdLJ0CWE8kzC2gnQASC3sCJRSdAjp4AL9huJ0Aiq0oRz2QnQLJxogLMvSdAVYw9xbvVJ0CurgxzS/AnQKRs7gx3CihAVUYlPkA4KECGTGk08BooQJDaISJZJChAKYEXx5IrKEDINawXsSEoQOHxbq137CdANOjyVPUIKEDjtLxOxugnQOfxIoF0xydAdwrys5HnJ0D1c+iZA/knQIXlCBnI1ydAHMOva47WJ0Ami/0uNb8nQKLnht2u1idAZvBnr3XwJ0CrLph3VPgnQALe8dwx9ydAlKrc+p/aJ0BhmJaipuMnQCPMbq7i9SdA/agaGNT2J0Ab1vv7+vMnQMfw7TmMMShAQnNX9xBxKECM9evzvY8oQEQoFXrqjihA8fHDiTBqKECJ26MAGlooQEhXkNSwPShATItGUXolKEC6b5P2q/0nQIajePBuCChA5Z2PRa3TJ0BobOoFaNgnQKL+7EeKyCdAoyM862TGJ0D0pkpKMLcnQIYJJki2zCdABOq+G4quJ0DPnphQHMsnQGenND5vxidAjSDQYvK/J0AB9wn70c8nQFvAGdgGridAicPnKrnCJ0D/8YbqnKknQBo1LKEWiidApDl/bsOXJ0BqL6Yral4nQK7vkL05IydAWoWHsc0iJ0CSmJH5/xQnQGqROalC7iZA+nkgDQLCJkAzaVezYMQmQGrPetQ7wCZArBd+OXyPJkApVrZGO3kmQIynRp7aCyZAQUq5VtYVJkDDDp7SiuwlQJxY0Z5KrSVArG4wnZ9bJUAXrlxLpDAlQIS7STD5DyVAJd7h5OzPJECgwaoMdZ4kQHyyCz2ZiiRAUaebsVUjJEA/6aN57esjQEmMj8540iNARaQFVZBsI0Bb5bII/EQjQCjnosYp1yJA3xgGvjSTIkAGcNutG7EiQHk39lo+kCJAbD9U425NIkCEyG55v/whQILhl8O3mSFA+FWGzPB2IUBRKFkqS2AhQIbMmX+GMSFArBMccdvhIEAmxDyZ7YwgQM3sLhmQWiBA7IDi2mPEH0D9yenYLpIfQORo4LW5Nx9A0/7r3LRZHkBAny1oosAdQEsomGjHXB1AV0rqO/YKHUB2c0PB+j0cQOCMELDo0BtAeFhEzKRtG0DsWRhGnmAaQAQRs4Si9hlA",
          "dtype": "f8"
         },
         "yaxis": "y2"
        },
        {
         "hovertemplate": "Iter: %{x}<br>CumSum: %{y:.4f}<br>Condition: %{meta[0]}<extra></extra>",
         "legendgroup": "20Sigma",
         "line": {
          "color": "#FFA15A"
         },
         "meta": [
          "20Sigma"
         ],
         "name": "20Sigma",
         "showlegend": false,
         "type": "scatter",
         "x": {
          "bdata": "AQACAAMABAAFAAYABwAIAAkACgALAAwADQAOAA8AEAARABIAEwAUABUAFgAXABgAGQAaABsAHAAdAB4AHwAgACEAIgAjACQAJQAmACcAKAApACoAKwAsAC0ALgAvADAAMQAyADMANAA1ADYANwA4ADkAOgA7ADwAPQA+AD8AQABBAEIAQwBEAEUARgBHAEgASQBKAEsATABNAE4ATwBQAFEAUgBTAFQAVQBWAFcAWABZAFoAWwBcAF0AXgBfAGAAYQBiAGMAZABlAGYAZwBoAGkAagBrAGwAbQBuAG8AcABxAHIAcwB0AHUAdgB3AHgAeQB6AHsAfAB9AH4AfwCAAIEAggCDAIQAhQCGAIcAiACJAIoAiwCMAI0AjgCPAJAAkQCSAJMAlACVAJYA",
          "dtype": "i2"
         },
         "xaxis": "x2",
         "y": {
          "bdata": "93G1lkoA7z+OwZ0e7o0BQHK0mfnE8AdAJmmj32MFDkDkoE3X3DoRQIvYA4nJHxNAbJ+yvqWgFUC1DbbruAwXQKMZZ68alxlANeeF4F0DG0A2GMa5KSkcQOfCf/FDjB1A/2WtV0ccHkCrldL8+sIeQOOdVuTqHiBARxIFe5R6IEBksd+lZv0gQO3jshvHaSFAnkZHXy7PIUA++PXosn0iQHWqRQ1vGyNAczBRc6hhI0DFKYQf5vwjQF7TukQsXSRAU6gTdYvhJEBnujID8CIlQF8bBDB4byVAQHc4cL3YJUA0TG2pgygmQIB11FAibSZAcheYTEzOJkDJ2YUwyAMnQL+BJEeVMCdA0ep2iBGgJ0D3NAM4mcgnQJh+Lr94uydAuf/sa4GpJ0DfAYvpLwkoQHn2b3FnNShA+uwSZ9drKEBDV0ZHlmQoQOr822W/sihA0j0zCV/oKEBj/A5YTNMoQMdIUcKn9ChAouvCD87PKEDoSdCWqtsoQHTaQKcN3ChACPl8cBrKKEDso+XSijEpQMle3DM4VylACILagrg9KUAfn1nb3UApQAVvEeEoVilAC3sRpIlKKUBsEqlWTDYpQKdg6GxcJilA1L7dthMNKUCuFzBukCYpQDIs/m45SilAA5vOqb99KUDlJJS+EKIpQGZ1vBP9fylACQMXrLmEKUBz0VkvT1ApQO92qmkERClApPxtGM5eKUD58/88n18pQFoj8PUjQylAe4bLhSVFKUBaZQFucTwpQNc6uSeQDilA65YuDngyKUDfpFaF8y4pQAv4D/yC+ChAl7W51oPiKEDPovba64woQDrmKZgeeihAkv7whVskKEAU6tZYrysoQBAHv8Oj4ydAkdnYpFrfJ0DPSBbC/KcnQPsHR38eiSdAjYptwFV4J0CLDd3sD0wnQKtR2A4PKidAE2ZZr6EXJ0BgISnYNQwnQIKieQCL1CZAjwBbS+6JJkB5aMRxhZAmQGs8RudqhSZAVTw/1p00JkBgROxdzf8lQA67StKQmCVALIK1IEpWJUB2tyDJGhclQDjs9SVSySRA4JfDt3mYJEARm/3v9mokQAoSWo4PNiRAcsc+pLvnI0B6zambwpkjQGpKaIEsaiNAoQacbqJHI0Cfqi84cPQiQBsCfsTmmiJAlhpq3c+CIkBbQcBH6hYiQFKRCmML2SFAO9KF/UOfIUBwlYLJ6KMhQPq9zC8CQiFAs68FhnXgIEAFeFMSWq8gQOSsB0v0QSBANS2eZ9kYIEBIDYDLdgAgQCCTjJyFZR9AANfxOymvHkDIEeqhNWYeQMxpznlF3x1AesqOsTe9HUDV4fv1Hd4cQEP2iyMgcBxAjKGcaFfpG0Cr6hw6dDEbQPX16lEmqxpAYCxnSkaJGkDlGVjr6AwaQD3oyICiSBlAL5lQrhblGEB9SIpaLK8YQNQm8zQF/xdABy3tnZokF0D3VslsNYgWQFSwWFXBqhVAbkmzHmNbFUAxUNEQDeoUQNGhVENjPhRAhGy0d6EkE0BcLppN/3ESQCy6Yx/S9RFAxkCNMWZJEUAXc48kwGAQQCV5ru/D8Q5A5ncIUSyVDUBl2HJ4UrALQOzSBxPHwgpA",
          "dtype": "f8"
         },
         "yaxis": "y2"
        }
       ],
       "layout": {
        "annotations": [
         {
          "font": {
           "size": 16
          },
          "showarrow": false,
          "text": "Instant Regret",
          "x": 0.5,
          "xanchor": "center",
          "xref": "paper",
          "y": 1,
          "yanchor": "bottom",
          "yref": "paper"
         },
         {
          "font": {
           "size": 16
          },
          "showarrow": false,
          "text": "Cumulative Regret",
          "x": 0.5,
          "xanchor": "center",
          "xref": "paper",
          "y": 0.45,
          "yanchor": "bottom",
          "yref": "paper"
         }
        ],
        "height": 1080,
        "legend": {
         "title": {
          "text": "Condition"
         },
         "x": 0.95,
         "xanchor": "left",
         "y": 0.99,
         "yanchor": "top"
        },
        "template": {
         "data": {
          "bar": [
           {
            "error_x": {
             "color": "#2a3f5f"
            },
            "error_y": {
             "color": "#2a3f5f"
            },
            "marker": {
             "line": {
              "color": "white",
              "width": 0.5
             },
             "pattern": {
              "fillmode": "overlay",
              "size": 10,
              "solidity": 0.2
             }
            },
            "type": "bar"
           }
          ],
          "barpolar": [
           {
            "marker": {
             "line": {
              "color": "white",
              "width": 0.5
             },
             "pattern": {
              "fillmode": "overlay",
              "size": 10,
              "solidity": 0.2
             }
            },
            "type": "barpolar"
           }
          ],
          "carpet": [
           {
            "aaxis": {
             "endlinecolor": "#2a3f5f",
             "gridcolor": "#C8D4E3",
             "linecolor": "#C8D4E3",
             "minorgridcolor": "#C8D4E3",
             "startlinecolor": "#2a3f5f"
            },
            "baxis": {
             "endlinecolor": "#2a3f5f",
             "gridcolor": "#C8D4E3",
             "linecolor": "#C8D4E3",
             "minorgridcolor": "#C8D4E3",
             "startlinecolor": "#2a3f5f"
            },
            "type": "carpet"
           }
          ],
          "choropleth": [
           {
            "colorbar": {
             "outlinewidth": 0,
             "ticks": ""
            },
            "type": "choropleth"
           }
          ],
          "contour": [
           {
            "colorbar": {
             "outlinewidth": 0,
             "ticks": ""
            },
            "colorscale": [
             [
              0,
              "#0d0887"
             ],
             [
              0.1111111111111111,
              "#46039f"
             ],
             [
              0.2222222222222222,
              "#7201a8"
             ],
             [
              0.3333333333333333,
              "#9c179e"
             ],
             [
              0.4444444444444444,
              "#bd3786"
             ],
             [
              0.5555555555555556,
              "#d8576b"
             ],
             [
              0.6666666666666666,
              "#ed7953"
             ],
             [
              0.7777777777777778,
              "#fb9f3a"
             ],
             [
              0.8888888888888888,
              "#fdca26"
             ],
             [
              1,
              "#f0f921"
             ]
            ],
            "type": "contour"
           }
          ],
          "contourcarpet": [
           {
            "colorbar": {
             "outlinewidth": 0,
             "ticks": ""
            },
            "type": "contourcarpet"
           }
          ],
          "heatmap": [
           {
            "colorbar": {
             "outlinewidth": 0,
             "ticks": ""
            },
            "colorscale": [
             [
              0,
              "#0d0887"
             ],
             [
              0.1111111111111111,
              "#46039f"
             ],
             [
              0.2222222222222222,
              "#7201a8"
             ],
             [
              0.3333333333333333,
              "#9c179e"
             ],
             [
              0.4444444444444444,
              "#bd3786"
             ],
             [
              0.5555555555555556,
              "#d8576b"
             ],
             [
              0.6666666666666666,
              "#ed7953"
             ],
             [
              0.7777777777777778,
              "#fb9f3a"
             ],
             [
              0.8888888888888888,
              "#fdca26"
             ],
             [
              1,
              "#f0f921"
             ]
            ],
            "type": "heatmap"
           }
          ],
          "histogram": [
           {
            "marker": {
             "pattern": {
              "fillmode": "overlay",
              "size": 10,
              "solidity": 0.2
             }
            },
            "type": "histogram"
           }
          ],
          "histogram2d": [
           {
            "colorbar": {
             "outlinewidth": 0,
             "ticks": ""
            },
            "colorscale": [
             [
              0,
              "#0d0887"
             ],
             [
              0.1111111111111111,
              "#46039f"
             ],
             [
              0.2222222222222222,
              "#7201a8"
             ],
             [
              0.3333333333333333,
              "#9c179e"
             ],
             [
              0.4444444444444444,
              "#bd3786"
             ],
             [
              0.5555555555555556,
              "#d8576b"
             ],
             [
              0.6666666666666666,
              "#ed7953"
             ],
             [
              0.7777777777777778,
              "#fb9f3a"
             ],
             [
              0.8888888888888888,
              "#fdca26"
             ],
             [
              1,
              "#f0f921"
             ]
            ],
            "type": "histogram2d"
           }
          ],
          "histogram2dcontour": [
           {
            "colorbar": {
             "outlinewidth": 0,
             "ticks": ""
            },
            "colorscale": [
             [
              0,
              "#0d0887"
             ],
             [
              0.1111111111111111,
              "#46039f"
             ],
             [
              0.2222222222222222,
              "#7201a8"
             ],
             [
              0.3333333333333333,
              "#9c179e"
             ],
             [
              0.4444444444444444,
              "#bd3786"
             ],
             [
              0.5555555555555556,
              "#d8576b"
             ],
             [
              0.6666666666666666,
              "#ed7953"
             ],
             [
              0.7777777777777778,
              "#fb9f3a"
             ],
             [
              0.8888888888888888,
              "#fdca26"
             ],
             [
              1,
              "#f0f921"
             ]
            ],
            "type": "histogram2dcontour"
           }
          ],
          "mesh3d": [
           {
            "colorbar": {
             "outlinewidth": 0,
             "ticks": ""
            },
            "type": "mesh3d"
           }
          ],
          "parcoords": [
           {
            "line": {
             "colorbar": {
              "outlinewidth": 0,
              "ticks": ""
             }
            },
            "type": "parcoords"
           }
          ],
          "pie": [
           {
            "automargin": true,
            "type": "pie"
           }
          ],
          "scatter": [
           {
            "fillpattern": {
             "fillmode": "overlay",
             "size": 10,
             "solidity": 0.2
            },
            "type": "scatter"
           }
          ],
          "scatter3d": [
           {
            "line": {
             "colorbar": {
              "outlinewidth": 0,
              "ticks": ""
             }
            },
            "marker": {
             "colorbar": {
              "outlinewidth": 0,
              "ticks": ""
             }
            },
            "type": "scatter3d"
           }
          ],
          "scattercarpet": [
           {
            "marker": {
             "colorbar": {
              "outlinewidth": 0,
              "ticks": ""
             }
            },
            "type": "scattercarpet"
           }
          ],
          "scattergeo": [
           {
            "marker": {
             "colorbar": {
              "outlinewidth": 0,
              "ticks": ""
             }
            },
            "type": "scattergeo"
           }
          ],
          "scattergl": [
           {
            "marker": {
             "colorbar": {
              "outlinewidth": 0,
              "ticks": ""
             }
            },
            "type": "scattergl"
           }
          ],
          "scattermap": [
           {
            "marker": {
             "colorbar": {
              "outlinewidth": 0,
              "ticks": ""
             }
            },
            "type": "scattermap"
           }
          ],
          "scattermapbox": [
           {
            "marker": {
             "colorbar": {
              "outlinewidth": 0,
              "ticks": ""
             }
            },
            "type": "scattermapbox"
           }
          ],
          "scatterpolar": [
           {
            "marker": {
             "colorbar": {
              "outlinewidth": 0,
              "ticks": ""
             }
            },
            "type": "scatterpolar"
           }
          ],
          "scatterpolargl": [
           {
            "marker": {
             "colorbar": {
              "outlinewidth": 0,
              "ticks": ""
             }
            },
            "type": "scatterpolargl"
           }
          ],
          "scatterternary": [
           {
            "marker": {
             "colorbar": {
              "outlinewidth": 0,
              "ticks": ""
             }
            },
            "type": "scatterternary"
           }
          ],
          "surface": [
           {
            "colorbar": {
             "outlinewidth": 0,
             "ticks": ""
            },
            "colorscale": [
             [
              0,
              "#0d0887"
             ],
             [
              0.1111111111111111,
              "#46039f"
             ],
             [
              0.2222222222222222,
              "#7201a8"
             ],
             [
              0.3333333333333333,
              "#9c179e"
             ],
             [
              0.4444444444444444,
              "#bd3786"
             ],
             [
              0.5555555555555556,
              "#d8576b"
             ],
             [
              0.6666666666666666,
              "#ed7953"
             ],
             [
              0.7777777777777778,
              "#fb9f3a"
             ],
             [
              0.8888888888888888,
              "#fdca26"
             ],
             [
              1,
              "#f0f921"
             ]
            ],
            "type": "surface"
           }
          ],
          "table": [
           {
            "cells": {
             "fill": {
              "color": "#EBF0F8"
             },
             "line": {
              "color": "white"
             }
            },
            "header": {
             "fill": {
              "color": "#C8D4E3"
             },
             "line": {
              "color": "white"
             }
            },
            "type": "table"
           }
          ]
         },
         "layout": {
          "annotationdefaults": {
           "arrowcolor": "#2a3f5f",
           "arrowhead": 0,
           "arrowwidth": 1
          },
          "autotypenumbers": "strict",
          "coloraxis": {
           "colorbar": {
            "outlinewidth": 0,
            "ticks": ""
           }
          },
          "colorscale": {
           "diverging": [
            [
             0,
             "#8e0152"
            ],
            [
             0.1,
             "#c51b7d"
            ],
            [
             0.2,
             "#de77ae"
            ],
            [
             0.3,
             "#f1b6da"
            ],
            [
             0.4,
             "#fde0ef"
            ],
            [
             0.5,
             "#f7f7f7"
            ],
            [
             0.6,
             "#e6f5d0"
            ],
            [
             0.7,
             "#b8e186"
            ],
            [
             0.8,
             "#7fbc41"
            ],
            [
             0.9,
             "#4d9221"
            ],
            [
             1,
             "#276419"
            ]
           ],
           "sequential": [
            [
             0,
             "#0d0887"
            ],
            [
             0.1111111111111111,
             "#46039f"
            ],
            [
             0.2222222222222222,
             "#7201a8"
            ],
            [
             0.3333333333333333,
             "#9c179e"
            ],
            [
             0.4444444444444444,
             "#bd3786"
            ],
            [
             0.5555555555555556,
             "#d8576b"
            ],
            [
             0.6666666666666666,
             "#ed7953"
            ],
            [
             0.7777777777777778,
             "#fb9f3a"
            ],
            [
             0.8888888888888888,
             "#fdca26"
            ],
            [
             1,
             "#f0f921"
            ]
           ],
           "sequentialminus": [
            [
             0,
             "#0d0887"
            ],
            [
             0.1111111111111111,
             "#46039f"
            ],
            [
             0.2222222222222222,
             "#7201a8"
            ],
            [
             0.3333333333333333,
             "#9c179e"
            ],
            [
             0.4444444444444444,
             "#bd3786"
            ],
            [
             0.5555555555555556,
             "#d8576b"
            ],
            [
             0.6666666666666666,
             "#ed7953"
            ],
            [
             0.7777777777777778,
             "#fb9f3a"
            ],
            [
             0.8888888888888888,
             "#fdca26"
            ],
            [
             1,
             "#f0f921"
            ]
           ]
          },
          "colorway": [
           "#636efa",
           "#EF553B",
           "#00cc96",
           "#ab63fa",
           "#FFA15A",
           "#19d3f3",
           "#FF6692",
           "#B6E880",
           "#FF97FF",
           "#FECB52"
          ],
          "font": {
           "color": "#2a3f5f"
          },
          "geo": {
           "bgcolor": "white",
           "lakecolor": "white",
           "landcolor": "white",
           "showlakes": true,
           "showland": true,
           "subunitcolor": "#C8D4E3"
          },
          "hoverlabel": {
           "align": "left"
          },
          "hovermode": "closest",
          "mapbox": {
           "style": "light"
          },
          "paper_bgcolor": "white",
          "plot_bgcolor": "white",
          "polar": {
           "angularaxis": {
            "gridcolor": "#EBF0F8",
            "linecolor": "#EBF0F8",
            "ticks": ""
           },
           "bgcolor": "white",
           "radialaxis": {
            "gridcolor": "#EBF0F8",
            "linecolor": "#EBF0F8",
            "ticks": ""
           }
          },
          "scene": {
           "xaxis": {
            "backgroundcolor": "white",
            "gridcolor": "#DFE8F3",
            "gridwidth": 2,
            "linecolor": "#EBF0F8",
            "showbackground": true,
            "ticks": "",
            "zerolinecolor": "#EBF0F8"
           },
           "yaxis": {
            "backgroundcolor": "white",
            "gridcolor": "#DFE8F3",
            "gridwidth": 2,
            "linecolor": "#EBF0F8",
            "showbackground": true,
            "ticks": "",
            "zerolinecolor": "#EBF0F8"
           },
           "zaxis": {
            "backgroundcolor": "white",
            "gridcolor": "#DFE8F3",
            "gridwidth": 2,
            "linecolor": "#EBF0F8",
            "showbackground": true,
            "ticks": "",
            "zerolinecolor": "#EBF0F8"
           }
          },
          "shapedefaults": {
           "line": {
            "color": "#2a3f5f"
           }
          },
          "ternary": {
           "aaxis": {
            "gridcolor": "#DFE8F3",
            "linecolor": "#A2B1C6",
            "ticks": ""
           },
           "baxis": {
            "gridcolor": "#DFE8F3",
            "linecolor": "#A2B1C6",
            "ticks": ""
           },
           "bgcolor": "white",
           "caxis": {
            "gridcolor": "#DFE8F3",
            "linecolor": "#A2B1C6",
            "ticks": ""
           }
          },
          "title": {
           "x": 0.05
          },
          "xaxis": {
           "automargin": true,
           "gridcolor": "#EBF0F8",
           "linecolor": "#EBF0F8",
           "ticks": "",
           "title": {
            "standoff": 15
           },
           "zerolinecolor": "#EBF0F8",
           "zerolinewidth": 2
          },
          "yaxis": {
           "automargin": true,
           "gridcolor": "#EBF0F8",
           "linecolor": "#EBF0F8",
           "ticks": "",
           "title": {
            "standoff": 15
           },
           "zerolinecolor": "#EBF0F8",
           "zerolinewidth": 2
          }
         }
        },
        "title": {
         "text": "Sigma_07_50_5",
         "x": 0.5
        },
        "width": 1920,
        "xaxis": {
         "anchor": "y",
         "domain": [
          0,
          1
         ]
        },
        "xaxis2": {
         "anchor": "y2",
         "domain": [
          0,
          1
         ],
         "title": {
          "text": "Iteration"
         }
        },
        "yaxis": {
         "anchor": "x",
         "domain": [
          0.55,
          1
         ],
         "title": {
          "text": "Instant Regret"
         }
        },
        "yaxis2": {
         "anchor": "x2",
         "domain": [
          0,
          0.45
         ],
         "title": {
          "text": "Cumulative Regret"
         }
        }
       }
      }
     },
     "metadata": {},
     "output_type": "display_data"
    }
   ],
   "source": [
    "import pandas as pd\n",
    "import plotly.graph_objects as go\n",
    "import plotly.express as px\n",
    "from plotly.subplots import make_subplots\n",
    "import plotly.io as pio\n",
    "import os\n",
    "import numpy as np\n",
    "\n",
    "text = \"Sigma_07\"\n",
    "\n",
    "# 定义文件夹路径和CSV文件列表\n",
    "data_folder = os.path.join('Data', text)\n",
    "# files = ['50_5_0.csv','50_5_2.csv','50_5_20.csv','50_5_TS.csv','50_5_Uni.csv']\n",
    "# curve_names = ['β = 0', 'β = 2', 'β = 20', 'TS', 'Uniform']\n",
    "files = ['50_8_TS_0.25.csv','50_8_TS_1.csv','50_8_TS_4.csv','50_8_TS_10.csv','50_8_TS_20.csv']\n",
    "curve_names = [ '0.25Sigma', 'Sigma', '4Sigma', '10Sigma', '20Sigma']\n",
    "colors = px.colors.qualitative.Plotly[:len(curve_names)] \n",
    "\n",
    "# 创建三个DataFrame分别存储原始均值、最优均值和累积遗憾\n",
    "all_mean_data = pd.DataFrame()\n",
    "all_best_data = pd.DataFrame()\n",
    "all_cumsum_data = pd.DataFrame()  # 新增：存储Cumulative Regret\n",
    "\n",
    "# 循环处理每个文件\n",
    "for file, name in zip(files, curve_names):\n",
    "    file_path = os.path.join(data_folder, file)\n",
    "    df = pd.read_csv(file_path, index_col='Repetition')\n",
    "    \n",
    "    # 计算每个step的均值（Instant Regret）\n",
    "    mean_results = df.mean(axis=0)\n",
    "    \n",
    "    # 计算当前最优均值（Simple Regret，可选保留或删除）\n",
    "    best_results = np.minimum.accumulate(mean_results.values)\n",
    "    \n",
    "    # 添加到原始均值DataFrame\n",
    "    temp_mean_df = pd.DataFrame({\n",
    "        'Iter': range(1, 151),\n",
    "        'Value': mean_results.values,\n",
    "        'Condition': name\n",
    "    })\n",
    "    \n",
    "    # 添加到最优均值DataFrame（可选保留或删除）\n",
    "    temp_best_df = pd.DataFrame({\n",
    "        'Iter': range(1, 151),\n",
    "        'Value': best_results,\n",
    "        'Condition': name\n",
    "    })    \n",
    "    \n",
    "    # 新增：计算Cumulative Regret（排除Uniform条件）\n",
    "    if name != 'Uniform':\n",
    "        cumsum_results = np.cumsum(mean_results.values)\n",
    "        temp_cumsum_df = pd.DataFrame({\n",
    "            'Iter': range(1, 151),\n",
    "            'Value': cumsum_results,\n",
    "            'Condition': name\n",
    "        })\n",
    "        all_cumsum_data = pd.concat([all_cumsum_data, temp_cumsum_df])\n",
    "    \n",
    "    all_mean_data = pd.concat([all_mean_data, temp_mean_df])\n",
    "    all_best_data = pd.concat([all_best_data, temp_best_df])\n",
    "\n",
    "# 创建子图（2行1列，垂直排列）\n",
    "fig = make_subplots(\n",
    "    rows=2, cols=1,\n",
    "    vertical_spacing=0.1,\n",
    "    subplot_titles=(\"Instant Regret\", \"Cumulative Regret\")  # 添加子图标题\n",
    ")\n",
    "\n",
    "# 为每个条件添加原始均值曲线（Instant Regret，第一个子图）\n",
    "for i, condition in enumerate(curve_names):\n",
    "    mean_df = all_mean_data[all_mean_data['Condition'] == condition]\n",
    "    fig.add_trace(\n",
    "        go.Scatter(\n",
    "            x=mean_df['Iter'],\n",
    "            y=mean_df['Value'],\n",
    "            name=condition,\n",
    "            legendgroup=condition,\n",
    "            showlegend=True,\n",
    "            line=dict(color=colors[i]),\n",
    "            meta=[condition],\n",
    "            hovertemplate=\"Iter: %{x}<br>Mean: %{y:.4f}<br>Condition: %{meta[0]}<extra></extra>\"\n",
    "        ),\n",
    "        row=1, col=1\n",
    "    )\n",
    "\n",
    "# 为每个条件（排除Uniform）添加累积遗憾曲线（Cumulative Regret，第二个子图）\n",
    "for i, condition in enumerate(curve_names):\n",
    "    if condition == 'Uniform':\n",
    "        continue  # 跳过Uniform条件\n",
    "    cumsum_df = all_cumsum_data[all_cumsum_data['Condition'] == condition]\n",
    "    fig.add_trace(\n",
    "        go.Scatter(\n",
    "            x=cumsum_df['Iter'],\n",
    "            y=cumsum_df['Value'],\n",
    "            name=condition,\n",
    "            legendgroup=condition,\n",
    "            showlegend=False,  # 避免重复图例\n",
    "            line=dict(color=colors[i]),\n",
    "            meta=[condition],\n",
    "            hovertemplate=\"Iter: %{x}<br>CumSum: %{y:.4f}<br>Condition: %{meta[0]}<extra></extra>\"\n",
    "        ),\n",
    "        row=2, col=1\n",
    "    )\n",
    "\n",
    "# 更新布局\n",
    "fig.update_layout(\n",
    "    title_text=text+\"_50_5\",\n",
    "    title_x=0.5,\n",
    "    height=1080,\n",
    "    width=1920,\n",
    "    template='plotly_white',\n",
    "    legend_title_text='Condition',\n",
    "    legend=dict(yanchor=\"top\", y=0.99, xanchor=\"left\", x=0.95)\n",
    ")\n",
    "\n",
    "# 更新Y轴和X轴标签\n",
    "fig.update_yaxes(title_text=\"Instant Regret\", row=1, col=1)\n",
    "fig.update_yaxes(title_text=\"Cumulative Regret\", row=2, col=1)\n",
    "fig.update_xaxes(title_text=\"Iteration\", row=2, col=1)  # 仅底部子图显示X轴标签\n",
    "\n",
    "# 显示图形\n",
    "fig.show()\n",
    "\n",
    "# 保存为HTML文件\n",
    "pio.write_html(fig, '50_5_instant.html')"
   ]
  },
  {
   "cell_type": "code",
   "execution_count": 2,
   "id": "2f3ce067",
   "metadata": {},
   "outputs": [
    {
     "data": {
      "application/vnd.plotly.v1+json": {
       "config": {
        "plotlyServerURL": "https://plot.ly"
       },
       "data": [
        {
         "hovertemplate": "Iter: %{x}<br>Value: %{y:.4f}<br>Condition: %{meta[0]}<extra></extra>",
         "line": {
          "color": "#636EFA"
         },
         "meta": [
          "0.25Sigma"
         ],
         "name": "0.25Sigma",
         "showlegend": true,
         "type": "scatter",
         "x": {
          "bdata": "AQACAAMABAAFAAYABwAIAAkACgALAAwADQAOAA8AEAARABIAEwAUABUAFgAXABgAGQAaABsAHAAdAB4AHwAgACEAIgAjACQAJQAmACcAKAApACoAKwAsAC0ALgAvADAAMQAyADMANAA1ADYANwA4ADkAOgA7ADwAPQA+AD8AQABBAEIAQwBEAEUARgBHAEgASQBKAEsATABNAE4ATwBQAFEAUgBTAFQAVQBWAFcAWABZAFoAWwBcAF0AXgBfAGAAYQBiAGMAZABlAGYAZwBoAGkAagBrAGwAbQBuAG8AcABxAHIAcwB0AHUAdgB3AHgAeQB6AHsAfAB9AH4AfwCAAIEAggCDAIQAhQCGAIcAiACJAIoAiwCMAI0AjgCPAJAAkQCSAJMAlACVAJYA",
          "dtype": "i2"
         },
         "xaxis": "x",
         "y": {
          "bdata": "a+VeYFbo5z/Wx2fWdjflPzLM9g6kOOc/4GlppUdK5z+tkhAt+ovkP4pzsNrYyOM/hxyjvULn4z+kXxGy4grhP2sgKElpSN8/reDbGF9Y1j+dpfa0VVvYP3S64pgbwtI/kGyKo06c1T8aipaXV4nVP/JTiosR984/HGFREaeT1T8PnkAP7C/TPw0pvlkCKNE/oYYB3SmvyT98Qq2goEvJP8Ey27pA7sA/y5wui4nNwD+0aN3ivUbAP/57J51/8sM/bSSbPWKGqD88qS9LOzW3PwBbFCzE2bc/wdn38kx5tj8zOJaKoERuvzGS0/vqzne/BkMdVrjltz+it0G29ZyxP3LjAygzy6s/+snQMDRWoj8xswYmbkyiP4a6kI9eVZ4/75oDzbAaNL/hJv6Doz+Xv96scciYTUK/4pGFZ8FDYL8bcvwZp+qHv3/WfUhAzbW/FzpBLZiKj78A/b5/8+Kyv41IbxNJT7C/15U72Af+sL++zk86Wp66v/P7SFumcMC/7BD/sKVHwL/BiuUo0o/Dv+JyBpDr8Lu/4xvAEZMmwr96IXjXNEq4v79rvcydhsG/k1y0tt+Qwr8GRU66iErAv+W7JjaxUse/r55tSLbNw7/XRT+I0kzHv/DV2G830su/5KaYFRzwzr+6sH/okybIv1Qr74YQM8m/T8ptxFwbyr87Y+AB5qLMv5k+8/GIic6/j+4Nq2VYzb+cbtkh/mHQv3uPV0Rx69C/uoaHngLOzr9DfHHz13XOv8EpT/z0e82/LQYP0765yb/ZNFseEI3Ov2XYcnhS8NC/gITPREZ1z78trdBRWPPQvza6XUIY0tG/ZrIA7vpN0b//9vSQqE/Sv/Irw6VQg9K/X/sTpjlD1L874/viUpXPvwK3gGL2xNK/ctTRcTUy079HkkRTmvHSvy4Jqww+KNS/PTZK3+zX079ylqMRfYjUv3rg0TSWHtO/sF9ClwJk0r/U8QYGfsLSvwPzRpwEpdO/vdn5kTX91b/aqLyLZWjVv22T5X9NMde/O1wG915X1L/mXk2L59nUvxmu6ogfv9a/icoHhYmH178/ftu4asPTvxWoxeBh2te/477EDhlF179hpv6Lsd3Wv/mzMvRiu9W/LonG7aoa2L+QfkXIiqvYvwA/mTVnM9e/bIGFFITz2b9CBpczgFzZvyYANlcEttm/dTacsefq2r+BVpeKxDvZv75z3rU6b9i/7HeFYk/f2r8RhU6Hzf/av0Xfpgg5uNm/lVJPnjFL2r+HHy7LaeHYv0fW9LNrVdm/yRAkExRj2L+B0030i6TZv2EYsOQqFtq/Tb4QqaDZ2b9Oxma1LiPbvx1G92LeGdq/NVR7x9+s2r+y+rWHT8zZv5PLNbukINq/0Chwxdic2r9BNF/KZcjbvxUH0O/7N9u/d+Er3uwz3b/q8P36Duvcv9czcZhVxdq/CpbZ1gXy27+k7U4tEd7cv2rBVPyoT96/xwX5a0TC2r+Pb+8a9KXbv5eS9lDsMtu/CmdJEhan279LhdV8uXPbvxpSWLxr49u/kIPubkES3L8L6QPcBkjbv7BYw0Xu6du/MIj+v6C73L9NxCQlBkrcv5qUuTAJzty/",
          "dtype": "f8"
         },
         "yaxis": "y"
        },
        {
         "hovertemplate": "Iter: %{x}<br>Value: %{y:.4f}<br>Condition: %{meta[0]}<extra></extra>",
         "line": {
          "color": "#EF553B"
         },
         "meta": [
          "Sigma"
         ],
         "name": "Sigma",
         "showlegend": true,
         "type": "scatter",
         "x": {
          "bdata": "AQACAAMABAAFAAYABwAIAAkACgALAAwADQAOAA8AEAARABIAEwAUABUAFgAXABgAGQAaABsAHAAdAB4AHwAgACEAIgAjACQAJQAmACcAKAApACoAKwAsAC0ALgAvADAAMQAyADMANAA1ADYANwA4ADkAOgA7ADwAPQA+AD8AQABBAEIAQwBEAEUARgBHAEgASQBKAEsATABNAE4ATwBQAFEAUgBTAFQAVQBWAFcAWABZAFoAWwBcAF0AXgBfAGAAYQBiAGMAZABlAGYAZwBoAGkAagBrAGwAbQBuAG8AcABxAHIAcwB0AHUAdgB3AHgAeQB6AHsAfAB9AH4AfwCAAIEAggCDAIQAhQCGAIcAiACJAIoAiwCMAI0AjgCPAJAAkQCSAJMAlACVAJYA",
          "dtype": "i2"
         },
         "xaxis": "x",
         "y": {
          "bdata": "NhaCihgk6z+G4x0EQSTpP+989adDneY/ka5RjoF04j/pWSOVPPHhPzMKyrXp0N8/ZaIbdBzS1T83XNHTbXbFP7zf6RYCgdQ/RMU4fxMKzD+FXkhQxVbMP/RF56FbVMY/rW13/AQ9yT+yCyxtXsLLP3xVVOp/prc/ZL/KfU4dsz8a1Mj4QaezP01oSMs3kac/FCx6TEl7tj9OEOOjM56yP94ehIB8CbM/qnKjkZhpoD+AcSj7Zhqyv+1YJKVY7ak/2cDohGK9oz/NIOP2cG6IP7xHdCp0uTw/+g+O/jyypr9TaUN9Sk2uv9u+IwZdnqK/LvwEdIPFub/yhdqAGZ2/v29aFjkxEby/odSo0fWOw79PK6k3x93Cv7UEYe9GZ8O/3R4F0HBLur9RCMAbrrGxvwIgbzpKpr+/QVH9pz8fwr/ECu4+/gnGvyfDOWs4rce/wHIpU3GIx7/hePYUuPTDv9qT96j2IMq/RYOT7JAay7+mbLWrtOnLv10znq0oysy/jxxExv4Ny7/+ukEi22fJv+qmFSc/KtG/7umP1VLl1L992J2AuD3Tv+Iu1d8lS9O/O9+qRgrA0r8NFK/peAPUv8SmqA1hD9S/L11k3ob00L8vEmzuevvTv4zbn8JIZtW//HUC9cGN17+JkmxRQgzZvwxW5vdHqdq/xjAnaJND1783/Y8C+rPYv3T3gSyM9dq/IyON99Cr2L86QphtOSncv20zX2+s1dy/tONPHXRS279zPXa8bjbav2uZ6M9ardq/fAlM3jf12r8EH7rXgL/av5aS+O/UNtq/lb4Qct7/27/qejRnD0bbv6CJ1NiCAtu/t2NFaF9U3b9+UJh4iMfev7aLHxlhwN6/dJrOF0Tt3L98cQajtrHcv+0RaoZUUd+/Z4wg3+9h3L91QG2vYPbcv382ct2Uct+/hWGJ0NHz3L+ZbpEzzIjcvw/roCWi8t2/v9bJPYHU3r+v4tW6VVjfv/6df01opN6/vXB5PpXl37+dVpz8qJjev8MrtyKfRd+/lyKLxmzb3b/uv2DJ5yfevyq4DsRojN6/WhsIbkmz3r/Vs+nRHQ3gvyCmM+Zk2OC/kLZfrN1k37/lLQ2yGyzhv6nB/UlFLOG/zqdXk3Cq4L+WZT7WQn/hvyOE2ZaT4uC/szg/oXoH4b+iI15DFaPhvwQpi9X5SuG/H1p1ZzdE4b8l+lideGrhvwKv4MhN3uG/t1dn/a4Q4b9xYqMHmf/hvwzzC5xZOOK/udaWuXh34b/qRX/6Ydbhv3r0B0u9L+K/+Zclgrne4b8zhnADdcHhv2+T0rQM+eG/SwwmIiDD4b9B2YFge9Phv0vwc2npN+K/d2YUXal54r8vYrLLysnivxH+s1RMk+K/ek2QWT7T4r93QH7buKriv3CJ/xerqeK/4YW+BSPA478Z3CCkuDTjv5CHUDfiW+K/U5TwKaWM47+SoOVmpXbjv2HMg+FJeOK/i1Uod0Tq4r913hD0YUfjv7ns2TzXQOO/KlNxiF1A479A4Dd0afLiv9Ku1EWcIOO/PBUCS0Ae5L+ONMt4bjTkvyIVR2Z23uO/wavlzkyw5L9TGABP/z7kv4HHgLUzVeS/",
          "dtype": "f8"
         },
         "yaxis": "y"
        },
        {
         "hovertemplate": "Iter: %{x}<br>Value: %{y:.4f}<br>Condition: %{meta[0]}<extra></extra>",
         "line": {
          "color": "#00CC96"
         },
         "meta": [
          "4Sigma"
         ],
         "name": "4Sigma",
         "showlegend": true,
         "type": "scatter",
         "x": {
          "bdata": "AQACAAMABAAFAAYABwAIAAkACgALAAwADQAOAA8AEAARABIAEwAUABUAFgAXABgAGQAaABsAHAAdAB4AHwAgACEAIgAjACQAJQAmACcAKAApACoAKwAsAC0ALgAvADAAMQAyADMANAA1ADYANwA4ADkAOgA7ADwAPQA+AD8AQABBAEIAQwBEAEUARgBHAEgASQBKAEsATABNAE4ATwBQAFEAUgBTAFQAVQBWAFcAWABZAFoAWwBcAF0AXgBfAGAAYQBiAGMAZABlAGYAZwBoAGkAagBrAGwAbQBuAG8AcABxAHIAcwB0AHUAdgB3AHgAeQB6AHsAfAB9AH4AfwCAAIEAggCDAIQAhQCGAIcAiACJAIoAiwCMAI0AjgCPAJAAkQCSAJMAlACVAJYA",
          "dtype": "i2"
         },
         "xaxis": "x",
         "y": {
          "bdata": "ed9CaE5o5z9b6p9fExHnP8Fwd5+s4d4/oQcaD5Lh1j+2zz3+5W3YP6lQ3Vz8bd8/PddlZtTq0T9shnhIVTfRPxd7wTm1RdU/7+c42wCQxT8EMheURT3NP9y3I2VU4sw/NbDDBnmrtD/pGFn7BBm0P742raZ9BaM/vDPcSQ02jj8tpzdILTlzv07dS9AVW6M/LsCqH0ArdT911L6m9Dmcv0wNEKjaSre/HTB9HabrwL/Hg/azIcjGv1CWaxuQzsW/Vknjz28Xxr9O3iQqeC7OvxL2W6nVRdC/N1UKlCcjzL+eAEKj85nLv5DpiPtHXsy/S/wJ5mci0b+HghlTsEbQv9Bex8kOO9O/P2Nw3klV079TtKnxCZDTv5uDsc+toda/fT81XrpJ178gXAGFevrUv08LXvQVpNi/G3gjYU3T17/dy+v2x+nWv9m7Y9VEQ9m/q7mlns5e2b+39eSrLnHZvzdZ/tcUo9y/CTzC+zzY3b8x+hv+5Dnbv6mns7e4atu/OlqLBXQV2L/MpfELryTavx4K1m9daN2/7y68NyvH279tOGPP1Y3dvwra5PBJJ92/fYfszbkl3r9Qa5p3nCLcv5GjlGtlHd2/jLSea6lN27+QxVqgARncv7kYcW/sx96/uU2UYE3B2L9xn/gN75Xav0D8IO95oty/hQT6siJY27+MJayNsZPevwT7HfiGsNy/3YXTb0y83r9AldH/qe/dvxcAhsHYXuC/bZdaEy9z378rgDzORyzgv7cv+9Bgrt+/8JQMNxc2378fO0tsGvfgv1MqYLrIPOC/UEdIJb1w4L+2e5VY9ZXgv4/uMaL+xN+/m1LMr1TF4L/9mmRj3bfhv7rxAZSZ5eG/P0Ycjorb4b8RHJdxU8Piv7dHynEC7uG/NEVc3CIM4r/rVpiHFTfhv3aKVYMw9+C/vigdiAgb4b/JJ4jeBhnivyyYQjHDUOG/UkXxKmvb4b8quA7EaMzhv6uMNRJXBOK/qjNSSmNP4b+XeFEF7Z/hvzmkB/R40OG/HvnxBZuo4b9Fc0Du/hTivyu2JU7KAOK/lcE+J6ok478RbJPBiDThvwQcsBlOB+O/FR9VA4Ma4r8+xOITjrziv3Mc5JqnH+O/VOiFBFVs47+GC2Y59tnjv9cTXRd+MOO/Wvxv7njc4r+0hvfBntvjv+3A75UvHuS/7QYb6OsD5L8F7xn3VHzjvxldp1rUsOO/7/rfJOAq5L9GXp8CKfrjv9kMAr0CI+S/PBnlYtUp47+0yoMr11Lkvx0qMt9m1uS/x5GG0pay5L9MtoPaOOvkv0sSTWnGK+S/7l+QKyzv5L+rz56UEsvkv1L1T5Soe+W/bK88fxEr5r/x5xJFf9/lv5+91oFPj+W/+6rd9/Dt5b+i6vyArMzlvyQpDVkBIuW/QZTUrq4v5b9sm6uvd8jkv7c9QWK7u+W/3ETSEzt/5b/xRLUtb/Plv0XOwp52+OW/oCPfkgml5b9yH0uxNS3mv9QYYxaQ7OW/DimrjsGv5r+rhrMRPormvzUuiox8zOa/ZwjHLHtS578Mr0hwR5zmv/MfiOJEaua/kk/Z+jNN5r/E3FrLCf/mv3d95qxP+ea/",
          "dtype": "f8"
         },
         "yaxis": "y"
        },
        {
         "hovertemplate": "Iter: %{x}<br>Value: %{y:.4f}<br>Condition: %{meta[0]}<extra></extra>",
         "line": {
          "color": "#AB63FA"
         },
         "meta": [
          "10Sigma"
         ],
         "name": "10Sigma",
         "showlegend": true,
         "type": "scatter",
         "x": {
          "bdata": "AQACAAMABAAFAAYABwAIAAkACgALAAwADQAOAA8AEAARABIAEwAUABUAFgAXABgAGQAaABsAHAAdAB4AHwAgACEAIgAjACQAJQAmACcAKAApACoAKwAsAC0ALgAvADAAMQAyADMANAA1ADYANwA4ADkAOgA7ADwAPQA+AD8AQABBAEIAQwBEAEUARgBHAEgASQBKAEsATABNAE4ATwBQAFEAUgBTAFQAVQBWAFcAWABZAFoAWwBcAF0AXgBfAGAAYQBiAGMAZABlAGYAZwBoAGkAagBrAGwAbQBuAG8AcABxAHIAcwB0AHUAdgB3AHgAeQB6AHsAfAB9AH4AfwCAAIEAggCDAIQAhQCGAIcAiACJAIoAiwCMAI0AjgCPAJAAkQCSAJMAlACVAJYA",
          "dtype": "i2"
         },
         "xaxis": "x",
         "y": {
          "bdata": "QAE4GuTS7j8tUOZ6NsbpP1B/YgkQaug//t+jkPZR5D8//tKiPkngPwtW0ywHsds/XGhm5Rby0T/NKSUoooPPP8d5EutnxMc/Al/1pHBhxD+iwzLs5pjAPxC073cVP8c/a9LbDRA6tD+qqEKEAGGwP3I2r3woY6I/x6FHVdyBo7+2FlPWXFu3v04GEAfSjr6/EQpb/SKyyb9Z7mAf+HPBv/dSeNDsur2/K7igP7VCxL9s7BLVWwPFv8Uze7PgWMO/Br7ZHYnOxr8mmyqXReDHv7bNMJGudce/wXnMmx5vzL/dAhxVYNvMvw1QrOVgyM6/E2pziRBEzL9BS3unJuXNv9oV6TTBJsy/lJVwMrs407+NUH0xpT/Sv0MJjiZyHNG/xEPhfLMW0L8yTlYfIkjPvyxo2RJx8s6/xiRt9Hss0L9hm8K4icjPv5YZNsr6zdK/W69XxvTy078t6jgj70HXv0sM3JQFJti/u9bep6pQ2b/Mlis7fNHYvzVYps2mEdq/y0NLw5VY2L9PnmgNlErWvzTxjz+Zx9e/LxMhUURi2L+7o//lWjTXv+ZVQhyQqda/ZSP946qf2L/FWN0h/MLWv355SeQDg9W/nzDNGfYg2b9r8QUJLUfav2YU7yRGc9i/Kuf5Qcso2L+a/w8vB3nav/My+GlKINy/gSuzG5AX279avQ176w3cv31kc9U8x9m/3UghEZsQ2r9kSSXh52Tavw0iY/+GGti/mb+wan5q1r8MGg3z+NDXv374Q33cyNa/D3sPBaEq178UTVb7Kq/Zv5uKMCHCm9i/LnXrkPaa2L+DbR9NUB7ZvzcFH3BK5tq/3JNSYmly2r9fKLv0igLbv5PHCrXdO9q/IQWG4zBP27+dK+9PTlnev9O84xQdydu/7xpiKmsJ379Q1amXhLDfv8Z0oAaLQt2/X5P+J0i1278rjFH70ZTav1k3TKLM9Nq/tvas2ThQ278po+4nh3Pdv9tFGfJQXN2/T4Yr6D6B3L+glBJLk5vcvxgkfVpFf+C/pmKaICEB4L98pvLRPcbfv5Vb/1MWKuG/ceJQZFLo379dAalxk3Xgv9IauhDiAeC/nnmncHJt4b+kM0O9857gvzzqZ2kmV+G/QUHyl98y4b9MrhhkgeXgvwuBk6SiqOG/MfyW78874b+tEQvG0pHgvwlwQ1UVo+C/ecc8BdPD4b89qLGqS3Phv6tuPyoPHOK/y3L/fh6Q4b9UgW3XXp7hv7nQS3s5IuK/r5wY7Uw84b8QGmYNg57hv0zRt/J/9OG/lcLN8/Ga4b+iWkQUk7fivzo0dtN3iOK/Zcuo6P4g4r8Zplsbz0zjv5XLIvBjaOK/hJ29jpPd4r8xu0sGpGHjvy4hH/Rs1uG/OjiQreZ447920tUwVq7jv2apBqv7EeK/V2kKHIgk5L9KLpGdSe3jv/WeJSPCWuS/m6Heec9u5L/G98WlKu3jv61xI1LAo+O/hQ1zpi0S47/jrkt6BU/jv6okM1+mruS/xr7SZ3Ug5L8w+Q2BkQXkv6Th73JsWOS/9QG28ZUu5L9J2vvCmQ3kv/1Up5XUm+S/ZHA5A8g15L+Zi67Bsd3jv2/zfLxGQeS/",
          "dtype": "f8"
         },
         "yaxis": "y"
        },
        {
         "hovertemplate": "Iter: %{x}<br>Value: %{y:.4f}<br>Condition: %{meta[0]}<extra></extra>",
         "line": {
          "color": "#FFA15A"
         },
         "meta": [
          "20Sigma"
         ],
         "name": "20Sigma",
         "showlegend": true,
         "type": "scatter",
         "x": {
          "bdata": "AQACAAMABAAFAAYABwAIAAkACgALAAwADQAOAA8AEAARABIAEwAUABUAFgAXABgAGQAaABsAHAAdAB4AHwAgACEAIgAjACQAJQAmACcAKAApACoAKwAsAC0ALgAvADAAMQAyADMANAA1ADYANwA4ADkAOgA7ADwAPQA+AD8AQABBAEIAQwBEAEUARgBHAEgASQBKAEsATABNAE4ATwBQAFEAUgBTAFQAVQBWAFcAWABZAFoAWwBcAF0AXgBfAGAAYQBiAGMAZABlAGYAZwBoAGkAagBrAGwAbQBuAG8AcABxAHIAcwB0AHUAdgB3AHgAeQB6AHsAfAB9AH4AfwCAAIEAggCDAIQAhQCGAIcAiACJAIoAiwCMAI0AjgCPAJAAkQCSAJMAlACVAJYA",
          "dtype": "i2"
         },
         "xaxis": "x",
         "y": {
          "bdata": "6RhZ+wRZ6z+l+MHCEhjnPxAlEGVe/d4/lQn2lqmA4T/BwJmFYwPZP0a9BMs1Kd4/jZ1LzA7M1z/GdDKC13jRP292NnYbZtc/K1B49oI8zT+XP8xL61zDP6ZimiAhAbo/tQ0RpStGvz/xoQ2JRGqrP+Yyf5b47b8/Fiu0vScglz8bSjfTznqiPy0pZNSiK7A/EGZKIjLjqD8A7qEzH8ZqPw14K93v4p+/cJq96+t4r7/r657hcmGhvwdjn1tDBKe/DSTLJTHknL8W+fVDbLC6vwUlhMbLUsW/giM3eYDdwb/TM73EWKa9v4zWv1m4Gru/cc7ji1Eyxb+udl50wwDIv8q6bgDsks6/QyjcGCgWxb85kInvH2bHv/HZOjjYm82/+m7g+wjpy79bKQRyiSPOv6/ARkiTwdC/nI3MWkEK07/vXTkx2hnRvwmejDvvkNC/6SpL4hqN0L+urKKtuKbOv2GTWeG6htC/Rojh2dQv0b/quU7sarvTv4xizHAWida/Q5p6pmBW2b8OPTxeW1LZv0u4kEdwo9e/VhFuMqqM2L82JElrZ/PZv9wpZzka0dm/vCbb998B3L+3YDuqLJzYv3ZqwLJkoNu/VKaYg6Cj2L+zR9/bKyrYv4cPkT+9Pti/ibVmmbOs2b9bBq9wpbHYvx/b1ya609m/wcswEv5p2r8ExFseoojdv+fNPBRgs9u/ANqNdahd3L/Za55H6fbbvyl49+0R192/NrkFOKrA3b825dMsmSzcv/mS6l+2Qd+/sY2vdHV+3L8Sq5p7o7Hdvz84aHh8BOC/0njrxRkM3b+AETRmEvXev73SjQti+9+/K/pDM08u4b9OzeUGQ53hv1RxrFQZz+C/7r1AkW834L+sjUOPqvjgv6zTyZrZb+C/L/DLT2Bw4L+/8bVnloThv8FNIp7Ir+C/UHdU67M54b9atkScvLbhv/PmAilDZ+K/vBrqwe5F4b91fGqrSLvhv4lMHQjtueK/DTcXtp3t4r//fbO6wqjjv07JugB8OOO/en9f/1H347+jjIE+WuXjv0/ihvIY+OG/v9ObiLWv4r+Q+crNge/iv7JmZJC7iOO/ZbO1UMR04r9l4tXxF/Liv7sQBvk0wuK/YEJgQIoV478UJp2Sve/jv96wpBNA6OO/2VRLqE514r9vXEedATbjvxDhBEsayOO/prRsG7TF47/rj1QD8Z7ivzYQE1VAYuO/N6yWYcmC478d1UT6SGXkv10nP/ODBOS/vSJTmb0H5L9/N/B9hHTkv2VL15SsC+S/YnpDYgOq5L/B63tVr2Pkv3+1Dx4SI+S/IjsB3//Z47/TK1TtieTkv2x/Z3v0BuW/+nDtaECh5L9EZP0LqQflv1lGR5bw6OW/v1H0iQXH5b8S/Fxa+j3lvxBUoClOiOS/y9RbOh3/5L+O7IGNImLkv+sQEnzmP+W/dsnKwf695b+Cvfel7CLlv+tKg1qLjua/kmVTQGy75b+mcW9+w0Tmv7EmKcPLJua/jbtBtFZ05r+7fegUdiPmv1kCqGF3eea/n0M9ofuW5r9tRJzz+KLmvys/BLBcyua/xkUjDdxv5r+8W8cmZ9blv+bKH4vsgua/",
          "dtype": "f8"
         },
         "yaxis": "y"
        },
        {
         "hovertemplate": "Iter: %{x}<br>Value: %{y:.4f}<br>Condition: %{meta[0]}<extra></extra>",
         "line": {
          "color": "#636EFA"
         },
         "meta": [
          "0.25Sigma"
         ],
         "name": "0.25Sigma",
         "showlegend": false,
         "type": "scatter",
         "x": {
          "bdata": "AQACAAMABAAFAAYABwAIAAkACgALAAwADQAOAA8AEAARABIAEwAUABUAFgAXABgAGQAaABsAHAAdAB4AHwAgACEAIgAjACQAJQAmACcAKAApACoAKwAsAC0ALgAvADAAMQAyADMANAA1ADYANwA4ADkAOgA7ADwAPQA+AD8AQABBAEIAQwBEAEUARgBHAEgASQBKAEsATABNAE4ATwBQAFEAUgBTAFQAVQBWAFcAWABZAFoAWwBcAF0AXgBfAGAAYQBiAGMAZABlAGYAZwBoAGkAagBrAGwAbQBuAG8AcABxAHIAcwB0AHUAdgB3AHgAeQB6AHsAfAB9AH4AfwCAAIEAggCDAIQAhQCGAIcAiACJAIoAiwCMAI0AjgCPAJAAkQCSAJMAlACVAJYA",
          "dtype": "i2"
         },
         "xaxis": "x2",
         "y": {
          "bdata": "YTciznn83z9TDLRfmzHeP7bENk6vOdc/UEMdH/YL2T+yEVEVHCfSP+0YaIh0Cdc/U4BMj8rx2T+gHJcDz0/TP3aoOKA3J9g/1pBuOrgq1T+pgI5pgOXVP3YZtEbzNtU/1IEHYcmw0j/UjwUE8qTRP/Kygc9qXNU/nP0T7if10j92aGtX+07QP4sld2rAss4/RNcqZin+yD+D+FIKTDnIP9Vq/k5JjNA/xU4dUNsrzD9NDg351YrJPxX0X2j2wck/hyJcgDWGwz8P/jSkQFXJP1SikXRyK8Y/KWMyC6MPxj8Lt3wkJT3DP9HEO8CTFsI/pg/vyytpuz9wyfL2aPLBP1Tz+JlW5r8/ZgNoE98IxT9csRqmEY7BP1SAcIZj3r0/D8aZcPlZwT8UgftLnCazP/UXnruBJrg/cPvnMv5GvD+h1DpNQsW2P1w+W9BEobY/tC9YKbyDwj9GCR4D1s6yP3kZoXuyPrM/MLdE93Wpij+SI52BkZepP323QiHLS4e/elx4giHPoj+60bZQ6KuaP8x2vAAyq64/TZRgTUFasT/0LHZpMeawP20uo/209qs/pr4ZIpTkrj9lfyEsqzGtP4vAomzbQZ4/zxtRWcyHf7/nRYGZSpqKP6D/wwIEGJM/YFBLGHIRnD/Eobd4eM+BP4Y6YuOw6pK/IRwf0hSmdL90dCdq++mBP7mtudrBv38/fweaKnNOhz88W78YSTqqv+2YFeUtsqi/dtc0SvK3qL/hye+16OWyv0CwGOMxcbu/DHOVAXr0vb/m66CAW+W3vy9mFJRr07m/2Vw1zxH5sr/69PyNmtOtv7VZUHNN3Lu/Ps0kRb8RuL/3a/zTV6G8vy9pe6r54Ku/KwJ2SEQLs7+82z3BRtq8v3roTdel2MK/SZobrxz9wL90qzEyEuvAvyqcAVK/L8O/j18umK4Wwr/e0UdhXzO/vzsNK++90sC/DSgLliHFw790hDDbclLHv37nXxMaCcW/VnDT+ra7xb+A3GsuJE3Ev6dt+urhAse/Cmov2a9yxb8Zz6Chf4LIv1lSXMN6Ecm/j3W5CT+5zL9qyStYK1vLvzM9YYkHlMm/6Zx765+DyL+K7PGwvu/Ev16YlqKmp8W/0KnQ5XIoyr/+htH0WlHLv4DuuM6sks6/Ami4JZa4yr88i4PwDSrLv8wWWucpvMi/HOHHq4bXyb9RAfnbZ17Iv7q/VuUe7sS/Et1FKh6pwb9erAN7p12/v5KVg/37sMC/xlNFp51QxL+9y2lzwNLFv8bCNDAWqsK/3EpBSROBur9Q2VXtP9exv2dCb835Bbm/vWUGqZPru7+ixeSfqz+yv9mHPTXfCcC/fiALY528ur8mHs/m8Mi5vxGYGchFR7y//KeJrKMYvr+bDLQo2de/v+ceI+pPLL+/j3oH94LOub9UIUKAMBS4vx5S1c2OHbm/3U+gYq+Ktr8zqp5eu0a/v6ldJp1b+7u/Lt79X+Novr+qFlmzFue8v274grtYvb6/cevJV13iwb/52W284HjCv8NFyvJRIsO/AUTBjClYxL+qmjO1f3jCv5IFFR79+MG/bTGtu+cuw7/8ZUFyfP7Av5vnGvjjiL+/",
          "dtype": "f8"
         },
         "yaxis": "y2"
        },
        {
         "hovertemplate": "Iter: %{x}<br>Value: %{y:.4f}<br>Condition: %{meta[0]}<extra></extra>",
         "line": {
          "color": "#EF553B"
         },
         "meta": [
          "Sigma"
         ],
         "name": "Sigma",
         "showlegend": false,
         "type": "scatter",
         "x": {
          "bdata": "AQACAAMABAAFAAYABwAIAAkACgALAAwADQAOAA8AEAARABIAEwAUABUAFgAXABgAGQAaABsAHAAdAB4AHwAgACEAIgAjACQAJQAmACcAKAApACoAKwAsAC0ALgAvADAAMQAyADMANAA1ADYANwA4ADkAOgA7ADwAPQA+AD8AQABBAEIAQwBEAEUARgBHAEgASQBKAEsATABNAE4ATwBQAFEAUgBTAFQAVQBWAFcAWABZAFoAWwBcAF0AXgBfAGAAYQBiAGMAZABlAGYAZwBoAGkAagBrAGwAbQBuAG8AcABxAHIAcwB0AHUAdgB3AHgAeQB6AHsAfAB9AH4AfwCAAIEAggCDAIQAhQCGAIcAiACJAIoAiwCMAI0AjgCPAJAAkQCSAJMAlACVAJYA",
          "dtype": "i2"
         },
         "xaxis": "x2",
         "y": {
          "bdata": "5f6ig60R3j9UlurLm4zcP2OFSHNRmt0/Wn2sF3p71j/pG1Du9tjVPxpu96lhdtE/mhZQA2ECyz/loYHqsb/EPxwFZIuA5sc/RQ2Cal8cxj+OzVeSBRWyP5qR5jSw+ss/Ud8f3Irqwj+nkJl54NG+Px+y3C0ku7k/Zlxv0mvqvT8NnH0vz5S/P9FcFRZKlMM/MmnB+UI2nj+J6QvqJCSnP8Nowpvavr4/c1EaV0lRhD9czXGl1ceiP10DWyVYHJY/aatbBmXjtD+K4G7/gL3EP+ul8j/C+cA/i8hCBoRouT9sf/n2QL3DP87iagme57I/dxsLQUUMpj+aJvwbfZWFP82MIdxAXYC/DD11vx27qj/02toweAajv4+SQn3vk4e/J7QtS7yEs79J4mSaaA+rvzNi5+67asC/tqT+1T54sr9vwHkDXvizv2euwhzz8KS/RKW2eYjrrb/7Ha75FY+1v5l8a99bELO/mT8nBV6usL97ollHw5e/v5QB+0OOCKW/LNZMmuJNpr9xBKkUOxqnv5zH4OCKQ7G/uw38OgJKw7/9yt6th4q4vw5oe4YCSMW/2r2nBFagyL+KvqjK5MHFvzMIhobYc8i/TfRU4pV/w78Z1G0/z1XLv3nZ0zJ25si/vShnFSM4yL8+5Jvb8v/Fv6RY7RlB4sO/4+xV4yRMxr/8Rry97B/Iv0lIAcZXX8y/Ftdm0amZyL9DDSex7MrLv2dq//DgFM2/FuoeR+Hozb+po2S6WJnMv9BjXaWEKcm/f7uRHiudyr9hBNWHdpbIv/Uf45u3+8O/ArocnHWzyb/8h3UrzMPHv1MsWly/PMy/Vv6PJvHMyL8mBgBGT0nHv7TRAn3rjMS/EFY/EtL2yL85xRplNCnMvzLs5pjiYMm/ul8Yw69rx78yNa4kHvXCv0ovju5EbcS/XsZxBM0LxL980YyzV43Lv14uUMDktMi/6z0nT+vIvb9xzJ9cQFXIvxbnldii8sa/ozv2Id09xb+Cw0LkK7jIv1KpWlOhAsq/I5xNfsIQx7+Xe+0+bI7Gv4x3kVOFUMm/kFztF6L5xL/pfIthYZvGvzCc/RPuJ8W/5BLZmdRiwb80uHZrYkrBv10BF/ZGP8a/pdkYF+qMyL8GPdIXeZDJv23xFjWFu8S/l1t+BCLowr9/SSpTzEHGv7mD62SDX8a/RGkUNxN4xL/V5M7xdinGv5rqAL99VMS/go20HRy1xb/RsoCbVwfKv2sLq1QsWse/E8XRQu96xb8Gq6BYXT3Lv/IsnP+y1sS/16vZFNkYxb/V94ZnrnjIv4JzaouPc8q/pHjwbsBCwb9ErGrujcbEv/fi5q/rcsO/MjTolfyZxL/On+67oajEv0uUvaWcL8K/4bfqA5J5yL+cwBmhRPDKv4P/Y9es6cy/pPHnt4sMzr+P9UJvX3XKv43yzMth98W/yZShvCEfyL/pbvtC7HDEvzBHj9/b9Ma/IAsI5EkJzL+ODJYO+vbKv4BDcZDZIs2/NUEvN3Mj0L8Co5TZ6dDNvyrZ16cJyM2/Toc7BHs5z78lAEkiRa7Nv6kWtgtyvMy/A+krEXE8zb9/fRkxWBbMvylX+eZ/Osu/",
          "dtype": "f8"
         },
         "yaxis": "y2"
        },
        {
         "hovertemplate": "Iter: %{x}<br>Value: %{y:.4f}<br>Condition: %{meta[0]}<extra></extra>",
         "line": {
          "color": "#00CC96"
         },
         "meta": [
          "4Sigma"
         ],
         "name": "4Sigma",
         "showlegend": false,
         "type": "scatter",
         "x": {
          "bdata": "AQACAAMABAAFAAYABwAIAAkACgALAAwADQAOAA8AEAARABIAEwAUABUAFgAXABgAGQAaABsAHAAdAB4AHwAgACEAIgAjACQAJQAmACcAKAApACoAKwAsAC0ALgAvADAAMQAyADMANAA1ADYANwA4ADkAOgA7ADwAPQA+AD8AQABBAEIAQwBEAEUARgBHAEgASQBKAEsATABNAE4ATwBQAFEAUgBTAFQAVQBWAFcAWABZAFoAWwBcAF0AXgBfAGAAYQBiAGMAZABlAGYAZwBoAGkAagBrAGwAbQBuAG8AcABxAHIAcwB0AHUAdgB3AHgAeQB6AHsAfAB9AH4AfwCAAIEAggCDAIQAhQCGAIcAiACJAIoAiwCMAI0AjgCPAJAAkQCSAJMAlACVAJYA",
          "dtype": "i2"
         },
         "xaxis": "x2",
         "y": {
          "bdata": "5sPGz1l51z/AWv/4XDfVP7oyhD+fJNY/EHiXwrooyj/V+DvKd9/OPyB5jJcTWc8/cKNJqjfrxD/8WRl6sR3KP6A5M0LAosY/Nw68Wu7MlD9lVu9wOzS0Pykci7ff67k/12x3oUvKoz+1vu9NQex6v/Ar1nCRe5o/kxPJMwuQrD87L80swWGRP/LvxaloPq2/Kr4iQM58r7+GH2WNQ8asv0R1YCZ3xbO/LPpnKugatr9i84Q46ZCqvx0Q+xcbzZy/w5AK0Y/0r78e/RpteQlyP2vjGjFFS6y/6bD57/gtmb9lhO7J+gSfv1OsYnLrtqS/uU+dj7Mxdz+rn7bFtO6yvz9SsgoJhr+/Ff5DMbDFtb8Vo8GAOCLAv57RjedqYra/BQF6Yh56s7/171cltXS1v82j9crPILa/PJgD80acvr8KdUe1PpvBv2Nc3/UHOMC/YEMmz6vwxb+0/ziYhEK9vx/c+G5OgLK/bdC71ZfJwL+yz1DJJuaqv17ZTxCGS6i/rV6P0yGBqL/LPHG4Do2+v7s0NFR7x8C/PxtL6pavv78PmZdoNcnFv6JU6Kn77ci/drQF3482yr9rVOBkG7jFv9pvN9JjpcS/QkgWMIFbwb+irQI0yUe+vz+rldL8+sK/gutAjMaQyr+XdbXLbbHJv+/JMcdgM8m/ZAsKTHCzyr/lbsYf+w/Fv3N2oLz9J8a/7PFCOjyEx792detZNMHFv2AD6wG8zs2/uunzdT31xr8EO2yQt8q/v7UkUXmFT8G/2SIOfodHvb/Wb9wY8VPBv0bm2S1KUcm/HBHnPL4Yyr8ve+xBG5PNv3xnRtGVmsO/c25upwjLxr/usU9bfjvGvwZ1SVQnH8u/W0fnjpATy7+WEV9ueMLFv9MmKvfeu8S/wPUXMDfOxr9+wTcW3UPEv+87vYlY+8O/zHUJPVHIzb/ph/72YhXMvySfezOOtcq/se01hRZazr/OGoXt8KDKvyC8LNyoBMq/6mzK3hsMyL8E7viuwA/LvwEO69fne8y/ythRHfOCy7+fJ4voxAvJv+wfMWejYMq/wVpr3if9zL+a4b6NTD/Qvw54BUdu8su/3HY11IPdy7+uHTEftS7Iv0O66eCq/Mu/ddqbYIDFyb9gS7U8/CLMvx26fMfM4ca/zOFJwQk7xL9HJ5ObKfXAvyuCSTt/JMe/ulcKpVN7yr9UXuETocfIv9tVf7sjmse/gnnsi6ityL9uJPb21NfJv2SmWUUkr8m/ddHrqpvmx7/Kw3lvQ8PGv+Z/OmYhgsa/SZtijTKaxr8EY8XxxPTJvyTWUNizVce/lajgucCuxr+iFnC8KGfBv1kTZjW4CMa/mzMQOevBxL+j9Ja8S/PFv9ZZmZWSisW/521sdqT6wr8cqNRt0UrCv+XXD7HBwsG/olKRr6mYw7/fS2KRpy3Jv2P8fNz/SMa/KXgdhJNHx7+wZVYTaNTFvwl+eLoXvMa/Vos+1depxr8E6MA7wjLHvwQ07T6jUMq/x5q1OIePyr/TDu3RiXLMv+SzqpOhmMa/Wgv9XenGwL+DzBaRqQPEv1F/ddRQIsa/p3GmQJ0pxr80URZQOiPGvzDHTwfWlcG/",
          "dtype": "f8"
         },
         "yaxis": "y2"
        },
        {
         "hovertemplate": "Iter: %{x}<br>Value: %{y:.4f}<br>Condition: %{meta[0]}<extra></extra>",
         "line": {
          "color": "#AB63FA"
         },
         "meta": [
          "10Sigma"
         ],
         "name": "10Sigma",
         "showlegend": false,
         "type": "scatter",
         "x": {
          "bdata": "AQACAAMABAAFAAYABwAIAAkACgALAAwADQAOAA8AEAARABIAEwAUABUAFgAXABgAGQAaABsAHAAdAB4AHwAgACEAIgAjACQAJQAmACcAKAApACoAKwAsAC0ALgAvADAAMQAyADMANAA1ADYANwA4ADkAOgA7ADwAPQA+AD8AQABBAEIAQwBEAEUARgBHAEgASQBKAEsATABNAE4ATwBQAFEAUgBTAFQAVQBWAFcAWABZAFoAWwBcAF0AXgBfAGAAYQBiAGMAZABlAGYAZwBoAGkAagBrAGwAbQBuAG8AcABxAHIAcwB0AHUAdgB3AHgAeQB6AHsAfAB9AH4AfwCAAIEAggCDAIQAhQCGAIcAiACJAIoAiwCMAI0AjgCPAJAAkQCSAJMAlACVAJYA",
          "dtype": "i2"
         },
         "xaxis": "x2",
         "y": {
          "bdata": "6q0m9J9a2z/WrGqACZPUP5ITW69Xxtc/rcwTh+sQ4D+SC/LXiATTP2JNwApLF9o/a7ZgF7MT0D90kq0upwTIPwCdOG9Sh8Y/IJOfZ8a1zz9XSqlekXK+P58anWHYz8U/N0CxloMhwj9Qvwtbs5XIP3dUM6Lr+YE/MD3i2PvVrL9zlJakRZCpP3PpqR/lccA/dwxFcBI5o7837j2TNLaev++jrHHImLU/LcYSREuMgz+1/5GyDhCFvy9wPXhbV3o/rz6MfqIgsr+7D0BqEyfBv9sntYVVKri/QspzoRanor8zKnKIuDlVP71BDxAni5a/5tyljDexv7/7Yu/FF+2zvzfwP7HNRXu/wtmamvGjo7/ErVyCZuqkvywqY8SG762/MTcFH3BKtL+RzWi+XQmzvxWGNm6fw7a/SlIasgLEt79CFUiaiTPAv8fkHlxLEqW/Qm+pAm0qtr+PWdItF82qv2z2iBliPa6/k3hCeH2vtr+sAPCZNi24v7RxjZiiJbq/JkKiiMS8ur/2YD+xO8qwv86tNE38dcC/x7ji4qjcxL/uYnbyxbrBvxG+wHWOyri/mpeMLGKhvb/H/KUOu7i6v15wqSZkw8G/f57iFPnRur9q1r4lpUW0v85Zw2nlgsK/LcgXNeB0w7/CfoZuLcrCv6R4guoMeb+/M7+tzkTrub9H89p/dwXCvzVKKXpy37S/C2DKwAEtvb9ExlnHp7a0v872VpKqW7G/rZV1pJ8Vt7/lM+prp/e0v339/+7Tp7G/9lWCjh/ztr/3q1uY4C+9v0ebK8tYtbq/03hXq+TRtb/KPSYb2PO6v+1F698sXMC/RlGxezw+tb8e/6rIjce/vwTQFZK5H7W/vJeNYHV2wb/uaRk7c6G+v38Facai6bK/U4RA07dxvL+ZaH23Zhi8vz5Qpzy6Eaq/YLaK6wWMo7/3djinfzaxvxWo6df6RsC/MDPHTWjtv7/BIS4TWBPEv+yh6zCUgcK/vCxKLbhDxb/mhZhvoU+8v18vlf8RzsG/4537KniJwr+qdQgJPvO/vyPHn3Gqfqq/T8zV6gZlt7+uNpErh6iov3bfe8kQEai/pHHwzbeGrr/n4oCn2rivv7wzAEGmorC/DcrZ4Ok6tb8yaykg7X+2vxEqS4dhmrS/0gnFesdNt7+7dg4K7xeyv+teS+z+1ae/EG6gLsCspr8AyEDVH5iyv+nYnN4gtbC/FmOX36D0uL+kAD5lIpK4v5+W+SFJI62/vH3oFHbjs79GOpWee6GuvyWHB0xfh6m/BzOR9mO3r787Nssu4Zmzv6S+9Sr7d7C/KfxQoIamp7+ab9gR4iWrv4qNjOixQKq/DeOSB0aCsb8d7iO3Jt2mvwygKYWKu7G/cjhyXEX+sr98q9I6zpGpv8Az69Z8pqy/yWeftF2Osr+KlGbzOAy+v9nBm0hDoL2/gi8or3HZxL92En+C+Zm2v2noDWUWD7u/oWZIFcWrwL/0iOQ+TNWwvzl38iB0B7S/rx91TsYLur+KmDZAjZ++v7x3C1vqV72/rdOS2P9Kwr+koQ9f78e+v4V/NSv/fsO/MU/B9NBRw79/I0zjqdnGv7Y4q4ZFjce/",
          "dtype": "f8"
         },
         "yaxis": "y2"
        },
        {
         "hovertemplate": "Iter: %{x}<br>Value: %{y:.4f}<br>Condition: %{meta[0]}<extra></extra>",
         "line": {
          "color": "#FFA15A"
         },
         "meta": [
          "20Sigma"
         ],
         "name": "20Sigma",
         "showlegend": false,
         "type": "scatter",
         "x": {
          "bdata": "AQACAAMABAAFAAYABwAIAAkACgALAAwADQAOAA8AEAARABIAEwAUABUAFgAXABgAGQAaABsAHAAdAB4AHwAgACEAIgAjACQAJQAmACcAKAApACoAKwAsAC0ALgAvADAAMQAyADMANAA1ADYANwA4ADkAOgA7ADwAPQA+AD8AQABBAEIAQwBEAEUARgBHAEgASQBKAEsATABNAE4ATwBQAFEAUgBTAFQAVQBWAFcAWABZAFoAWwBcAF0AXgBfAGAAYQBiAGMAZABlAGYAZwBoAGkAagBrAGwAbQBuAG8AcABxAHIAcwB0AHUAdgB3AHgAeQB6AHsAfAB9AH4AfwCAAIEAggCDAIQAhQCGAIcAiACJAIoAiwCMAI0AjgCPAJAAkQCSAJMAlACVAJYA",
          "dtype": "i2"
         },
         "xaxis": "x2",
         "y": {
          "bdata": "iZj/fbM62j/nuYWuRCDYP+bfZb1PDNc/RfBk3HmH1j8M1gHZtJvUP812vAAyq9I/hjUDyhTh0z+z9TDYMVLRPxKJeY2U5NE/N47qBpw3xz9KCpoE3czOP+yuovWm2MU/GRwBuDXFwj+fL+OTO1nAP05TFWQVgLo/NqUq2/VAvz9G4VYdFdvDPzHeIVd81cc/UDauSBWOwD/h3/t2bcqwP/1s94VqXak/8bM2MjRDtz86DeMAjPm9P2bVHi0F28I/V5HRAUnYxT/H31G++z7BP90U6kTdYq0/i6H3IcpynT/tA0jskvC0P2v3dD4FiZ4/b/4nf/eOWj/sX3//0/q2v/xb7yQPMbW/1Na/IvZAtr98FGS6xh2zv6QplrYTgLa/KRzTpRHFvL8BXXxSbiPBv+ZIr04WP7a/xCHAjqRJur/1zNyNTxK+v/dGP6zJ5b2/xGdGmtPAvL/SJQmvSg/Fv3ZcDJ1Wibu/j0FLe6cmxb/SBoT6ujDEv3JVIWZ3yb6/w/bu6rAdwr/Txv6fsLHFv5w1QZ27Js2/8J/v77R9yb/0LkwUj/nLv7K10ROpw9C/edDsurciyb/FuSnBvnnIvyGT51X4jsq/Mp/QD0d7zb+HrlXMUvzJv61av4bN7c2/pCYvoIVyxb/X6qkMGjHKv5ooVbW3bsq/1lCOJjtazr/J3frDqenLvxls/Qdrdsq/Apy6zmIF0L+iOvnQ4f3IvwvWAdm0G8q/AO00v4c4zr+aHfNLDunLv6D8goL3+s+/RM56sEQf0L8X1vv7+o/Mv4BDhFsam82/Xsypd8to0b+gWjPoOkPSv5TwBa5zVMy/+sKIofnAyr+C7aiycNrHv9DCi6u388u/1mqQypXCzr/nMqONkVrRv8qpL922AdG/hmrcLVt9y7+0kKTIfjrNv5VZPHT5js6/Dx2njY+7z7/Up/ibLJHOv382Tub7hcu/Na7tWxuYzL/zCow9/H3Ov44F4PoLGNC/IuEN+88sz79EG4ANiBDOv8ByKVNxiM+/Wma20DrP0L8zy1R3G4rOv2RjS3zbOc2/GgYZ7klNzL8FBpGNiKrKv9rZIvuyRsu/ER/86PiMxb8eZXwXbnjFvzVmtZwnesu/C5qpI1oFzr/Gydd4w5DIv7xMOrf2K8q/ChzScf7vy7+/EARaTP7Kv0SCF+uJHM2/pU4JUYfe0L8D5SQCQ8TMvyBRsuYR7cq//Zp1jzXszb9C6nb2lQfPv4fNSAWWJNC/vBaI+U28zL9DSMyiZv7Mv/E5+ApT3M6/3Z9B+XFq0L/RTgSo4CfNvwvrIXWWtMy/lc2uDadezr+OEhgPEzHOv2zpCBcpy8+/PR/53jpaz79PaBEJXqzKv4ZIYIbZ3s6/sSMfBZmuzL/tHdpsUQvHv4pg5ZlgAcu/P1OvWwRG0L/ZrQp5qX3Nv7AW1sQ5Ic+/0Uqi3z9ezL+BF30FacbOv9SaQdcZOs2/qX/s0ff20L8t1Zc3GefOv1clbYb3+M6//7R1lKfQyL9d0wTSRnbQv5HtswEPQ86/7o+c8SK4y79ee0JS5y3Ov+vw2QN2/s2/1luV1nGO0L+cN/NQgE3Qv/rTD7Ngq8y/",
          "dtype": "f8"
         },
         "yaxis": "y2"
        }
       ],
       "layout": {
        "annotations": [
         {
          "font": {
           "size": 16
          },
          "showarrow": false,
          "text": "Obs-based",
          "x": 0.5,
          "xanchor": "center",
          "xref": "paper",
          "y": 1,
          "yanchor": "bottom",
          "yref": "paper"
         },
         {
          "font": {
           "size": 16
          },
          "showarrow": false,
          "text": "Global-based",
          "x": 0.5,
          "xanchor": "center",
          "xref": "paper",
          "y": 0.45,
          "yanchor": "bottom",
          "yref": "paper"
         }
        ],
        "height": 1080,
        "legend": {
         "x": 0.95,
         "xanchor": "left",
         "y": 0.99,
         "yanchor": "top"
        },
        "template": {
         "data": {
          "bar": [
           {
            "error_x": {
             "color": "#2a3f5f"
            },
            "error_y": {
             "color": "#2a3f5f"
            },
            "marker": {
             "line": {
              "color": "white",
              "width": 0.5
             },
             "pattern": {
              "fillmode": "overlay",
              "size": 10,
              "solidity": 0.2
             }
            },
            "type": "bar"
           }
          ],
          "barpolar": [
           {
            "marker": {
             "line": {
              "color": "white",
              "width": 0.5
             },
             "pattern": {
              "fillmode": "overlay",
              "size": 10,
              "solidity": 0.2
             }
            },
            "type": "barpolar"
           }
          ],
          "carpet": [
           {
            "aaxis": {
             "endlinecolor": "#2a3f5f",
             "gridcolor": "#C8D4E3",
             "linecolor": "#C8D4E3",
             "minorgridcolor": "#C8D4E3",
             "startlinecolor": "#2a3f5f"
            },
            "baxis": {
             "endlinecolor": "#2a3f5f",
             "gridcolor": "#C8D4E3",
             "linecolor": "#C8D4E3",
             "minorgridcolor": "#C8D4E3",
             "startlinecolor": "#2a3f5f"
            },
            "type": "carpet"
           }
          ],
          "choropleth": [
           {
            "colorbar": {
             "outlinewidth": 0,
             "ticks": ""
            },
            "type": "choropleth"
           }
          ],
          "contour": [
           {
            "colorbar": {
             "outlinewidth": 0,
             "ticks": ""
            },
            "colorscale": [
             [
              0,
              "#0d0887"
             ],
             [
              0.1111111111111111,
              "#46039f"
             ],
             [
              0.2222222222222222,
              "#7201a8"
             ],
             [
              0.3333333333333333,
              "#9c179e"
             ],
             [
              0.4444444444444444,
              "#bd3786"
             ],
             [
              0.5555555555555556,
              "#d8576b"
             ],
             [
              0.6666666666666666,
              "#ed7953"
             ],
             [
              0.7777777777777778,
              "#fb9f3a"
             ],
             [
              0.8888888888888888,
              "#fdca26"
             ],
             [
              1,
              "#f0f921"
             ]
            ],
            "type": "contour"
           }
          ],
          "contourcarpet": [
           {
            "colorbar": {
             "outlinewidth": 0,
             "ticks": ""
            },
            "type": "contourcarpet"
           }
          ],
          "heatmap": [
           {
            "colorbar": {
             "outlinewidth": 0,
             "ticks": ""
            },
            "colorscale": [
             [
              0,
              "#0d0887"
             ],
             [
              0.1111111111111111,
              "#46039f"
             ],
             [
              0.2222222222222222,
              "#7201a8"
             ],
             [
              0.3333333333333333,
              "#9c179e"
             ],
             [
              0.4444444444444444,
              "#bd3786"
             ],
             [
              0.5555555555555556,
              "#d8576b"
             ],
             [
              0.6666666666666666,
              "#ed7953"
             ],
             [
              0.7777777777777778,
              "#fb9f3a"
             ],
             [
              0.8888888888888888,
              "#fdca26"
             ],
             [
              1,
              "#f0f921"
             ]
            ],
            "type": "heatmap"
           }
          ],
          "histogram": [
           {
            "marker": {
             "pattern": {
              "fillmode": "overlay",
              "size": 10,
              "solidity": 0.2
             }
            },
            "type": "histogram"
           }
          ],
          "histogram2d": [
           {
            "colorbar": {
             "outlinewidth": 0,
             "ticks": ""
            },
            "colorscale": [
             [
              0,
              "#0d0887"
             ],
             [
              0.1111111111111111,
              "#46039f"
             ],
             [
              0.2222222222222222,
              "#7201a8"
             ],
             [
              0.3333333333333333,
              "#9c179e"
             ],
             [
              0.4444444444444444,
              "#bd3786"
             ],
             [
              0.5555555555555556,
              "#d8576b"
             ],
             [
              0.6666666666666666,
              "#ed7953"
             ],
             [
              0.7777777777777778,
              "#fb9f3a"
             ],
             [
              0.8888888888888888,
              "#fdca26"
             ],
             [
              1,
              "#f0f921"
             ]
            ],
            "type": "histogram2d"
           }
          ],
          "histogram2dcontour": [
           {
            "colorbar": {
             "outlinewidth": 0,
             "ticks": ""
            },
            "colorscale": [
             [
              0,
              "#0d0887"
             ],
             [
              0.1111111111111111,
              "#46039f"
             ],
             [
              0.2222222222222222,
              "#7201a8"
             ],
             [
              0.3333333333333333,
              "#9c179e"
             ],
             [
              0.4444444444444444,
              "#bd3786"
             ],
             [
              0.5555555555555556,
              "#d8576b"
             ],
             [
              0.6666666666666666,
              "#ed7953"
             ],
             [
              0.7777777777777778,
              "#fb9f3a"
             ],
             [
              0.8888888888888888,
              "#fdca26"
             ],
             [
              1,
              "#f0f921"
             ]
            ],
            "type": "histogram2dcontour"
           }
          ],
          "mesh3d": [
           {
            "colorbar": {
             "outlinewidth": 0,
             "ticks": ""
            },
            "type": "mesh3d"
           }
          ],
          "parcoords": [
           {
            "line": {
             "colorbar": {
              "outlinewidth": 0,
              "ticks": ""
             }
            },
            "type": "parcoords"
           }
          ],
          "pie": [
           {
            "automargin": true,
            "type": "pie"
           }
          ],
          "scatter": [
           {
            "fillpattern": {
             "fillmode": "overlay",
             "size": 10,
             "solidity": 0.2
            },
            "type": "scatter"
           }
          ],
          "scatter3d": [
           {
            "line": {
             "colorbar": {
              "outlinewidth": 0,
              "ticks": ""
             }
            },
            "marker": {
             "colorbar": {
              "outlinewidth": 0,
              "ticks": ""
             }
            },
            "type": "scatter3d"
           }
          ],
          "scattercarpet": [
           {
            "marker": {
             "colorbar": {
              "outlinewidth": 0,
              "ticks": ""
             }
            },
            "type": "scattercarpet"
           }
          ],
          "scattergeo": [
           {
            "marker": {
             "colorbar": {
              "outlinewidth": 0,
              "ticks": ""
             }
            },
            "type": "scattergeo"
           }
          ],
          "scattergl": [
           {
            "marker": {
             "colorbar": {
              "outlinewidth": 0,
              "ticks": ""
             }
            },
            "type": "scattergl"
           }
          ],
          "scattermap": [
           {
            "marker": {
             "colorbar": {
              "outlinewidth": 0,
              "ticks": ""
             }
            },
            "type": "scattermap"
           }
          ],
          "scattermapbox": [
           {
            "marker": {
             "colorbar": {
              "outlinewidth": 0,
              "ticks": ""
             }
            },
            "type": "scattermapbox"
           }
          ],
          "scatterpolar": [
           {
            "marker": {
             "colorbar": {
              "outlinewidth": 0,
              "ticks": ""
             }
            },
            "type": "scatterpolar"
           }
          ],
          "scatterpolargl": [
           {
            "marker": {
             "colorbar": {
              "outlinewidth": 0,
              "ticks": ""
             }
            },
            "type": "scatterpolargl"
           }
          ],
          "scatterternary": [
           {
            "marker": {
             "colorbar": {
              "outlinewidth": 0,
              "ticks": ""
             }
            },
            "type": "scatterternary"
           }
          ],
          "surface": [
           {
            "colorbar": {
             "outlinewidth": 0,
             "ticks": ""
            },
            "colorscale": [
             [
              0,
              "#0d0887"
             ],
             [
              0.1111111111111111,
              "#46039f"
             ],
             [
              0.2222222222222222,
              "#7201a8"
             ],
             [
              0.3333333333333333,
              "#9c179e"
             ],
             [
              0.4444444444444444,
              "#bd3786"
             ],
             [
              0.5555555555555556,
              "#d8576b"
             ],
             [
              0.6666666666666666,
              "#ed7953"
             ],
             [
              0.7777777777777778,
              "#fb9f3a"
             ],
             [
              0.8888888888888888,
              "#fdca26"
             ],
             [
              1,
              "#f0f921"
             ]
            ],
            "type": "surface"
           }
          ],
          "table": [
           {
            "cells": {
             "fill": {
              "color": "#EBF0F8"
             },
             "line": {
              "color": "white"
             }
            },
            "header": {
             "fill": {
              "color": "#C8D4E3"
             },
             "line": {
              "color": "white"
             }
            },
            "type": "table"
           }
          ]
         },
         "layout": {
          "annotationdefaults": {
           "arrowcolor": "#2a3f5f",
           "arrowhead": 0,
           "arrowwidth": 1
          },
          "autotypenumbers": "strict",
          "coloraxis": {
           "colorbar": {
            "outlinewidth": 0,
            "ticks": ""
           }
          },
          "colorscale": {
           "diverging": [
            [
             0,
             "#8e0152"
            ],
            [
             0.1,
             "#c51b7d"
            ],
            [
             0.2,
             "#de77ae"
            ],
            [
             0.3,
             "#f1b6da"
            ],
            [
             0.4,
             "#fde0ef"
            ],
            [
             0.5,
             "#f7f7f7"
            ],
            [
             0.6,
             "#e6f5d0"
            ],
            [
             0.7,
             "#b8e186"
            ],
            [
             0.8,
             "#7fbc41"
            ],
            [
             0.9,
             "#4d9221"
            ],
            [
             1,
             "#276419"
            ]
           ],
           "sequential": [
            [
             0,
             "#0d0887"
            ],
            [
             0.1111111111111111,
             "#46039f"
            ],
            [
             0.2222222222222222,
             "#7201a8"
            ],
            [
             0.3333333333333333,
             "#9c179e"
            ],
            [
             0.4444444444444444,
             "#bd3786"
            ],
            [
             0.5555555555555556,
             "#d8576b"
            ],
            [
             0.6666666666666666,
             "#ed7953"
            ],
            [
             0.7777777777777778,
             "#fb9f3a"
            ],
            [
             0.8888888888888888,
             "#fdca26"
            ],
            [
             1,
             "#f0f921"
            ]
           ],
           "sequentialminus": [
            [
             0,
             "#0d0887"
            ],
            [
             0.1111111111111111,
             "#46039f"
            ],
            [
             0.2222222222222222,
             "#7201a8"
            ],
            [
             0.3333333333333333,
             "#9c179e"
            ],
            [
             0.4444444444444444,
             "#bd3786"
            ],
            [
             0.5555555555555556,
             "#d8576b"
            ],
            [
             0.6666666666666666,
             "#ed7953"
            ],
            [
             0.7777777777777778,
             "#fb9f3a"
            ],
            [
             0.8888888888888888,
             "#fdca26"
            ],
            [
             1,
             "#f0f921"
            ]
           ]
          },
          "colorway": [
           "#636efa",
           "#EF553B",
           "#00cc96",
           "#ab63fa",
           "#FFA15A",
           "#19d3f3",
           "#FF6692",
           "#B6E880",
           "#FF97FF",
           "#FECB52"
          ],
          "font": {
           "color": "#2a3f5f"
          },
          "geo": {
           "bgcolor": "white",
           "lakecolor": "white",
           "landcolor": "white",
           "showlakes": true,
           "showland": true,
           "subunitcolor": "#C8D4E3"
          },
          "hoverlabel": {
           "align": "left"
          },
          "hovermode": "closest",
          "mapbox": {
           "style": "light"
          },
          "paper_bgcolor": "white",
          "plot_bgcolor": "white",
          "polar": {
           "angularaxis": {
            "gridcolor": "#EBF0F8",
            "linecolor": "#EBF0F8",
            "ticks": ""
           },
           "bgcolor": "white",
           "radialaxis": {
            "gridcolor": "#EBF0F8",
            "linecolor": "#EBF0F8",
            "ticks": ""
           }
          },
          "scene": {
           "xaxis": {
            "backgroundcolor": "white",
            "gridcolor": "#DFE8F3",
            "gridwidth": 2,
            "linecolor": "#EBF0F8",
            "showbackground": true,
            "ticks": "",
            "zerolinecolor": "#EBF0F8"
           },
           "yaxis": {
            "backgroundcolor": "white",
            "gridcolor": "#DFE8F3",
            "gridwidth": 2,
            "linecolor": "#EBF0F8",
            "showbackground": true,
            "ticks": "",
            "zerolinecolor": "#EBF0F8"
           },
           "zaxis": {
            "backgroundcolor": "white",
            "gridcolor": "#DFE8F3",
            "gridwidth": 2,
            "linecolor": "#EBF0F8",
            "showbackground": true,
            "ticks": "",
            "zerolinecolor": "#EBF0F8"
           }
          },
          "shapedefaults": {
           "line": {
            "color": "#2a3f5f"
           }
          },
          "ternary": {
           "aaxis": {
            "gridcolor": "#DFE8F3",
            "linecolor": "#A2B1C6",
            "ticks": ""
           },
           "baxis": {
            "gridcolor": "#DFE8F3",
            "linecolor": "#A2B1C6",
            "ticks": ""
           },
           "bgcolor": "white",
           "caxis": {
            "gridcolor": "#DFE8F3",
            "linecolor": "#A2B1C6",
            "ticks": ""
           }
          },
          "title": {
           "x": 0.05
          },
          "xaxis": {
           "automargin": true,
           "gridcolor": "#EBF0F8",
           "linecolor": "#EBF0F8",
           "ticks": "",
           "title": {
            "standoff": 15
           },
           "zerolinecolor": "#EBF0F8",
           "zerolinewidth": 2
          },
          "yaxis": {
           "automargin": true,
           "gridcolor": "#EBF0F8",
           "linecolor": "#EBF0F8",
           "ticks": "",
           "title": {
            "standoff": 15
           },
           "zerolinecolor": "#EBF0F8",
           "zerolinewidth": 2
          }
         }
        },
        "title": {
         "text": "Sigma_07_50_5",
         "x": 0.5
        },
        "width": 1920,
        "xaxis": {
         "anchor": "y",
         "domain": [
          0,
          1
         ]
        },
        "xaxis2": {
         "anchor": "y2",
         "domain": [
          0,
          1
         ],
         "title": {
          "text": "Iteration"
         }
        },
        "yaxis": {
         "anchor": "x",
         "domain": [
          0.55,
          1
         ],
         "title": {
          "text": "Simple Regret"
         }
        },
        "yaxis2": {
         "anchor": "x2",
         "domain": [
          0,
          0.45
         ],
         "title": {
          "text": "Simple Regret"
         }
        }
       }
      }
     },
     "metadata": {},
     "output_type": "display_data"
    }
   ],
   "source": [
    "import pandas as pd\n",
    "import plotly.graph_objects as go\n",
    "import plotly.express as px\n",
    "from plotly.subplots import make_subplots\n",
    "import os\n",
    "import plotly.io as pio\n",
    "text = \"Sigma_07\"\n",
    "\n",
    "# ---------- 配置 ----------\n",
    "data_folder = os.path.join('Data', text) # 根据你的data变量自动设置\n",
    "\n",
    "# 新旧算法文件列表（假设curve_names相同）\n",
    "old_files = ['50_8_TS_pre_0.25.csv', '50_8_TS_pre_1.csv', '50_8_TS_pre_4.csv', '50_8_TS_pre_10.csv', '50_8_TS_pre_20.csv']\n",
    "new_files = ['50_8_TS_post_0.25.csv', '50_8_TS_post_1.csv', '50_8_TS_post_4.csv', '50_8_TS_post_10.csv', '50_8_TS_post_20.csv']\n",
    "curve_names = ['0.25Sigma', 'Sigma', '4Sigma', '10Sigma', '20Sigma']  # 共用名称\n",
    "colors = px.colors.qualitative.Plotly[:len(old_files)]  # 统一颜色\n",
    "\n",
    "# ---------- 数据加载函数 ----------\n",
    "def load_data(files):\n",
    "    df_all = pd.DataFrame()\n",
    "    for file, name in zip(files, curve_names):\n",
    "        df = pd.read_csv(os.path.join(data_folder, file), index_col='Repetition')\n",
    "        mean = df.mean(axis=0)\n",
    "        temp_df = pd.DataFrame({\n",
    "            'Iter': range(1, 151),\n",
    "            'Value': mean.values,\n",
    "            'Condition': name\n",
    "        })\n",
    "        df_all = pd.concat([df_all, temp_df])\n",
    "    return df_all\n",
    "\n",
    "# 加载新旧算法数据\n",
    "old_data = load_data(old_files)\n",
    "new_data = load_data(new_files)\n",
    "\n",
    "# ---------- 绘图 ----------\n",
    "fig = make_subplots(\n",
    "    rows=2, cols=1,\n",
    "    subplot_titles=(\"Obs-based\", \"Global-based\"),\n",
    "    vertical_spacing=0.1\n",
    ")\n",
    "\n",
    "# 绘制原始算法（第一子图）\n",
    "for i, name in enumerate(curve_names):\n",
    "    df = old_data[old_data['Condition'] == name]\n",
    "    fig.add_trace(\n",
    "        go.Scatter(\n",
    "            x=df['Iter'], y=df['Value'],\n",
    "            name=name, line=dict(color=colors[i]),\n",
    "            showlegend=True,\n",
    "            hovertemplate=\"Iter: %{x}<br>Value: %{y:.4f}<br>Condition: %{meta[0]}<extra></extra>\",\n",
    "            meta=[name]\n",
    "        ),\n",
    "        row=1, col=1\n",
    "    )\n",
    "\n",
    "# 绘制新算法（第二子图）\n",
    "for i, name in enumerate(curve_names):\n",
    "    df = new_data[new_data['Condition'] == name]\n",
    "    fig.add_trace(\n",
    "        go.Scatter(\n",
    "            x=df['Iter'], y=df['Value'],\n",
    "            name=name, line=dict(color=colors[i]),\n",
    "            showlegend=False,  # 避免图例重复\n",
    "            hovertemplate=\"Iter: %{x}<br>Value: %{y:.4f}<br>Condition: %{meta[0]}<extra></extra>\",\n",
    "            meta=[name]\n",
    "        ),\n",
    "        row=2, col=1\n",
    "    )\n",
    "\n",
    "# ---------- 更新布局 ----------\n",
    "fig.update_layout(\n",
    "    title_text=f\"{text}_50_5\",\n",
    "    title_x=0.5,\n",
    "    height=1080,                    \n",
    "    width=1920, \n",
    "    template='plotly_white',\n",
    "    legend=dict(yanchor=\"top\", y=0.99, xanchor=\"left\", x=0.95)\n",
    ")\n",
    "\n",
    "# 统一Y轴标签\n",
    "fig.update_yaxes(title_text=\"Simple Regret\", row=1, col=1)\n",
    "fig.update_yaxes(title_text=\"Simple Regret\", row=2, col=1)\n",
    "fig.update_xaxes(title_text=\"Iteration\", row=2, col=1)\n",
    "\n",
    "fig.show()\n",
    "pio.write_html(fig, '50_5_simple.html')"
   ]
  }
 ],
 "metadata": {
  "kernelspec": {
   "display_name": "base",
   "language": "python",
   "name": "python3"
  },
  "language_info": {
   "codemirror_mode": {
    "name": "ipython",
    "version": 3
   },
   "file_extension": ".py",
   "mimetype": "text/x-python",
   "name": "python",
   "nbconvert_exporter": "python",
   "pygments_lexer": "ipython3",
   "version": "3.13.5"
  }
 },
 "nbformat": 4,
 "nbformat_minor": 5
}
