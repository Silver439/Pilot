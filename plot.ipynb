{
 "cells": [
  {
   "cell_type": "code",
   "execution_count": null,
   "id": "2258663c",
   "metadata": {},
   "outputs": [
    {
     "data": {
      "application/vnd.plotly.v1+json": {
       "config": {
        "plotlyServerURL": "https://plot.ly"
       },
       "data": [
        {
         "hovertemplate": "Iter: %{x}<br>Cumulative Regret: %{y:.4f}<br>Condition: %{meta[0]}<extra></extra>",
         "legendgroup": "smallest",
         "line": {
          "color": "#636EFA",
          "width": 2.5
         },
         "meta": [
          "smallest"
         ],
         "name": "smallest",
         "showlegend": true,
         "type": "scatter",
         "x": {
          "bdata": "AQACAAMABAAFAAYABwAIAAkACgALAAwADQAOAA8AEAARABIAEwAUABUAFgAXABgAGQAaABsAHAAdAB4AHwAgACEAIgAjACQAJQAmACcAKAApACoAKwAsAC0ALgAvADAAMQAyADMANAA1ADYANwA4ADkAOgA7ADwAPQA+AD8AQABBAEIAQwBEAEUARgBHAEgASQBKAEsATABNAE4ATwBQAFEAUgBTAFQAVQBWAFcAWABZAFoAWwBcAF0AXgBfAGAAYQBiAGMAZABlAGYAZwBoAGkAagBrAGwAbQBuAG8AcABxAHIAcwB0AHUAdgB3AHgAeQB6AHsAfAB9AH4AfwCAAIEAggCDAIQAhQCGAIcAiACJAIoAiwCMAI0AjgCPAJAAkQCSAJMAlACVAJYA",
          "dtype": "i2"
         },
         "xaxis": "x",
         "y": {
          "bdata": "QDnTTSveAkBl3uGtKiIRQIp4D/R02hdA9IWQ8/6XHUABo5TZ6XghQNBnLfLY9CNAxN3Ya/lcJkDpCbnAU6YoQOKHy3Ja7CpAs/4XUPA9LUCzk2aYf3UvQGHYBpOH0jBA+CikffTsMUCRLLu7KQAzQNNjyYpPETRAd1O3oOQbNUBRtLy8Sig2QPEq2R+WNTdA4E3urupBOECRugsCmU05QFZXmYRmWDpAkdn+OtxfO0Ajy91Csm08QHhWwV4XeD1AKMSASU6CPkBRL2a52og/QG/XFJEqSEBAtnYjdBjOQEAais1ZMVJBQOHvcmyY10FAd7QWC+hZQkCGp/wQwNtCQFy+drGxXENA8neU777dQ0CKiHW9R19EQHcxzXSv4ERA6B3L3+FhRUDQreq/4eNFQKDBFFNXZUZAlWjJ42nnRkBaC/1d6WdHQH+KiAc56UdAmlK7g/xpSEBWIQu+VutIQIrFJxz5aklAyS6sdqjrSUAmlst9qWtKQBWgyo1G60pAvIl+kfRqS0DW1a8GuupLQPVz1c7CakxACr1IsljqTEBs8nDe22lNQLZOphty6U1AhdQAuGxoTkCMCJGetOdOQHqGzSQOZ09A0v0d0vDlT0D3ToSMfzJQQMkmVMsxclBAvUYTcNCxUEBbj57+j/FQQEdxjjq6MVFADFIn18twUUAKn9F6HLBRQBHtBq1j71FA2ZhWwpIuUkDcXTCBpG1SQPMOJch2rFJAzAAXZEvrUkCv34FvCCpTQILWaN4WaVNAHm50uwSoU0DIn4LW1uZTQN2/VXrJJVRA5Jxqv0dkVEBYx0z9F6NUQIU0z7a/4VRA4rP0IDwgVUASc+x8m15VQCKMjPt8nVVAcVGI2/zbVUBklk41RBpWQMBuofTOWFZAb7DJrPCWVkAAPlJXUdVWQDz6p5z3E1dABlQ242tSV0CNGToIzJBXQNvPu0Mcz1dAp8o/e3YNWEBDevYB7UtYQIXwQk2HilhAFa6Pz6zJWEAlbNGUrwhZQMxHmsB1R1lAzgfeoxGGWUBLmhkQNMRZQCBKxRDKAlpAsHDtnwJBWkCAQwMMpn9aQB0TzhN0vlpA1b0oVEr9WkDZNFsekDtbQMPwbOoXeltA+XxdTz24W0Aj23gvdvZbQPGbr3/ENFxAyGXtAJlyXECkYmNex7BcQEIqaDbr7lxAsCVQaeksXUCxJasi3GpdQOW6zIzaqF1A62rfyRTnXUCUo9q6LiVeQIZmZ5r5Yl5A6nTWXY+gXkDotTQSfN5eQBx+EUcxHF9AN81wcUJaX0ByAgiNTphfQOqTWxKf1l9ATyyTvUEKYECTHs5EWSlgQEgT3DVOSGBA8IuTQ0xnYEBVlugsM4ZgQN0RuvAopWBA6IhWARHEYECiZbep1OJgQHocFx+wAWFAMFD1B6YgYUClw1RElz9hQH+TpKJoXmFAxvOryzt9YUAl32xzI5xhQEsNEKgau2FALVfRsRXaYUB0g7I6A/lhQAAAAAAAAPh/AAAAAAAA+H8AAAAAAAD4fwAAAAAAAPh/AAAAAAAA+H8AAAAAAAD4fwAAAAAAAPh/AAAAAAAA+H8AAAAAAAD4fwAAAAAAAPh/",
          "dtype": "f8"
         },
         "yaxis": "y"
        },
        {
         "hovertemplate": "Iter: %{x}<br>Cumulative Regret: %{y:.4f}<br>Condition: %{meta[0]}<extra></extra>",
         "legendgroup": "cluster",
         "line": {
          "color": "#EF553B",
          "width": 2.5
         },
         "meta": [
          "cluster"
         ],
         "name": "cluster",
         "showlegend": true,
         "type": "scatter",
         "x": {
          "bdata": "AQACAAMABAAFAAYABwAIAAkACgALAAwADQAOAA8AEAARABIAEwAUABUAFgAXABgAGQAaABsAHAAdAB4AHwAgACEAIgAjACQAJQAmACcAKAApACoAKwAsAC0ALgAvADAAMQAyADMANAA1ADYANwA4ADkAOgA7ADwAPQA+AD8AQABBAEIAQwBEAEUARgBHAEgASQBKAEsATABNAE4ATwBQAFEAUgBTAFQAVQBWAFcAWABZAFoAWwBcAF0AXgBfAGAAYQBiAGMAZABlAGYAZwBoAGkAagBrAGwAbQBuAG8AcABxAHIAcwB0AHUAdgB3AHgAeQB6AHsAfAB9AH4AfwCAAIEAggCDAIQAhQCGAIcAiACJAIoAiwCMAI0AjgCPAJAAkQCSAJMAlACVAJYA",
          "dtype": "i2"
         },
         "xaxis": "x",
         "y": {
          "bdata": "9dR8J/j4BUCbSAzeM+4TQHgI0NwwFxxAB8G9RTpaIUDzDzXksmgkQG5/ZdwLZydAO5Qg27FMKkDCrzTMrPksQA6VfY7GmC9AaAv14UYnMUCue2LU7HIyQGDJVSx+vTNACQli6vgBNUCJIDxIvUM2QE5otk/rgDdAIf+oKaW7OED6HnYnIPo5QAjYNNxtNDtAkEeD7qVtPEAiWIzxmKI9QE3S6wVV2T5Ag0SS2G0KQEArDujNKadAQJ0BG/1VP0FAsFfG9PLUQUB1FA0/JWVCQMRa/Vl09EJAoGsXUv2DQ0CXa8DWWxNEQEqpFqNAokRA9hQ5RNwxRUCTJTxqFcFFQElUOup6UEZAMCDYFVffRkCdx7zp8W1HQLTHHrQx/EdAyn6V+5yJSEA4fOVURRdJQEmfjZP5pElAbEQwDi4xSkAA29RTvrpKQNmz5zI1REtAEPR00h/JS0BhyLOU9UtMQPsW57nPzkxAA8NxmOdRTUCNlt9FO9VNQAc7DzhcWE5Atin6HzzbTkCy2VooYl5PQOzB27rS4E9A5PXO1q8xUECJ1eiePnNQQFUnevOutFBAYUnMxt31UEBqTC0AMjdRQJJoXf4eeFFAZHW+smW5UUC12+ZFJftRQE33FrIWPVJAdgD7H5d+UkAxGBLmLMBSQEN1qrORAVNAjphrY/5CU0Da87R78YNTQLvPlhhwxVNAS++t2kcGVEDYTL7ZZkdUQBtDEzutiFRA/xZTn5rJVEBp0PQ22gpVQLVEHQwrTFVAnGxx+1ONVUDVDDseRc5VQBzoDzvBD1ZAGxykX9pQVkDBpC+73pFWQPvnMv7G0lZAeE77Lu0TV0A7aORhD1VXQG06lDMmlldA6sj/UnTXV0ClziQy9BhYQPByo1pWWlhAGe5JTSibWECeJ9V139tYQPpHFmfDHFlAcp77vHNdWUBj7Cne7Z1ZQNpV7T9X3llAYr/MHLceWkCpmW0mXl9aQG4V1wuYn1pAQ10S1cnfWkApVVr++x9bQBBT2posYFtAwYZfaRigW0DYWVGnYOBbQGEDxwqjIFxAnG9Xwu1gXECqL/CBwqBcQFOHOWUS4VxA8XfefFkhXUDTKrJVgWFdQNqzVbdooV1ARCm1corhXUCOQxD6rCFeQNj+BbnCYV5A94ZWgiCiXkDItIAaiOJeQLCQA8DCIl9AoZq4QkVjX0BoH1GO76NfQHciU9B/5F9A1khv3IYSYEDHaIvZwDJgQL6xxCcBU2BA4VTIuTFzYEDVo82VZZNgQG0dL7fOs2BAjJlqUyLUYECCaHhFgvRgQLFuBsnMFGFA6b+s9So1YUCNEGj6dlVhQE6KNJbVdWFAUGbzbw6WYUD2irrpKbZhQFpqGjhE1mFA8eQd8bX2YUDLDyfC2BZiQDPb4NYvN2JA89fSEW5XYkCoMO9xpndiQMpVUhQVmGJALfDN7oi4YkA5g3dx2thiQAeMZTEo+WJAAIXqHWUZY0DtXU6bgzljQAAAAAAAAPh/AAAAAAAA+H8AAAAAAAD4fwAAAAAAAPh/AAAAAAAA+H8AAAAAAAD4fwAAAAAAAPh/AAAAAAAA+H8AAAAAAAD4fwAAAAAAAPh/",
          "dtype": "f8"
         },
         "yaxis": "y"
        },
        {
         "hovertemplate": "Iter: %{x}<br>Cumulative Regret: %{y:.4f}<br>Condition: %{meta[0]}<extra></extra>",
         "legendgroup": "BCUCB",
         "line": {
          "color": "#00CC96",
          "width": 2.5
         },
         "meta": [
          "BCUCB"
         ],
         "name": "BCUCB",
         "showlegend": true,
         "type": "scatter",
         "x": {
          "bdata": "AQACAAMABAAFAAYABwAIAAkACgALAAwADQAOAA8AEAARABIAEwAUABUAFgAXABgAGQAaABsAHAAdAB4AHwAgACEAIgAjACQAJQAmACcAKAApACoAKwAsAC0ALgAvADAAMQAyADMANAA1ADYANwA4ADkAOgA7ADwAPQA+AD8AQABBAEIAQwBEAEUARgBHAEgASQBKAEsATABNAE4ATwBQAFEAUgBTAFQAVQBWAFcAWABZAFoAWwBcAF0AXgBfAGAAYQBiAGMAZABlAGYAZwBoAGkAagBrAGwAbQBuAG8AcABxAHIAcwB0AHUAdgB3AHgAeQB6AHsAfAB9AH4AfwCAAIEAggCDAIQAhQCGAIcAiACJAIoAiwCMAI0AjgCPAJAAkQCSAJMAlACVAJYA",
          "dtype": "i2"
         },
         "xaxis": "x",
         "y": {
          "bdata": "yb8Xp6IBFUAcId+B3UwiQG7F/rJ7iipABIqiUcuMMEBaIWTY4IIzQCl0Omz+zTVANAzEV+CGN0AqMXSR57U4QGNSVubAqzlAEInnEUiqOkA35fcjMl87QHBX5uR8AjxAg1/9so7DPEBGyBynxF89QKCTy2x96j1AhUFihLlsPkBepHQNV+8+QNQYvs8CeD9AIY+phPD3P0AWWbMW5z5AQLtRddn5e0BA+G4XvuK2QEBvooMbFuxAQHvSwMYsHUFAZ1s7v5ZNQUAwu/BMMX1BQIbF3y3HrUFAnoqcBo3ZQUCDOwYaIgdCQJimLGcTOkJAkuguUvFkQkDdZ0sMuJFCQJzv8VNmvEJAMvIx1yHjQkBEvYUaKgtDQOkvGIBqM0NAf2ka3QpaQ0DuhKgMLYFDQFWPReQFpkNAV2ROqpDHQ0Al0hBow+1DQFduaTUkEkRARNCYSdQ0RED2680nqlhEQP2CkyNTfURA1djK8EShREB00UZkDsZEQINRkYuy60RALClk1KIPRUC+CiegwDRFQN5FO0oBWkVAo1gk3Bp/RUA/QZfebKRFQOOWjQW8yUVAz5uuS7HnRUCqENey/QVGQJ19QPvsIkZAWTG31nI/RkAJy1eB2VxGQLg2VIzzeEZAjkrEbrKURkCyzP4cwrFGQLJZ0cJBy0ZALtUW6CTnRkBLYcsYDABHQHI344/9G0dAnq+Q8PQ5R0AKDcSymVZHQB+DOZ7zb0dAHbl/dtGIR0A6fFE6EKRHQG6sDCtdu0dAx+svKazYR0BTiy2pf/RHQA43zSiDDUhAFYuoUnwnSECGoA87+EFIQAbmjTgJXUhAO3LIKsl3SEBevhlZVpFIQH30BazUrUhAkT6Jq6bHSEDtXSgFguBIQIeRuY1h+EhAOSFQ2YwRSUDcuPy+tihJQFMuepQ3QklAYOyGNsldSUAH41+DPXhJQPfpr44akklAhY/StquqSUBPDJIH68FJQAsjBzb42ElAlj6+zpfySUC60II9EwxKQFzco1vTJEpAa3NlGas8SkC8heUGelNKQHmSY6GMbEpAlc5SRBiESkBNxKV0+ptKQLKvrGvrskpARWKosD/MSkA22hipZeJKQH++U+4r+UpA0CA+sOMOS0BaHadWzSNLQMlhQ0rGOUtA54yFRWlOS0AKCb9CVGRLQDnhcWT4e0tAwgBD1waVS0BUkFefKqxLQEf+K73Iw0tAuoZ2cqrbS0BfzGGJmfFLQHa6Y+gPBkxAP2lPN74bTEBBrx0xHzJMQIGlPW90SExA/ccxSLBhTECDDwMCQnlMQA+jD0wkkExAoONuoiioTEBOYHMOnr5MQOw01PFh1ExAmVHA0enqTEB9vCQpRAJNQEcsiG7jGE1AzUlOE6MuTUD4PrLdYUVNQD2wwWeQW01ACBC/41xzTUA/wMrYB4pNQNVOF3Mhn01AM1SQMQm1TUA9qR4f48tNQOROIsK/3k1ActSLIuzxTUC/mHmFGAdOQAAAAAAAAPh/AAAAAAAA+H8AAAAAAAD4fwAAAAAAAPh/AAAAAAAA+H8AAAAAAAD4fwAAAAAAAPh/AAAAAAAA+H8AAAAAAAD4fwAAAAAAAPh/",
          "dtype": "f8"
         },
         "yaxis": "y"
        },
        {
         "hovertemplate": "Iter: %{x}<br>Simple Regret: %{y:.4f}<br>Condition: %{meta[0]}<extra></extra>",
         "legendgroup": "smallest",
         "line": {
          "color": "#636EFA",
          "width": 2.5
         },
         "meta": [
          "smallest"
         ],
         "name": "smallest",
         "showlegend": false,
         "type": "scatter",
         "x": {
          "bdata": "AQACAAMABAAFAAYABwAIAAkACgALAAwADQAOAA8AEAARABIAEwAUABUAFgAXABgAGQAaABsAHAAdAB4AHwAgACEAIgAjACQAJQAmACcAKAApACoAKwAsAC0ALgAvADAAMQAyADMANAA1ADYANwA4ADkAOgA7ADwAPQA+AD8AQABBAEIAQwBEAEUARgBHAEgASQBKAEsATABNAE4ATwBQAFEAUgBTAFQAVQBWAFcAWABZAFoAWwBcAF0AXgBfAGAAYQBiAGMAZABlAGYAZwBoAGkAagBrAGwAbQBuAG8AcABxAHIAcwB0AHUAdgB3AHgAeQB6AHsAfAB9AH4AfwCAAIEAggCDAIQAhQCGAIcAiACJAIoAiwCMAI0AjgCPAJAAkQCSAJMAlACVAJYA",
          "dtype": "i2"
         },
         "xaxis": "x2",
         "y": {
          "bdata": "PEuj3JDZAkCD9x73dpT+P/vbniCxnfs/eQ2MTihW9z9qaRPMPSn2P9U1Wg70EPU/Sm8Afg7U8z9LzeelK6HyP6dJcdYojPI/QSISKt1i8j8ZzVxybiXyP43uIHam8PE/6hurp2kq8j91HkzBUSnyP23F2rvixfE/cEyXRhR78T99QtGXOTjxP4B8rlupbPE/gIOIZjAY8T/aP4bF3w3xPwL6/K/yI/E/EF1Q3zIn8T9JCgiJkBbxPxG1NlYr3PA/oDWtgoZM8T+pBhmAxZnwP8LvuSa3APE/0n+ODsfS8D+bQWmVhufwPys+hg9tSPA/raZ9BftB8D+sKuqCsGnwPw2oN6Pma/A/DV48BNZS8D9f7PS6fILwP10nmqz2dfA/owvXkKVc8D83YuVP04bwP0Ytlus2UfA/pMrCaVNn8D9pcjEG1jHwPxKBxiirRfA/E5HiZGOG8D8rvqHw2TrwPwpQroRJLPA/1CWIX1Yt8D+CwwsiUjPwP6IBBpMsMfA/FtAeQm8k8D8XvVMB9zzwP8Ab5XMBYvA/4Ox7eaY88D+BcYO02SvwP+NCnXGZUvA/px01XYY28D+SpH7xHwXwP1dF3MBBP/A/5Ne0907x7z9UgMs/1g/wPzqyKY46MfA/yWbGWvt67z/T5IYDRRDwP9GF2UwGSPA/YnjuBprY7z+p4X9P0ArwP173ViQm6O8/TkloXTUB8D+u9vgFPPHvP5bwFtrLyO8/iUxl9h5T7z+MpUi+EsjvPy/3N9Yz8u8/rllUsR6k7z/WJzh0MhDwP71vITQnlO8/uZ3+NDY87z+urcWUNZfvP6/53szVvO8/lHELFZvO7z8BjK++AlnvP9IVo+V3ke8/KrrkbsYf7z9mfrZW/GfvPxsq2cTciO8/TSLViknS7j8k9uMJlyjvP91w+8GcPO8/Mg0LNvYt7z8FPPtc/0DvPwHLyUNeDu8//vpFLfEk7z/2dwDViVXvP7cXGWV+9u4/4HPf6U2E7z/0biwoDErvP6vE4XH2c+8/Hsy4O/1y7z82EbXsyFDvP5CM+d2YAu8/yRWW9/Bk7z/50E+CSFDvP/kCabV2ke8/ciwCdkhE7z8n5zAEpU3vP8Zm2SU8M+8/cJ3adF8p7z96eGH9MX/vPzA1we9eLe8/bTttjQgG7z/RKO915BrvP6yM2Ln7Lu8/7uLZwWRG7z9phOwqEkHvP0auU2QsEu8/zxBXlxwA7z+QzKIvPG7vP3PBPfOWD+8/lTldFhMb7z/RrtRFnODuP1+1RazYsu4/qVBL4a/37j/3XaN3vBvvP+S8kQtgXO8/ygAZA7T27j9UFT5//h/vP1y3LiJ3/u4/415PKtDd7j+/c4P8xx3vP+LL6Vff5e4/t0NV3iAs7z+gO1N6OJPuP9owCoLHd+4/r1alrF697j8AbYdizs/uPxaVQo4brO4/6/d8TCPl7j+yuDaLTg3vP7cA/Ye92e4/HUC/79/87j8XagNmdLbuPwAAAAAAAPh/AAAAAAAA+H8AAAAAAAD4fwAAAAAAAPh/AAAAAAAA+H8AAAAAAAD4fwAAAAAAAPh/AAAAAAAA+H8AAAAAAAD4fwAAAAAAAPh/",
          "dtype": "f8"
         },
         "yaxis": "y2"
        },
        {
         "hovertemplate": "Iter: %{x}<br>Simple Regret: %{y:.4f}<br>Condition: %{meta[0]}<extra></extra>",
         "legendgroup": "cluster",
         "line": {
          "color": "#EF553B",
          "width": 2.5
         },
         "meta": [
          "cluster"
         ],
         "name": "cluster",
         "showlegend": false,
         "type": "scatter",
         "x": {
          "bdata": "AQACAAMABAAFAAYABwAIAAkACgALAAwADQAOAA8AEAARABIAEwAUABUAFgAXABgAGQAaABsAHAAdAB4AHwAgACEAIgAjACQAJQAmACcAKAApACoAKwAsAC0ALgAvADAAMQAyADMANAA1ADYANwA4ADkAOgA7ADwAPQA+AD8AQABBAEIAQwBEAEUARgBHAEgASQBKAEsATABNAE4ATwBQAFEAUgBTAFQAVQBWAFcAWABZAFoAWwBcAF0AXgBfAGAAYQBiAGMAZABlAGYAZwBoAGkAagBrAGwAbQBuAG8AcABxAHIAcwB0AHUAdgB3AHgAeQB6AHsAfAB9AH4AfwCAAIEAggCDAIQAhQCGAIcAiACJAIoAiwCMAI0AjgCPAJAAkQCSAJMAlACVAJYA",
          "dtype": "i2"
         },
         "xaxis": "x2",
         "y": {
          "bdata": "9dR8J/j4BUBJ1xX8/4EBQIyodnPeLP8/bpq/itS8+j9nOfbZ7mv4PyXAMUzu+Pc/9QUrhXcQ+D+sLRg4fG73P9NERNa/UPc/atUcjhw39j+jdUFqAJz1P3YvZU4FSvY/Nwjya6OZ9T+sEq1dWyD1P5SXDxs/x/Q/ehAVvWbs9D+wZbHM2kX1P+Ski6jkV/Q/zePCEwx59D+azFRkUOnzP1T1BQeO/vM/tLcTpNE89D+s8OYov6TzP2kl0e8fb/M/0B8byWYv8z9398kavo7yP9CKXvwjgvI/bscvF0xX8j/uoWrhn1/yP93BBy4ORvI/fyu1unhb8j9mUwmqoUjyP8IR2xTGTfI/m5mGzlhB8j/vFlsbPZHyP2PETy1sN/I/HfhiOVMy8j+6ol1O0gXyP9v0scxsIfI/dKkkxdoS8j9BQ6RLpNnxP5xBoFdgzPE/f4Nkb5cL8T+6lHJ26qnwP4+5s/cqmvA/akHeYcmL8D8GY3tkqtfwP/LyBip1m/A/s+hCUUWW8D+kJh50LZ7wP1nu388DkvA/F9lgc6B58D+il/ZyRIPwP5Q9HDcPmvA/scWSlu6S8D/c7sFHoH3wP283rmwMh/A/dIMzindy8D+myz5rWsXwP5hGARDlufA//Q+MX1SO8D+8uVOVEXLwP+4Tm+okdvA/cypQwoN98D9icYDh3ZLwP8b2WtB7g/A/l1LOTj1p8D/SDzSwn4/wPytfGDE0X/A/G65WbuqE8D/kM2u7m5nwP7MMOuqxlvA/s/Jd3Nh+8D8T76WV54bwP1Sl0vR+aPA/jr81+EN08D9OPLGYImrwP7vkyX+SbPA/ZEBRNGqZ8D/r3Mfk53nwP+4/jdasjvA/hpbQuMuZ8D9TjcyRA4TwP0erWtJRjvA/HB3Fp2588D+3ng5RcnTwP1XCpfVJgPA/xdmHz7Br8D/RKO915HrwP97JTA5Ee/A/hSA+56V58D+iCYI1PIvwPzQMHxFTYvA/ZPMn4I178D/l7NSTMGrwP5cG/QTPXPA/seiM3l8z8D8jxZIEc2bwP7QF8lp3YfA/RJUZ7ttI8D9+X0nfkR7wP/+pyzzMUfA/ixpMw/BR8D89Db1qCknwP5FtBqVVWvA/1EbQ8wJn8D8oeeMStWLwP/7ZswsqTvA/XAX6DdxK8D966N9S8m7wP5SSZnSIQPA/X7hglmM/8D9SEZTIK13wP/+tLQVtO/A/1A2m83NV8D+RHmJfjjrwP5IDG3wGWfA/ALpCMvdj8D+Fjmfh/DfwP/Y/nGMcP/A/sCAoEqdO8D+rbEWIGFzwP4VCzVloUPA/jviWuqxq8D9QXHuM32HwPzsEsvuyWPA/TFnh8UhX8D952is95HfwPwWgLcNbg/A/QMJnIqN68D9c/rF+oXXwP8Mw8kSiYvA/mQs4J9JZ8D988BFo52vwP6FHw2A1bfA/MQjj3jOJ8D9lNV1PdH3wP7ZjWDOgbPA/E2tM43JX8D9uO8hGe3fwPwAAAAAAAPh/AAAAAAAA+H8AAAAAAAD4fwAAAAAAAPh/AAAAAAAA+H8AAAAAAAD4fwAAAAAAAPh/AAAAAAAA+H8AAAAAAAD4fwAAAAAAAPh/",
          "dtype": "f8"
         },
         "yaxis": "y2"
        },
        {
         "hovertemplate": "Iter: %{x}<br>Simple Regret: %{y:.4f}<br>Condition: %{meta[0]}<extra></extra>",
         "legendgroup": "BCUCB",
         "line": {
          "color": "#00CC96",
          "width": 2.5
         },
         "meta": [
          "BCUCB"
         ],
         "name": "BCUCB",
         "showlegend": false,
         "type": "scatter",
         "x": {
          "bdata": "AQACAAMABAAFAAYABwAIAAkACgALAAwADQAOAA8AEAARABIAEwAUABUAFgAXABgAGQAaABsAHAAdAB4AHwAgACEAIgAjACQAJQAmACcAKAApACoAKwAsAC0ALgAvADAAMQAyADMANAA1ADYANwA4ADkAOgA7ADwAPQA+AD8AQABBAEIAQwBEAEUARgBHAEgASQBKAEsATABNAE4ATwBQAFEAUgBTAFQAVQBWAFcAWABZAFoAWwBcAF0AXgBfAGAAYQBiAGMAZABlAGYAZwBoAGkAagBrAGwAbQBuAG8AcABxAHIAcwB0AHUAdgB3AHgAeQB6AHsAfAB9AH4AfwCAAIEAggCDAIQAhQCGAIcAiACJAIoAiwCMAI0AjgCPAJAAkQCSAJMAlACVAJYA",
          "dtype": "i2"
         },
         "xaxis": "x2",
         "y": {
          "bdata": "tKqA1lfSEUCljg1cnfsPQCCoZEo1LRBAYcuqh+eECECu7DrTA74FQM7hpHp8TANAvFHQkmx6+D9Mc73/IY/yP4K9QTMHgOs/BojKB4UJ7T+BNaqvilPnP6kMQMdrAuY/xiIFztGi5D+sJDHAvSrlP70/y+AVLuI/JDoVulxO4T9+25Rzqn3hP1V9d/SIGt0/MbTff9Cf3T/E9Kq7n8DcPwm83dypyt0/GSPbwrwQ3D9kDm/DFb3cP3r2k2gApto/fFSyUvc32D+bZ8hUnTHYP80Iysi0kdg/6dWl6y511T/RhrKmaJvUP2vUevaTaNY/HmYL5LVu0j9FrNhyQRDVP0Ddd0NR19M/hP/1Uvmf0z9DmvlWbBTTP+cN05rCptE/RjHB8f3V0j+RyFGT81jSP3LidFvrVNE/30dItzg90D9tfldfuM7QPwdScwNP69A/bh2uZ5pC0D+vVlsfRKDPP5r3gMG2xsw/EdChMEzKzz8Lpykmk3fOPx8q+xyNsc0/AHZbD0xbyz9dL/JXbaPLP+8d/mPqd8w/OQlKdhFLyz8jbQdH7aLKP6HtdMOSTso/AFAzEg+Wyz9MfKR34FLLP8LTdfIzP8k/Vu9wOzQsyj9vknqqnifJP2U2bWuwFcY//BWg27mexT8OA6eIHdfEP6Vvv2nnIcU/vP1xepafxD/UMprd23XEP4uTHxUjb8U/QgUZk5DaxT/n8jD+x1PEP506DjsL+sQ/InRioWiwxD8GYhCP+43EP2wG7+I0e8M/9YDUgQdhwj+wCsGXr7jCPw6nXkmE2MM/yqUozogJwT8QFIlT9xK+PwJkVl317sA/C9fHZ9Z2wD8Xu2qLWLHAP81Eo80D6sA/cK7PCnrdvj+FgXlaEFzCP7qm0uGzB74/C6/JvzuevT8q1+4xazy/PxY1mIbhI74/nr5UIj/RvT8lx9SUm9+9P6mrBFQBwL4/tq13yUlywD93+BD50+u5PxzyKsZUVb0/wvtgz42fvD/g/AU6Eue8P8qQGV7/ZLw/UdJoF3iTvD8b7pE72qa+P7MQeLu5U70/VkEfPy6Evz+5IjFBDd+8PzbFGmU0Kbw/fhlVT69dvT+Hi4EaY8y8P9wG/2z15rs/yfb9dyCOtz/kLdiOKgu7PyNP7WcMzrs//Wn+848ZuT9bA5LnMQG2P//xpqNkurg/rGs1bNzjuT8npfuUvmu5P7bjGFua7bg/D/0kiASduD/thcvzqSy3P0eFjY6Hmrg/hkGGe1ITtD+C309W1ZS1PyW7LezEQLg/q4Wj9QGStD/NdMJeOyu0P/r53PYqH7c/V1dz7uRBuj8XGOl8r1i6PxMIO8WqQbg/jedGax8Ftj+eNcBNx+S5P0I5rbepXbs/+WFzxBDvtz+DylOxjGi4P6UL6Lz98LQ/Tn7CEHA/tT+kLB8lUna4P/D5zwikMrU/bNP8VaTmtT+/U9tgu463P03Z6Qd1kbQ/ld7JOUMDsz9Ky8kMnLS1PwAAAAAAAPh/AAAAAAAA+H8AAAAAAAD4fwAAAAAAAPh/AAAAAAAA+H8AAAAAAAD4fwAAAAAAAPh/AAAAAAAA+H8AAAAAAAD4fwAAAAAAAPh/",
          "dtype": "f8"
         },
         "yaxis": "y2"
        }
       ],
       "layout": {
        "height": 600,
        "legend": {
         "title": {
          "text": "Condition"
         },
         "x": 0.95,
         "xanchor": "left",
         "y": 0.99,
         "yanchor": "top"
        },
        "template": {
         "data": {
          "bar": [
           {
            "error_x": {
             "color": "#2a3f5f"
            },
            "error_y": {
             "color": "#2a3f5f"
            },
            "marker": {
             "line": {
              "color": "white",
              "width": 0.5
             },
             "pattern": {
              "fillmode": "overlay",
              "size": 10,
              "solidity": 0.2
             }
            },
            "type": "bar"
           }
          ],
          "barpolar": [
           {
            "marker": {
             "line": {
              "color": "white",
              "width": 0.5
             },
             "pattern": {
              "fillmode": "overlay",
              "size": 10,
              "solidity": 0.2
             }
            },
            "type": "barpolar"
           }
          ],
          "carpet": [
           {
            "aaxis": {
             "endlinecolor": "#2a3f5f",
             "gridcolor": "#C8D4E3",
             "linecolor": "#C8D4E3",
             "minorgridcolor": "#C8D4E3",
             "startlinecolor": "#2a3f5f"
            },
            "baxis": {
             "endlinecolor": "#2a3f5f",
             "gridcolor": "#C8D4E3",
             "linecolor": "#C8D4E3",
             "minorgridcolor": "#C8D4E3",
             "startlinecolor": "#2a3f5f"
            },
            "type": "carpet"
           }
          ],
          "choropleth": [
           {
            "colorbar": {
             "outlinewidth": 0,
             "ticks": ""
            },
            "type": "choropleth"
           }
          ],
          "contour": [
           {
            "colorbar": {
             "outlinewidth": 0,
             "ticks": ""
            },
            "colorscale": [
             [
              0,
              "#0d0887"
             ],
             [
              0.1111111111111111,
              "#46039f"
             ],
             [
              0.2222222222222222,
              "#7201a8"
             ],
             [
              0.3333333333333333,
              "#9c179e"
             ],
             [
              0.4444444444444444,
              "#bd3786"
             ],
             [
              0.5555555555555556,
              "#d8576b"
             ],
             [
              0.6666666666666666,
              "#ed7953"
             ],
             [
              0.7777777777777778,
              "#fb9f3a"
             ],
             [
              0.8888888888888888,
              "#fdca26"
             ],
             [
              1,
              "#f0f921"
             ]
            ],
            "type": "contour"
           }
          ],
          "contourcarpet": [
           {
            "colorbar": {
             "outlinewidth": 0,
             "ticks": ""
            },
            "type": "contourcarpet"
           }
          ],
          "heatmap": [
           {
            "colorbar": {
             "outlinewidth": 0,
             "ticks": ""
            },
            "colorscale": [
             [
              0,
              "#0d0887"
             ],
             [
              0.1111111111111111,
              "#46039f"
             ],
             [
              0.2222222222222222,
              "#7201a8"
             ],
             [
              0.3333333333333333,
              "#9c179e"
             ],
             [
              0.4444444444444444,
              "#bd3786"
             ],
             [
              0.5555555555555556,
              "#d8576b"
             ],
             [
              0.6666666666666666,
              "#ed7953"
             ],
             [
              0.7777777777777778,
              "#fb9f3a"
             ],
             [
              0.8888888888888888,
              "#fdca26"
             ],
             [
              1,
              "#f0f921"
             ]
            ],
            "type": "heatmap"
           }
          ],
          "histogram": [
           {
            "marker": {
             "pattern": {
              "fillmode": "overlay",
              "size": 10,
              "solidity": 0.2
             }
            },
            "type": "histogram"
           }
          ],
          "histogram2d": [
           {
            "colorbar": {
             "outlinewidth": 0,
             "ticks": ""
            },
            "colorscale": [
             [
              0,
              "#0d0887"
             ],
             [
              0.1111111111111111,
              "#46039f"
             ],
             [
              0.2222222222222222,
              "#7201a8"
             ],
             [
              0.3333333333333333,
              "#9c179e"
             ],
             [
              0.4444444444444444,
              "#bd3786"
             ],
             [
              0.5555555555555556,
              "#d8576b"
             ],
             [
              0.6666666666666666,
              "#ed7953"
             ],
             [
              0.7777777777777778,
              "#fb9f3a"
             ],
             [
              0.8888888888888888,
              "#fdca26"
             ],
             [
              1,
              "#f0f921"
             ]
            ],
            "type": "histogram2d"
           }
          ],
          "histogram2dcontour": [
           {
            "colorbar": {
             "outlinewidth": 0,
             "ticks": ""
            },
            "colorscale": [
             [
              0,
              "#0d0887"
             ],
             [
              0.1111111111111111,
              "#46039f"
             ],
             [
              0.2222222222222222,
              "#7201a8"
             ],
             [
              0.3333333333333333,
              "#9c179e"
             ],
             [
              0.4444444444444444,
              "#bd3786"
             ],
             [
              0.5555555555555556,
              "#d8576b"
             ],
             [
              0.6666666666666666,
              "#ed7953"
             ],
             [
              0.7777777777777778,
              "#fb9f3a"
             ],
             [
              0.8888888888888888,
              "#fdca26"
             ],
             [
              1,
              "#f0f921"
             ]
            ],
            "type": "histogram2dcontour"
           }
          ],
          "mesh3d": [
           {
            "colorbar": {
             "outlinewidth": 0,
             "ticks": ""
            },
            "type": "mesh3d"
           }
          ],
          "parcoords": [
           {
            "line": {
             "colorbar": {
              "outlinewidth": 0,
              "ticks": ""
             }
            },
            "type": "parcoords"
           }
          ],
          "pie": [
           {
            "automargin": true,
            "type": "pie"
           }
          ],
          "scatter": [
           {
            "fillpattern": {
             "fillmode": "overlay",
             "size": 10,
             "solidity": 0.2
            },
            "type": "scatter"
           }
          ],
          "scatter3d": [
           {
            "line": {
             "colorbar": {
              "outlinewidth": 0,
              "ticks": ""
             }
            },
            "marker": {
             "colorbar": {
              "outlinewidth": 0,
              "ticks": ""
             }
            },
            "type": "scatter3d"
           }
          ],
          "scattercarpet": [
           {
            "marker": {
             "colorbar": {
              "outlinewidth": 0,
              "ticks": ""
             }
            },
            "type": "scattercarpet"
           }
          ],
          "scattergeo": [
           {
            "marker": {
             "colorbar": {
              "outlinewidth": 0,
              "ticks": ""
             }
            },
            "type": "scattergeo"
           }
          ],
          "scattergl": [
           {
            "marker": {
             "colorbar": {
              "outlinewidth": 0,
              "ticks": ""
             }
            },
            "type": "scattergl"
           }
          ],
          "scattermap": [
           {
            "marker": {
             "colorbar": {
              "outlinewidth": 0,
              "ticks": ""
             }
            },
            "type": "scattermap"
           }
          ],
          "scattermapbox": [
           {
            "marker": {
             "colorbar": {
              "outlinewidth": 0,
              "ticks": ""
             }
            },
            "type": "scattermapbox"
           }
          ],
          "scatterpolar": [
           {
            "marker": {
             "colorbar": {
              "outlinewidth": 0,
              "ticks": ""
             }
            },
            "type": "scatterpolar"
           }
          ],
          "scatterpolargl": [
           {
            "marker": {
             "colorbar": {
              "outlinewidth": 0,
              "ticks": ""
             }
            },
            "type": "scatterpolargl"
           }
          ],
          "scatterternary": [
           {
            "marker": {
             "colorbar": {
              "outlinewidth": 0,
              "ticks": ""
             }
            },
            "type": "scatterternary"
           }
          ],
          "surface": [
           {
            "colorbar": {
             "outlinewidth": 0,
             "ticks": ""
            },
            "colorscale": [
             [
              0,
              "#0d0887"
             ],
             [
              0.1111111111111111,
              "#46039f"
             ],
             [
              0.2222222222222222,
              "#7201a8"
             ],
             [
              0.3333333333333333,
              "#9c179e"
             ],
             [
              0.4444444444444444,
              "#bd3786"
             ],
             [
              0.5555555555555556,
              "#d8576b"
             ],
             [
              0.6666666666666666,
              "#ed7953"
             ],
             [
              0.7777777777777778,
              "#fb9f3a"
             ],
             [
              0.8888888888888888,
              "#fdca26"
             ],
             [
              1,
              "#f0f921"
             ]
            ],
            "type": "surface"
           }
          ],
          "table": [
           {
            "cells": {
             "fill": {
              "color": "#EBF0F8"
             },
             "line": {
              "color": "white"
             }
            },
            "header": {
             "fill": {
              "color": "#C8D4E3"
             },
             "line": {
              "color": "white"
             }
            },
            "type": "table"
           }
          ]
         },
         "layout": {
          "annotationdefaults": {
           "arrowcolor": "#2a3f5f",
           "arrowhead": 0,
           "arrowwidth": 1
          },
          "autotypenumbers": "strict",
          "coloraxis": {
           "colorbar": {
            "outlinewidth": 0,
            "ticks": ""
           }
          },
          "colorscale": {
           "diverging": [
            [
             0,
             "#8e0152"
            ],
            [
             0.1,
             "#c51b7d"
            ],
            [
             0.2,
             "#de77ae"
            ],
            [
             0.3,
             "#f1b6da"
            ],
            [
             0.4,
             "#fde0ef"
            ],
            [
             0.5,
             "#f7f7f7"
            ],
            [
             0.6,
             "#e6f5d0"
            ],
            [
             0.7,
             "#b8e186"
            ],
            [
             0.8,
             "#7fbc41"
            ],
            [
             0.9,
             "#4d9221"
            ],
            [
             1,
             "#276419"
            ]
           ],
           "sequential": [
            [
             0,
             "#0d0887"
            ],
            [
             0.1111111111111111,
             "#46039f"
            ],
            [
             0.2222222222222222,
             "#7201a8"
            ],
            [
             0.3333333333333333,
             "#9c179e"
            ],
            [
             0.4444444444444444,
             "#bd3786"
            ],
            [
             0.5555555555555556,
             "#d8576b"
            ],
            [
             0.6666666666666666,
             "#ed7953"
            ],
            [
             0.7777777777777778,
             "#fb9f3a"
            ],
            [
             0.8888888888888888,
             "#fdca26"
            ],
            [
             1,
             "#f0f921"
            ]
           ],
           "sequentialminus": [
            [
             0,
             "#0d0887"
            ],
            [
             0.1111111111111111,
             "#46039f"
            ],
            [
             0.2222222222222222,
             "#7201a8"
            ],
            [
             0.3333333333333333,
             "#9c179e"
            ],
            [
             0.4444444444444444,
             "#bd3786"
            ],
            [
             0.5555555555555556,
             "#d8576b"
            ],
            [
             0.6666666666666666,
             "#ed7953"
            ],
            [
             0.7777777777777778,
             "#fb9f3a"
            ],
            [
             0.8888888888888888,
             "#fdca26"
            ],
            [
             1,
             "#f0f921"
            ]
           ]
          },
          "colorway": [
           "#636efa",
           "#EF553B",
           "#00cc96",
           "#ab63fa",
           "#FFA15A",
           "#19d3f3",
           "#FF6692",
           "#B6E880",
           "#FF97FF",
           "#FECB52"
          ],
          "font": {
           "color": "#2a3f5f"
          },
          "geo": {
           "bgcolor": "white",
           "lakecolor": "white",
           "landcolor": "white",
           "showlakes": true,
           "showland": true,
           "subunitcolor": "#C8D4E3"
          },
          "hoverlabel": {
           "align": "left"
          },
          "hovermode": "closest",
          "mapbox": {
           "style": "light"
          },
          "paper_bgcolor": "white",
          "plot_bgcolor": "white",
          "polar": {
           "angularaxis": {
            "gridcolor": "#EBF0F8",
            "linecolor": "#EBF0F8",
            "ticks": ""
           },
           "bgcolor": "white",
           "radialaxis": {
            "gridcolor": "#EBF0F8",
            "linecolor": "#EBF0F8",
            "ticks": ""
           }
          },
          "scene": {
           "xaxis": {
            "backgroundcolor": "white",
            "gridcolor": "#DFE8F3",
            "gridwidth": 2,
            "linecolor": "#EBF0F8",
            "showbackground": true,
            "ticks": "",
            "zerolinecolor": "#EBF0F8"
           },
           "yaxis": {
            "backgroundcolor": "white",
            "gridcolor": "#DFE8F3",
            "gridwidth": 2,
            "linecolor": "#EBF0F8",
            "showbackground": true,
            "ticks": "",
            "zerolinecolor": "#EBF0F8"
           },
           "zaxis": {
            "backgroundcolor": "white",
            "gridcolor": "#DFE8F3",
            "gridwidth": 2,
            "linecolor": "#EBF0F8",
            "showbackground": true,
            "ticks": "",
            "zerolinecolor": "#EBF0F8"
           }
          },
          "shapedefaults": {
           "line": {
            "color": "#2a3f5f"
           }
          },
          "ternary": {
           "aaxis": {
            "gridcolor": "#DFE8F3",
            "linecolor": "#A2B1C6",
            "ticks": ""
           },
           "baxis": {
            "gridcolor": "#DFE8F3",
            "linecolor": "#A2B1C6",
            "ticks": ""
           },
           "bgcolor": "white",
           "caxis": {
            "gridcolor": "#DFE8F3",
            "linecolor": "#A2B1C6",
            "ticks": ""
           }
          },
          "title": {
           "x": 0.05
          },
          "xaxis": {
           "automargin": true,
           "gridcolor": "#EBF0F8",
           "linecolor": "#EBF0F8",
           "ticks": "",
           "title": {
            "standoff": 15
           },
           "zerolinecolor": "#EBF0F8",
           "zerolinewidth": 2
          },
          "yaxis": {
           "automargin": true,
           "gridcolor": "#EBF0F8",
           "linecolor": "#EBF0F8",
           "ticks": "",
           "title": {
            "standoff": 15
           },
           "zerolinecolor": "#EBF0F8",
           "zerolinewidth": 2
          }
         }
        },
        "title": {
         "text": "bestcase_200_20",
         "x": 0.5
        },
        "width": 800,
        "xaxis": {
         "anchor": "y",
         "domain": [
          0,
          1
         ]
        },
        "xaxis2": {
         "anchor": "y2",
         "domain": [
          0,
          1
         ],
         "title": {
          "text": "Iteration"
         }
        },
        "yaxis": {
         "anchor": "x",
         "domain": [
          0.55,
          1
         ],
         "title": {
          "text": "Cumulative Regret"
         }
        },
        "yaxis2": {
         "anchor": "x2",
         "domain": [
          0,
          0.45
         ],
         "title": {
          "text": "Simple Regret"
         }
        }
       }
      }
     },
     "metadata": {},
     "output_type": "display_data"
    }
   ],
   "source": [
    "import pandas as pd\n",
    "import plotly.graph_objects as go\n",
    "import plotly.express as px\n",
    "from plotly.subplots import make_subplots\n",
    "import plotly.io as pio\n",
    "import os\n",
    "import numpy as np\n",
    "\n",
    "text = \"randomcase\"\n",
    "\n",
    "# 定义文件夹路径\n",
    "data_folder = os.path.join('Data', text)\n",
    "\n",
    "# 定义文件列表 - Simple Regret来自pre文件，Cumulative Regret来自原始文件\n",
    "simple_regret_files = ['200_20_smallest_pre.csv','200_20_cluster_pre.csv', '200_20_dynamic_pre.csv']\n",
    "cumulative_regret_files = ['200_20_smallest.csv','200_20_cluster.csv','200_20_dynamic.csv']\n",
    "\n",
    "curve_names = ['smallest','cluster', 'BCUCB']\n",
    "colors = px.colors.qualitative.Plotly[:len(curve_names)] \n",
    "\n",
    "# 创建DataFrame存储Simple Regret和Cumulative Regret\n",
    "simple_regret_data = pd.DataFrame()\n",
    "cumulative_regret_data = pd.DataFrame()\n",
    "\n",
    "# 加载Simple Regret数据（来自pre文件）\n",
    "for file, name in zip(simple_regret_files, curve_names):\n",
    "    file_path = os.path.join(data_folder, file)\n",
    "    df = pd.read_csv(file_path, index_col='Repetition')\n",
    "    \n",
    "    # 计算每个step的均值（Simple Regret）\n",
    "    mean_results = df.mean(axis=0)\n",
    "    \n",
    "    # 添加到Simple Regret DataFrame\n",
    "    temp_df = pd.DataFrame({\n",
    "        'Iter': range(1, 151),\n",
    "        'Value': mean_results.values,\n",
    "        'Condition': name\n",
    "    })\n",
    "    simple_regret_data = pd.concat([simple_regret_data, temp_df])\n",
    "\n",
    "# 加载Cumulative Regret数据（来自原始文件）\n",
    "for file, name in zip(cumulative_regret_files, curve_names):\n",
    "    file_path = os.path.join(data_folder, file)\n",
    "    df = pd.read_csv(file_path, index_col='Repetition')\n",
    "    \n",
    "    # 计算每个step的均值\n",
    "    mean_results = df.mean(axis=0)\n",
    "    \n",
    "    # 计算Cumulative Regret\n",
    "    cumsum_results = np.cumsum(mean_results.values)\n",
    "    temp_df = pd.DataFrame({\n",
    "        'Iter': range(1, 151),\n",
    "        'Value': cumsum_results,\n",
    "        'Condition': name\n",
    "    })\n",
    "    cumulative_regret_data = pd.concat([cumulative_regret_data, temp_df])\n",
    "\n",
    "# 创建子图（2行1列，垂直排列）- 删除子图标题\n",
    "fig = make_subplots(\n",
    "    rows=2, cols=1,\n",
    "    vertical_spacing=0.1\n",
    "    # 删除了 subplot_titles 参数\n",
    ")\n",
    "\n",
    "# 第一子图：Cumulative Regret（来自原始文件）- 先画Cumulative Regret\n",
    "for i, condition in enumerate(curve_names):\n",
    "    cumsum_df = cumulative_regret_data[cumulative_regret_data['Condition'] == condition]\n",
    "    fig.add_trace(\n",
    "        go.Scatter(\n",
    "            x=cumsum_df['Iter'],\n",
    "            y=cumsum_df['Value'],\n",
    "            name=condition,\n",
    "            legendgroup=condition,\n",
    "            showlegend=True,  # 在第一子图显示图例\n",
    "            line=dict(color=colors[i],width=2.5),\n",
    "            meta=[condition],\n",
    "            hovertemplate=\"Iter: %{x}<br>Cumulative Regret: %{y:.4f}<br>Condition: %{meta[0]}<extra></extra>\"\n",
    "        ),\n",
    "        row=1, col=1  # Cumulative Regret放在第一行\n",
    "    )\n",
    "\n",
    "# 第二子图：Obs-based Simple Regret（来自pre文件）\n",
    "for i, condition in enumerate(curve_names):\n",
    "    simple_df = simple_regret_data[simple_regret_data['Condition'] == condition]\n",
    "    fig.add_trace(\n",
    "        go.Scatter(\n",
    "            x=simple_df['Iter'],\n",
    "            y=simple_df['Value'],\n",
    "            name=condition,\n",
    "            legendgroup=condition,\n",
    "            showlegend=False,  # 避免重复图例\n",
    "            line=dict(color=colors[i],width=2.5),\n",
    "            meta=[condition],\n",
    "            hovertemplate=\"Iter: %{x}<br>Simple Regret: %{y:.4f}<br>Condition: %{meta[0]}<extra></extra>\"\n",
    "        ),\n",
    "        row=2, col=1  # Simple Regret放在第二行\n",
    "    )\n",
    "\n",
    "# 更新布局\n",
    "fig.update_layout(\n",
    "    title_text=text+\"_200_20\",\n",
    "    title_x=0.5,\n",
    "    height=600,\n",
    "    width=800,\n",
    "    template='plotly_white',\n",
    "    legend_title_text='Condition',\n",
    "    legend=dict(yanchor=\"top\", y=0.99, xanchor=\"left\", x=0.95)\n",
    ")\n",
    "\n",
    "# 更新Y轴和X轴标签\n",
    "fig.update_yaxes(title_text=\"Cumulative Regret\", row=1, col=1)  # 第一子图Y轴标签\n",
    "fig.update_yaxes(title_text=\"Simple Regret\", row=2, col=1)      # 第二子图Y轴标签\n",
    "fig.update_xaxes(title_text=\"Iteration\", row=2, col=1)          # 仅底部子图显示X轴标签\n",
    "\n",
    "# 显示图形\n",
    "fig.show()\n",
    "\n",
    "# 保存为HTML文件（可选）\n",
    "# pio.write_html(fig, 'combined_simple_cumulative_plot.html')\n",
    "#fig.write_image(text+\"_200_20\", format=\"png\", width=800, height=600, scale=3)"
   ]
  }
 ],
 "metadata": {
  "kernelspec": {
   "display_name": "base",
   "language": "python",
   "name": "python3"
  },
  "language_info": {
   "codemirror_mode": {
    "name": "ipython",
    "version": 3
   },
   "file_extension": ".py",
   "mimetype": "text/x-python",
   "name": "python",
   "nbconvert_exporter": "python",
   "pygments_lexer": "ipython3",
   "version": "3.13.5"
  }
 },
 "nbformat": 4,
 "nbformat_minor": 5
}
