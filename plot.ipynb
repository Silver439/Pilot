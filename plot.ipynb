{
 "cells": [
  {
   "cell_type": "code",
   "execution_count": 9,
   "id": "2258663c",
   "metadata": {},
   "outputs": [
    {
     "data": {
      "application/vnd.plotly.v1+json": {
       "config": {
        "plotlyServerURL": "https://plot.ly"
       },
       "data": [
        {
         "hovertemplate": "Iter: %{x}<br>Cumulative Regret: %{y:.4f}<br>Condition: %{meta[0]}<extra></extra>",
         "legendgroup": "smallest",
         "line": {
          "color": "#636EFA",
          "width": 2.5
         },
         "meta": [
          "smallest"
         ],
         "name": "smallest",
         "showlegend": true,
         "type": "scatter",
         "x": {
          "bdata": "AQACAAMABAAFAAYABwAIAAkACgALAAwADQAOAA8AEAARABIAEwAUABUAFgAXABgAGQAaABsAHAAdAB4AHwAgACEAIgAjACQAJQAmACcAKAApACoAKwAsAC0ALgAvADAAMQAyADMANAA1ADYANwA4ADkAOgA7ADwAPQA+AD8AQABBAEIAQwBEAEUARgBHAEgASQBKAEsATABNAE4ATwBQAFEAUgBTAFQAVQBWAFcAWABZAFoAWwBcAF0AXgBfAGAAYQBiAGMAZABlAGYAZwBoAGkAagBrAGwAbQBuAG8AcABxAHIAcwB0AHUAdgB3AHgAeQB6AHsAfAB9AH4AfwCAAIEAggCDAIQAhQCGAIcAiACJAIoAiwCMAI0AjgCPAJAAkQCSAJMAlACVAJYA",
          "dtype": "i2"
         },
         "xaxis": "x",
         "y": {
          "bdata": "AoyLx2ms/D+SGSc9i20KQOxOrmBSOxNA8+2BeldJGUBLd9fZkE8fQJGYDgsjhyJAHTNj5D9PJUCPa7FJ7BQoQLB7hsuFxSpAp/oWHnx5LUD4JC/qEhcwQEmZeReUbDFAex/95Um4MkBnDoDvbQU0QGQTTyymRDVAFkdmdl6LNkBF6r7kx8Y3QKYTZF8NBTlAxrKGeBE9OkB4GuhZyG87QLY8V9wAnjxASmWuMKHGPUDRQ/+Wkvc+QMOFlzuOFEBAxG6yIKepQEDUZ/SQFjpBQCeUYbgWx0FAB2YE0+hTQkCKzlaC6eBCQNNlMbH5akNAasS5c07zQ0BLqE51Nn5EQMDWknunBEVAr/Zmiu+LRUBdXQR8bRFGQGOLynNqlEZAsQnoPU0bR0BZ/tcUI55HQILXePpSIUhAk6jgucCjSEChKHVufyZJQEzwl2CCqklAvZzseREtSkBQMTxkOLBKQCITzHSLNEtAt9WsM762S0AaXjYnHDpMQKU1mBhdvExAkf0Zy+E9TUDbmI2EbL9NQDfiyW5mQ05ACed3vsPGTkB/xnI44ElPQO/hyaUozE9AuJW5VAAoUEAMi4iZNGhQQKyPdPP6p1BAvPL8RazoUEDGB+Lh4ihRQPO43TkCa1FAc3K9pGirUUAUaHdIMetRQOUcYAozLFJAEChiEUNsUkCLeuP/aaxSQFXF5Nbt61JAtn8ITW4rU0ChFOL//GpTQCWHBa32qlNAyiKm1g3qU0BR4nGI7ylUQI6r2UsbaVRAqqz/BRSpVEBHNRDv3ehUQEh/wQBUKFVA6UsSJ1NnVUDbeECi0qZVQJbfxOtV5lVAMo6iGOomVkBo50U3DGZWQC696u6npVZATH1EcIDlVkBOZU85XSRXQCmE+U/bYldA2JRzqn2iV0ApnP+y1uFXQJTFjSSKIVhA8YrLFYJgWEBD0smtpJ5YQCBd2D/03FhAL+Bj56QaWUD7z5iAFlhZQGA5ruu8lVlA2DJyqPHTWUDzzY9RsBBaQPVxWD5vTlpAf5OR1yeMWkDI1Fs6HclaQGVD684AB1tAZGDkZU1FW0Akwk/l/YNbQACihL2twVtAtn9S2ggAXEDBIfdQfj5cQBk4VhgRfVxATMJycUG7XEA3wZIGkvlcQIjq5EMHOF1AwRmOea92XUCF2OEwGbVdQKxCFN3E811A6nmSz4YyXkCIPsSrUXBeQIOxYSnurl5AA2Vk2sjsXkBoj3KL1CtfQJCU9DA0al9Ay1GRVHCoX0BO2veESOZfQJICC2AKEmBAPUcIsy0xYEDzJQrjHVBgQOw/fKpUb2BA9xUQ/5WOYEDE8wgkl61gQGKm2pRYzGBAeIbxG2frYEAX/H6yagphQJD7QyBEKWFAWtjAQz5IYUCyx1V2S2dhQHvBlG74hWFAgKej9rWkYUAvE2k/NsNhQL/amYrV4WFAhLX6s6gAYkDLIyR3PR9iQApkdhZ9PWJAe4AljnNcYkAULS+vUntiQDMoG1ekmmJAWBjH7Xy5YkAb2zR/ldhiQK6xleEJ+GJAds9wuXAXY0BhavBj8TZjQAAAAAAAAPh/AAAAAAAA+H8AAAAAAAD4fwAAAAAAAPh/",
          "dtype": "f8"
         },
         "yaxis": "y"
        },
        {
         "hovertemplate": "Iter: %{x}<br>Cumulative Regret: %{y:.4f}<br>Condition: %{meta[0]}<extra></extra>",
         "legendgroup": "cluster",
         "line": {
          "color": "#EF553B",
          "width": 2.5
         },
         "meta": [
          "cluster"
         ],
         "name": "cluster",
         "showlegend": true,
         "type": "scatter",
         "x": {
          "bdata": "AQACAAMABAAFAAYABwAIAAkACgALAAwADQAOAA8AEAARABIAEwAUABUAFgAXABgAGQAaABsAHAAdAB4AHwAgACEAIgAjACQAJQAmACcAKAApACoAKwAsAC0ALgAvADAAMQAyADMANAA1ADYANwA4ADkAOgA7ADwAPQA+AD8AQABBAEIAQwBEAEUARgBHAEgASQBKAEsATABNAE4ATwBQAFEAUgBTAFQAVQBWAFcAWABZAFoAWwBcAF0AXgBfAGAAYQBiAGMAZABlAGYAZwBoAGkAagBrAGwAbQBuAG8AcABxAHIAcwB0AHUAdgB3AHgAeQB6AHsAfAB9AH4AfwCAAIEAggCDAIQAhQCGAIcAiACJAIoAiwCMAI0AjgCPAJAAkQCSAJMAlACVAJYA",
          "dtype": "i2"
         },
         "xaxis": "x",
         "y": {
          "bdata": "YNCdu7io+j8dk8X9R6YKQE36RGdiixNAsk/t+YfKGUBT5xovphYgQLH67EkpMSNAM9Fo84BWJkBIIbbhnXkpQPD91hfSrixAhsqI1H3dL0APPQWcgYMxQOsvBbUpFjNAaA1w0zGnNED3lgQ6JS42QGOzWpdRwTdAJ7SIBC9MOUABCpo7n846QJn4Ilk/VzxAZdb3hmfiPUCZTaRYkmQ/QOdwdjTXdUBAQBvdZeM9QUDTNln+1wRCQFUz/aRsyUJAsG4qwOWOQ0Bo+GBjqFBEQGREjwVyGkVA9fzoU0bpRUDoE52JDbVGQEg9jJFtgEdAbNLsOWhLSECddi8ujBVJQITCsXj74klAeYKgf161SkCgZDuojYRLQGkYYhk/V0xApoeyASIoTUCbBy95u/lNQNfSSPArx05ArmwMJ1aVT0AMaKEchDNQQAQLTf//nFBA9lY38WgHUUAfJB5jgXFRQOSGOgeq2lFAiL8ToJNCUkAaYiprCatSQAC9FS5QE1NAOD5tZ3J7U0DEPZY+9OJTQJ6kCpCyTVRAwJjjy/q4VEC2POlXTSRVQB1kbPsxjlVAmeyfpwH3VUBnf/uVqWBWQLeqWkBWyVZAYWU08vkxV0CevBDzrZtXQJuOWyeJA1hAQHwFDo1tWED24P/YNdVYQGo4iWVXPllADvyVuzynWUAYhdzESA9aQJOJkseKd1pAqlzfvkXfWkBI5N+L00dbQEoYThprsltAoo8MTIEdXECAeAIGbolcQMsAz3WZ9VxAw7YO1zNiXUCpvK9cAc5dQCytKwtLOl5A8cdZfZqlXkBSELtuSRFfQNLKPHG4e19AbqKDG5bkX0A3aRoUzSZgQPYbkv9uW2BA53m4ZUiRYED7rtE7XsZgQMWC1WtN+2BADWvzyOgvYUDwQECaDWVhQFXhhWMMm2FATBtpBHbRYUCUumQc4wdiQFwl18wZPmJAet0iMJZ0YkChbVniJatiQP5YZBeo4GJA8jSqHc8VY0Ct15nnLUtjQIdBT7n4f2NAQk2sC3e0Y0DU50Y0HeljQMNO1WFpHWRAdfQJ6iVRZEAhWYlClIVkQJOsVU0iumRAAkpDjYLuZECXmfbx9CJlQNIwxtHmWGVAqAeXIHWOZUA8juhn88NlQJq5wOWx+WVAA6MmVTYvZkDIcgEeR2VmQI6aHRcDm2ZAKoAroq/QZkCYp73SwwVnQNinwdlSO2dAHvKYSohwZ0A3IYk6D6ZnQCRjNkk022dAA2Hx5Q8RaEDr1qI8qkdoQDYFWNEMfmhAUU2mLr20aEDh76vNGupoQO5UMGErIGlAAiapTLFWaUCv5201dIxpQP5qWJ1mwmlA481kSQr4aUDX5adLWS1qQI845VKdYmpAOB04nkaYakDbsG/wzs1qQI69chgnA2tAncITQ3s4a0AfOpio+W1rQF0puuTuomtAE5o3YZXYa0D14y8tKg5sQLjXuaB1Q2xAslZbH8R4bEAH3GGB3a1sQGQN88GO42xAXzt1CasZbUA6d84p205tQIDxjWmuhG1A7stR/1i6bUBLXGz/b+9tQAAAAAAAAPh/AAAAAAAA+H8AAAAAAAD4fwAAAAAAAPh/",
          "dtype": "f8"
         },
         "yaxis": "y"
        },
        {
         "hovertemplate": "Iter: %{x}<br>Cumulative Regret: %{y:.4f}<br>Condition: %{meta[0]}<extra></extra>",
         "legendgroup": "BCUCB",
         "line": {
          "color": "#00CC96",
          "width": 2.5
         },
         "meta": [
          "BCUCB"
         ],
         "name": "BCUCB",
         "showlegend": true,
         "type": "scatter",
         "x": {
          "bdata": "AQACAAMABAAFAAYABwAIAAkACgALAAwADQAOAA8AEAARABIAEwAUABUAFgAXABgAGQAaABsAHAAdAB4AHwAgACEAIgAjACQAJQAmACcAKAApACoAKwAsAC0ALgAvADAAMQAyADMANAA1ADYANwA4ADkAOgA7ADwAPQA+AD8AQABBAEIAQwBEAEUARgBHAEgASQBKAEsATABNAE4ATwBQAFEAUgBTAFQAVQBWAFcAWABZAFoAWwBcAF0AXgBfAGAAYQBiAGMAZABlAGYAZwBoAGkAagBrAGwAbQBuAG8AcABxAHIAcwB0AHUAdgB3AHgAeQB6AHsAfAB9AH4AfwCAAIEAggCDAIQAhQCGAIcAiACJAIoAiwCMAI0AjgCPAJAAkQCSAJMAlACVAJYA",
          "dtype": "i2"
         },
         "xaxis": "x",
         "y": {
          "bdata": "637gvMq8AUC2YZVTg/ELQN+f03S+UBJAMRU/6tMWFkBpyOYY/jkaQBInHdKV9R1AWfBawe6vIEDVPy2rVXAiQL4y3VkpCiRA8i/df7+3JUCPeHvZP1wnQHgHi50D8ihAMEc0JmlbKkDY/b7arKkrQPHfTrQ9DC1AdbqH36hkLkByaBI9cfEvQKVKcMYMzDBAGk1BkQGRMUBydzEoLkwyQCq8g1dKEjNAadjeXR3YM0CZUYdwJ3g0QN11Eu0GJTVA4A+tg/HTNUDNsU4na4Y2QKSabBZCOTdAXqH8ynD3N0DEbG7xlbE4QCs3B75YZDlAqhxtL3wZOkBYfvP1j8Y6QL7l+/N+aTtA9+UnMPgJPEAADrQVDsU8QFvvJA8xbz1AaaD5nLsNPkCQBBjNAbs+QPVYaFW5Yj9AkbJF0m4FQEBYdA8t1lZAQDJuaqD5qEBAfhaCU1b5QEDkvMjNOUhBQBmCLcCInUFARpcAxZHpQUAe2F/k00FCQLSHK9Vzl0JAR6IF1t/nQkDAmRffzzZDQOYme5XGhkNAirUJQVjaQ0AUvMQ0rytEQOaHf0ZXekRAblgtw5LKREB15Q72gRhFQCwm/1z9aUVASpdZ3xu9RUDfCpZYhxRGQJ6tTMHjZ0ZA/A7qx8u5RkDFDgZ6hA5HQF1fx1uKYEdAlerLm4yyR0Ac1Wjx4f5HQEZvJhSQTEhAfhh89UyXSEAw5R9ZnOJIQLC2qm0LM0lAnekBz5mCSUCjbG29gtdJQPtfCf99J0pAhZ+TOfF4SkBGgdAMdMRKQAiTqyE6DktAMVICdd1VS0BigLKX26dLQODtVNMI9EtAjGCIQQU8TEB65ncsSItMQBr6J7hY20xAxD2WPnQqTUABqqWmSn9NQKfu7iWxz01A7ZYbQzccTkDPydM68mdOQIBQzZt5t05Au+K8ElsHT0CqvxTUplZPQKfK94xEqU9A08SWeQb8T0ABmefSiSVQQKAme8yITFBAxQG9OaVyUEA1IOeiRppQQJwLbUpDwVBAmrKcTRDqUEBQwkzbPxJRQFoqAcMEOlFAO7PcUZtiUUAGsgzfsIhRQGPHIinFsVFAeXtru2TYUUA2TOxZjwBSQAxRmAoEKVJAAf9daHdQUkBLGn9+u3hSQK21CnXrn1JAzT/DZPPFUkDWyoRfau1SQNsxGp6DFFNAm1TZHAw6U0Apj7gRYGFTQH2ASYUMiVNAVVeZhGauU0CLX2f58NRTQMJJdkgN+VNAhlYnZygeVEAFCgYhakNUQARmmO2daVRAy861QuuOVEBk0ZhtS7ZUQMDVJ6b43FRAMTv5Yl0FVUBM4NbdvCxVQEpRHWGHU1VAAJ1vMax7VUCpp4/AH6RVQO01YR9BzVVA2HNRrFL1VUAPCBlt+htWQD505sNYQlZA78WFcSVpVkAhfuuwr41WQP59NAq3tFZANWZtrvXaVkCLRr/+bAFXQIN/JP8mKVdAamIm9vVNV0CWmMLen3RXQNyjJBGHmVdAe4PBx3K/V0A3AqctZOZXQBBH1pl6DFhATAuogTA0WEC8oTpn1VtYQAAAAAAAAPh/AAAAAAAA+H8AAAAAAAD4fwAAAAAAAPh/",
          "dtype": "f8"
         },
         "yaxis": "y"
        },
        {
         "hovertemplate": "Iter: %{x}<br>Simple Regret: %{y:.4f}<br>Condition: %{meta[0]}<extra></extra>",
         "legendgroup": "smallest",
         "line": {
          "color": "#636EFA",
          "width": 2.5
         },
         "meta": [
          "smallest"
         ],
         "name": "smallest",
         "showlegend": false,
         "type": "scatter",
         "x": {
          "bdata": "AQACAAMABAAFAAYABwAIAAkACgALAAwADQAOAA8AEAARABIAEwAUABUAFgAXABgAGQAaABsAHAAdAB4AHwAgACEAIgAjACQAJQAmACcAKAApACoAKwAsAC0ALgAvADAAMQAyADMANAA1ADYANwA4ADkAOgA7ADwAPQA+AD8AQABBAEIAQwBEAEUARgBHAEgASQBKAEsATABNAE4ATwBQAFEAUgBTAFQAVQBWAFcAWABZAFoAWwBcAF0AXgBfAGAAYQBiAGMAZABlAGYAZwBoAGkAagBrAGwAbQBuAG8AcABxAHIAcwB0AHUAdgB3AHgAeQB6AHsAfAB9AH4AfwCAAIEAggCDAIQAhQCGAIcAiACJAIoAiwCMAI0AjgCPAJAAkQCSAJMAlACVAJYA",
          "dtype": "i2"
         },
         "xaxis": "x2",
         "y": {
          "bdata": "r5+QLzMe/D/G1f9wjlH3P9RVlCVNdvc/LQ6eQA9M9j+C9w3LHoD1P9uKj+FDG/U/WbK+3IKA8z8N2YpH8xH0P1S9fZ6Hu/M/a5TRpPAc8z+6DFxCYp/zPwUlOjmxlfM/Hh8aA9it8j9ZcK1kNWvyP0wtbrbMnPE/y9iZCyX88T/9WeK319jxP0vmj6AvVPI/zRKKmtWI8T/SRi1MXvzwPx7lhC2aMvE/P2dAK57I8D9a+S5ubL/wP+ZuIdltofA/3YytetNn8D/3ohlnr5rvP+lBHTLBDO8/VeKoSsmg7j98KeGuA0zuP4absCFcJe4/ngUPQUPt7T9ynMpYI7HtPwOrNHOSd+0/fOPsHiEL7j8wuS1tFLXtP8z0goY1zO0/QQ+iotcM7j+wOOaG8PnsPzMpqiPswOw/Sg3bhOlp7D/F7FIQKXPsP/0i6RsZ7Ow/S3M+TxbR7D+i54Q+xkrsP7F0K3EKmOw/cgTNC9TG7D8HY+dJdd3sPyB46v+Kauw/3oXApAvE7D+1ZUGpPhjsP4RAnPWXi+w/aWM2ErI97D/ONSeK63PsP9uBTbASRuw/NWvfktIi7D/seX8ERp/rPxn2ofgeW+s/o8UZw5yg6z/p/temnrLrP20iIEx3xOs/rZCED7fV6z8fr4ji1qXrP37jR9iTnOs/8cSGgcGI6z9Q6RZwhabrP2155XrbTOs/AcPfHJuK6z8xka51hZrrP/EhhCMkbus/+xYefKlg6z/NE5q2EaHrP25L5IIzuOs/5ZMojhZ66z9NuFfmrTrrP30XpTrTeus/KRww/mwa6z8CKFfCJGbrPxtiPTZKH+s/+nA1V3I66z+FLgXI9KjqPzvYB/5cWes/aYeu+hLg6j+E1y5tOOzqP7sLOVvlLus/AiginzPF6j+JMLXc0AvrPxBKvGCUBOs/pweXILUb6z8tEAZnubXqP6Hk+8+HlOo/KpwBUr+v6j/OxWBG+QrrP9PVMFauSus/Xec66G0H6z8p5F0ITPrqPxvvM9Ni1eo/HY5ATirs6j+FVnH0QovqP4yV4vQ/Cus/pX2qQc/d6j99aS2oS2LrP7+yrq17x+o/7bTaaKX16j88+MDFwRzrPxftKAUU4eo/f+0Y1gyo6j93h2+8luvqP3dWHBiKBes/vpKaLKTy6j+zT6Nsbb3qP85hmsVnzuo/q+cSfEH56j/6VDuwCRbrP+blsPuO4eo/o4WnM9NZ6j/CL3ZDmyTrP4+HLEBJ7+o/ehwG81fI6j+BTCFGvsHqP/KX3zJwyeo/3MQkt4HW6j+zUve3utLqPxbUSUg26eo/fzsbhEvZ6j8ayq1trv7qP+8/12PH6+o/+SdMc4b96j/lr/495vHqP2G9LTSz8uo/tE9sqpMY6z9GshDmP+3qP9PbVf5rr+o/yYM+olOh6j+hNfVwuIXqP/BSxpvYn+o/L0MtFzvr6j9Rqukf6XjqP2yiYcNlZ+o/k/QfiOLE6j/ATwsUZ7vqP9ebvdgguOo/I7K0+LlG6j+npGELVJnqP4mO971giuo/BZ6O2tdU6j8JXCAKL4rqPwAAAAAAAPh/AAAAAAAA+H8AAAAAAAD4fwAAAAAAAPh/",
          "dtype": "f8"
         },
         "yaxis": "y2"
        },
        {
         "hovertemplate": "Iter: %{x}<br>Simple Regret: %{y:.4f}<br>Condition: %{meta[0]}<extra></extra>",
         "legendgroup": "cluster",
         "line": {
          "color": "#EF553B",
          "width": 2.5
         },
         "meta": [
          "cluster"
         ],
         "name": "cluster",
         "showlegend": false,
         "type": "scatter",
         "x": {
          "bdata": "AQACAAMABAAFAAYABwAIAAkACgALAAwADQAOAA8AEAARABIAEwAUABUAFgAXABgAGQAaABsAHAAdAB4AHwAgACEAIgAjACQAJQAmACcAKAApACoAKwAsAC0ALgAvADAAMQAyADMANAA1ADYANwA4ADkAOgA7ADwAPQA+AD8AQABBAEIAQwBEAEUARgBHAEgASQBKAEsATABNAE4ATwBQAFEAUgBTAFQAVQBWAFcAWABZAFoAWwBcAF0AXgBfAGAAYQBiAGMAZABlAGYAZwBoAGkAagBrAGwAbQBuAG8AcABxAHIAcwB0AHUAdgB3AHgAeQB6AHsAfAB9AH4AfwCAAIEAggCDAIQAhQCGAIcAiACJAIoAiwCMAI0AjgCPAJAAkQCSAJMAlACVAJYA",
          "dtype": "i2"
         },
         "xaxis": "x2",
         "y": {
          "bdata": "FCtZBLWu+z+1h5lZJ0r4PxnLmZJRyvU/vNAl5bdR9T+aHgNoSqH0Pwm5LtjpY/Q/9Pfk8xwj9D+tz6/Aap/zP1xKTAY2/fM/uuZXPL7G8z9pityv3iTzP1lFALjaK/M/Q/wNJDlK8z+FxFBhfwzzP+WpWEY0C/M/0/es/S/p8j//vCj5kA/zPwAwsQyEF/M/W/AQNNTW8j8Az/boDffyP1W4imq2N/M/m22BF5Dw8j9/ZUqQtjbzPwsOZkoiMvM/xu8SQUEO8z+v7SRZvuXyP1X2AliJ3vI/IqpLIevk8j95CeD4bK/yP0Gu535h7PI/hyGDJtPS8j/PHCTWdK/yP1FyPcBJyfI/2e/kLh2u8j9t473Y6fXyP9t3aedYIvM/24gDxADl8j80xwPb0rTyP1A2U4+inPI/W3wKgPGM8j/eve1Tn7XyP0Yd+V+KjvI/VR/HjkWS8j/hhs4hX3jyP0JbBWiSr/I/BaCIfM608j+19J9sAdjyPwGZsBAwzfI/wm+xEIvm8j833EduTdryPyVF4wjR+fI/ss/RGBvo8j/WAWswaJzyP8MrtyKfpfI/QSEV2eEC8z/KMO4G0bryP6TVo4MIa/I/Q/mV4VJo8j+cmarF8e3yPyJuF2Mpu/I/7xMamzDU8j8QpNM7Xb7yP+xlt3LSl/I/Bm6AdfgH8z/6NKbfPb/yPwffaaBnofI/9Y1UhECT8j9TlsbUAsDyP2IJR2xT+PI/quQbiU8Z8z+kINM17ojyP1FFlnH4ifI/HQn9FfuU8j/lQNjyk3PyP042C6FwA/M/Yd2LQqUE8z97CTuy3wDzP33vXAUexfI/bDag77jS8j8zkk5uJWXyP5OxIuvxQ/I/SYi7Q1Nf8j9CKO/jaE7yP4qJF1XQXvI/t7VyHGWK8j+dbF4wE4DyP+4uPYcfafI/VHEHDoxA8j9hXJcH1l7yP+MStaI7dvI/GaFXu6VU8j/SkiKNZXXyP6uVZHhHYfI/uYdg+GRh8j8ZIhU0m7XyP4K1VwxEnPI/7u2DGUBl8j/B4Cy3RlbyPyHc5aMNSPI/4eIpLDkv8j+SSOwkbGnyPxYxtW5MmPI/xugBdOB98j9PlyB+WVXyP7O2u5lji/I/A2XSXvxs8j+AtQ8eEmPyP9rRyk88efI/Zf8FSz5f8j8jDw1Uj33yP6cwkhlLVPI/w52dngl/8j8b3NYWnlfyPwJx6SpvefI/+zH32n248j/J2t/ZHn3yP70yJ+dDb/I/B+xq8pR18j9s3pWBJ1HyP4c27U/PaPI/fHeZzyeA8j+W418VuXHyP5fP33F3g/I/CjICKhyB8j9nq0raDG/yPzu1RHjFffI/JOuDP9Zm8j8xx8634XPyPxKcn4d/ffI/AEsc56Rl8j8O/w3+okjyPwHE7zjXYvI/5nCJ/xdr8j9RKeS4wX7yPzYquKA/dfI/vfkg3k2K8j9RpFbzd4ryP+/+r3E0PvI/Le7keKpI8j+QBc0vy3/yP5c90qn0fPI/E4n4PaBC8j/cWJqlrkbyP9xHAMkGRPI/qYhlxQIx8j85j0IRCinyPwAAAAAAAPh/AAAAAAAA+H8AAAAAAAD4fwAAAAAAAPh/",
          "dtype": "f8"
         },
         "yaxis": "y2"
        },
        {
         "hovertemplate": "Iter: %{x}<br>Simple Regret: %{y:.4f}<br>Condition: %{meta[0]}<extra></extra>",
         "legendgroup": "BCUCB",
         "line": {
          "color": "#00CC96",
          "width": 2.5
         },
         "meta": [
          "BCUCB"
         ],
         "name": "BCUCB",
         "showlegend": false,
         "type": "scatter",
         "x": {
          "bdata": "AQACAAMABAAFAAYABwAIAAkACgALAAwADQAOAA8AEAARABIAEwAUABUAFgAXABgAGQAaABsAHAAdAB4AHwAgACEAIgAjACQAJQAmACcAKAApACoAKwAsAC0ALgAvADAAMQAyADMANAA1ADYANwA4ADkAOgA7ADwAPQA+AD8AQABBAEIAQwBEAEUARgBHAEgASQBKAEsATABNAE4ATwBQAFEAUgBTAFQAVQBWAFcAWABZAFoAWwBcAF0AXgBfAGAAYQBiAGMAZABlAGYAZwBoAGkAagBrAGwAbQBuAG8AcABxAHIAcwB0AHUAdgB3AHgAeQB6AHsAfAB9AH4AfwCAAIEAggCDAIQAhQCGAIcAiACJAIoAiwCMAI0AjgCPAJAAkQCSAJMAlACVAJYA",
          "dtype": "i2"
         },
         "xaxis": "x2",
         "y": {
          "bdata": "Izn0ccixAUAP8DYBGOH1P8GkC8TFxPA/mUf+YOC57D8uNEXuV+/rP0/l62m+gec/M4mxg4Ee5j/B8caT7vjkP4xKxg2bpOM/G+SJe4d24z+iKc147WTjP+xp0UxByOE/QvwNJDmq4D8AyK5Z02HdP320AaG+rtw/xxlCTawL3D+VMb18anTbPzUFDkTy8do/T8pJzcMu2j8E51VmEynZP8wLsI9OXdk/SU1g3/No2D/whclUwajWP1ooByGO49Y/I6dULvnE1z+XRNCrFJXVP1FC52w4Y9g/NF3h76mu1T/Rlqrrh4/VP1Ij9DP1Otc/NtAOSirl1D8PI87UNSTXP+li5hViiNY/2g6hpYYR1j9iq7r9qLzVP6bCV/ObQdU/Km2EWBDd0z++xI9oOQfUP++SAWnIQdM/+Wc9s1uC0z/Co/uniazTP3u7OAShz9Q/enXpuks90z8NhVAmtgPVPw04uU0mXNQ/fLKZehTl0j+LKNzhZbzTP8va8AV3sdM/WXG9gHGD0z9UL9KepT7UP++ufF8l6NM/JFljrBKI0z9P0Nz5NF3UPxqXKWXRc9M/m5rxower0j+DdqsLnJDTP3Uaaam8ndM/d/hY5wXF1D9nwH1BLwDUP1xEOIrQrNI/Tgf8K3Va0j+PqfJ05erSP1vwa+1GaNI/y5qPogUf0z8gA4xBOk/SP7HllettM9M/3Z6fYen70j8tyZM253LSP6U7B041MtA/AcPO8EIW0T9t7gx3UoPSP63lYMh8UtE/xGtNqQE50j8bVc5faWHQP3KmCdtPxtA//fMjNDgA0j/nF5Ns4z3RP1HyNKodD9E/qq0i7ZAs0D+dcxREAf/PP45vcGro59A/igESTaCI0T/tBhvo60POP+2H/Fd6EdE/6TKjjZFazz8OzYZGwR3QP5w8UmocV9A/Zj4x/PEo0D/yItwtkj/PP0mF6Ef6688/ZbwIrk2+zj91oQPcPYrPPx5SehQcTNA/z8l4gX83zj9Zlp6fmKvLP8QXAL2Dss0/ut3LfXIUzD8fF8JXYSDMP73+EXM2Css/+6evQiUJyj9tByP2CaDJP/IhKWqxXMs/IyNDarbOyj/qs8zrUYHLP1bCbjNwm8k/+a5lVhNoyD87A37o3bPIP1UG6NFnGso/jfDSKWt3yj/aMWQrHs3JP2AcXDrmPMg/feNH2JOcyD/z2qNuniHGP8T9kTNeBMg/Cb1bfZlMyD9rbgRhJgnHP3FqsSX1r8c/rFKxaHH9xT/iV/ZuPVTIP456iEZ3EMk/mcQiT1vsyT8gJeTxIoHHP2JdAt2EaMg/9/aKSsYNyD8WxrvIqULGP9yQNdn1wcc/rud+YQy/xj9G6J6sT3DGP8c42sx8Ysc/kvtnFx3axj8AxJR/ZHHEPw85IoTsYcY/msQze7PgxD8Q5YypPALHP85U4wBVN8g/rMuEuqNaxj8Osq3n7OXHP/6k/p58nsY/BPg3Me1kxj+SDx3eT2nHP+dOjAiiysQ/keYQuWFcxT+8i/fj9svFP4o7uu0efMY/xN4wdmeSxj/hVy0xFznFPwAAAAAAAPh/AAAAAAAA+H8AAAAAAAD4fwAAAAAAAPh/",
          "dtype": "f8"
         },
         "yaxis": "y2"
        }
       ],
       "layout": {
        "height": 600,
        "legend": {
         "title": {
          "text": "Condition"
         },
         "x": 0.95,
         "xanchor": "left",
         "y": 0.99,
         "yanchor": "top"
        },
        "template": {
         "data": {
          "bar": [
           {
            "error_x": {
             "color": "#2a3f5f"
            },
            "error_y": {
             "color": "#2a3f5f"
            },
            "marker": {
             "line": {
              "color": "white",
              "width": 0.5
             },
             "pattern": {
              "fillmode": "overlay",
              "size": 10,
              "solidity": 0.2
             }
            },
            "type": "bar"
           }
          ],
          "barpolar": [
           {
            "marker": {
             "line": {
              "color": "white",
              "width": 0.5
             },
             "pattern": {
              "fillmode": "overlay",
              "size": 10,
              "solidity": 0.2
             }
            },
            "type": "barpolar"
           }
          ],
          "carpet": [
           {
            "aaxis": {
             "endlinecolor": "#2a3f5f",
             "gridcolor": "#C8D4E3",
             "linecolor": "#C8D4E3",
             "minorgridcolor": "#C8D4E3",
             "startlinecolor": "#2a3f5f"
            },
            "baxis": {
             "endlinecolor": "#2a3f5f",
             "gridcolor": "#C8D4E3",
             "linecolor": "#C8D4E3",
             "minorgridcolor": "#C8D4E3",
             "startlinecolor": "#2a3f5f"
            },
            "type": "carpet"
           }
          ],
          "choropleth": [
           {
            "colorbar": {
             "outlinewidth": 0,
             "ticks": ""
            },
            "type": "choropleth"
           }
          ],
          "contour": [
           {
            "colorbar": {
             "outlinewidth": 0,
             "ticks": ""
            },
            "colorscale": [
             [
              0,
              "#0d0887"
             ],
             [
              0.1111111111111111,
              "#46039f"
             ],
             [
              0.2222222222222222,
              "#7201a8"
             ],
             [
              0.3333333333333333,
              "#9c179e"
             ],
             [
              0.4444444444444444,
              "#bd3786"
             ],
             [
              0.5555555555555556,
              "#d8576b"
             ],
             [
              0.6666666666666666,
              "#ed7953"
             ],
             [
              0.7777777777777778,
              "#fb9f3a"
             ],
             [
              0.8888888888888888,
              "#fdca26"
             ],
             [
              1,
              "#f0f921"
             ]
            ],
            "type": "contour"
           }
          ],
          "contourcarpet": [
           {
            "colorbar": {
             "outlinewidth": 0,
             "ticks": ""
            },
            "type": "contourcarpet"
           }
          ],
          "heatmap": [
           {
            "colorbar": {
             "outlinewidth": 0,
             "ticks": ""
            },
            "colorscale": [
             [
              0,
              "#0d0887"
             ],
             [
              0.1111111111111111,
              "#46039f"
             ],
             [
              0.2222222222222222,
              "#7201a8"
             ],
             [
              0.3333333333333333,
              "#9c179e"
             ],
             [
              0.4444444444444444,
              "#bd3786"
             ],
             [
              0.5555555555555556,
              "#d8576b"
             ],
             [
              0.6666666666666666,
              "#ed7953"
             ],
             [
              0.7777777777777778,
              "#fb9f3a"
             ],
             [
              0.8888888888888888,
              "#fdca26"
             ],
             [
              1,
              "#f0f921"
             ]
            ],
            "type": "heatmap"
           }
          ],
          "histogram": [
           {
            "marker": {
             "pattern": {
              "fillmode": "overlay",
              "size": 10,
              "solidity": 0.2
             }
            },
            "type": "histogram"
           }
          ],
          "histogram2d": [
           {
            "colorbar": {
             "outlinewidth": 0,
             "ticks": ""
            },
            "colorscale": [
             [
              0,
              "#0d0887"
             ],
             [
              0.1111111111111111,
              "#46039f"
             ],
             [
              0.2222222222222222,
              "#7201a8"
             ],
             [
              0.3333333333333333,
              "#9c179e"
             ],
             [
              0.4444444444444444,
              "#bd3786"
             ],
             [
              0.5555555555555556,
              "#d8576b"
             ],
             [
              0.6666666666666666,
              "#ed7953"
             ],
             [
              0.7777777777777778,
              "#fb9f3a"
             ],
             [
              0.8888888888888888,
              "#fdca26"
             ],
             [
              1,
              "#f0f921"
             ]
            ],
            "type": "histogram2d"
           }
          ],
          "histogram2dcontour": [
           {
            "colorbar": {
             "outlinewidth": 0,
             "ticks": ""
            },
            "colorscale": [
             [
              0,
              "#0d0887"
             ],
             [
              0.1111111111111111,
              "#46039f"
             ],
             [
              0.2222222222222222,
              "#7201a8"
             ],
             [
              0.3333333333333333,
              "#9c179e"
             ],
             [
              0.4444444444444444,
              "#bd3786"
             ],
             [
              0.5555555555555556,
              "#d8576b"
             ],
             [
              0.6666666666666666,
              "#ed7953"
             ],
             [
              0.7777777777777778,
              "#fb9f3a"
             ],
             [
              0.8888888888888888,
              "#fdca26"
             ],
             [
              1,
              "#f0f921"
             ]
            ],
            "type": "histogram2dcontour"
           }
          ],
          "mesh3d": [
           {
            "colorbar": {
             "outlinewidth": 0,
             "ticks": ""
            },
            "type": "mesh3d"
           }
          ],
          "parcoords": [
           {
            "line": {
             "colorbar": {
              "outlinewidth": 0,
              "ticks": ""
             }
            },
            "type": "parcoords"
           }
          ],
          "pie": [
           {
            "automargin": true,
            "type": "pie"
           }
          ],
          "scatter": [
           {
            "fillpattern": {
             "fillmode": "overlay",
             "size": 10,
             "solidity": 0.2
            },
            "type": "scatter"
           }
          ],
          "scatter3d": [
           {
            "line": {
             "colorbar": {
              "outlinewidth": 0,
              "ticks": ""
             }
            },
            "marker": {
             "colorbar": {
              "outlinewidth": 0,
              "ticks": ""
             }
            },
            "type": "scatter3d"
           }
          ],
          "scattercarpet": [
           {
            "marker": {
             "colorbar": {
              "outlinewidth": 0,
              "ticks": ""
             }
            },
            "type": "scattercarpet"
           }
          ],
          "scattergeo": [
           {
            "marker": {
             "colorbar": {
              "outlinewidth": 0,
              "ticks": ""
             }
            },
            "type": "scattergeo"
           }
          ],
          "scattergl": [
           {
            "marker": {
             "colorbar": {
              "outlinewidth": 0,
              "ticks": ""
             }
            },
            "type": "scattergl"
           }
          ],
          "scattermap": [
           {
            "marker": {
             "colorbar": {
              "outlinewidth": 0,
              "ticks": ""
             }
            },
            "type": "scattermap"
           }
          ],
          "scattermapbox": [
           {
            "marker": {
             "colorbar": {
              "outlinewidth": 0,
              "ticks": ""
             }
            },
            "type": "scattermapbox"
           }
          ],
          "scatterpolar": [
           {
            "marker": {
             "colorbar": {
              "outlinewidth": 0,
              "ticks": ""
             }
            },
            "type": "scatterpolar"
           }
          ],
          "scatterpolargl": [
           {
            "marker": {
             "colorbar": {
              "outlinewidth": 0,
              "ticks": ""
             }
            },
            "type": "scatterpolargl"
           }
          ],
          "scatterternary": [
           {
            "marker": {
             "colorbar": {
              "outlinewidth": 0,
              "ticks": ""
             }
            },
            "type": "scatterternary"
           }
          ],
          "surface": [
           {
            "colorbar": {
             "outlinewidth": 0,
             "ticks": ""
            },
            "colorscale": [
             [
              0,
              "#0d0887"
             ],
             [
              0.1111111111111111,
              "#46039f"
             ],
             [
              0.2222222222222222,
              "#7201a8"
             ],
             [
              0.3333333333333333,
              "#9c179e"
             ],
             [
              0.4444444444444444,
              "#bd3786"
             ],
             [
              0.5555555555555556,
              "#d8576b"
             ],
             [
              0.6666666666666666,
              "#ed7953"
             ],
             [
              0.7777777777777778,
              "#fb9f3a"
             ],
             [
              0.8888888888888888,
              "#fdca26"
             ],
             [
              1,
              "#f0f921"
             ]
            ],
            "type": "surface"
           }
          ],
          "table": [
           {
            "cells": {
             "fill": {
              "color": "#EBF0F8"
             },
             "line": {
              "color": "white"
             }
            },
            "header": {
             "fill": {
              "color": "#C8D4E3"
             },
             "line": {
              "color": "white"
             }
            },
            "type": "table"
           }
          ]
         },
         "layout": {
          "annotationdefaults": {
           "arrowcolor": "#2a3f5f",
           "arrowhead": 0,
           "arrowwidth": 1
          },
          "autotypenumbers": "strict",
          "coloraxis": {
           "colorbar": {
            "outlinewidth": 0,
            "ticks": ""
           }
          },
          "colorscale": {
           "diverging": [
            [
             0,
             "#8e0152"
            ],
            [
             0.1,
             "#c51b7d"
            ],
            [
             0.2,
             "#de77ae"
            ],
            [
             0.3,
             "#f1b6da"
            ],
            [
             0.4,
             "#fde0ef"
            ],
            [
             0.5,
             "#f7f7f7"
            ],
            [
             0.6,
             "#e6f5d0"
            ],
            [
             0.7,
             "#b8e186"
            ],
            [
             0.8,
             "#7fbc41"
            ],
            [
             0.9,
             "#4d9221"
            ],
            [
             1,
             "#276419"
            ]
           ],
           "sequential": [
            [
             0,
             "#0d0887"
            ],
            [
             0.1111111111111111,
             "#46039f"
            ],
            [
             0.2222222222222222,
             "#7201a8"
            ],
            [
             0.3333333333333333,
             "#9c179e"
            ],
            [
             0.4444444444444444,
             "#bd3786"
            ],
            [
             0.5555555555555556,
             "#d8576b"
            ],
            [
             0.6666666666666666,
             "#ed7953"
            ],
            [
             0.7777777777777778,
             "#fb9f3a"
            ],
            [
             0.8888888888888888,
             "#fdca26"
            ],
            [
             1,
             "#f0f921"
            ]
           ],
           "sequentialminus": [
            [
             0,
             "#0d0887"
            ],
            [
             0.1111111111111111,
             "#46039f"
            ],
            [
             0.2222222222222222,
             "#7201a8"
            ],
            [
             0.3333333333333333,
             "#9c179e"
            ],
            [
             0.4444444444444444,
             "#bd3786"
            ],
            [
             0.5555555555555556,
             "#d8576b"
            ],
            [
             0.6666666666666666,
             "#ed7953"
            ],
            [
             0.7777777777777778,
             "#fb9f3a"
            ],
            [
             0.8888888888888888,
             "#fdca26"
            ],
            [
             1,
             "#f0f921"
            ]
           ]
          },
          "colorway": [
           "#636efa",
           "#EF553B",
           "#00cc96",
           "#ab63fa",
           "#FFA15A",
           "#19d3f3",
           "#FF6692",
           "#B6E880",
           "#FF97FF",
           "#FECB52"
          ],
          "font": {
           "color": "#2a3f5f"
          },
          "geo": {
           "bgcolor": "white",
           "lakecolor": "white",
           "landcolor": "white",
           "showlakes": true,
           "showland": true,
           "subunitcolor": "#C8D4E3"
          },
          "hoverlabel": {
           "align": "left"
          },
          "hovermode": "closest",
          "mapbox": {
           "style": "light"
          },
          "paper_bgcolor": "white",
          "plot_bgcolor": "white",
          "polar": {
           "angularaxis": {
            "gridcolor": "#EBF0F8",
            "linecolor": "#EBF0F8",
            "ticks": ""
           },
           "bgcolor": "white",
           "radialaxis": {
            "gridcolor": "#EBF0F8",
            "linecolor": "#EBF0F8",
            "ticks": ""
           }
          },
          "scene": {
           "xaxis": {
            "backgroundcolor": "white",
            "gridcolor": "#DFE8F3",
            "gridwidth": 2,
            "linecolor": "#EBF0F8",
            "showbackground": true,
            "ticks": "",
            "zerolinecolor": "#EBF0F8"
           },
           "yaxis": {
            "backgroundcolor": "white",
            "gridcolor": "#DFE8F3",
            "gridwidth": 2,
            "linecolor": "#EBF0F8",
            "showbackground": true,
            "ticks": "",
            "zerolinecolor": "#EBF0F8"
           },
           "zaxis": {
            "backgroundcolor": "white",
            "gridcolor": "#DFE8F3",
            "gridwidth": 2,
            "linecolor": "#EBF0F8",
            "showbackground": true,
            "ticks": "",
            "zerolinecolor": "#EBF0F8"
           }
          },
          "shapedefaults": {
           "line": {
            "color": "#2a3f5f"
           }
          },
          "ternary": {
           "aaxis": {
            "gridcolor": "#DFE8F3",
            "linecolor": "#A2B1C6",
            "ticks": ""
           },
           "baxis": {
            "gridcolor": "#DFE8F3",
            "linecolor": "#A2B1C6",
            "ticks": ""
           },
           "bgcolor": "white",
           "caxis": {
            "gridcolor": "#DFE8F3",
            "linecolor": "#A2B1C6",
            "ticks": ""
           }
          },
          "title": {
           "x": 0.05
          },
          "xaxis": {
           "automargin": true,
           "gridcolor": "#EBF0F8",
           "linecolor": "#EBF0F8",
           "ticks": "",
           "title": {
            "standoff": 15
           },
           "zerolinecolor": "#EBF0F8",
           "zerolinewidth": 2
          },
          "yaxis": {
           "automargin": true,
           "gridcolor": "#EBF0F8",
           "linecolor": "#EBF0F8",
           "ticks": "",
           "title": {
            "standoff": 15
           },
           "zerolinecolor": "#EBF0F8",
           "zerolinewidth": 2
          }
         }
        },
        "title": {
         "text": "randomcase_50_16",
         "x": 0.5
        },
        "width": 800,
        "xaxis": {
         "anchor": "y",
         "domain": [
          0,
          1
         ]
        },
        "xaxis2": {
         "anchor": "y2",
         "domain": [
          0,
          1
         ],
         "title": {
          "text": "Iteration"
         }
        },
        "yaxis": {
         "anchor": "x",
         "domain": [
          0.55,
          1
         ],
         "title": {
          "text": "Cumulative Regret"
         }
        },
        "yaxis2": {
         "anchor": "x2",
         "domain": [
          0,
          0.45
         ],
         "title": {
          "text": "Simple Regret"
         }
        }
       }
      }
     },
     "metadata": {},
     "output_type": "display_data"
    }
   ],
   "source": [
    "import pandas as pd\n",
    "import plotly.graph_objects as go\n",
    "import plotly.express as px\n",
    "from plotly.subplots import make_subplots\n",
    "import plotly.io as pio\n",
    "import os\n",
    "import numpy as np\n",
    "\n",
    "text = \"randomcase\"\n",
    "\n",
    "# 定义文件夹路径\n",
    "data_folder = os.path.join('Data', text)\n",
    "\n",
    "# 定义文件列表 - Simple Regret来自pre文件，Cumulative Regret来自原始文件\n",
    "simple_regret_files = ['50_16_smallest_pre.csv','50_16_cluster_pre.csv', '50_16_dynamic_pre.csv']\n",
    "cumulative_regret_files = ['50_16_smallest.csv','50_16_cluster.csv','50_16_dynamic.csv']\n",
    "\n",
    "curve_names = ['smallest','cluster', 'BCUCB']\n",
    "colors = px.colors.qualitative.Plotly[:len(curve_names)] \n",
    "\n",
    "# 创建DataFrame存储Simple Regret和Cumulative Regret\n",
    "simple_regret_data = pd.DataFrame()\n",
    "cumulative_regret_data = pd.DataFrame()\n",
    "\n",
    "# 加载Simple Regret数据（来自pre文件）\n",
    "for file, name in zip(simple_regret_files, curve_names):\n",
    "    file_path = os.path.join(data_folder, file)\n",
    "    df = pd.read_csv(file_path, index_col='Repetition')\n",
    "    \n",
    "    # 计算每个step的均值（Simple Regret）\n",
    "    mean_results = df.mean(axis=0)\n",
    "    \n",
    "    # 添加到Simple Regret DataFrame\n",
    "    temp_df = pd.DataFrame({\n",
    "        'Iter': range(1, 151),\n",
    "        'Value': mean_results.values,\n",
    "        'Condition': name\n",
    "    })\n",
    "    simple_regret_data = pd.concat([simple_regret_data, temp_df])\n",
    "\n",
    "# 加载Cumulative Regret数据（来自原始文件）\n",
    "for file, name in zip(cumulative_regret_files, curve_names):\n",
    "    file_path = os.path.join(data_folder, file)\n",
    "    df = pd.read_csv(file_path, index_col='Repetition')\n",
    "    \n",
    "    # 计算每个step的均值\n",
    "    mean_results = df.mean(axis=0)\n",
    "    \n",
    "    # 计算Cumulative Regret\n",
    "    cumsum_results = np.cumsum(mean_results.values)\n",
    "    temp_df = pd.DataFrame({\n",
    "        'Iter': range(1, 151),\n",
    "        'Value': cumsum_results,\n",
    "        'Condition': name\n",
    "    })\n",
    "    cumulative_regret_data = pd.concat([cumulative_regret_data, temp_df])\n",
    "\n",
    "# 创建子图（2行1列，垂直排列）- 删除子图标题\n",
    "fig = make_subplots(\n",
    "    rows=2, cols=1,\n",
    "    vertical_spacing=0.1\n",
    "    # 删除了 subplot_titles 参数\n",
    ")\n",
    "\n",
    "# 第一子图：Cumulative Regret（来自原始文件）- 先画Cumulative Regret\n",
    "for i, condition in enumerate(curve_names):\n",
    "    cumsum_df = cumulative_regret_data[cumulative_regret_data['Condition'] == condition]\n",
    "    fig.add_trace(\n",
    "        go.Scatter(\n",
    "            x=cumsum_df['Iter'],\n",
    "            y=cumsum_df['Value'],\n",
    "            name=condition,\n",
    "            legendgroup=condition,\n",
    "            showlegend=True,  # 在第一子图显示图例\n",
    "            line=dict(color=colors[i],width=2.5),\n",
    "            meta=[condition],\n",
    "            hovertemplate=\"Iter: %{x}<br>Cumulative Regret: %{y:.4f}<br>Condition: %{meta[0]}<extra></extra>\"\n",
    "        ),\n",
    "        row=1, col=1  # Cumulative Regret放在第一行\n",
    "    )\n",
    "\n",
    "# 第二子图：Obs-based Simple Regret（来自pre文件）\n",
    "for i, condition in enumerate(curve_names):\n",
    "    simple_df = simple_regret_data[simple_regret_data['Condition'] == condition]\n",
    "    fig.add_trace(\n",
    "        go.Scatter(\n",
    "            x=simple_df['Iter'],\n",
    "            y=simple_df['Value'],\n",
    "            name=condition,\n",
    "            legendgroup=condition,\n",
    "            showlegend=False,  # 避免重复图例\n",
    "            line=dict(color=colors[i],width=2.5),\n",
    "            meta=[condition],\n",
    "            hovertemplate=\"Iter: %{x}<br>Simple Regret: %{y:.4f}<br>Condition: %{meta[0]}<extra></extra>\"\n",
    "        ),\n",
    "        row=2, col=1  # Simple Regret放在第二行\n",
    "    )\n",
    "\n",
    "# 更新布局\n",
    "fig.update_layout(\n",
    "    title_text=text+\"_50_16\",\n",
    "    title_x=0.5,\n",
    "    height=600,\n",
    "    width=800,\n",
    "    template='plotly_white',\n",
    "    legend_title_text='Condition',\n",
    "    legend=dict(yanchor=\"top\", y=0.99, xanchor=\"left\", x=0.95)\n",
    ")\n",
    "\n",
    "# 更新Y轴和X轴标签\n",
    "fig.update_yaxes(title_text=\"Cumulative Regret\", row=1, col=1)  # 第一子图Y轴标签\n",
    "fig.update_yaxes(title_text=\"Simple Regret\", row=2, col=1)      # 第二子图Y轴标签\n",
    "fig.update_xaxes(title_text=\"Iteration\", row=2, col=1)          # 仅底部子图显示X轴标签\n",
    "\n",
    "# 显示图形\n",
    "fig.show()\n",
    "\n",
    "# 保存为HTML文件（可选）\n",
    "# pio.write_html(fig, 'combined_simple_cumulative_plot.html')\n",
    "#fig.write_image(text+\"_50_16\", format=\"png\", width=800, height=600, scale=3)"
   ]
  }
 ],
 "metadata": {
  "kernelspec": {
   "display_name": "base",
   "language": "python",
   "name": "python3"
  },
  "language_info": {
   "codemirror_mode": {
    "name": "ipython",
    "version": 3
   },
   "file_extension": ".py",
   "mimetype": "text/x-python",
   "name": "python",
   "nbconvert_exporter": "python",
   "pygments_lexer": "ipython3",
   "version": "3.13.5"
  }
 },
 "nbformat": 4,
 "nbformat_minor": 5
}
