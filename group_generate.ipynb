{
 "cells": [
  {
   "cell_type": "code",
   "execution_count": 17,
   "id": "d7d126ec",
   "metadata": {},
   "outputs": [
    {
     "data": {
      "application/vnd.plotly.v1+json": {
       "config": {
        "plotlyServerURL": "https://plot.ly"
       },
       "data": [
        {
         "line": {
          "color": "royalblue",
          "width": 2
         },
         "mode": "lines",
         "name": "GP曲线",
         "type": "scatter",
         "x": {
          "bdata": "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",
          "dtype": "f8"
         },
         "y": {
          "bdata": "tlB657qhUUAeleDmvalRQFNhe66GsFFAupjmOqe3UUC65N5cdr5RQIVmqrVzw1FAO3EMTZDNUUDveNKBZNZRQJR0mQw03lFA6aQXrMvjUUCh9fl43exRQD2dIP+m+VFA4wyGN/X+UUC9i9L9xghSQOSW3FGMEFJAO7loqLMZUkDMlDEhZydSQDHvut8jK1JAt7KGXRoxUkACAsGOdj1SQDqe/eCVR1JAHj0D0WVSUkBiLNMX8VZSQIf44pyZXlJA+0pL+aFmUkAXGP+PJWxSQNyOn5r2eFJAqxvbwbGBUkAgU855sYFSQBplN01ki1JAXmCyaC2TUkARf/XGx5xSQC97idh5nlJAYrqjJEWlUkDmeRg93qlSQO3zbUhjq1JAHGswQk2xUkA6kyoMKbVSQEP85kkqu1JARiF1EoW8UkBr+d/s871SQBoa08zjvFJAii2jLz7DUkD/kOJLKcBSQArW/KYBxFJA3xUCnc/EUkB5hVdUDsJSQHg1CQGexVJA3fqeMCDAUkCabE8EL8FSQKEGZZeov1JA1iv7tYS7UkA1gpPkb7VSQCYI9BGFsVJA5mwP4oiwUkDGetbtSKlSQPqW4Jxzo1JA1mSLe4ukUkBtgCmAIZxSQGJUU7TOllJAZ+GpmLaMUkAYLJsCUItSQD+DETc6gVJAnFPYrTB7UkBfCcIKkm5SQJ4DeLH5aVJANcT55lhiUkBhGaraHFZSQIN5pw2uS1JARL6v3DVEUkDGOOvyPThSQHfI2UTBMFJAUGfT+9glUkC1rmPY+RdSQFwmtpNsDFJAiETPlx3+UUAf/jzYTfdRQAsggqVh6FFA8rWjazDlUUBbWS1r39FRQIyqSsJHxFFADha8rIm8UUBZ+bmK/qxRQImJaPmPoFFA2wWoIwGWUUCsfPqbVodRQOd4mvVmelFA1rxTsfxuUUALoekB1l5RQHVH1Oo6V1FADYPMISJHUUAbOfojszRRQEc2/P9hKVFAO7rWFSMbUUDPsQkGYBNRQGx7B3bvAlFAJZGuXwv2UECu9Pv5yOpQQAGSN7eA3lBAVbMAjHrUUEBwWYu9F8ZQQIYXyrjYt1BApS/tpy2sUED9ADfwX6VQQNN75NCtmFBADPek25+NUEAF/Rx/tIVQQI8/SM+seVBAiGXJxphxUEB4GqBBGmlQQDCiASv5YVBA0i8Z0ihcUEAPXBChNlFQQHQ1ec+zS1BA8LKpqNNIUED6uMY9dkJQQH1DNxMHPVBA6rtBuAs8UEC/SdUe4TRQQChfNeErMlBAcn77gXEyUEAXXhHgDDFQQNdc6rJFMlBA5jGaYCYwUECqBP4VEjFQQImaWvMJMlBAXFYYfVU1UECkYAkmJTZQQAVEvuMNPlBA4i4HWxtBUEAGwOERC0lQQOLfpA9dS1BA4/U+lkpWUEDfmNaqJltQQCxYnmJbYVBATChqZm9oUEDasw86t25QQKlUkyvAeFBAMNc3qj+EUECt9ggdH5BQQOjxApXCllBAans74OyiUECC/VYqAatQQDh6KSVttVBAcZTWs1LBUEBJ88Cd1MxQQF+Ti5IH2VBAI0u94RfiUECN9N55o+1QQPZvdlvI+FBA0J42MOsDUUCilbfGZQxRQKLcUsL8G1FAujJxWWclUUBrZQfn0StRQGOvdreYOVFAxuUkWiVEUUAqS2jyNVFRQIGSRvJqVFFA0YTWV0VhUUCrZ1uW+mlRQH9M4pjjcVFAmJsLS6x5UUCwxnWPMH9RQPkHZ4oZilFA7rbsFRyPUUDt1d4Y+ZhRQCfguqq2nlFAwMjP6KGjUUCFzyyb9atRQBiyf6f5slFApIhMJWy2UUDZAjeXu7lRQK7FSKtdvlFAXYY+zffFUUCnIZFoJ8ZRQAeDdq3CyVFABr5f92rOUUDR/4AMw9JRQMG0YDN/11FAoZ/j76DZUUBqzGLWddtRQOn68zmm4VFABLSjRp7jUUDxCPwsauFRQJ71zB1V6lFAf38phVHpUUCzn1hFWu9RQACIilN79FFA5hmxvbL0UUCVSqZsevZRQD+72a4r/lFAf3KCcuICUkBebY39cAhSQCC0AZnxClJAsv8AivkPUkB/JFDCexZSQGL+jartHFJAcSE2DtcgUkAKj4UEuCZSQCJDpzC2LFJARyApEY00UkBauLZSXDpSQHU4xROaP1JAqX4bJe9HUkBxQKbtXFFSQEHiO2gXWVJAejEPaIphUkDoLMS0OGtSQCYz9vDNdVJAM6+ekp57UkBH8KGxkYJSQFUV8tvFkFJAw//jdVeZUkDGDBoSy6RSQKI3oKlSq1JAdfCvx2y0UkC6QJU2D8FSQO9oe9qSzVJAAtMVe9/XUkD3tvr2JN5SQKJgqFpc6VJAlaEoaoX0UkBAutX8aQRTQOJ/1lziBFNAmtQF4U8WU0DarHAQhCFTQMbI8n/fKFNAnKQ2Ro4zU0BGBwukET1TQFoBIhQzSFNAklG/3qxPU0ACdpJb1VdTQMpUWDtJX1NAH5RjZcFoU0A4b00bvnRTQDsMpNUhdlNAOwjzcVZ/U0Bd6cLhe4VTQAidgNzLi1NAC1VHAMeQU0A1bSAOyJZTQNo36nTpmVNAn5D+r4aeU0D3a+UEKqRTQEH25g/Ep1NA4eRiKoGpU0CQjnLvP6hTQJoVJw+TrFNArBOS3cypU0BVrChnoKxTQDmYzKxdqVNAWbFVzNGkU0BIim6nf6dTQBkI2kCGoFNAa4pZziOgU0Ct3FiLr5pTQAQxNSJklVNAEsMb5SiSU0AVqSUYp41TQGRerpJ/hFNA9HF4gzd6U0Dy4TycE3dTQLP+mNTQbFNAbiLda0hjU0DXNl+AX1ZTQPcy9zfBS1NAGEmyAzlBU0DQ/ahn9jpTQL7LSWEVK1NAu0JK7xkeU0DAZ9YUYQxTQJ/eUgm9BVNAExcC8p/3UkB2WOY3dOhSQNG31+rm2lJAZFb/G5jIUkDxuk3DxrRSQBR6Vg/qp1JAxeW5R5CaUkC8rlGeX4xSQEn7JVf9d1JAEiIs8clqUkB2kpwPHlZSQMJI2tCyQlJAckg55kgzUkBwETsB3B5SQABdQZloEVJAs7uMbS7+UUCYTAUtie1RQBsZRQ9q21FAmK7GS/nJUUAbhqWEWb5RQJprcV31qlFAwiUfRwWYUUCQtymRW4ZRQHWDEUwMd1FAC6I0eWpmUUAc/71NgVhRQNicng/eSVFApUgNftc5UUBYWZK+JC5RQNiunU7KIlFAw+CzCFkRUUDwe5I3jwZRQH5BkHRT+VBAdARybTfvUEB2s7Ys9uJQQCP4OXxN1VBAvnu9ZrvLUECJlH3ap8FQQM0tMZxOvVBAuq8/GKiyUEDh3rGGT6tQQBzJT+mBplBAxDbovb6iUECX9Ny/upZQQBpoXZs/lFBA600Cct6RUEBieE4Am41QQJKNq+IFjlBABs4WusaMUECSiHrVyYlQQHKufspchlBAjrLBwsyNUECaj7P3lohQQDhZ3WGwi1BAgiNAqCWQUEAkN96AhI9QQN82Rqqmk1BA3ZsBgbSSUECEg2+VDZtQQLz5GyNqoVBA2EjjKielUECYuJtu/6pQQC0jNPT/tFBAkGd66c+5UEDBJqC6cL5QQMH7WBQ2xFBAwsCp07vIUECNXzJlKNZQQMn8nvU22lBATVdem5DoUEAxkG4I6+9QQJYdej+D9FBAZJ6Ndqb9UEA3iYg1KgdRQMTBmIi0D1FATIhU4OcWUUAj37k5DiJRQD1Zz1eXJ1FAVE6PqyYwUUDbwTg8TDhRQDpMZxVhP1FAjkmpUpJLUUB6jiYagVNRQKm8rvobV1FA0y9KEjNeUUAZ7AFWzWVRQLNpjM6Pa1FA2kArYKl0UUCkvKZgPXpRQPjI8TbAfVFAuBf0XvuFUUBIE2W7B4tRQOBkAaRVkFFAIubVp5qVUUDAjVbfmZhRQOvhiCS/m1FAgIFUeGahUUCkVhq0gaZRQF+nEsN1qVFAm9NFyGeuUUAO9PY/LbNRQJdaG++ht1FA39GtoH+5UUDOa3rLr7pRQO+jePgGvVFAi85KNQHDUUA4VjgqY8ZRQJd7Q8yfy1FAZ8Yp8d7MUUB8mp6NM89RQKld5iDH0VFA/M4UtdTUUUAidY1njtlRQPK6hn1D3FFAAuvgApfdUUC1y3vaV+JRQNqREw0r4lFAd9ckQSjpUUBqs+NkoetRQHGPhjZy8VFA+pF8dpX2UUBgWvToyflRQONXBPxN+1FAPSRw1UsDUkBx5k33CgtSQCtlGe4bClJAs3P6TsgSUkDeoiz6yBhSQEOj4a1qHlJABhd2f7kmUkDFWPVsVytSQJN5lfP1LlJAAmifOP41UkDGoL4lbkJSQOafBo/FQVJA9txe+yhLUkCgJBxH/k9SQME+l6BQWlJAM0JMOIxhUkAaQAAdYWZSQLOAQIqWbVJArB9nlDF5UkByXnXNaX9SQOHVPNBHhFJAsMqQdEqLUkCojzIIxoxSQGZ3fkQtmlJAIcq6/4aeUkAqnqAg6aNSQFySGIMfq1JAZfkn2tmuUkAscWcTnrtSQHunqDOgwFJAJ1F3EPTBUkAoTCcA3MZSQFsbUYiAzVJAlxbOrP3UUkAAWUYADdhSQC+f0x4f3lJAQNdvAY/hUkA3KqffF+JSQJmhGdDr5VJAt3bFaezpUkBa499Q6utSQOpbFzf69VJAhXVeS9PxUkBalL7BDvRSQHNBXyBL91JAvXplgev7UkCAZ7LXovlSQKscfGYt/FJABqodA0gAU0Ds8dPG7/9SQA9I/7Vc/FJAzrtysVAAU0BeM+wv1fpSQL0hlPixAVNAlhviwB/+UkD53SkdU/5SQLnO6XKZ/FJAJkytDCn6UkCXPlGoP/lSQJgYouOV9VJAqOkPxcL0UkAluq3Q3/JSQKocbfRa7lJAvaK6HnLtUkDdeGp0DOxSQE5cKWdD5lJA734XWjzmUkAFuqxTkuFSQFwX0RSo2lJAv9ii0RvYUkAe2KRIp9RSQJ6fPlR9zFJAmXzu4VPLUkA5TdJaKclSQPueE6kxw1JAf5o978i8UkCWYnN+sbZSQEcRBNm6sFJA5ylM5gqqUkDpmf+uYKVSQNsdleNgo1JAt6rN8xyaUkCRumzOyJVSQPo6OnMrj1JA4iHLFguHUkAvMueYxH5SQJHsq8vVdlJAk9J6laJ0UkAQzy45CW1SQFeBndvUZlJA/i0lG2hgUkB9ktx2n1ZSQMybn/WyT1JALWDtMiBJUkBumbwFvEFSQP+9O8ADNlJAImjomCA0UkCzwOsPiCtSQLL65jSyJFJA/cH8LxIiUkCcMIu6cxdSQOZiMa8bFFJA4S6snC0JUkCuA0tuxApSQA==",
          "dtype": "f8"
         }
        },
        {
         "marker": {
          "color": "#1f77b4",
          "line": {
           "color": "DarkSlateGrey",
           "width": 1
          },
          "size": 8
         },
         "mode": "markers",
         "name": "第1组",
         "type": "scatter",
         "x": {
          "bdata": "CwwNDg8fICEiIw==",
          "dtype": "i1"
         },
         "y": {
          "bdata": "hhfKuNi3UEAPXBChNlFQQNdc6rJFMlBA4/U+lkpWUECC/VYqAatQQH5BkHRT+VBAxDbovb6iUECaj7P3lohQQJBneunPuVBAN4mINSoHUUA=",
          "dtype": "f8"
         }
        },
        {
         "marker": {
          "color": "#ff7f0e",
          "line": {
           "color": "DarkSlateGrey",
           "width": 1
          },
          "size": 8
         },
         "mode": "markers",
         "name": "第2组",
         "type": "scatter",
         "x": {
          "bdata": "AQkKEBESHiQlJg==",
          "dtype": "i1"
         },
         "y": {
          "bdata": "tlB657qhUUAOFrysibxRQBs5+iOzNFFAotxSwvwbUUCYmwtLrHlRQK7FSKtdvlFAkLcpkVuGUUCpvK76G1dRQCLm1aealVFAzmt6y6+6UUA=",
          "dtype": "f8"
         }
        },
        {
         "marker": {
          "color": "#2ca02c",
          "line": {
           "color": "DarkSlateGrey",
           "width": 1
          },
          "size": 8
         },
         "mode": "markers",
         "name": "第3组",
         "type": "scatter",
         "x": {
          "bdata": "AggTFBUdJygpMg==",
          "dtype": "i1"
         },
         "y": {
          "bdata": "ofX5eN3sUUB3yNlEwTBSQAS0o0ae41FAXm2N/XAIUkB1OMUTmj9SQHJIOeZIM1JA8rqGfUPcUUBx5k33CgtSQOafBo/FQVJArgNLbsQKUkA=",
          "dtype": "f8"
         }
        },
        {
         "marker": {
          "color": "#d62728",
          "line": {
           "color": "DarkSlateGrey",
           "width": 1
          },
          "size": 8
         },
         "mode": "markers",
         "name": "第4组",
         "type": "scatter",
         "x": {
          "bdata": "AwQFBgcWKiswMQ==",
          "dtype": "i1"
         },
         "y": {
          "bdata": "Op794JVHUkBeYLJoLZNSQGv53+zzvVJAoQZll6i/UkAYLJsCUItSQMP/43VXmVJAsMqQdEqLUkAoTCcA3MZSQJG6bM7IlVJAzJuf9bJPUkA=",
          "dtype": "f8"
         }
        },
        {
         "marker": {
          "color": "#9467bd",
          "line": {
           "color": "DarkSlateGrey",
           "width": 1
          },
          "size": 8
         },
         "mode": "markers",
         "name": "第5组",
         "type": "scatter",
         "x": {
          "bdata": "FxgZGhscLC0uLw==",
          "dtype": "i1"
         },
         "y": {
          "bdata": "4n/WXOIEU0AflGNlwWhTQPdr5QQqpFNAGQjaQIagU0BuIt1rSGNTQHZY5jd06FJA6lsXN/r1UkBeM+wv1fpSQKocbfRa7lJAmXzu4VPLUkA=",
          "dtype": "f8"
         }
        }
       ],
       "layout": {
        "height": 600,
        "legend": {
         "bgcolor": "rgba(255,255,255,0.8)",
         "title": {
          "text": "组别"
         },
         "x": 1.05,
         "xanchor": "left",
         "y": 1,
         "yanchor": "top"
        },
        "margin": {
         "r": 150
        },
        "template": {
         "data": {
          "bar": [
           {
            "error_x": {
             "color": "#2a3f5f"
            },
            "error_y": {
             "color": "#2a3f5f"
            },
            "marker": {
             "line": {
              "color": "white",
              "width": 0.5
             },
             "pattern": {
              "fillmode": "overlay",
              "size": 10,
              "solidity": 0.2
             }
            },
            "type": "bar"
           }
          ],
          "barpolar": [
           {
            "marker": {
             "line": {
              "color": "white",
              "width": 0.5
             },
             "pattern": {
              "fillmode": "overlay",
              "size": 10,
              "solidity": 0.2
             }
            },
            "type": "barpolar"
           }
          ],
          "carpet": [
           {
            "aaxis": {
             "endlinecolor": "#2a3f5f",
             "gridcolor": "#C8D4E3",
             "linecolor": "#C8D4E3",
             "minorgridcolor": "#C8D4E3",
             "startlinecolor": "#2a3f5f"
            },
            "baxis": {
             "endlinecolor": "#2a3f5f",
             "gridcolor": "#C8D4E3",
             "linecolor": "#C8D4E3",
             "minorgridcolor": "#C8D4E3",
             "startlinecolor": "#2a3f5f"
            },
            "type": "carpet"
           }
          ],
          "choropleth": [
           {
            "colorbar": {
             "outlinewidth": 0,
             "ticks": ""
            },
            "type": "choropleth"
           }
          ],
          "contour": [
           {
            "colorbar": {
             "outlinewidth": 0,
             "ticks": ""
            },
            "colorscale": [
             [
              0,
              "#0d0887"
             ],
             [
              0.1111111111111111,
              "#46039f"
             ],
             [
              0.2222222222222222,
              "#7201a8"
             ],
             [
              0.3333333333333333,
              "#9c179e"
             ],
             [
              0.4444444444444444,
              "#bd3786"
             ],
             [
              0.5555555555555556,
              "#d8576b"
             ],
             [
              0.6666666666666666,
              "#ed7953"
             ],
             [
              0.7777777777777778,
              "#fb9f3a"
             ],
             [
              0.8888888888888888,
              "#fdca26"
             ],
             [
              1,
              "#f0f921"
             ]
            ],
            "type": "contour"
           }
          ],
          "contourcarpet": [
           {
            "colorbar": {
             "outlinewidth": 0,
             "ticks": ""
            },
            "type": "contourcarpet"
           }
          ],
          "heatmap": [
           {
            "colorbar": {
             "outlinewidth": 0,
             "ticks": ""
            },
            "colorscale": [
             [
              0,
              "#0d0887"
             ],
             [
              0.1111111111111111,
              "#46039f"
             ],
             [
              0.2222222222222222,
              "#7201a8"
             ],
             [
              0.3333333333333333,
              "#9c179e"
             ],
             [
              0.4444444444444444,
              "#bd3786"
             ],
             [
              0.5555555555555556,
              "#d8576b"
             ],
             [
              0.6666666666666666,
              "#ed7953"
             ],
             [
              0.7777777777777778,
              "#fb9f3a"
             ],
             [
              0.8888888888888888,
              "#fdca26"
             ],
             [
              1,
              "#f0f921"
             ]
            ],
            "type": "heatmap"
           }
          ],
          "histogram": [
           {
            "marker": {
             "pattern": {
              "fillmode": "overlay",
              "size": 10,
              "solidity": 0.2
             }
            },
            "type": "histogram"
           }
          ],
          "histogram2d": [
           {
            "colorbar": {
             "outlinewidth": 0,
             "ticks": ""
            },
            "colorscale": [
             [
              0,
              "#0d0887"
             ],
             [
              0.1111111111111111,
              "#46039f"
             ],
             [
              0.2222222222222222,
              "#7201a8"
             ],
             [
              0.3333333333333333,
              "#9c179e"
             ],
             [
              0.4444444444444444,
              "#bd3786"
             ],
             [
              0.5555555555555556,
              "#d8576b"
             ],
             [
              0.6666666666666666,
              "#ed7953"
             ],
             [
              0.7777777777777778,
              "#fb9f3a"
             ],
             [
              0.8888888888888888,
              "#fdca26"
             ],
             [
              1,
              "#f0f921"
             ]
            ],
            "type": "histogram2d"
           }
          ],
          "histogram2dcontour": [
           {
            "colorbar": {
             "outlinewidth": 0,
             "ticks": ""
            },
            "colorscale": [
             [
              0,
              "#0d0887"
             ],
             [
              0.1111111111111111,
              "#46039f"
             ],
             [
              0.2222222222222222,
              "#7201a8"
             ],
             [
              0.3333333333333333,
              "#9c179e"
             ],
             [
              0.4444444444444444,
              "#bd3786"
             ],
             [
              0.5555555555555556,
              "#d8576b"
             ],
             [
              0.6666666666666666,
              "#ed7953"
             ],
             [
              0.7777777777777778,
              "#fb9f3a"
             ],
             [
              0.8888888888888888,
              "#fdca26"
             ],
             [
              1,
              "#f0f921"
             ]
            ],
            "type": "histogram2dcontour"
           }
          ],
          "mesh3d": [
           {
            "colorbar": {
             "outlinewidth": 0,
             "ticks": ""
            },
            "type": "mesh3d"
           }
          ],
          "parcoords": [
           {
            "line": {
             "colorbar": {
              "outlinewidth": 0,
              "ticks": ""
             }
            },
            "type": "parcoords"
           }
          ],
          "pie": [
           {
            "automargin": true,
            "type": "pie"
           }
          ],
          "scatter": [
           {
            "fillpattern": {
             "fillmode": "overlay",
             "size": 10,
             "solidity": 0.2
            },
            "type": "scatter"
           }
          ],
          "scatter3d": [
           {
            "line": {
             "colorbar": {
              "outlinewidth": 0,
              "ticks": ""
             }
            },
            "marker": {
             "colorbar": {
              "outlinewidth": 0,
              "ticks": ""
             }
            },
            "type": "scatter3d"
           }
          ],
          "scattercarpet": [
           {
            "marker": {
             "colorbar": {
              "outlinewidth": 0,
              "ticks": ""
             }
            },
            "type": "scattercarpet"
           }
          ],
          "scattergeo": [
           {
            "marker": {
             "colorbar": {
              "outlinewidth": 0,
              "ticks": ""
             }
            },
            "type": "scattergeo"
           }
          ],
          "scattergl": [
           {
            "marker": {
             "colorbar": {
              "outlinewidth": 0,
              "ticks": ""
             }
            },
            "type": "scattergl"
           }
          ],
          "scattermap": [
           {
            "marker": {
             "colorbar": {
              "outlinewidth": 0,
              "ticks": ""
             }
            },
            "type": "scattermap"
           }
          ],
          "scattermapbox": [
           {
            "marker": {
             "colorbar": {
              "outlinewidth": 0,
              "ticks": ""
             }
            },
            "type": "scattermapbox"
           }
          ],
          "scatterpolar": [
           {
            "marker": {
             "colorbar": {
              "outlinewidth": 0,
              "ticks": ""
             }
            },
            "type": "scatterpolar"
           }
          ],
          "scatterpolargl": [
           {
            "marker": {
             "colorbar": {
              "outlinewidth": 0,
              "ticks": ""
             }
            },
            "type": "scatterpolargl"
           }
          ],
          "scatterternary": [
           {
            "marker": {
             "colorbar": {
              "outlinewidth": 0,
              "ticks": ""
             }
            },
            "type": "scatterternary"
           }
          ],
          "surface": [
           {
            "colorbar": {
             "outlinewidth": 0,
             "ticks": ""
            },
            "colorscale": [
             [
              0,
              "#0d0887"
             ],
             [
              0.1111111111111111,
              "#46039f"
             ],
             [
              0.2222222222222222,
              "#7201a8"
             ],
             [
              0.3333333333333333,
              "#9c179e"
             ],
             [
              0.4444444444444444,
              "#bd3786"
             ],
             [
              0.5555555555555556,
              "#d8576b"
             ],
             [
              0.6666666666666666,
              "#ed7953"
             ],
             [
              0.7777777777777778,
              "#fb9f3a"
             ],
             [
              0.8888888888888888,
              "#fdca26"
             ],
             [
              1,
              "#f0f921"
             ]
            ],
            "type": "surface"
           }
          ],
          "table": [
           {
            "cells": {
             "fill": {
              "color": "#EBF0F8"
             },
             "line": {
              "color": "white"
             }
            },
            "header": {
             "fill": {
              "color": "#C8D4E3"
             },
             "line": {
              "color": "white"
             }
            },
            "type": "table"
           }
          ]
         },
         "layout": {
          "annotationdefaults": {
           "arrowcolor": "#2a3f5f",
           "arrowhead": 0,
           "arrowwidth": 1
          },
          "autotypenumbers": "strict",
          "coloraxis": {
           "colorbar": {
            "outlinewidth": 0,
            "ticks": ""
           }
          },
          "colorscale": {
           "diverging": [
            [
             0,
             "#8e0152"
            ],
            [
             0.1,
             "#c51b7d"
            ],
            [
             0.2,
             "#de77ae"
            ],
            [
             0.3,
             "#f1b6da"
            ],
            [
             0.4,
             "#fde0ef"
            ],
            [
             0.5,
             "#f7f7f7"
            ],
            [
             0.6,
             "#e6f5d0"
            ],
            [
             0.7,
             "#b8e186"
            ],
            [
             0.8,
             "#7fbc41"
            ],
            [
             0.9,
             "#4d9221"
            ],
            [
             1,
             "#276419"
            ]
           ],
           "sequential": [
            [
             0,
             "#0d0887"
            ],
            [
             0.1111111111111111,
             "#46039f"
            ],
            [
             0.2222222222222222,
             "#7201a8"
            ],
            [
             0.3333333333333333,
             "#9c179e"
            ],
            [
             0.4444444444444444,
             "#bd3786"
            ],
            [
             0.5555555555555556,
             "#d8576b"
            ],
            [
             0.6666666666666666,
             "#ed7953"
            ],
            [
             0.7777777777777778,
             "#fb9f3a"
            ],
            [
             0.8888888888888888,
             "#fdca26"
            ],
            [
             1,
             "#f0f921"
            ]
           ],
           "sequentialminus": [
            [
             0,
             "#0d0887"
            ],
            [
             0.1111111111111111,
             "#46039f"
            ],
            [
             0.2222222222222222,
             "#7201a8"
            ],
            [
             0.3333333333333333,
             "#9c179e"
            ],
            [
             0.4444444444444444,
             "#bd3786"
            ],
            [
             0.5555555555555556,
             "#d8576b"
            ],
            [
             0.6666666666666666,
             "#ed7953"
            ],
            [
             0.7777777777777778,
             "#fb9f3a"
            ],
            [
             0.8888888888888888,
             "#fdca26"
            ],
            [
             1,
             "#f0f921"
            ]
           ]
          },
          "colorway": [
           "#636efa",
           "#EF553B",
           "#00cc96",
           "#ab63fa",
           "#FFA15A",
           "#19d3f3",
           "#FF6692",
           "#B6E880",
           "#FF97FF",
           "#FECB52"
          ],
          "font": {
           "color": "#2a3f5f"
          },
          "geo": {
           "bgcolor": "white",
           "lakecolor": "white",
           "landcolor": "white",
           "showlakes": true,
           "showland": true,
           "subunitcolor": "#C8D4E3"
          },
          "hoverlabel": {
           "align": "left"
          },
          "hovermode": "closest",
          "mapbox": {
           "style": "light"
          },
          "paper_bgcolor": "white",
          "plot_bgcolor": "white",
          "polar": {
           "angularaxis": {
            "gridcolor": "#EBF0F8",
            "linecolor": "#EBF0F8",
            "ticks": ""
           },
           "bgcolor": "white",
           "radialaxis": {
            "gridcolor": "#EBF0F8",
            "linecolor": "#EBF0F8",
            "ticks": ""
           }
          },
          "scene": {
           "xaxis": {
            "backgroundcolor": "white",
            "gridcolor": "#DFE8F3",
            "gridwidth": 2,
            "linecolor": "#EBF0F8",
            "showbackground": true,
            "ticks": "",
            "zerolinecolor": "#EBF0F8"
           },
           "yaxis": {
            "backgroundcolor": "white",
            "gridcolor": "#DFE8F3",
            "gridwidth": 2,
            "linecolor": "#EBF0F8",
            "showbackground": true,
            "ticks": "",
            "zerolinecolor": "#EBF0F8"
           },
           "zaxis": {
            "backgroundcolor": "white",
            "gridcolor": "#DFE8F3",
            "gridwidth": 2,
            "linecolor": "#EBF0F8",
            "showbackground": true,
            "ticks": "",
            "zerolinecolor": "#EBF0F8"
           }
          },
          "shapedefaults": {
           "line": {
            "color": "#2a3f5f"
           }
          },
          "ternary": {
           "aaxis": {
            "gridcolor": "#DFE8F3",
            "linecolor": "#A2B1C6",
            "ticks": ""
           },
           "baxis": {
            "gridcolor": "#DFE8F3",
            "linecolor": "#A2B1C6",
            "ticks": ""
           },
           "bgcolor": "white",
           "caxis": {
            "gridcolor": "#DFE8F3",
            "linecolor": "#A2B1C6",
            "ticks": ""
           }
          },
          "title": {
           "x": 0.05
          },
          "xaxis": {
           "automargin": true,
           "gridcolor": "#EBF0F8",
           "linecolor": "#EBF0F8",
           "ticks": "",
           "title": {
            "standoff": 15
           },
           "zerolinecolor": "#EBF0F8",
           "zerolinewidth": 2
          },
          "yaxis": {
           "automargin": true,
           "gridcolor": "#EBF0F8",
           "linecolor": "#EBF0F8",
           "ticks": "",
           "title": {
            "standoff": 15
           },
           "zerolinecolor": "#EBF0F8",
           "zerolinewidth": 2
          }
         }
        },
        "title": {
         "text": "高斯过程曲线与分组结果"
        },
        "width": 900,
        "xaxis": {
         "title": {
          "text": "x"
         }
        },
        "yaxis": {
         "title": {
          "text": "f(x)"
         }
        }
       }
      }
     },
     "metadata": {},
     "output_type": "display_data"
    }
   ],
   "source": [
    "import numpy as np\n",
    "import plotly.graph_objects as go\n",
    "from sklearn.gaussian_process import GaussianProcessRegressor\n",
    "from sklearn.gaussian_process.kernels import RBF, ConstantKernel,WhiteKernel\n",
    "from util.methods import assign_variances\n",
    "seed = 712\n",
    "# 定义核函数\n",
    "kernel = ConstantKernel(25.0) * RBF(length_scale=4.0) + WhiteKernel(1e-3)\n",
    "gp = GaussianProcessRegressor(kernel=kernel)\n",
    "\n",
    "x_dense = np.linspace(1, 50, 500).reshape(-1, 1)\n",
    "\n",
    "y_dense = gp.sample_y(x_dense, n_samples=1, random_state=seed).flatten() + 70\n",
    "\n",
    "# 提取整数点对应的y值\n",
    "integer_points = np.arange(1, 51)\n",
    "y_integers = y_dense[np.linspace(0, 499, 50, dtype=int)]\n",
    "\n",
    "# 计算整数点的协方差矩阵\n",
    "cov_matrix = kernel(integer_points.reshape(-1,1))\n",
    "\n",
    "# 计算相关性矩阵\n",
    "std_dev = np.sqrt(np.diag(cov_matrix))  \n",
    "corr_matrix = cov_matrix / np.outer(std_dev, std_dev)  \n",
    "\n",
    "np.savetxt('Sigma1.txt', cov_matrix, \n",
    "           fmt='%.6f',\n",
    "           header=f'高斯过程协方差矩阵(1-50整数点)\\n核函数: {kernel}')\n",
    "\n",
    "np.savetxt('correlation_matrix.txt', corr_matrix,\n",
    "           fmt='%.6f',\n",
    "           header=f'高斯过程相关性矩阵(1-50整数点)\\n核函数: {kernel}')\n",
    "\n",
    "np.savetxt('mu.txt', \n",
    "           y_integers,\n",
    "           fmt='%.6f',\n",
    "           header='真实均值')\n",
    "\n",
    "# 创建分组标签 (5组，每组10个点)\n",
    "group_labels = np.floor(np.argsort(np.argsort(y_integers))/10).astype(int)\n",
    "group_names = [f\"第{i+1}组\" for i in range(5)]  # 组别名称\n",
    "\n",
    "fig = go.Figure()\n",
    "\n",
    "fig.add_trace(go.Scatter(\n",
    "    x=x_dense.flatten(), \n",
    "    y=y_dense,\n",
    "    mode='lines',\n",
    "    name='GP曲线',\n",
    "    line=dict(color='royalblue', width=2)\n",
    "))\n",
    "\n",
    "colors = ['#1f77b4', '#ff7f0e', '#2ca02c', '#d62728', '#9467bd']  # 5种不同颜色\n",
    "for group in range(5):\n",
    "    mask = (group_labels == group)\n",
    "    fig.add_trace(go.Scatter(\n",
    "        x=integer_points[mask],\n",
    "        y=y_integers[mask],\n",
    "        mode='markers',\n",
    "        name=group_names[group],\n",
    "        marker=dict(\n",
    "            color=colors[group],\n",
    "            size=8,\n",
    "            line=dict(width=1, color='DarkSlateGrey')\n",
    "    )))\n",
    "\n",
    "fig.update_layout(\n",
    "    title='高斯过程曲线与分组结果',\n",
    "    xaxis_title='x',\n",
    "    yaxis_title='f(x)',\n",
    "    template='plotly_white',\n",
    "    height=600,\n",
    "    width=900,\n",
    "    legend=dict(\n",
    "        title='组别',\n",
    "        x=1.05,\n",
    "        y=1,\n",
    "        xanchor='left',\n",
    "        yanchor='top',\n",
    "        bgcolor='rgba(255,255,255,0.8)'\n",
    "    ),\n",
    "    margin=dict(r=150) \n",
    ")\n",
    "\n",
    "fig.show()"
   ]
  },
  {
   "cell_type": "code",
   "execution_count": 18,
   "id": "0a7bc98a",
   "metadata": {},
   "outputs": [
    {
     "name": "stdout",
     "output_type": "stream",
     "text": [
      "最小特征值: (0.0009999999999942967-1.4284354143439277e-15j)\n",
      "负特征值数量: 0\n"
     ]
    }
   ],
   "source": [
    "eigvals = np.linalg.eigvals(cov_matrix)\n",
    "print(\"最小特征值:\", np.min(eigvals))\n",
    "print(\"负特征值数量:\", np.sum(eigvals < 0))"
   ]
  },
  {
   "cell_type": "code",
   "execution_count": 19,
   "id": "db80fb0f",
   "metadata": {},
   "outputs": [
    {
     "name": "stdout",
     "output_type": "stream",
     "text": [
      "验证结果:\n",
      "对角线均值: 1.000000 (目标: 1.0)\n",
      "最小特征值: 0.000000+0.000000j (应>0)\n"
     ]
    },
    {
     "data": {
      "image/png": "[encoded data removed]",
      "text/plain": [
       "<Figure size 1000x800 with 2 Axes>"
      ]
     },
     "metadata": {},
     "output_type": "display_data"
    }
   ],
   "source": [
    "import numpy as np\n",
    "from scipy.linalg import cholesky\n",
    "import matplotlib.pyplot as plt\n",
    "\n",
    "# 初始化参数\n",
    "n_points = 50\n",
    "within_group_mean = 0.8\n",
    "between_group_mean = 0.0\n",
    "noise_std = 0.1 \n",
    "\n",
    "def build_correlation_matrix(group_labels):\n",
    "    groups = np.unique(group_labels)\n",
    "    n_groups = len(groups)\n",
    "    group_mask = group_labels[:, None] == group_labels  \n",
    "    \n",
    "    base_matrix = np.where(group_mask, \n",
    "                          within_group_mean, \n",
    "                          between_group_mean)\n",
    "    np.fill_diagonal(base_matrix, 1.0)\n",
    "    \n",
    "    random_matrix = np.random.normal(0, noise_std, (n_points, n_points))\n",
    "    random_matrix = (random_matrix + random_matrix.T) / 2  \n",
    "    np.fill_diagonal(random_matrix, 0) \n",
    "    \n",
    "    corr_matrix = base_matrix + random_matrix\n",
    "    \n",
    "\n",
    "    def project_to_pd(matrix):\n",
    "        eigvals, eigvecs = np.linalg.eigh(matrix)\n",
    "        eigvals = np.maximum(eigvals, 1e-8)  \n",
    "        return eigvecs @ np.diag(eigvals) @ eigvecs.T\n",
    "    \n",
    "\n",
    "    for _ in range(10):\n",
    "        corr_matrix = project_to_pd(corr_matrix)\n",
    "        # 重新标准化对角线\n",
    "        diag_scaling = np.diag(1/np.sqrt(np.diag(corr_matrix)))\n",
    "        corr_matrix = diag_scaling @ corr_matrix @ diag_scaling\n",
    "    \n",
    "    return corr_matrix\n",
    "\n",
    "corr_matrix = build_correlation_matrix(group_labels)\n",
    "\n",
    "# 验证矩阵性质\n",
    "print(\"验证结果:\")\n",
    "print(f\"对角线均值: {np.mean(np.diag(corr_matrix)):.6f} (目标: 1.0)\")\n",
    "print(f\"最小特征值: {np.min(np.linalg.eigvals(corr_matrix)):.6f} (应>0)\")\n",
    "\n",
    "# 可视化矩阵\n",
    "plt.figure(figsize=(10,8))\n",
    "plt.imshow(corr_matrix, cmap='coolwarm', vmin=-1, vmax=1)\n",
    "plt.colorbar()\n",
    "plt.title(\"group_corr_mat\")\n",
    "plt.show()"
   ]
  },
  {
   "cell_type": "code",
   "execution_count": 20,
   "id": "075d1c5e",
   "metadata": {},
   "outputs": [
    {
     "data": {
      "text/plain": [
       "array([2, 3, 4, 4, 4, 4, 4, 3, 2, 2, 1, 1, 1, 1, 1, 2, 2, 2, 3, 3, 3, 4,\n",
       "       5, 5, 5, 5, 5, 5, 3, 2, 1, 1, 1, 1, 1, 2, 2, 2, 3, 3, 3, 4, 4, 5,\n",
       "       5, 5, 5, 4, 4, 3])"
      ]
     },
     "execution_count": 20,
     "metadata": {},
     "output_type": "execute_result"
    }
   ],
   "source": [
    "group_labels+1"
   ]
  },
  {
   "cell_type": "code",
   "execution_count": 21,
   "id": "b06744ea",
   "metadata": {},
   "outputs": [
    {
     "name": "stdout",
     "output_type": "stream",
     "text": [
      "验证结果:\n",
      "方差范围: 30.24-132.03 (目标: 25-144)\n",
      "最小特征值: 0.000000 (应>0)\n"
     ]
    },
    {
     "data": {
      "image/png": "[encoded data removed]",
      "text/plain": [
       "<Figure size 1200x1000 with 2 Axes>"
      ]
     },
     "metadata": {},
     "output_type": "display_data"
    }
   ],
   "source": [
    "# 随机分配噪声\n",
    "np.random.seed(seed)  \n",
    "variances = assign_variances(y_integers, min_var=25, max_var=144, correlation_strength=0.7)\n",
    "#variances = variances*4\n",
    "std_devs = np.sqrt(variances)  \n",
    "\n",
    "D = np.diag(std_devs)\n",
    "\n",
    "cov_matrix = D @ corr_matrix @ D\n",
    "\n",
    "print(\"验证结果:\")\n",
    "print(f\"方差范围: {np.min(np.diag(cov_matrix)):.2f}-{np.max(np.diag(cov_matrix)):.2f} (目标: 25-144)\")\n",
    "print(f\"最小特征值: {np.min(np.linalg.eigvals(cov_matrix)):.6f} (应>0)\")\n",
    "\n",
    "np.savetxt('group_cov.txt', \n",
    "           cov_matrix,\n",
    "           fmt='%.6f',\n",
    "           header='协方差矩阵（对角线方差=25-144）\\n基于分组相关性矩阵生成')\n",
    "\n",
    "import matplotlib.pyplot as plt\n",
    "plt.figure(figsize=(12,10))\n",
    "plt.imshow(cov_matrix, cmap='viridis')\n",
    "cbar = plt.colorbar()\n",
    "cbar.set_label('cov')\n",
    "\n",
    "for g in range(1,5):\n",
    "    plt.axhline(y=g*10-0.5, color='white', linestyle='--', alpha=0.7)\n",
    "    plt.axvline(x=g*10-0.5, color='white', linestyle='--', alpha=0.7)\n",
    "\n",
    "plt.title('group_cov_mat')\n",
    "plt.xlabel('index (1-50)')\n",
    "plt.ylabel('index (1-50)')\n",
    "plt.show()\n"
   ]
  },
  {
   "cell_type": "code",
   "execution_count": 22,
   "id": "6b0f752e",
   "metadata": {},
   "outputs": [
    {
     "data": {
      "text/plain": [
       "array([70.52703273, 71.70101761, 73.11852288, 74.29964654, 74.96801302,\n",
       "       74.994665  , 74.17675843, 72.7617962 , 70.945903  , 68.82343387,\n",
       "       66.87260265, 65.2689593 , 64.78550408, 65.34830242, 66.67194613,\n",
       "       68.43730219, 69.90114094, 70.97446711, 71.5565354 , 72.13189639,\n",
       "       72.99377913, 74.39596317, 76.07631608, 77.63680396, 78.56506464,\n",
       "       78.50819417, 77.55129525, 75.63209341, 72.80132442, 70.09933881,\n",
       "       67.89571871, 66.54289196, 66.13421433, 66.90331494, 68.11195124,\n",
       "       69.36108272, 70.33756443, 70.91697967, 71.44161928, 72.17254431,\n",
       "       73.02768303, 74.17641939, 75.10717777, 75.84339692, 75.91926191,\n",
       "       75.72430144, 75.17699478, 74.34038125, 73.24529782, 72.16823919])"
      ]
     },
     "execution_count": 22,
     "metadata": {},
     "output_type": "execute_result"
    }
   ],
   "source": [
    "y_integers"
   ]
  },
  {
   "cell_type": "code",
   "execution_count": 23,
   "id": "97c67c7c",
   "metadata": {},
   "outputs": [
    {
     "data": {
      "text/plain": [
       "array([ 93.122617  ,  82.8713581 , 103.29076433,  96.85426621,\n",
       "       105.35752395, 111.98016739, 101.26509256,  76.4309486 ,\n",
       "        65.11573164,  65.27673625,  44.2926181 ,  37.30073172,\n",
       "        30.24441131,  33.21682437,  57.66234154,  72.78649542,\n",
       "        72.09211247,  88.10666132,  91.3353938 ,  80.93982613,\n",
       "        89.87688457,  83.22081378, 105.10396118, 126.58365238,\n",
       "       120.86021917, 121.73813602, 132.02945044, 104.65155876,\n",
       "        92.25479169,  83.4259667 ,  48.91742774,  44.46893173,\n",
       "        56.55435567,  66.98127952,  55.18119311,  61.09300255,\n",
       "        78.99333205,  92.56955406,  82.59218184, 100.53759231,\n",
       "        81.53384726, 114.61752346, 105.1418386 ,  93.73461292,\n",
       "       103.71538548,  92.15477708,  95.1507268 ,  92.80342975,\n",
       "        76.66434596,  87.25865878])"
      ]
     },
     "execution_count": 23,
     "metadata": {},
     "output_type": "execute_result"
    }
   ],
   "source": [
    "variances"
   ]
  },
  {
   "cell_type": "code",
   "execution_count": 24,
   "id": "619bc2af",
   "metadata": {},
   "outputs": [
    {
     "data": {
      "image/png": "[encoded data removed]",
      "text/plain": [
       "<Figure size 1000x600 with 1 Axes>"
      ]
     },
     "metadata": {},
     "output_type": "display_data"
    }
   ],
   "source": [
    "import numpy as np\n",
    "import matplotlib.pyplot as plt\n",
    "from scipy.stats import beta\n",
    "\n",
    "# 设置参数\n",
    "a = 1\n",
    "b = 1/0.7  # ≈1.428\n",
    "c = 1/0.5  # ≈1.428\n",
    "\n",
    "# 生成x轴数据\n",
    "x = np.linspace(0, 1, 1000)\n",
    "\n",
    "# 计算不同参数下的Beta分布PDF\n",
    "y1 = beta.pdf(x, a=1, b=1)          # 均匀分布\n",
    "y2 = beta.pdf(x, a=1, b=b)      # 函数中使用的参数\n",
    "y3 = beta.pdf(x, a=1, b=c)        # 对比案例：b<1\n",
    "\n",
    "# 绘制图形\n",
    "plt.figure(figsize=(10, 6))\n",
    "plt.plot(x, y1, label='Beta(1,1) ', linestyle='--')\n",
    "plt.plot(x, y2, label=f'Beta(1,{b:.3f}) ', linewidth=2, color='red')\n",
    "plt.plot(x, y3, label=f'Beta(1,{c:.3f})', linestyle=':')\n",
    "\n",
    "plt.title('(PDF)')\n",
    "plt.xlabel('x')\n",
    "plt.ylabel('pdf')\n",
    "plt.legend()\n",
    "plt.grid(True)\n",
    "plt.show()"
   ]
  }
 ],
 "metadata": {
  "kernelspec": {
   "display_name": "base",
   "language": "python",
   "name": "python3"
  },
  "language_info": {
   "codemirror_mode": {
    "name": "ipython",
    "version": 3
   },
   "file_extension": ".py",
   "mimetype": "text/x-python",
   "name": "python",
   "nbconvert_exporter": "python",
   "pygments_lexer": "ipython3",
   "version": "3.13.5"
  }
 },
 "nbformat": 4,
 "nbformat_minor": 5
}
